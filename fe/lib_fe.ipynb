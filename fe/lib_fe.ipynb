{
 "cells": [
  {
   "cell_type": "code",
   "id": "initial_id",
   "metadata": {
    "collapsed": true,
    "ExecuteTime": {
     "end_time": "2024-09-13T08:09:27.842862Z",
     "start_time": "2024-09-13T08:09:27.634274Z"
    }
   },
   "source": [
    "import typing as tp\n",
    "\n",
    "import pandas as pd"
   ],
   "outputs": [],
   "execution_count": 4
  },
  {
   "metadata": {
    "ExecuteTime": {
     "end_time": "2024-09-13T08:09:27.855786Z",
     "start_time": "2024-09-13T08:09:27.843742Z"
    }
   },
   "cell_type": "code",
   "source": [
    "df = pd.read_csv('SMS.tsv', delimiter='\\t')\n",
    "df"
   ],
   "id": "453049f731f7ba1e",
   "outputs": [
    {
     "data": {
      "text/plain": [
       "     class                                               text\n",
       "0      ham  Go until jurong point, crazy.. Available only ...\n",
       "1      ham                      Ok lar... Joking wif u oni...\n",
       "2     spam  Free entry in 2 a wkly comp to win FA Cup fina...\n",
       "3      ham  U dun say so early hor... U c already then say...\n",
       "4      ham  Nah I don't think he goes to usf, he lives aro...\n",
       "...    ...                                                ...\n",
       "5567  spam  This is the 2nd time we have tried 2 contact u...\n",
       "5568   ham               Will ü b going to esplanade fr home?\n",
       "5569   ham  Pity, * was in mood for that. So...any other s...\n",
       "5570   ham  The guy did some bitching but I acted like i'd...\n",
       "5571   ham                         Rofl. Its true to its name\n",
       "\n",
       "[5572 rows x 2 columns]"
      ],
      "text/html": [
       "<div>\n",
       "<style scoped>\n",
       "    .dataframe tbody tr th:only-of-type {\n",
       "        vertical-align: middle;\n",
       "    }\n",
       "\n",
       "    .dataframe tbody tr th {\n",
       "        vertical-align: top;\n",
       "    }\n",
       "\n",
       "    .dataframe thead th {\n",
       "        text-align: right;\n",
       "    }\n",
       "</style>\n",
       "<table border=\"1\" class=\"dataframe\">\n",
       "  <thead>\n",
       "    <tr style=\"text-align: right;\">\n",
       "      <th></th>\n",
       "      <th>class</th>\n",
       "      <th>text</th>\n",
       "    </tr>\n",
       "  </thead>\n",
       "  <tbody>\n",
       "    <tr>\n",
       "      <th>0</th>\n",
       "      <td>ham</td>\n",
       "      <td>Go until jurong point, crazy.. Available only ...</td>\n",
       "    </tr>\n",
       "    <tr>\n",
       "      <th>1</th>\n",
       "      <td>ham</td>\n",
       "      <td>Ok lar... Joking wif u oni...</td>\n",
       "    </tr>\n",
       "    <tr>\n",
       "      <th>2</th>\n",
       "      <td>spam</td>\n",
       "      <td>Free entry in 2 a wkly comp to win FA Cup fina...</td>\n",
       "    </tr>\n",
       "    <tr>\n",
       "      <th>3</th>\n",
       "      <td>ham</td>\n",
       "      <td>U dun say so early hor... U c already then say...</td>\n",
       "    </tr>\n",
       "    <tr>\n",
       "      <th>4</th>\n",
       "      <td>ham</td>\n",
       "      <td>Nah I don't think he goes to usf, he lives aro...</td>\n",
       "    </tr>\n",
       "    <tr>\n",
       "      <th>...</th>\n",
       "      <td>...</td>\n",
       "      <td>...</td>\n",
       "    </tr>\n",
       "    <tr>\n",
       "      <th>5567</th>\n",
       "      <td>spam</td>\n",
       "      <td>This is the 2nd time we have tried 2 contact u...</td>\n",
       "    </tr>\n",
       "    <tr>\n",
       "      <th>5568</th>\n",
       "      <td>ham</td>\n",
       "      <td>Will ü b going to esplanade fr home?</td>\n",
       "    </tr>\n",
       "    <tr>\n",
       "      <th>5569</th>\n",
       "      <td>ham</td>\n",
       "      <td>Pity, * was in mood for that. So...any other s...</td>\n",
       "    </tr>\n",
       "    <tr>\n",
       "      <th>5570</th>\n",
       "      <td>ham</td>\n",
       "      <td>The guy did some bitching but I acted like i'd...</td>\n",
       "    </tr>\n",
       "    <tr>\n",
       "      <th>5571</th>\n",
       "      <td>ham</td>\n",
       "      <td>Rofl. Its true to its name</td>\n",
       "    </tr>\n",
       "  </tbody>\n",
       "</table>\n",
       "<p>5572 rows × 2 columns</p>\n",
       "</div>"
      ]
     },
     "execution_count": 5,
     "metadata": {},
     "output_type": "execute_result"
    }
   ],
   "execution_count": 5
  },
  {
   "metadata": {
    "ExecuteTime": {
     "end_time": "2024-09-13T08:09:27.954205Z",
     "start_time": "2024-09-13T08:09:27.948401Z"
    }
   },
   "cell_type": "code",
   "source": "df.describe()",
   "id": "f02226033af667d8",
   "outputs": [
    {
     "data": {
      "text/plain": [
       "       class                    text\n",
       "count   5572                    5572\n",
       "unique     2                    5169\n",
       "top      ham  Sorry, I'll call later\n",
       "freq    4825                      30"
      ],
      "text/html": [
       "<div>\n",
       "<style scoped>\n",
       "    .dataframe tbody tr th:only-of-type {\n",
       "        vertical-align: middle;\n",
       "    }\n",
       "\n",
       "    .dataframe tbody tr th {\n",
       "        vertical-align: top;\n",
       "    }\n",
       "\n",
       "    .dataframe thead th {\n",
       "        text-align: right;\n",
       "    }\n",
       "</style>\n",
       "<table border=\"1\" class=\"dataframe\">\n",
       "  <thead>\n",
       "    <tr style=\"text-align: right;\">\n",
       "      <th></th>\n",
       "      <th>class</th>\n",
       "      <th>text</th>\n",
       "    </tr>\n",
       "  </thead>\n",
       "  <tbody>\n",
       "    <tr>\n",
       "      <th>count</th>\n",
       "      <td>5572</td>\n",
       "      <td>5572</td>\n",
       "    </tr>\n",
       "    <tr>\n",
       "      <th>unique</th>\n",
       "      <td>2</td>\n",
       "      <td>5169</td>\n",
       "    </tr>\n",
       "    <tr>\n",
       "      <th>top</th>\n",
       "      <td>ham</td>\n",
       "      <td>Sorry, I'll call later</td>\n",
       "    </tr>\n",
       "    <tr>\n",
       "      <th>freq</th>\n",
       "      <td>4825</td>\n",
       "      <td>30</td>\n",
       "    </tr>\n",
       "  </tbody>\n",
       "</table>\n",
       "</div>"
      ]
     },
     "execution_count": 6,
     "metadata": {},
     "output_type": "execute_result"
    }
   ],
   "execution_count": 6
  },
  {
   "metadata": {
    "ExecuteTime": {
     "end_time": "2024-09-13T08:31:06.219930Z",
     "start_time": "2024-09-13T08:31:06.215541Z"
    }
   },
   "cell_type": "code",
   "source": "y = df['class'].map({'ham': 0, 'spam': 1})",
   "id": "1a98d6e04fd2c844",
   "outputs": [],
   "execution_count": 26
  },
  {
   "metadata": {
    "ExecuteTime": {
     "end_time": "2024-09-13T08:31:06.561844Z",
     "start_time": "2024-09-13T08:31:06.558643Z"
    }
   },
   "cell_type": "code",
   "source": "y, y.shape",
   "id": "fccaa71a897d552a",
   "outputs": [
    {
     "data": {
      "text/plain": [
       "(0       0\n",
       " 1       0\n",
       " 2       1\n",
       " 3       0\n",
       " 4       0\n",
       "        ..\n",
       " 5567    1\n",
       " 5568    0\n",
       " 5569    0\n",
       " 5570    0\n",
       " 5571    0\n",
       " Name: class, Length: 5572, dtype: int64,\n",
       " (5572,))"
      ]
     },
     "execution_count": 27,
     "metadata": {},
     "output_type": "execute_result"
    }
   ],
   "execution_count": 27
  },
  {
   "metadata": {
    "ExecuteTime": {
     "end_time": "2024-09-13T08:09:28.981202Z",
     "start_time": "2024-09-13T08:09:28.978859Z"
    }
   },
   "cell_type": "code",
   "source": "df[\"text\"][0]",
   "id": "5163f1633c5451a3",
   "outputs": [
    {
     "data": {
      "text/plain": [
       "'Go until jurong point, crazy.. Available only in bugis n great world la e buffet... Cine there got amore wat...'"
      ]
     },
     "execution_count": 9,
     "metadata": {},
     "output_type": "execute_result"
    }
   ],
   "execution_count": 9
  },
  {
   "metadata": {
    "ExecuteTime": {
     "end_time": "2024-09-13T08:09:30.084751Z",
     "start_time": "2024-09-13T08:09:29.944383Z"
    }
   },
   "cell_type": "code",
   "source": [
    "import nltk\n",
    "from nltk.tokenize import word_tokenize"
   ],
   "id": "7a73fb77337be4a9",
   "outputs": [],
   "execution_count": 10
  },
  {
   "metadata": {},
   "cell_type": "code",
   "source": [
    "import ssl\n",
    "\n",
    "try:\n",
    "    _create_unverified_https_context = ssl._create_unverified_context\n",
    "except AttributeError:\n",
    "    pass\n",
    "else:\n",
    "    ssl._create_default_https_context = _create_unverified_https_context\n",
    "\n",
    "nltk.download()"
   ],
   "id": "e44dc68a84ad8ea1",
   "outputs": [],
   "execution_count": null
  },
  {
   "metadata": {},
   "cell_type": "code",
   "source": "nltk.download('punkt_tab')",
   "id": "f1550f13a5d5300d",
   "outputs": [],
   "execution_count": null
  },
  {
   "metadata": {
    "ExecuteTime": {
     "end_time": "2024-09-13T08:09:32.715278Z",
     "start_time": "2024-09-13T08:09:32.713162Z"
    }
   },
   "cell_type": "code",
   "source": "import numpy as np",
   "id": "9bb8af7b6a805b01",
   "outputs": [],
   "execution_count": 11
  },
  {
   "metadata": {
    "ExecuteTime": {
     "end_time": "2024-09-13T08:09:32.881694Z",
     "start_time": "2024-09-13T08:09:32.878122Z"
    }
   },
   "cell_type": "code",
   "source": [
    "def calc_frequency_matrix(df: pd.DataFrame) -> [np.ndarray, list[str]]:\n",
    "    unique_words = set()\n",
    "    tokenized_texts = df['text'].apply(lambda x: word_tokenize(x.lower()))\n",
    "    for text in tokenized_texts:\n",
    "        unique_words.update(text)\n",
    "\n",
    "    unique_words = list(unique_words)\n",
    "    word_index = {word: i for i, word in enumerate(unique_words)}\n",
    "    frequency_matrix = []\n",
    "    for text in tokenized_texts:\n",
    "        word_count = [0] * len(unique_words)\n",
    "        for word in text:\n",
    "            if word in word_index:\n",
    "                word_count[word_index[word]] += 1\n",
    "        frequency_matrix.append(word_count)\n",
    "    return np.array(frequency_matrix), unique_words"
   ],
   "id": "1b3070b243094e36",
   "outputs": [],
   "execution_count": 12
  },
  {
   "metadata": {
    "ExecuteTime": {
     "end_time": "2024-09-13T08:09:35.769157Z",
     "start_time": "2024-09-13T08:09:33.697233Z"
    }
   },
   "cell_type": "code",
   "source": "frequency_matrix, unique_words = calc_frequency_matrix(df)",
   "id": "31cc758c96d2b1cf",
   "outputs": [],
   "execution_count": 13
  },
  {
   "metadata": {
    "ExecuteTime": {
     "end_time": "2024-09-13T08:09:35.776159Z",
     "start_time": "2024-09-13T08:09:35.770343Z"
    }
   },
   "cell_type": "code",
   "source": "print(unique_words, len(unique_words))",
   "id": "db4e17f4290ec70b",
   "outputs": [
    {
     "name": "stdout",
     "output_type": "stream",
     "text": [
      "['7+2+5=', 'drugdealer', 'partnership', '@', '21', '114/14', 'line', 'dresser', 'celeb', 'delayed', 'gandhipuram', 'blanket', 'florida', '2.50', '87575', 'gua', 'nike', 'ar.praveesh', 'account', 'jess', 'retrieve', 'etc.', '40mph', 'lyk', 'sim', 'showered', 'hava', '5wkg', '88600.', 'brandy', 'although', 'plan', 'fiting', 'low', 'name2', 'astoundingly', '7.children', 'tram', 'prof', 'eek', '150pm', 'lem', 'mon.l8rs.x', 'fyi', '12mths', 'followin', 'vry', 'laying', '+cheer', 'quiteamuzing', 'rakhesh', 'air1', 'unemployed', 'office.thenampet', 'privacy', 'salam', 'signing', 'weightloss', 'clubsaisai', 'pathaya', 'obedient', '07732584351', '5pm', 'nat', 'fourth', 'clearly', 'ned', 'canteen', 'mca', 'shake', '69866.18', 'mite', 'tor', 'sms-08718727870', 'slippers', 'vijaykanth', 'announced', 'x49.your', '3gbp', 'movie', 'print', 'appointments', '-pls', 'jacuzzi', 'muhommad', 'thkin', 'conditions', '7ws', 'petexxx', 'snowball', 'wylie', 'band', 'elephant', 'released', 'www.sms.ac/u/nat27081980', 'olympics', 'lazy', 'www.txt-2-shop.com', 'dining', 'nervous', 'strewn', '.nt', 'rocks', 'lara', 'ente', 'mins/texts', 'sk3', 'mandan', 'playing', 'list', 'means', 'cashto', '//tms', 'burns', 'arng', 'blessings', 'www.regalportfolio.co.uk', 'order', 'reflex', 'northampton', 'arun', 'throat', 'you.my', 'leads', 'buying', 'ne', 'remains', 'haven\\x92t', 'smell', 'president', 'huge', '10am-7pm', 'www.fullonsms.com', 'steps', 'tendencies', 'b4190604', 'i.ll', 'bani', 'spoons', 'wun', 'fren', 'wicked', 'receivea', 'sw73ss', 'free2day', 'enuff', 'week', 'maximize', 'submitted', 'ana', '08714712412', 'dull', 'jason', 'booked', 'yes-762', '2nd', 'bat', 'trackmarque', '8.30', 'broad', 'tolerance', '(', 'prizeawaiting', 'realising', 'her.my', 'wine', 'contented', 'nok', 'ask', 'informed', 'love', 'babes', 'sambar.life', 'spoon', 'meant', 'planet', 'entitled', 'envelope', 'behave', 'ela', 'imp', 'curious', 'tiime', 'choosing', 'wonder', '12', 'ibiza', '2waxsto', 'ultimately', 'hehe', 'asap', 'yalru', 'gal-no', 'french', 'am.x', 'sort', 'nos', 'g.b', 'settled', 'barred', 'rcd', 'us.let', 'yo', 'flaky', '30th', 'wicklow', 'reliant', 'reppurcussions', 'sometme', 'difficult', '5digital', 'praying.will', 'know', 'tonght', \"you'ld\", '1000', '18+only', 'cozy', '09064017305', 'idea', 'bid', 'convey', 'her', '4give', 'eyed-dont', 'again.call', 'rubber', 'bookmark', 'weiyi', 'role', 'leading', 'unlike', 'anybody', 'abdomen', 'gay', 'sonetimes', 'secretary', 'gud', 'hardcore', 'recd', 'set', 'stil', 'durham', 'spiral', 're-schedule', 'cherish', 'mre', \"fr'ndship\", 'price', 'systems', 'fires.are', 'comuk.220cm2', 'escalator', 'aka', 'paris', 'honey', 'entey', 'dict', '7634', 'absolutly', '078498', 'ruining', 'cutter', 'syd', 'poly/200p', 'network', 'previews', 'wishin', 'hella', '1winaweek', 'fundamentals', 'ninish', 'mids', '08715203685', '|', 'l8r', 'feeling.wavering', 'fucked', 'firefox', '£1.50/msg', 'oreos', 'pig', 'standing', 'da', 'used', 'melt', 'power', 'crushes', 'waliking', 'mth', 'feelin', 'clarify', 'pest', 'sacked', 'hard', 'guild', 'telephone', 'clos1', 'proof', 'audition', '1stone', '9yt', 'break', 'pros', 'friendsare', 'evil', 'reached', '85.', 'hont', 'knew', 'positions', 'have', 'dontignore', 'nowhere', 'witout', 'prince', 'noi\\x92m', '4t', 'spice', 'semiobscure', '6230', 'classmates', 'takin', 'dun', 'flash', 'lingerie', 'support', 'chain', 'coughing', 'brown', 'juswoke', 'winning', 'free-message', 'slots', 'getstop', 'dehydrated', 'sam', 'interest', 'msg+ticket', 'slurp', 'ax', 'tissco', 'moved', 'needs', 'soil', 'icky', 'grateful', 'cheque', 'disaster', 'forgotten', 'meive', 'busetop', 'durban', 'xxsp', 'it', 'knocking', '08718726270', 'lik', 'funeral', 'b4280703', 'belong', 'pull', 'v.pist', 'tom', 'goes', 'references', '24th', 'worms', 'odi', 'swtheart', 'chinnu', 'shelves', 'low-cost', 'coping', 'subscribe', 'slept', '2.u', 'sweets', 'relieved', '08002986030', 'defer', 'b-', 'spell', 'riddance', 'purple', 'possessive', '800', 'cdgt', 'craigslist', 'customercare', 'marking', 'princess', 'solihull', 'edrunk', 'msn', 'anything', 'deviousbitch.anyway', 'cust', 'braved', 'predicte', 'dload', 'bcums', 'promo', 'brings', 'experiencehttp', 'pa', '41685', 'black', 'n-atural', 'survey', 'dat', 'box334sk38ch', 'curry', 'js', 'expecting', '2end', 'chikku', 'snd', 'guesses', 'embarassing', 'justify', 'sdryb8i', 'favourite', 'wildest', 'www.sms.ac/u/natalie2k9', 'hellogorgeous', 'tickets', 'motivate', 'count', 'hours', 'consistently', '3hrs', 'entire', 'isaiah.=d', 'mack', 'straight', 'psp', 'neekunna', 'warner', 'www.cashbin.co.uk', 'responsibility', 'slip', 'y87', 'tirunelvai', '09061790126', '.gud', '7oz', 'orange', 'talk', 'later', 'jon', 'watched', 'usps', 'scenario', 'monthly', 'de', 'hows', 'hanumanji', \"n't\", 'lo', 'boye', 'navigate', 'fly', 'function', 'bend', 'alright.okay', 'years', 'confidence', 'isn', 'gnun', 'bros', 'daily', '88066', 'ago', 'sic', 'mango', '40411', 'u-find', 'relatives', 'funky', 'months', 'begging', 'across', 'guidance', 'xx', 'yeah', 'trishul', 'broth', 'fond', 'caught', 'anyhow', 'losers', 'woken', 'sptv', 'area', 'goodfriend', 'izzit', 'speaking', 'relationship', 'rhode', 'lit', '4.15', 'notes', 'shexy', 'today.he', 'fancy', 'rto', '£33:50', 'stayed', 'blessing', '50p', 'age', 'buzzzz', 'yer', 'www.dbuk.net', 'fudge', 'hall', 'narcotics', 'evry1', 'class', 'exactly', 'fridge', 'myself', 'issues', 'bird', '08700621170150p', \"is'love\", 'bonus', 'reminding', 'engalnd', 'hurry', 'listen', 'glo', 'cts', 'showers', 'added', 'recovery', 'another', 'accordingly', '98321561', 'pages', 'step', 'heart-', 'webadres', 'started.india', 'laughing', 'cam', 'evenings', 'machan', 'goin', 'repeat', 'thesis', 'joys', 'slave', '08712466669', 'forgot', 'prizes', 'half8th', \"'need\", 'maga', '£800', 'idps', 'voted', 'imagination', 'driver', 'byatch', 'especially', 'cabin', 'exist', 'fatty', 'dentists', '08715500022', 'holiday', 'beggar', 'opt-out', 'chill', 'tigress', 'word', 'care.umma', 'negative', 'aldrine', '9+2+4=', 'da.i', 'warned', 'penis', '62468', 'chez', 'g', 'jog', 'ladies', 'n', '29/10/0', 'notxt.co.uk', 'some', 'gower', 'ibn', 'mumtaz', 'miiiiiiissssssssss', 'soc', 'talks', 'jay', 'shudvetold', 'phonebook', 'ors', 'frndship', '09050000332', 'asthere', '4eva', 'fall', 'selfish', 'habit', 'inlude', 'box39822', 'refund', 'saves', 'what', 'approx', 'vomiting', 'taxt', 'dr', 'foley', \"x'mas\", 'warming', 'toughest', 'oru', 'steamboat', 'cine', 'chinky', 'nyc', 'allalo', 'her.will', 'excited', 'joy', '83355', 'uni', 'who', 'words.evry', 'texts', 'janx', 'logos+musicnews', 'shu', 'phasing', 'title.so', '6pm', 'fantasy', 'urination', 'hari-', 'g.w.r', 'gep', 'attack', 'rose', 'strongly', 'becomes', 'voila', 'radio', 'canname', 'conected', 'housing', 'spotty', 'loving', 'beauties', 'www.b4utele.com', 'dificult', 'www.ldew.com.subs16+1win150ppmx3', 'e.g.23g', '08712402050', '10/06/03', 'stool', '87131', 'hate', '09058094507', 'chiong', 'magazine', 'stone', 'rtm', 'speak', '400mins', 'ing', 'nosy', 'ijust', 'body', 'unsold', 'album', 'iter', 'scratches', 'goals', 'original', 'buyer', 'ab', 'xxxmobilemovieclub', 'aunties', 'hw', 'bishan', 'days.so', 'bedbut', 'wrk.i', '300603', 'reacting', 'late', 'hundreds', 'dabooks', '1im', 'gving', 'answered', 'mac', 'mobileupd8', 'troubleshooting', 'breakin', 'bless.get', 'sending', 'cliffs', 'doesdiscount', 'call2optout/n9dx', 'hence', 'did', 'fring', 'tonight', 'breadstick', 'music', 'causes', 'grams', 'nange', 'staring', 'ac', '85', 'measure', 'jaz', '3mobile', 'www.win-82050.co.uk', 'continent', 'zoe', 'savamob-member', '08718730666', 'stay', 'indeed', 'dorm', 'ml', 'looovvve', 'rudi', 'virtual', 'smiling', 'holby', 'washob', 'fullonsms.com', 'cooking', 'gre', 'raining', 'necessarily', '08718727870', 'limits', 'coz', 'finn', 'sae', '-4', 'lift', 'ethnicity', \"'if\", 'sen', 'couldn\\x92t', 'scorable', 'somone', 'borrow', 'inside', 'lib', 'outbid', 'registration', 'fingers', '+std', 'onluy', 'near', 'ducking', 'ay', 'jones', '_', 'pass.they', 'solved', '9ja', 'credit', 'aroundn', 'psychiatrist', 'teaches', 'furniture', 'eggs', '1da', 'nite', 'treatin', 'apo', '08712402779', 'maggi', 'bcaz', 'pressure', 'fans', 'skins', 'shun', 'baaaaabe', 'reassuring', 'instructions', 'mmm', 'boo', 'login', 'shoulders', 'experience', '09058095107', 'my', 'knw', 'annie', 'and', 'gsex', 'asap.ok', 'tootsie', 'stubborn', 'sochte', 'flying', '8lb', 'sunroof', 'tats', 'intrude', 'cell', 'nyt.ec2a.3lp.msg', 'chief', 'fraction', 'enketa', 'shitinnit', 'centre', 'thuglyfe', 'tall', '41782', 'bay', 'fixedline', 'victoria', 'shouting', 'claimcode', 'she.s', 'box95qu', 'lamp', 'vivek', '10th', 'pleasure', 'jane', 'goto', 'no-762', '69200', 'updat', 'outfor', 'wallpaper', 'grow', 'ticket', 'related', 'hsbc', '150ppmpobox10183bhamb64xe', 'totally', 'against', 'boytoy', 'bak', 'amy', 'shared', 'mother', 'dollar', 'gei', '6.cruel', 'avin', 'tenerife', 'haunt', 'den', '2u', 'rebel', 'decades', 'babies', '08712317606', 'rounder', 'no:81151', 'andres', 'hen', 'owned', 'stagwood', '£1000call', 'tat', 'korche', '42049', 'much/impede', 'shijas', 'jumpers', 'reason', '08448714184', 'becoz', 'sq825', '1pm', 'elections', 'reffering', 'oi', 'valid', '86688', 'history', 'replace', 'activate', 'drive', 'listening2the', 'toothpaste', 'box', 'reallyneed', 'told', 'inclusive', 'dub', 'pimples', 'panren', 'gobi', 'packing', 'foregate', 'mis', 'www.shortbreaks.org.uk', 'cs', 'recession', 'molested', 'tookplace', 'darkness', 'blanked', 'manage', 'soz', 'died', 'eightish', 'pix', 'sankranti', 'crowd', '4txt/ú1.20', 'riley', 'costa', 'boyfriend', 'hopeful', 'salmon', 'php', 'posh', 'requests', 'ny-usa', 'ago.cusoon', 'pink', '1/3', 'noisy', '10k', '10:30', 'laready', '£1.50pm', '8800', 'comp.ofstuff', 'ogunrinde', 'sexual', 'refused', 'watr/day=no', 'statements', 'dudes', 'got', 'weed-deficient', '97n7qp', 'tariffs', 'league', 'mobcudb', 'sara', 'yoyyooo', 'officially', 'mobs', 'cultures', 'tallent', 'hearts', '26.03.05', 'aiyah', 'stayin', 'eastenders', 'party', 'companies', 'mr.', 'exhibition', 'financial', 'la1', 'exam', 'known', 'careful', 'hme', 'homeowners', 'gokila', 'hahaha', '89545', 'cud', 'pobox', 'opted', 'soft', 'neshanth', 'parchi', 'birthday', 'wiskey', 'aah', 'responce', 'imma', 'somewhere', 'all', 'fav', 'usmle', 'key', 'grandma', 'k.its', '09058094594', '2find', 'si.como', 'approved', 'bras', 'that2worzels', 'much', 'good.environment', 'tortilla', 'mat', '08715205273', 'madstini', 'stories', 'him', 'whos', 'gbp4.50/week', 'associate', 'strict', 'rushing', ']', 'kids', 's3xy', 'theplace', 'vaazhthukkal', '08714712388', 'tree', 'bitching', 'ecstasy', 'thnq', 'wer', 'friend-of-a-friend', 'raiden', 'belly', 'whispers', 'sight', 'nimbomsons', 'community', 'diapers', 'glory', '1.50', 'bloo', 'paths', 'covers', 'insurance', 'thriller', 'schools', 'cmon', 'no-910', 'nightnight', 'transfered', '88222', '100p/sms', 'big', 'rayman', 'goodnite', '08719181259', 'call2optout/', 'gettin', 'oblivious', '\\x96', 'mas', 'he\\x92s', 'reformat', 'violet', 'costume', 'port', 'gee', 'fps', 'stamps', 'frauds', 'snuggles', 'also.or', '08707509020', 'lightly', 'buddys', 'dao', 'heart', 'ultimatum', 'knee', 'tessy', 'mornings', 'murder', 'that.i', 'alone', 'noice', 'suppliers', '2', 'lacs', 'flirting', 'knees', 'morn', 'shortly', 'outreach', 'landlines', 'split', 'temple', 'uttered', '09066368753', 'echo', 'male', 'ke', 'iknow', 'fgkslpo', 'makiing', 'tmorrow.pls', 'aha', 'erupt', 'previous', 'donate', 'vibrate', 'important', 'under', 'complaining', '9t', '430', 'prsn', 'boy-y', 'gyno', 'cream', 'luton', 'listening', 'lookatme', 'were', 'repair', '08081263000', 'eshxxxxxxxxxxx', '........', 'al', 'housework', 'bbc', 'performed', 'sd', 'tagged', 'involved', '1/1', 'taylor', 'sleepingwith', 'desparate', 'citizen', '08450542832', 'healer', 'payed2day', 'keyword', 'call2optout/4qf2', 'andrews-boy', '09058094599', 'chik', 'choose', 'tests', 'wire3.net', 'hanger', 'hav', 'restrictions', 'sugar', '177', 'blonde', 'listener', 'hockey', 'elaborating', 'mountain', 'nikiyu4.net', 'coast', 'probs', 'affection', '89123', 'sunscreen', 'actual', 'conducts', 'hundred', 'parking', 'sk38xh', 'running', 'shame', 'bstfrnd', 'dependable', 'bids', 'stopcost', 'k.good', 'avble', '139', 'hustle', 'talkin', 'prometazine', 'shove', 'entry41', 'punto', '82277', 'mirror', 'chechi', '4.50.', 'till', 'don\\x92t', 'spring', 'speeding', 'dinero', 'okden', 'meatballs', 'kiss', '83110', '9ae', 'before', 'nauseous', '08701237397', 'eating', 'nyt', 'throw', 'beforehand', 'achieve', 'melle', 'fails', 'blood', 'e=', 'chex', 'rumbling', '2watershd', 'pm', 'heavily', 'shd', 'espe', 'helps', 'cougar-pen', 'chg', 'monday', 'ow', 'reminds', '.after', 'tht', 'call2optout=j5q', 'pie', 'murali', 'minute', 'prepared', '946', '945+', 'patent', 'wish', 'regret', 'incredible', 'chasing', 'eurodisinc', 'teju', 'ken', 'around', 'aft', 'lists', 'persons', 'l8tr', 'japanese', 'children', 'computational', 'versus', 'kettoda', 'luvs', 'delicious', 'global', '2channel', '31p.msg', 'v', '3miles', '2wks', 'roses', 'oral', 'asa', 'prominent', 'plz', 'seen', 'dependents', 'uncountable', 'tonights', '21/11/04', 'pg', 'far', 'defo', '09111032124', 'charming', 'water', 'shud', 'mahfuuz', 'atlanta', 'process.excellent', '\\x93harry', 'nationwide', 'readers', 'yowifes', 'standard', 'love.rakhesh', 'repent', 'txts', 'freely', 'csbcm4235wc1n3xx.callcost150ppmmobilesvary', 'cn', 'cheek', '......', 'rs.5', 'monos', 'alfie', 'handsome', 'delay', 'keen', 'ovulate.when', 'ideas', 'bathroom', 'engin', 'twenty', '.a', 'zed', 'andros', 'correction', 'specially', '07046744435', 'y', 'source', 'hr', 'a£50', 'version', 'widelive.com/index', '09057039994', 'govt.instituitions', 'someone', 'phones', 'yes-910', 'afford', 'entropication', 'start.i', 'thekingshead', 'god.not', 'kickboxing', '80488.biz', 'guoyang', 'slippery', 'small', '18yrs', 'mentioned.tomorrow', 'permanent', 'hides', '08002986906', 'coulda', 'pokkiri', '09050000928.', 'then.will', 'lands', 'their', 'nurungu', 'gudnite', 'u2moro', 'subscriptions', \"'maangalyam\", 'iam', 'upgrading', 'group', 'www.telediscount.co.uk', 'sms.shsex.netun', 'meaning', 'brief', 'complacent', 'teletext', 'ki', 'perf', 'bari', '£600', 'hm', 'm26', 'collection', 'situations', 'cooped', 'dd', 'airtel', 'retard', 'gail', 'tonite.things', 'randy', 'taunton', 'care', 'tons', 'netvision.uk.com', 'regards', 'flyng', 'pile', 'vital', 'tata', 'iriver', 'identifier', 'lick', '3.', 'ugo', 'plumbing', 'polyphonic', 'grazed', 'uncle', 'hidden', 'i\\x92l', 'lido', 'color', '1-hanuman', 'miss.take', '.lovable', 'jet', 'respond', 'jackpot', 'nearly', 'blocked', 'thank', 'excuse', '0871277810710p/min', 'mrt', 'couple', 'cricketer', 'shrink', 'ive', 'message.it', 'these', 'character', 'sooo', 'hittng', 'ji', 'morning', 'during', '1225', 'mojibiola', 'grave', 'tap', 'takecare', 'he', 'trebles', 'lip', 'lay', 'heroes', 'strange', 'logo', 'mandara', '930', 'ami', '08712400603', 'acnt', 'affair', 'faggy', 'thinking', 'stdtxtrate', 'senor', '08719899217', 'waht', 'town', 'onum', '1013', 'star', 'tension', 'whatsup', 'motivating', 'mileage', 'immunisation', 'playng', 'workout', '82277.', 'mad2', 'wants', 'adsense', 'number', '83039', 'evrydy', 'tsunamis', '11.48', 'ft.', 'sometext', 'msg/subscription', 'bridge', 'in2', 'long', 'rememberi', 'prix', 'still.maybe', 'onwards', 'empty', 'ai', 'k.i', 'talked', 'trusting', 'v-aluable', 'request', '24/7mp', 'shahjahan', 'establish', 'why', 'and/or', 'gong', 'alaikkum.pride', 'singing', 'subsequent', 'career', 'box42wr29c', 'arab', '09058094583', 'ppm', 'projects', 'already', 'whether', 'box334', 'units', 'home.left', 'revision', 'isv.important', 'thgt', 'alrite', 'walking', 'janinexx', 'luks', 'rude', 'way2sms.com', 'lk', '63miles', 'ex', 'pobox1', 'drastic', 'cried', 'deleted', 'infra', 'hmmm.but', '4-6', 'networking', 'reservations', '£1.50p', 'inperialmusic', 'novelty', '08712402902', 'himso', 'din', '450p', 'university', 'postponed', 'kent', 'hectic', 'l', 'tomeandsaid', '12:30', 'stupid', 'incomm', 'replied', 'kissing', 'x49', 'logged', 'cage', 'groovying', 'name1', 'vs.', 'useless', 'roles', 'waves', 'michael', 'banned', 'recieve', '+123', 'rael', 'miracle', 'blank', 'exams', 'liver', '-shakespeare-', 'optout', 'call.urgent', '18', 'dear', 'intrepid', 'parts', 'finding', 'bck', 'for', 'girl', 'vu', 'grins', 'ayn', 'co', 'strong-buy', 'usual', '4info', 'batchlor', 'save', 'golf', 'mate', 'holy', 'max£7', 'things', 'workage', 'ctla', 'jeetey', '..................', 'bringing', 'freedom', 'teaching', 'determined', 'hands', 'match', 'chit-chat', 'racing', 'u.othrwise', 'tunde', 'lolnice', 'needy', '£10', 'bray', '01223585236', 'records', 'mesages', 'thia', 'credited', 'grandmas', 'enjoy', 'incident', 'traditions', 'ammae', '4jx', 'ahhhh', '-vivekanand-', 'april', 'games', 'hooked', 'watch', 'vewy', 'brothas', 'textcomp', 'home', 'capacity', 'annoying', 'wrenching', 'laughed', 'bottom', 'great', 'wifi', 'punch', 'rcv', '08719181503', 'forgive', 'lar', '1172.', 'fair', 'atm', 'becaus', 'coca-cola', 'stopbcm', 'club', 'whoever', '30apr', 'hitman', 'bedrm', 'winds', 'shell', 'question', 'shinco', 'between', 'hunny', 'sayhey', 'drunk', 'allow', \"'luxury\", 'attending', 'seekers', 'honestly', 'nicky', 'yrs', 'belive', 'rights', 'scenery', 'gaze', 'wheellock', 'really', 'cheery', 'loves', 'woulda', 'info', 'the', 'dracula', 'cuddle', 'madoke', 'tea/coffee', 'reply-', 'bad-', 'booking', '128', 'impatient', 'geeee', 'rents', 'realize', 'skint', 'oh', '09066368327', 'prayers', 'facilities', 'way', 'remove', 'uks', 'roommates', 'freezing', 'decimal', 'welcome', 'lmao', 'interviews', '6ish', 'resort', 'arrested', 'upload', 'issue', 'accenture', 'tarpon', 'stripes', 'mei', 'authorise', 'won', 'thus', 'questions', 'starting', 'raise', 'www.phb1.com', '6', '89080', 'wallpaper-all', 'calls£1/minmobsmorelkpobox177hp51fl', 'smoking', 'cuz', 'gin', 'half-8th', 'frnds', 'piggy', '09041940223', 'wi', 'buzz', 'pick', 'ecstacy', 'call2optout/f4q=', '85069', 'video', 'law', '08001950382', 'hi', 'netcollex', 'ondu', '2morow', 'brb', 'stressed', 'ups', 'suddenly', 'addamsfa', 'ubi', 'envy', 'crore', 'um', 'lyfu', 'oooooh', 'shore', '08707500020', '0', 'freaking', 'ip4', 'retired', 'spreadsheet', 'someonone', 'same', 'vatian', 'thangam.it', 'canlove', '07/11/04', 'thirunelvali', 'sehwag', 'bloody', '750', 'astrology', 'phone', 'scrumptious', 'milk/day=no', 'dozens', 'paining', 'senthil', 'street', 'vipclub4u', 'ovulation', 'worrying', 'ciao', 'yeesh', 'year', 'arrive', 'hilarious-also', 'missions', 'mjzgroup', 'casting', 'havebeen', 'bread', 'study', '81303', 'trek', 'invitation', 'fredericksburg', 'deposit', 'gotmarried', 'k.wish', '=', 'of', 'kaypoh', 'card', 'basically', 'screaming', 'bro', 'stability', 'hmm', 'press', 'woods', 'tones2u', 'flag', 'parco', 'nickey', 'inform', 'woodland', '0871750.77.11', ';', 'meets', \"'comfort\", 'helens', 'endowed', 'payee', 'snappy', 'la', 'maths', 'proze', 'reslove', 'egbon', 'floating', 'killed', 'surgical', 'bowl', 'sir', 'poor', 'am', 'bulbs', 'forevr', 'jetton', 'meeting', 'mail', 'amanda', 'wife', 'jerk', 'mistakes', 'trouser', 'hannaford', 'certificate', 'childporn', 'poly', 'lst', 'lim', 'angels', 'courage', 'wearing', 'masteriastering', 'wad', 'thanx4', 'clever', 'ree', 'ls15hb', 'total', 'ganesh', 'initiate', '-u', 'points', 'connect', '89105.', 'mini', 'fishhead', '08701213186', 'coins', 'avatar', 'madodu', '1stchoice.co.uk', 'owed', 'compensation', 'scared', 'yogasana', 'officer', 'heron', 'ghodbandar', 'become', 'falling', '07821230901', 'nokias', 'express', 'arabian', '350', 'corporation', 'women', 'killing', 'held', 'margaret', 'minus', 'best1', 'www.applausestore.com', 'developed', 'bloomberg', 'ajith', 'thatmum', '/', 'problem-free', 'head', 'mi', 'consensus', '09066350750', 'goodmate', 'sunshine', 'shaping', 'buddy', 'lacking', 'ok', 'magical', 'tactless', '06.', 'chatter', 'rooms', 'personal', 'joining', 'favor', 'usually', 'completes', 'sundayish', 'ext', 'fried', 'hopeu', 'jenne', 'clearing', 'alle', 'tmr', 'stars', 'olowoyey', '07742676969', 'lyrics', '07815296484', '150p/msgrcvd', 'tarot', 'goggles', 'thew/end', 'pic', 'products', 'suply', 'charity', 'siguviri', 'logon', 'difficulties', 'supreme', 'my-tone.com/enjoy', 'jaya', 'necesity', 'dice', 'jenxxx', 'get', 'highest', 'thnx', 'gary', 'txtauction', '£2,000', 'file', 'muz', 'applying', '£48', 'trained', 'barry', 'guitar', 'church', 'gudnyt', 'unrecognized', 'sleepin', 'tomorro', 'mudyadhu', 'remain', 'sack', 'watts', 'barring', 'forget', 'keeps', 'exposes', 'hp', '2004', 'morning.take', 'suckers', 'week-stop', 'scold', '09071512433', 'calculation', 'texd', 'impossible', 'looked', 'sell', 'wahala', 'mathews', 'spaces', 'talents', 'hostile', 'get4an18th', 'solve', 'thasa', 'yuou', 'evening', 'wkg', 'family', 'properly', 'machines', 'choices', 'bpo', 'whens', 'quality', 'crckt', '10,000', 'opportunity', 'changes', 'topped', \"'an\", '20p', 'ros', 'younger', '450ppw', 'wn', 'making', '08719180248', 'birds', 'old', 'avoid', 'entirely', 'menu', 'themob', 'monster', 'meow', 'hu', 'ghost', 'calld', 'wif', 'sweetest', 'mode', 'challenge', '3ss', '2getha', '83383.', 'swayze', '84025', 'tome', 'unable', 'nope', 'pesky', 'steyn', 'uncomfortable', 'sts', 'hon', 'hopeing', 'secondary', 'crickiting', 'disturbance.might', 'reassurance', 'meetins', '<', 'raglan', 'bawling', '/-', '//alto18.co.uk/wave/wave.asp', '4my', 'steed', 'worthless', 'norm', 'fools', 'death', 'nitw', '4.49/month', 'willpower', 'sha', 'hey', 'basq', 'every1', 'food', 'dogwood', 'toa', 'cbe', 'motherfucker', 'everyboy', 'songs', 'lancaster', 'nusstu', '7', 'proove', 'pissed', 'call2optout/hf8', 'banneduk', 'flip', 'abi', 'machi', 'toilet', 'soo', 'mood', 'jump', 'blog', 'trauma', 'urself', 'grow.random', 'fondly', 'culdnt', 'finishes', 'maretare', 'series', '81618', 'knows', 'halloween', 'shifad', 'quit', 'ingredients', '£54', 'do', 'representative', 'ptbo', 'whenevr', 'table', 'pressies', 'snow', 'toking', 'develop', 'burgundy', 'cartons', 'rub', 'monthlysubscription', 'rgds', 'hairdressers', 'box177', 'iwana', 'films', 'floppy', 'fassyole', 'adventure', 'viva', 'least5times', '£79', 'ibuprofens', 'andre', 'k.', 'wth', 'fletcher', 'finish', 'soon.c', 'windows', 'doublemins', 'matters', 'fifteen', '08712460324', 'contract', 'merely', 'guide', 'fucking', 'ashes', 'thread', 'w', 'enemy', 'corrct', 'aphex\\x92s', 'rip', 'grand', '4u.i', 'kegger', 'manege', 'apt', '0776xxxxxxx', 'hesitate', 'surprise', 'registered', 'concern', 'tells', '087187262701.50gbp/mtmsg18', 'elliot', 'declare', 'rofl', '£1/minmobsmorelkpobox177hp51fl', 'vomit', 'stereo', 'place', 'wadebridge.i', 'nice.nice.how', 'anal', 'ready', 'pocketbabe.co.uk', 'smart', 'haiz', 'dry', 'lotz', 'cave', 'bad', 'lonely', 'row', '08006344447', '150p/mtmsgrcvd18+', 'embassy', 'somebody', '150p/rcvd', '4882', 'euro2004', 'timi', 'hopefully', '5.ful', 'dey', 'bored', 'borderline', '10p/min', 'www.movietrivia.tv', 'center', 'mon', 'nammanna', 'neighbor', 'wrong', 'rhythm', 'respectful', 'pobox45w2tg150p', 'served', '09050090044', '08717111821', 'tgxxrz', 'shipped', 'custcare:08718720201', 'nearby', 'hex', 'di', '150p/min', '08719899230', 'noooooooo', 'waiting', 'headstart', 'revealed', 'copies', 'pobox84', 'vday', 'arises', '4wrd', 'sch', 'fieldof', 'march', 'dai', '146tf150p', 'fo', 'bx526', 'guarantee', 'captaining', 'payment', '80082', 'spatula', 'gnarls', 'k.then', 'forum', 'cold', 'an', 'resubmit', 'go2', 'device', 'jobyet', 'festival', 'vouchers', 'a-green', 'bootydelious', 'adp', 'hello-/', 'type', 'suntec', 'going', 'scrounge', 'walks', 'scotsman', 'lifted', '26/10/04', 'acknowledgement', '!', 'misplaced', 'xuhui', 'throwing', 'gumby', 'potential', 'freak', 'were/are', 'closeby', 'wid', 'tone', 'thanku', 'challenging', 'bcz', 'age16+£1.50perwksub', 'matured', 'notixiquating', 'cops', 'quizzes', 'flight', 'walsall', 'bang', 'windy', '09065989180', 'album-quite', 'www.orange.co.uk/ow', 'chase', 'betta', 'smile', 'darlings', 'sorry', 'begins', 'wlcome', 'jolly', 'debating', 'causing', 'fa', 'rocking', 'vodka', 'u.', 'leftovers', 'stop2', 'ringtone¡', 'exercise', 'ovarian', 'uneventful', 'a', 'ho', 'misss', 'allah.rakhesh', 'sitting', 'jokin', '28th', 'romantic', 'tactful', 'flatter', 'generally', 'parents', 'rally', 'reaction', 'sorts', 'visit', 'adds', 'largest', 'day.', 'eppolum', 'work', 'coaxing', 'faglord', 'sppok', 'afternoons', 'hunt', 'der', 'rightly', 'cr', 'demand', 'inclu', 'trash', 'ni8.swt', 'burnt', 'raping', 'cm', 'u', 'aiyar', '09058098002.', 'fancied', 'resend', 'rates', 'shampain', 'hat', '150p/day', 'hotel', 'filling', 'b', 'broke', 'cupboard', 'anyones', 'subletting', '08719180219', 'with', 'calls', 'inmind', 'indyarocks.com', 'muchxxlove', 'age16', 'qatar.rakhesh', 'flies', '7.shy', 'thot', '08718730555', 'intelligent', '85023', 'inshah', 'videophones', 'undrstndng', 'hrishi', 'dehydration', 'thesedays', 'cttargg', 'february', '£4.50', 'performance', 'ipaditan', 'pehle', 'definitly', 'itz', '1yf', 'exchanged', 'nmde', 'crap', 'frog', 'donyt', 'babe', 'wrench', 'change', 'hut', 'spending', 'lips', 'expects', 'unique', 'process.networking', 'haven', 'puzzeles', 'kilos', 'tb', 'mouth', '4th', 'technologies', 'everyso', 'combination', 'humans', 'autocorrect', 'ipad', 'service', 'ratio', 'london', '£50-£500', 'cash', 'chores', 'week+', 'a.', 'building', 'rentl', 'rearrange', 'owl', 'hitter.anyway', 'xafter', 'haughaighgtujhyguj', 'down', 'gbp1.50/week', 'embarassed', 'campus', 'photoshop', 'mmmmmmm', '153', 'consent', 'ettans', 'textin', 'celebration', '30s', 'done', 'skateboarding', 'shanghai', 'cheese', 'jeans', 'help08718728876', 'bfore', 'mu', 'priscilla', '26/11/04', 'sec', 'likely', '09058094597', 'on', 'com', 'doctor', 'xxx', 'buffet', 'aspects', 'frm', 'dogs', 'however', 'housewives', 'treat', 'plum', 'runs', 'flirt', '£1450', 'search', 'starer', 'christ', 'kodstini', 'up4', 'kl341', 'overemphasise.or', 'std', 'dark', 'dhanush', 'regular', 'dual', 'meaningful', 'unusual', 'barolla', 'fuckin', 'days.èn', '1.50p/wk', 'kills', 'time.you', 'coco', 'us.get', 'wedlunch', 'd', 'agent', 'can\\x92t', 'nachos', 'off', 'drivin', 'chuckin', 'prescribed', 'exorcism', 'surrender', 'sat', 'thesmszone.com', 'sunoco', 'swiss', 'go2sri', 'shitstorm', '8077', '650', 'eat', 'trains', '9pm', 'ams', 'promoting', 'qbank', 'wifes', 'sterling', 'page', 'orno', 'srsly', 'edition', 'babysitting', '^', 'pls', 'tablets', 'when', '20/f', 'ig11', 'panicks', 'maaaan', 'memory', 'lanre', 'urgran', '06.05.05', 'smeone', '4a', 'worry.c', 'hole', '5free', 'fine.inshah', 'newport', 'ramen', 'pole', '1/2price', 'gets', 'px3748', 'busy', 'massive', 'twinks', '.', '326', '~', 'vague', 'spelled', 'cc100p/min', 'bedreal', '80488', 'film', 'sea', '08707808226', 'girlfrnd', 'free', 'arms', 'talent', 'well.you', 'hop', 'differ', 'i.e', 'erutupalam', 'buzy', 'given', 'pretend', 'dobby', 'bare', 'multimedia', 'forms', 'garage', 'nigpun', 'ds', 'audrey', 'spirit', 'interview', 'immed', 'c', 'company', 'subscribe6gbp/mnth', '80062', 'kisses', 'alert', 'hangin', 'city', 'w1t1jy', 'fallen', 'data', 'willing', 'hol', 'slower', 'improved', 'stop2stop', 'monoc', 'somethin', 'robinson', 'eh', 'hum', 'honeybee', 'lekdog', 'oga', 'ground', 'whenever', 'woo', 'kate', 'cute', '1405', 'silver', 'frndshp', 'prods', '3650', '–', 'companion', 'eta', 'compulsory', 'process', 'digital', 'permissions', 'ctxt', '87131.', 'nuther', 'msging', 'dear1', 'k.are', 'cancel', 'e-threats', '2b', '``', 'weight', 'garden', 'sathya', 'presence', 'painful', 'nokia', 'super', 'bilo', 'adults', 'wat', '26th', 'recorded', 'bike', '.dont', 'sad', 'vaguely', 'fr', 'rise', 'call2optout/j', 'sux', 'sound', 'pilates', 'loved', 'pete', '08715705022', 'kalainar', '3030', 'xchat', 'teams', 'start', 'pushbutton', 'easily', 'imf', 'uwana', 'internet', '.....', 'wrkin', 'stores', 'copied', 'norm150p/tone', 'adore', 'sooner', 'tncs', 'fujitsu', 'surly', 'collected', 'sheffield', 'ac/smsrewards', 'loxahatchee', 'intend', 'gossip', 'letters', 'singapore', 'invnted', 'm227xy', 'computerless', 'gautham', 'essential', 'shesil', '195', 'roast', '3pound', '09061743386', 'simpsons', 'tex', 'of£2000', 'beerage', 'mb', 'margin', 'na', 'multiply', 'when/where', 'missed', 'colour=red', 'spageddies', 'adam', 'hi.what', 'club4', '-call', 'fifty', 'mystery', \"'m\", 'seat', 'promotion', 'pay', 'www.4-tc.biz', 'firsg', 'colour', 'ranjith', 'splleing', '08718727868.', 'urgoin', 'struggling', 'help08700621170150p', 'quiet', 'confirm', 'parade', 'clock', 'yhl', 'dealer', 'bristol', 'goodnoon', 'sounding', 'arty', 'await', 'langport', 'easy', 'c.', 'mumhas', 'poly/true/pix/ringtones/games', 'earlier', 'cttergg', 'knock', 'open', 'pouts', 'havnt', 'ystrday.ice', '7.romantic', 'perfume', 'nìte', 'mob', 'summers', '69101.', 'esaplanade', 'ey', 'cliff', 'rock', 'remb', 'sleepwell', 'weather', 'now1', 'babysit', 'dearer', 'smoothly', 'lose', 'lunch', 'gently', 'pieces', '08452810073', 'choice', 'director', 'atm/sms', 'part', 'degree', 'cough', 'next', 'chef', 'ashley', 'lovly', 'skilgme', 'teresa', 'offers', 'marley', 'brainy', 'height', '88888', 'txt~journey', 'messages-text', 'desperate', 'peach', '4brekkie', 'dance', '3mins', 'stealing', '09094646899', 'cable', 'clark', 'flute', 'imposed', 'little', 'three', 'ques-', '£1.50ea', 'ileave', 'headache', 'arguments', 'mushy', 'footbl', '7-mahaveer', 'jamz', 'abuse', 'so', 'plaza', 'subscription', '+447797706009', 'we', 'whr', 'hillsborough', 'does', 'grahmbell', 'wind', 'eleven', 'unspoken', 'transport', '-/', 'spam', 'sonathaya', 'aaniye', 'gal', 'feellikw', 'private', 'corrupt', 'aries', '5p', 'iyo', 'esplanade', 'basket', 'brats', 'undrstnd', '150p/tone', '£150', 'moby', 'ttyl', 'anniversary', 'created', 'chrgd', 'birla', 'facts', 'callertune', '40533', 'conversations', 'wallet', 'senrd-dnot', 'less', 'member', 'kind', 'freaked', 'sao', 'suprman', 'bbq', 'fated', 'august', 'joined.hope', 'internet/service', 'simpler', 'mmmmmm', 'ride', 'unkempt', 'second', '5226', '4utxt', 'practicum', 'kiefer.com', 'mathe', 'meanwhile', '1/2', 'talkbut', 'suits', 'prey', 'shrub', 'connections', 'ipads', 'silent', 'geting', 'qet', 'sugardad', 'hire', 'diamond', '078', 'anand', 'amazing', 'teeth', 'zouk', 'b-blue', 'though', 'tming', 'steak', 'westshore', 'hero', 'ours', 'cashed', 'tired', 'which', 'presents', 'rvx', 'thirtyeight', 'wikipedia.com', 'comedy', 'live', 'restaurant', 'bold2', 'wotz', 'dentist', 'muht', 'flurries', 'boss', 'friendship', 'univ', 'jiu', 'diamonds', 'urgnt', 'courtroom', 'seems', 'poured', '81010', 'tamilnadu', 'mrng', 'summon', 'girls', 'tip', '60p', '2003', 'fridays', 'tmrw', 'adi', 'algebra', '08717509990', 'shuhui', 'rats', 'cs/stop', 'amore', '255.', 'pleased', 'h', 'kano', \"'ll\", 'norcorp', 'hourish', 'academic', 'necessary', 'kvb', 'fun', 'wining', 'turning', 'jot', 'redeemable', 'many', 'worst', 'them', 'police', 'supports', 'tog', 'underwear', 'yarasu', 'boobs', 'serious', 'filled', '08714714011', 'cared', 'fault', 'brin', 'great.bye', 'flew', 'paperwork', 'yavnt', 'auto', 'patty', 'sorting', 'blah', 'mayb', '2rcv', 'wined', 'lower', 'howu', '5mls', 'anderson', '786', 'gbp/week', 'deus', 'score', 'cr01327bt', 'allday', 'tis', 'othrs', 'ok.ok', 'w111wx', 'figures', 'velusamy', 'kalisidare', 'smiled', 'legal', 'amrita', 'market', '21870000', 'words-', 'peeps', 'gayle', 'untamed', 'opposed', 'apply.2', 'genus', 'tranquility', 'nothin', 'normal', 'dubsack', 'some1', '6zf', 'pence', '09061702893.', '330.', 'loosu', 'cos', 'team', 'matter', 'expired', 'surya', 'joined.so', 'keris', 'daywith', 'realizes', 'drvgsto', 'tho', 'fear', 'purity', 'eight', 'deck', 'chances', 'ppt150x3+normal', 'mel', 'so.so', \"'uptown\", 'hogolo', 'a-ffectionate', 'kittum', 'judgemental', 'sn', '#', 'c-in', 'no-440', 'spk', 'trends', 'lobby', 'real', 'invite', 'pubs', 'changing', 'castor', 'even', 'wild', 'dick', 'specialisation', '09050001808', 'connected', 'avoiding', 'sez', 'x29', '008704050406', 'attracts', 'earlier-we', 'her.she', 'goldviking', '08715203656', 'name', 'careabout', 'student', 'sculpture', 'shb', 'theyre', 'increments', 'skye', 'accent', 'ceri', 'holla', '1680', 'lakhs', 'agalla', 'benefits', 'billion', 'zeros', 'neville', '3x£150pw', 'www.ringtoneking.co.uk', 'thk', '0a', 'aa', 'cramps', 'idk', 'impression', 'influx', 's.nervous', 'dime', 'tried', 'jokes', 'simply', 'parked', 'santa', 'congratulations', 'achan', 'londn', 'yuo', 'wrnog', 'management', 'tai', 'platt', 'hills', 'thanks', 'invited', 'grasp', 'blokes', 'citylink', 'shijutta', 'totes', 'itried2tell', 'wk.txt', 'maintaining', '11', 'yan', 'safety', 'devouring', '150p/mt', 'arranging', 'shivratri', 'jst', 'moments', 'corect', 'smaller', 'savings', 'placement', 'returned', 'definitely', 'oops', 'rebooting', '118p/msg', 'rajini', 'oscar', 'colours', 'mess', 'catches', \"'simple\", 'differences', 'tosend', 'horrible', '80182', 'how', '80160', 'aids', 'natalja', '8.lovable', 'blue', 'aom', 'summer', 'ring', 'restrict', 'admin', 'tui', 'outfit', '505060', 'treacle', 'todays', 'yay', 'warranty', 'salary', '420', 'bin', 'tohar', 'goal', 'maturity', 'unconsciously', '18+', 'might', 'spoiled', '7cfca1a', 'cares', 'amma.rakhesh.qatar', 'requirements', 'rimac', 'john\\x94-sounds', 'thing', 'mecause', 'fit', 'weekly', 'ok.varunnathu', 'mix', 'mornin', 'soul', 'scotch', 'panalam', 'www.music-trivia.net', 'diddy', 'latelyxxx', 'contacts', 'st', 'kaiez', 'prize', 'freinds', 'mails', 'nz', 'box403', 'jiayin', 'frequently', 'contacted', '09065989182', 'champ', 'myparents', 'antelope', 'greatness', 'grown', 'darren', 'lion', 'move', 'tiny', 'train', 'dump', '16+', 'dollars', 'marriage', 'accounts', 'haircut', 'x-net', 'sunny', 'telephonic', 'wife.dont', '150p/mtmsgrcvd18', 'predictive', 'neva', 'queries', 'coffee', '08714712394', 'arul', \"y'day\", 'app', 'pillows', '88600', 'sleeps', 'god.you', 'snake', 'dammit', 'm', 'strips', 'person.meet', 'lingo', '25', 'casing', 'book', 'console', 'shangela', 'conveying', 'sparkling', 'britney', 'selling', 'gravity', 'if', 'operate', 'im', 'pale', 'july', 'wkend', 'congratulation', 'tolerat.bcs', 'z', 'swan', '49557', 'steering', 'nig', 'www.bridal.petticoatdreams.co.uk', 'up+not', 'cafe', 'lets', 'nite+2', '£350', '09066362206', 'lucozade.co.uk/wrc', '24m', '82277.unsub', 'hubby', '1cup', 'hrs', 'hates', '-xx', 'calm', 'possibility', 'okay', 'content', 'alright', 'upd8', 'skyped', 'rang', 'physics', \"'til\", 'tol', '____', 'neglect', 'awesome', 'net', 'hundred.he', 'theres', 'harder', 'stuffing', 'ortxt', 'brownie', 'hiya', 'bthere', 'waitin', 'math', 'ringtone-get', 'award', '“', 'goodmorning', 'bsnl', 'kuch', 'sneham', 'oni', 'melnite', 'home.love', '09058094455', 'involve', 'thinks', 'oranges', 'crashed', 'loss', 'link', '//doit', 'polyh', 'evng', 'cudnt', 'detail', 'air', 'latr', '0796xxxxxx', 'keluviri', 'baig', 'dead', '5000', 'howard', 'pussy', '89070', '-message', '88039', 'pocay', 'shortage', 'slice', 'g.', 'compliments', 'pisces', 'iwas+marine', 'towards', 'oclock', 'poking', 'valid12hrs', 'office', 'roads', '6wu', 'understood', '\\x93it', 'philosophy', 'scratching', 'lil', '2/2', 'saeed', 'itna', 'rgent', 'frnt', 'lately', 'hmv1', '5249', 'tobed', 'themed', 'bookshelf', 'srs', 'flaked', 'medicine', 'finishing', 'sounds', '£1.50rcvd', 'strokes', 'stalk', 'zac', '0845', 'deepest', 'verified', 'leaf/day=no', 'outstanding', 'lul', '3g', 'uploaded', 'quickly', '2stop', 'worry', 'bluff', '100txt/mth', 'stage', 'velly', 'realized', 'linux', 'tomorw', '8007', 'leo', 'freshers', 'preschoolco-ordinator', 'a21', 'laxinorficated', 'fired', 'nic', 'toplay', 'ignore', 'aging', 'out', 'harry', '8pm', 'accessible', 'lotto', 'stamped', 'taxi', 'owe', 'huiming', '84484', 'atleast', 'elaborate', '1205', 'aust', 'mathematics', 'justthought', 'w4', '08714342399.2stop', 'includes', 'afraid', '£1,500', 'about', 'looks', '9', 'canceled', \"it'snot\", 'pandy', 'lecturer', 'astne', 'amp', 'awake', 'railway', 'spook', 'upgrade', 'mindset.believe', 'prakasamanu', 'v.tired', 'duffer', 'anjie', 'wrecked', 'kb', 'irritating', '2025050', '5/9/03', 'be', 'honesty', 'maniac', 'scallies', '08704439680.', 'opener', 'lab', 'raji', 'sender', 'franyxxxxx', 'daddy', '9.funny', 'mcfly-all', '£50award', 'ilol', 'www.07781482378.com', 'mustprovide', '.be', '08702840625.comuk', 'classes', 'breaks', 'blacko', 'organise', '................', 'box420', 'superb', 'psychologist', 'goin2bed', 'praps', 'doing', '1.50p', 'outage', 'astronomer', 'turns', '3', 'mundhe', 'minimum', '4.30', 'libertines', 'point', 'shld', 'stitch', 'fiend/make', 'belongs', 'pple', 'matched', 'bslvyl', 'wings', 'happenin', 'until', 'familiar', 'hospitals', 'anymore', 'glad', 'pshew', 'mush', '09071512432', '£1.50/wk', 'printer', 'waaaat', 'modules', 'foned', 'lousy', 'go.wait', '500', 'our', 'alive.better', 'apartment', 'anytime', 'wendy', \"'hw\", 'stash', 'message.pandy', 'fne', 'twilight', 'sport', 'statement', 'tryin', 'gastroenteritis', '4u', 'freaky', 'mokka', '09099726429', 'assumed', 'feels', 'dosomething', 'disagreeable', 'uve', '2geva', 'god', 'items', 'unsub', 'dramatic', 'i-ntimate', 'fluids', 'belt', 'halla', 'rule', '5ish', 'pan', 'played', 'musical', 'marvel', 'laid', 'decide', 'subpoly', 'extra', 'shakara', 'messages', 'friends', 'completed', 'research', 'whatever', 'fed', 'darker', 'messy', 'nxt', \"'hex\", 'rejected', 'strain', 'logos', 'mountains', 'doesnt', 'capital', 'wither', '08701417012', \"'that\", 'hesitant', '08712101358', '09061221066', 'dear.with', 'after', 'deal', 'appreciated', 'gut', 'feet', 'awaiting', 'weigh', 'unicef', 'breather', 'deepak', 'msgs', 'appeal', 'watchin', 'two', 'thecd', 'today', 'cali', 'visionsms.com', 'weapon', 'scraped', 'necessity', 'weddin', 'omg', 'titles', 'fool', 'mentor', 'implications', 'shhhhh', 'otside', '09090204448', 'makin', 'hearin', 'tune', 'beauty', 'forgets', 'claypot', 'meaningless', 'cantdo', 'grace', 'whore', 'vitamin', 'spree', 'real1', 'm221bp', 't.', 'childish', 'oja', 'lead', 'sp', 'asshole', 'feeling', 'checkin', 'restocked', 'renewed', 'o2.co.uk/games', 'yunny', 'bear', '0870737910216yrs', 'pudunga', 'text82228', 'dear.rakhesh', 'breathing', 'quick', 'dreading', 'litres', 'lie', 'stalking', 'punishment', 'browsin', 'heavy', 'srt', 'ldn', 'dodgey', 'moji', 'bitch', 'guilty', 'pants', '2nhite', 'mary', 'fab', 'mens', 'bbdeluxe', 'pending.i', 'nuerologist', 'cosign', 'child', 'amnow', 'jocks', 'visitor', 'needle', 'dan', 'darlin', 'reserves', 'sit', '08715203028', 'helpful', 'hype', '09058091870', 'dial', 'bus8,22,65,61,66,382', 'walkabout', 'dippeditinadew', 'anna', 'squeeeeeze', 'proverb', 'is', 'refunded.this', 'planettalkinstant.com', 'greet', 'a30', 'wocay', 'groovy', '69876.', 'spot', '2c', 'lei', 'chatting', 'ws', 'tomorrow', 'printed', 'ppl', 'ca', 'layin', '5.gardener', 'lowes', 'hl', 'synced', '0844', 'bet', '09094646631', 'fooled', 'coherently', 'none', 'bw', 'hungry', 'form', 'geoenvironmental', 'korean', '7684', 'executive', 'says', 'advance', 'cherthala.in', 'recently', 'stu', 'callin', 'gifts', 'openings', 'muah', 'division', 'xxuk', 'edhae', '83049.', \"'d\", 'yup', 'ujhhhhhhh', 'csc', 'axis', 'dled', 'letter', 'puppy', 'dom', 'paracetamol', 'buyers', 'stop', 'boost', 'upset.i', 'jus', 'gbp5/month', 'wheat', '02085076972', 'woman', 'hello-', '5-sankatmochan', 'sporadically', 'well', '3750', 'k.k.this', 'inviting', '09065394973', 'convinced', '//wap', 'juicy', 'goigng', 'boy', 'printing', 'm60', 'arr', 'un', 'soladha', 'shirt', 'smells', 'free-send', 'murdered', 'cps', 'mina', 'tomorrow/today', 'chicken', 'bathe', 'artists', 'gari', 'stays', 'shipping', '021', 'vat', 'ice', '09063440451', 'messaging', 'rdy', '69669.', 'pulls', 'holder', '3optical', 'dodda', 'fake', 'n8', 'gold', 'txt', 'jan', '6.30', 'dedicated', 'str8', 'tx', 'drama', 'lasting', 'fonin', 'me.need', 'interested', 'brand', '3lions', 'lessons', 'doin', 'va', 'mylife', '150p/msgrcvdhg/suite342/2lands/row/w1j6hl', 'find', 'expected', 'cheaper', 'bcm', 'valentine', 'starshine', 'meetin', '09056242159', 'dieting', '7548', 'impressed', 'ibh', 'dose', 'eighth', '08081560665', 'million', 'earth', 'unjalur', '20p/min', 'clearer', 'dignity', 'project', 'sura', 'hiphop', 's', 'nitz', 'sells', 'endless', 'six', 'strings', 'paper', '35p', 'wanting', 'atlast', 'offense', 'alian', 'opportunity.all', 'spanish', 'smsing', 'cuppa', 'gn', 'www.getzed.co.uk', 'practice', 'usc.edu', 'wellda', 'cuddled', 'nigh', 'w14rg', 'ericsson', 'uin', 'best', 'shirts', 'fats', 'ammo', 'hasbro', 'askd', 'blind', 'reckon', '0121', 'wonders', 'divorce', 'any', 'la32wu', 'ola', 'thin', 'asia', 'nipost', 'paypal', 'blood.send', 'waited', 'www.comuk.net', 'fine.', 'me', '09064012160.', 'agidhane', '08715203649', '4the', 'early', 'done/want', 'decisions', 'afew', 'mcr', 'grooved', 'utter', 'yourjob', 'mnth', 'stuck', 'loko', 'are', 'importantly', 'watching', '80086', '5.terror', 'philosophical', 'bahamas', 'heltini', 'fees', 'subscriptn3gbp/wk', 'spoke', 'outs', 'sherawat', 'squishy', 'tattoos', 'splash', 'ger', 'uterus', 'priority', 'stream', '37819', 'charges', 'lanka', 'draws', 'yr', 'kaaj', 'upping', 'doc', 'enufcredeit', 'term', 'taka', 'messaged', 'truffles', 'bleh', 'kickoff', 'push', 'interviw', 'require', 'yes', 'wnt', 'jules', 'hcl', '3.u', 'telling', 'abeg', 'kitty', '14thmarch', 'wrking', 'somewhr', 'sue', 'sandiago', 'lost', 'marsms', 'wipro', 'details', 'pairs', '£12', 'creativity', '515', 'sickness', 'abbey', '900', 'inches', 'rs', 'went', 'contains', 'tomorrow.call', 'isnt', 'lacs.there', 'except', '69888', 'single', 'weaseling', 'mymoby', 'beta', 'jogging', 'smth', 'shaking', 'lor', 'mostly', 'trying', 'wk', 'probpop', 'anyway', 'jeevithathile', 'kidding', 'maybe', 'helping', 'yes.i', 'nanny', 'tomarrow', '£2.50', 'quote', 'business', 'lucozade', 'nav', 'blowing', 'golden', '1winawk', \"b'tooth\", '4mths', 'jelly', 'wed.', 'selfindependence', 'prin', 'today.good', 'fish', 'lap', '81303.', 'rahul', 'spl', 'dogbreath', 'map', '$', 'figure', '2nite', 'infections', '4fil', 'yck', 'month', 'designation', 'is/are', 'die', 'beverage', 'jenny', 'mention', 'hungover', 'hamper', 'boooo', '//www.vouch4me.com/etlp/dining.asp', 'popcorn', 'mys', 'via', 'paul', 'close', 'msgrcvd18+', 'valuing', 'advise', 'footy', 'pooja', 'yes-440', 'processed', 'illness', 'divert', '20,000', 'calling', 'kiosk.valid', 'nor', 'woohoo', 'gods', 'liao', 'life.you', 'irritation', 'buffy', 'lies', '£500', 'blastin', 'aboutas', 'or2stoptxt', 'archive', 'backwards', '09066382422', '£3.00', 'tok', 'cut', 'payasam', 'bridgwater', 'outgoing', '£5000', 'stable', 'seconds', 'mmmm', 'pura', '50p/msg', 'spjanuary', 'invention', 'sudn', 'underdtand', '3rd', 'simulate', 'asssssholeeee', 'svc', 'ridden', 'dying', 'passed', 'inch', 'opt', '2kbsubject', 'main', \"'taxless\", '0871-872-9755', '-', 'secured', 'hogidhe', 'hiding', 'seven', 'pure', 'shag', 'juliana', 'wknd', 'shoes', '-tho', 'rajas', 'southern', 'yummmm', 'thousands', 'dormitory', '09061701444.', 'biggest', 'txtin', 'surprised', 'throws', 'pongal', 'kothi', 'deserve', 'innocent', 'njan', 'ic', '07008009200', 'watevr', 'complexities', 'thy', '6.house-maid', 'birthdate', '5.', 'rewarding', 'loud', '£33.65', ',', 'naal', 'gona', 'burger', 'paid', 'ahhh', 'ko', '31', 'etc', 'auction', 'paris.free', 'oic', 'player', 'whats', 'germany', 'first-', 'celebrations', '2u2', '4few', 'addie', '1hr', 'incorrect', '£2000', 'mallika', 'opening', 'impress', 'ps', 'self', 'wondarfull', 'tonexs', 'mj', 'fffff', '450pw', 'resume', 'luxury', 'prasanth', 'smacks', 'allo', 'bf', 'taj', 'pints', 'effect', 'urfeeling', 'termsapply', 'telugu', 'hugging', 'keep', 'sf', 'ripped', 'idu', 'lag', 'leona', 'digi', 'ball', 'ur', 'ourbacks', 'loses', 'chat80155', 'mtalk', 'bx420', 'say', 'fidalfication', 'subtoitles', 'bhaji', 'round', 'outdoors', 'online', 'aint', 'wizzle', 'singles', 'red', '2gthr', 'edwards', 'www.t-c.biz', 'moment', 'nice', 'made', 'concert', 'prompts', 'nw', 'cash-in', 'aunt', 'bakra', 'doinat', 'rays', 'fuckinnice', 'wan2', 'abstract', 'soon', 'antibiotic', '9th', 'swollen', 'overtime', 'mums', 'powerful', '09065069120', 'unclaimed', '69911', 'j', 'caroline', '08701417012150p', 'quitting', 'kath', 'lifetime', 'havbeen', 'knowing', 'nasty', 'tmw', 'his/her', 'significance', '850.', 'frank', 'virgins', 'eng', 'hurts', '||', 'advice', '5years', '5', 'tp', 'green', 'arent', 'nit', 'hmv', 'mf', 'reverse', 'uncles', 'valuable', 'wet', 'called', '2day', 'looking', 'detroit', 'onion-rs', 'sms', 'lifeis', 'butting', 'cruisin', 'shade', 'apologize', '69888nyt', 'mr', 'potato', '3days', 'k718', 'india', 'do.interested', 'po', 'indians', 'silly', '87239', 'overdose', 'cheetos', 'blur', 'hour', 'sary', 'bit', 'sorry-i', 'guessed', 'www.flirtparty.us', 'toll', '//www.wtlp.co.uk/text', 'dressed', 'dad', '09099726553', 'problms', 'c-red', '2000', 'sorted', 'lord', '60,400thousad.i', 'consider', 'w45wq', 'cakes', 'fellow', 'mono', '09066364589', 'stylist', 'desparately', 'tear', 'worried', 'number.respectful', 'second-', 'clocks', 'it.or', 'approaching', '6times', 'afternon', '80878', 'collect', 'stomach', 'mobiles', 'option', 'tuesday', '89555.', 'anythiing', 'shindig', 'fire', 'unsubscribed', 'dhoni', 'interesting', '82324.', 'kinda', 'didnt', '£100', 'les', 'rate', 'yeh', 'urgent', 'duo', 'stoptxtstop£1.50/week', 'tyrone', 'customersqueries', 'iouri', 'xam', 'keeping', 'stairs', 'texted', 'cuddling', 'papa', 'sure', 'tcr/w1', 'nattil', 'scary', 'sufficient', 'famamus', 'haventcn', 'gnt', 'come', 'ni8', 'pretty', 'least', 'thanx.xx', 'exeter', 'nevr', 'high', 'town.dontmatter', 'tiger', 'pobox202', 'torrents', 'catching', 'custom', 'plans', 'nino', 'november', 'fine', 'id', 'cry', 'hugs', 'decorating', 'found', 'overdid', 'understand', 'ex-wife', '6hrs', '2yr', 'hmmm', 'sweetheart', '5th', 'ofcourse', 'bx', 'linerental', 'sales', 'satisfy', 'bong', 'first', '08002888812', 'breaking', 'nowadays', 'realise', 'recount', 'lines', 'wthout', 'carlos', 'prestige', '8.', '’', 'cutting', 'members', 'was', 'prescripiton', 'mint', 'grocers', 'treats', 'comingdown', 'drinkin', '1apple/day=no', 'gd', 'goodtime', 'attitude', 'drinks', 'hassling', 'premarica.kindly', 'science', 'txtstop', 'mns', 'tough', 'west', 'dental', 'hogli', 'cons', 'swt', 'gals', 'ready.all', 'chat', 'adrian', 'funk', 'www.ldew.com1win150ppmx3age16subscription', '447801259231', 'netflix', 'such', 'cross', 'dirt', 'developer', 'hee', '6031', 'sing', 'perumbavoor', 'coveragd', 'resubbing', '£1', 'silently', 'lt', 'aww', 'parantella', 'cereals', 'few', 'shortcode', 'downstem', 'recharge', 'finest', 'dare', 'ru', 'wipe', 'entertaining', 'ambitious', 'box139', '45', '/colour', 'greatest', 'ironing', 'deltomorrow', 'listened2the', 'shows', 'cum', 'birth', 'isn\\x92t', 'paru', 'entertain', '0089', 'drivby-:0quit', 'sometime.rakhesh', 'vl', '08452810071', 'biatch', 'browse', 'mising', 'spoil', 'snowboarding', 'ba128nnfwfly150ppm', 'freefone', 'onam', 'in.our', 'k61', 'recorder', '80608.', 'nudist', '89693', 'faster', 'tau', 'it+both', 'jabo', 'badrith', 'walls', 'exhaust', 'above', 'max', 'chaps', 'bright', 'handsomes', 'rather', 'atrocious', 'grl', 'anywhere', 'shracomorsglsuplt', 'www.sms.ac/u/bootydelious', 'hearted', '9.', 'bhaskar', '09058094565', 'bk', 'v.', '09066660100', 'usher', 'belligerent', 'www.textcomp.com', 'wildlife', 'careless', 'spider-man', 'kicchu', 'networks', 'doesn', 'badly', 'pack.also', 'clue', '42810', 'hurt', 'maximum', '7.30.', 'drunken', 'rodger', '434', 'friend', 'quite', 'dirty', 'cheating', 'answers', 'fan', '09066364311', 'enters', 'evrey', 'joanna', 'bars', 'med', 'prediction', 'bruce', 'callfreefone', 'eaten', 'rec', 'ache', 'nalla', '09061104276', 'triple', 'staff.science.nus.edu.sg/~phyhcmk/teaching/pc1323', 'jb', 'l8', 'wake', 'perhaps', 'hallaq', '9-6', 'irritates', 'testing', 'test', 'fighting', 'kit', '07123456789', 'documents', 'phone750', 'pa.', \"'terrorist\", 'derek', '150p', 'admit', 'hand', 'truro', 'named', 'yor', 'fakeye', 'trial', 'general', 'perfect', 'n-gage', 'max6/month', '7.30pm', 'dialogue', 'actor', 'grr', 'aiya', 'outsomewhere', '177.', '150p/mtmsg', 'drink.pa', '50', 'faber', 'dealing', 'arm', 'phne', 'ello', '09066612661', 'jsut', 'sighs', '£1.50/week', '08712402578', 'beware', 'she', 'five', 'including', 'imin', 'ryan', 'provider', 'truly', 'btw', 'ashwini', '3680.offer', 'yellow', 'cme', 'bac', '08715203677', 'aletter', 'ave', 'eachother', 'tahan', 'rice', 'beloved', 'describe', 'tablet', 'having', 'experiment', 'bits', 'use', 'wc1n', 'fal', '85233', 'thankyou', 'blogging', 'bcm1896wc1n3xx', 'activ8', 'enemies', 'following', 'fb', 'www.textpod.net', 'haiyoh', 'permission', 'cost£1.50/pm', 'gurl', 'www.ldew.com1win150ppmx3age16', 'neither', 'description', 'ga', \"don\\\\'t\", 'avoids', '220-cm2', 'forgiveness', 'desires', 'dec', 'r', 'exorcist', 'click', '09061790121', 'www.clubmoby.com', 'started', 'relocate', 'zyada', 'kaitlyn', 'supposed', 'by\\x94leafcutter', 'lyf', 'tc-llc', 'maat', 'textoperator', 'zebra', 'weak', 'ppm150', 'lol', '8552', 'keralacircle', 'times', 'granted', 'nri', 'shrek', '528', 'luck.2', 'sullivan', 'na-tuition', 'virgin', 'features', 'lived', 'm263uz', 'prevent', 'disc', 'cthen', 'frens', 'responsibilities', 'report', 'football', 'mumbai', 'prepaid', 'hope', 'matra', 'adewale', 'earliest', 'successful', '08712405020', 'ifink', 'ard', 'qing', 'curfew', 'talking', 'finalise', '1thing.i', 'within', '83338', 'needed', 'workand', 'disk', '62735=£450', 'converted', '1030', 'gm+gn+ge+gn', '31/10/04', 'replies', '....', 'guess', 'pushes', '...........', '09090900040', 'reality', 'slices', 'window', 'password', '81151', 'gas', '-p', 'greeting', 'mapquest', 'infact', 'happend', 'front', 'erode', 'malarky', 'mad1', 'will', 'seriously', 'channel', 'mins', 'barrel', '92h', '087016248', 'thru', 'nb', 'skype', 'funny', 'build', 'seing', '1.5p/min', 'surely', 'arsenal', 'handset', '4got', 'taught', 'wherever', 'suggest', 'passwords', 'gaytextbuddy.com', 'cool-mob', '09061213237', 'tones2you.co.uk', 'bergkamp', 'understanding', 'abiola', 'census', 'po19', 'askin', 'shoranur', 'coat', '69698', 'cappuccino', 'xxxxxxxx', 'smith-switch', '121', 'e14', 'soon.xxx', 'repeating', 'arithmetic', 'employer', 'jen', 'ditto', 'abroad', 'mquiz', 'www.clubzed.co.uk', 'lined', 'healthy', 'reboot', 'jazz', 'date', 'bcm4284', 'dearly', 'ref:9307622', 'crazyin', 's.', 'edge', '09066364349', 'hesitation', 'wtc', 'offc', 'burning', '»', 'rightio', '//www.e-tlp.co.uk/expressoffer', 'safely', 'dangerous', 'dirtiest', '09061221061', 'calculated', 'crash', 'chocolate', 'camry', 'here.thanks', 'california', 'settle', 'strike', 'yesterday', 'dust', 's.i.m', 'attraction.i', 'first=true¡c', 'bluray', 'nearer', 'upto', 'short', 'wotu', 'goodnight', 'horny', 'ultimate', 'siva', 'sexiest', 'period', 'available', 'sorta', 'sh', 'speedchat', 'casualty', 'rv', 'olol', 'thats', 'i.', 'mummy', 'doug', 'picsfree1', 'nbme', 'bffs', 'screwd', 'nydc', 'offcampus', 's.this', '£750', 'living', '0207-083-6089', 'wt', 'correctly', 'whose', 'somewhat', 'kane', 'cedar', 'broadband', 'web2mobile', '1,2', 'objection', 'dismay', '07753741225', 'bunkers', '5k', 'extreme', 'swalpa', 'firmware', 'comfort', 'cumming', 'mwahs', '2wu', 'responding', 'complain', 'schedule', 'finishd', 'toot', 'deduct', 'sources', 'uses', 'internal', 'opportunity.pls', 'pls.i', 'infernal', 'dock', 'drinking', '[', 'fetching', 'shit', 'conference', 'young', 'gopalettan', 'rent', 'stifled', 'ponnungale', 'failure', '6.', '10', 'instant', '87066', 'plaid', 'okors', 'courageous', 'carlin', 'useful', 'where', 'rr', 'woot', '45239', 'kz', 'appreciate', 'aathi', '2006', 'worries', 'nus', 'track', 'theoretically', 'horse', '08709222922.', 'assessment', 'ceiling', 'chatlines', 'kanagu', 'king', '4-7/12', 'fuuuuck', 'proper', 'path', 'shouted', 'waheeda', \"'ve\", 'flights', 'mobstorequiz10ppm', 'carry', 'itcould', 'steal', 'texas', 'amount', 'wasn', 'pizza', '7250i', 'uk', 'happened', '2,000', 'shot', 'hvae', 'accordingly.or', 'teacher', 'problem.i', 'simple', 'shitin', 'asus', '1er', 'poo', 'satisfied', 'display', 'captain', 'eggs-pert', 'phd', 'paces', 'lark', 'virgil', '113', '.terry', 'sisters', 'buff', 'day', '54', 'jos', 'armenia', 'parties', '2mrw', 'sprint', 'suggestion', 'tape', 'purpose', 'tease', 'missionary', 'wamma', 'heal', 'maps', '88039.', 'transferred', '£1million', 'treadmill', 'hlday', 'theater', 'dis', 'recpt', 'spinout', 'zoom', 'hang', 'pride', 'engagement', 'www.smsco.net', 'ideal', 'allows', 'sunlight', 'oz', 'cars', 'puzzles', 'thts', 'prone', 'upset', 'inpersonation', 'iccha', 'expires', 'quoting', 'tasts', '09058099801', 'feelingood', 'overa', 'def', 'nichols', 'av', 'ge', 'likeyour', 'gmw', 'beatings', 'accommodationvouchers', 'celebrate', 'moves', 'kill', 'watchng', 'percent', 'lovers', 'positive', 'here.pls', 'mt', 'fals', '.........', 'wenever', 'life', '50s', 'baller', 'welcomes', '150ppermesssubscription', 'brilliantly', 'y.', '400', 'story', 'del', 'toshiba', 'colleg', 'lov', 'wihtuot', '85222', 'sign', 'kavalan', 'last', 'qatar', '6months', 'cooked', '87070', 'whassup', 'mentionned', 'costs', 'styling', 'lccltd', 'yourself', '08712103738', 'saristar', 'madam', 'fri.', 'disclose', 'n-oble', 'timings', 'genuine', 'ass', 'wear', '82242', 'efreefone', 'recent', 'ta-daaaaa', 'cricket', 'congrats', 'hair', 'freemsg', 'moseley', 'gam', 'collapsed', 'nokia6650', 'u.call', 'ee', '2stoptxt', 'competition', 'unmits', 'instantly', 'ordered', 'appendix', 'limited', 'it\\x92s', '09066361921', 'shut', 'favorite', '2marrow', 'winnersclub', 'working', 'british', 'public', 'protect', 'ground.amla', 'max10mins', 'www.idew.com', 'souveniers', 'tightly', 'hardest', 'jersey', 'truck', 'only.don', 'garbage', 'xxxxx', 'loo', 'inc', 'absence', 'driving', 'sitll', 'jsco', 'jordan', 'celebrated', 'independence', 'theacusations', 'nights', 'promptly', 'wheel', 'babygoodbye', 'losing', 'velachery', 'youphone', '15:26', '£1.50perwksub', 'nt', 'graphics', 'worse', 'yaxxx', 'sashimi', '25p', 'swell', 'cool', 'has', 'download', 'administrator', 'ma', 'attributed', 'videos', '8-8:30', 'leonardo', 'ffffffffff', '//img', '09050005321', '09096102316', 'freek', 'brilliant', 'selflessness', 'october', 'wuld', '3qxj9', 'sex', 'neglet', 'piss', '3230', '4.cook', 'sun', 'scammers', 'mus', 'double-faggot', 'deliveredtomorrow', 'wannatell', 'nails', 'clothes', 'vale', 'warning', 'oncall', 'shorter', 'bar', 'ertini', 'payoh', '09050000555.', '08718725756', 'occupy', 'large', 'tho-', 'jack', 'paying', 'wise', 'coach', 'opposite', \"tm'ing\", 'nhs', '.very', '0578', 'amigos', '16+only', 'beads', 'cst', 'unredeemed', 'gibe', 'selection', 'aproach', 'messed', 'jerry', 'touched', 'kama', 'fuelled', 'switch', 'lautech', '%', 'www.areyouunique.co.uk', 'behind', 'apeshit', 'spoilt', 'g2', 'whereare', 'top', 'memorable', '88877', 'fastest', 'la3', 'awkward', '5.15pm', '4.', 'wot', 'mailed', 'stewartsize', '0789xxxxxxx', 'purchase', 'moon', 'one', 'wednesday', 'plyr', 'unsubscribe', 'txtno', 'jada', 'promised', 'dwn', 'unintentionally', 'contention', 'addicted', 'despite', 'compass', 'win150ppmx3age16', 'starwars3', 'dancing', 'weds', 'cr9', 'pain', 'presleys', 'fumbling', 'mine', 'vettam', 'rounds', 'deliver', 'able', 'secrets', 'help:08712400602450p', 'kr', 'checkboxes', 'de.am', 'missing', 'each', 'storming', 'cochin', '2optout/d3wv', 'skills', 'wishlist', 'yelling', 'waqt', 'favour', '4217', 'adress', 'varma', 'ugh', 'secret', '087123002209am-7pm', '24hrs', 'gpu', 'victors', 'that\\x92scool', 'browser', \"'help\", 'ads', 'walmart', 'comin', 'bleak', 'regarding', 'happen', 'post', 'problem', 'wasting', 'reveal', 'crammed', 'misundrstud', 'predict', 'often', 'lambda', 'loans', '645', 'reading', 'questioned', 'elaya', 'burn', '2mwen', 'readiness', 'sharing', '09064011000.', 'vpod', 'mark', 'cheered', 'lasagna', 'gaps', 'naughty', 'practising', 'lv', 'pataistha', 'player.why', 'ikno', 'problematic', 'hg/suite342/2lands/row/w1j6hl', 'mega', 'ahead', 'us', 'ooh', 'cartoon', 'take', 'oooh', 'bot', 'religiously', 'doubt', 'luv', 'bt', '4goten', 'costing', '087018728737', 'house', 'sabarish', '2go.did', '40gb', 'ym', 'sol', 'n=qjkgighjjgcbl', 'allowed', 'thanksgiving', 'minapn', 'jontin', '087104711148', 'ibhltd', 'placed', 'essay', 'gang', 'subscrition', 'amk', 'cloud', 'renewing', '600', 'settling', 'handing', 'box1146', 'mgs', 'si', '09065174042.', 'semester', 'manchester', 'starve', 'paragraphs', 'mths', 'game', 'remember', 'tears', 'ltdhelpdesk', 'ages', 'colourful', 'prior', '0207', 'cnl', 'bill', 'shop', 'ill', 'diff', '89034', 'itwhichturnedinto', 'code:4xx26', 'lionp', 'add', 'm95', 'swap', 'personality', 's89', 'amplikater', 'aunts', 'twittering', 'vip', 'sirji.i', 'breeze', 'outages', '09058095201', 'afghanistan', 'scouse', 'notebook', 'adding', 'seperated', 'cw25wx', 'definite', 'beg', 'aretaking', 'fightng', 'ambrith', 'travelled', 'admission', 'champlaxigating', 'billy', 'happily', 'skyving', 'webpage', 'eckankar', 'wahay', 'befor', 'kano.', 'algorithms', 'tacos', 'matric', '\\x91morrow', 'ctter', 'iz', 'edison', 'dream', 'sept.', '69988', 'successfully', 'active', 'aburo', 'address.u', 'bookedthe', '08000839402', 'size', 'batch', 'delivered', 'smokin', 'shes', 'delivery', 'comp', 'anyplaces', 'degrees', 'sausage', 'jade', 'aig', 'gentleman', '7:30', 'apology', 'treasure', 'dimension', 'konw', 'gimmi', '2nights', '09061743810', 'cancer', 'korli', 'husband', 'gbp/sms', 'lotta', 'youre', 'ahmad', 'nag', 'dramastorm', 'wrk', '8am', 'www.100percent-real.com', '861', 'connection', 'stressful', 'must', 'x', 'slowing', 'nobbing', 'athletic', 'itself', 'a£1.50', 'cause', 'sore', 'postcode', 'magic', 'bathing', 'profile', 'answr', 'frankie', 'lennon', 'passion', '£71', 'by', 'annoncement', 'possibly', 'nosh', 'millers', 'loads', 'dude', 'drunkard', 'marry', 'psxtra', 'couch', 'avent', 'blankets', '13/4/04', 'doke', 'beach', 'vehicle', 'cinema', 'fuck', 'onlyfound', '£6', 'endof', '4w', 'pending', 'shorts', 'kid', 'everywhere', '2309', 'finished', 'lnly', 'p.s', 'reference', '£125', 'crave', 'trade', 'madurai', 'charged', 'lovejen', 'teachers', 'clean', 'misbehaved', 'door', 'adventuring', 'george', '1131', 'iraq', '29/03/05', 'mcat', 'teenager', 'vco', 'k', 'iq', 'sis', 'lane', 'flowers', 'cancelled', 'unconditionally', 'dogging', 'desert', '2ez', '1956669', 'conserve', 'fruit', 'i\\x92d', 'ruin', 'motorola', 'sports', 'falls', 'csh11', 'innings', 'unsecured', 'barcelona', 'arngd', 'hit', 'l-oveable', 'rummer', 'kay', '8', '5+-', 'darkest', 'dlf', '140', 'shaved', 'happiness', '-d', 'mk45', 'broken', 'f=', 'iron', 'kanji', 'brain', 'excuses', 'temales', 'then', 'journey', 'asleep', '2i', 'apes', 'appointment', 'newquay-send', 'cysts', 'havent', 'personally', 'uncut', 'howdy', 'soundtrack', 'election', 'prolly', 'ryder', 'sinco', 'natural', 'needed.salary', 'voicemail', 'alwa', 'wiv', 'cleared', 'http//tms', 'stock', 'pendent', 'jjc', 'box434sk38wp150ppm18+', 'aberdeen', 'sensible', 'drms', 'yijue', 'amongst', 'kalstiya', 'random', '1843.', 'admirer', 'calls£1/minmoremobsemspobox45po139wa', 'emergency', 'manual', 'resolved', 'assume', 'this', 'senthil.hsbc', 'treated', 'canal', 'computer', 'better', 'dane', 'in', '36504', 'swoop', 'toppoly', 'nora', 'sall', 'appropriate', '09111030116.', 'bob', 'store.like', 'sway', 'spile', 'keypad', 'minecraft', 'tke', 'look', 'msg', 'copy', 'icon', 'nigeria', 'advisors', 'pc', 'training', 'planned', 'os', 'vibrator', '95/pax', 'verify', 'me.she', 'mouse', 'toss', 'asda', 'umma', 'blown', 'camcorder', 'downs', 'chess', '4years', 'mom', 'sleep', 'books', 'craziest', 'aptitude', 'asked', 'deals', 'emigrated', 'java', 'fromm', 'paragon', '10:10', 'mk17', '83222', 'senses.respect', 'cant', 'drizzling', 'beyond', 'ref', 'ericson', 'almost', 'o.', 'bimbo', 'jackson', 'didn\\x92t', 'membership', 'natwest', 'package', 'knickers', 'ignorant', 'wasn\\x92t', 'charlie', 'mw', \"'married\", 've', '864233', 'on-edge', 'er', 'toaday', 'fox', 'nt.swt', '10ppm', '08712300220', 'angry', 'nothing', 'giv', 'payments', 'while', 'difference', 'mad.then', 'regard', 'panther', 'polys', 'end', 'rd', 'image', 'smokes', 'picked', 'swatch', 'also', 'error', '£1.50perweeksub', '1-u', 'foot', 'cutefrnd', 'slowly', '£1000', 'own', 'condition', 'croydon', '‘', 'flea', 'payed', 'official', 'dictionary', 'ad', 'temper', '2wt', '7th', 'figuring', 'jaklin', 'special-call', 'dino', '08717898035', 'lays', 'england', 'tool', 'crab', '/7', 'secretly', 'flame', 'http//www.gr8prizes.com', 'ntwk', 'commit', 'stereophonics', 'national', 'gdeve', 'babe.sozi', 'mall', 'ink', 'html', 'hack', 'callback', 'filthy', 'juan', 'fell', 'sigh', '10am-9pm', 'blimey', 'elvis', 'balls', 'erotic', 'strt', 'prices', 'mittelschmertz', '300603t', 'weekends', 'prasad', 'mental', 'is-', 'janarige', 'voice', 'sold', 'macleran', 'peoples', 'korte', 'ploughing', 'urgh', 'eh74rr', 'weirdest', 'modl', 'acid', 'level', 'e.', 'east', 'vasai', 'boyf', 'lush', 'remixed', 'lock', 'truth', 'father', 'alive', 'stupid.its', 'outta', 'tallahassee', 'anthony', 'social', '2go', 'makes', 'pobox114/14tcr/w1', 'piah', 'pobox12n146tf150p', 'juz', 'bundle', 'cro1327', 'charts', 'adult', 'em', '27/6/03', 'deep', 'shower', 'gotany', 'oblisingately', 'ran', 'dolls', 'luckily', 'ymca', 'surf', 'punish', 'doubles', '6days', 'countinlots', 'dined', 'dine', 'batt', 'among', '£1.50pmmorefrommobile2bremoved-mobypobox734ls27yf', 'dokey', 'equally', 'returns', 'resizing', 'images', 'left', 'yorge', 'occasion', 'sef', 'appt', '09065069154', 'wife.how', 'murderer', 'secs', 'it.', 'youuuuu', 'store', 'ar', 'sc', 'lapdancer', 'moving', '67441233', 'lipo', 'inner', 'miserable', 'rows', 'taste', 'deluxe', \"'anything\", 'friday.hope', 'concentrating', 'starts', 'software', 'shopping', 'eerulli', 'urn', 'actin', '7876150ppm', 'woould', 'bluetooth', 'withdraw', 'argument', 'phil', 'hello-ed', 'sun0819', 'lesson', '08452810075over18', 'poop', 'loveme', 'r836', 'website', 'searching', 'que', 'alaipayuthe', 'fret', 'disconnect', 'fran', 'system', '//gotbabes.co.uk', 'é', 'ls1', 'mobsi.com', 'spose', 'course', 'payback', '09066362220', '.irritating', 'call09050000327', 'minuts', 'plumbers', '83738.', 'differ.be', 'wen', 'clover', 'lvblefrnd', 'lect', 'en', 'today-sunday', 'hotmix', 'goals/team', '3030.', 'receipts', 'chart', 'sponsors', 'tihs', 'unknown', 'feng', 'cha', 'sib', 'e-ternal', '09061104283', 'mtnl', 'portal', 'cd', 'loose', 'bb', 'since', 'sky', 'lkpobox177hp51fl', 'block', 'advising', 'me.', 'cook', 'carpark', 'jolt', 'login=', 'memories', 'cornwall', '£50', 'trip', 'coupla', 'mp3', 'felt', 'evry', 'oyster', 'yep', 'slovely', 'callcost', 'prizeswith', '9am', 'position', 'caps', 'improve', 'intention', 'return', '150ppm', 'teach', 'fgkslpopw', 'apnt', 'available.they', 'bettersn', 'chapel', 'said', 'borin', 'sized', 'splashmobile', 'drms.take', 'country', 'b4', 'applebees', 'sariyag', 'apps', 'welp', 'fat', 'eldest', 'sale', 'beehoon', 'hoo', 'se', 'boston', 'panasonic', 'alertfrom', 'ahold', 'no-434', '3100', 'slap', 'lotsof', 'feathery', 'tell', 'visitors', 'emily', 'inst', 'dumb', 'dads', 'age23', 'pose', 'twelve', 'mutai', 'kappa', 'milk', 'reminder', 'll', 'alternative.hope', 'brighten', 'dessert', 'spend', 'womdarfull', 'present', 'entry', 'haf', '12,000pes', 'normally', '0825', 'wondar', 'flavour', 'formatting', 'every', 'mobno', 'swing', 'mnths', 'hp20', 'yoville', 'illspeak', 'matrix3', 'royal', 'depends', 'pobox75ldns7', 'swat', 'brownies', 'sunday', 'factory', '89938', 'elaine', 'students', 'restock', 'mila', 'missunderstding', '09053750005', 'renewal', 'leh', 'lotr', 'heater', '08702490080', 'answering', 'conacted', 'confirm/deny', 'dorothy', 'armand', '88088', 'hearing', 'raised', 'landline', 'studdying', 'specialise', 'pin', 'sometimes', 'comment', 'flung', '02073162414', 'harri', 'bbd', 'court', 'howda', 'papers', 'depression', 'wondering', 'wa14', 'peak', 'l8er', 'needa', 'tel', 'just', 'jungle', 'gray', 'shoot', 'bus', 'postal', 'bold', 'jam', 'yaxx', 'easter', 'good', 'evn', 'explain', '6hl', 'unnecessarily', 'nottingham', 'coin', 'nagar', 'babyjontet', 'gotten', 'resuming', 'bills', 'skinny', 'u.so', 'dey.i', 'signin', 'theirs', 'literally', 'hooch', 'wld', 'disappointment', 'not', '08717890890£1.50', 'terms', 'forth', '1-month', 'suffer', 'sweatter', 'sucks', 'ah.the', 'geeeee', 'praying', '7732584351', 'language', 'analysis', 'cheat', '09061743811', 'answerin', 'travel', '2-4-1', 'ummmmmaah', 'directly', 'received', 'stoners', 'calls1.50ppm', 'patrick', 'cocksuckers', 'excellent', 'wright', 'txtx', 'tix', 'care.insha', 'ps3', 'thinl', 'drop', 'pounded', '4742', 'scarcasim', '08708034412', 'ah', 'melody', 'notifications', 'magicalsongs.blogspot.com', 'hello.how', 'www.txt82228.com', 'upon', 'mee', 'hopes', 'vilikkam', 'tsandcs', 'fantastic', 'hint', 'musthu', 'nurses', '-sub', 'youi', 'ben', 'everytime', '8-hr', '6missed', 'jamster', 'simonwatson5120', 'goss', 'snatch', 'enjoying', '&', 'toclaim', 'raj', 'handed', 'b\\x92day', 'rupaul', 'hospital', 'once', 'emerging', 'posible', 'park', '0721072', 'e.g.23f', 'getiing', 'anythingtomorrow', 'scotland', 'gravel', '2hrs', 'grumpy', '4thnov.behind', 'pt2', 'hoped', 'farrell', 'everyones', 'no-165', 'cds', 'ffffuuuuuuu', '12hrs', 'cardiff', '08448350055', 'venugopal', 'id=820554ad0a1705572711', 'oli', 'laugh', 'gotto', '47', 'activities', 'characters', 'olave', '28thfeb.t', 'okday', 'evaporated', 'ear', ',s', 'xin', 's.s', 'rg21', 'gon', 'mone', 'hmph', 'toledo', 'compare', 'sleepy', 'sipix', 'karo', '0870', 'itxt', 'asks', 'serena', 'ny', 'tuition', 'custcare', 'together', '£400', 'confused', 'finally', 'travelling', '£5/month', '?', 'distance', 'catch', 'accident', 'desires-', 'aeroplane', 'fifth', 'wasted', 'easiest', 'honi', '145', 'semi', 'pop', 'mistake', '2.im', 'vargu', 'matthew', 'individual', 'irene.ere', 'tackle', 'dream.love', 'ooooooh', 'millions', 'forever', 'syria', 'tea', 'moms', 'sday', 'x2', 'diet', 'thepub', 'torture', 'nooooooo', 'acting', 'openin', 'www.sms.ac/u/hmmross', 'mycalls', 'samachara', 'el', 'adoring', 'k.k', 'a-', 'ears', 'wating', 'polo', 'doubletxt', 're-send', 'dot', '9061100010', 'mag', 'supervisor', 'mmmmm', 'cardin', 'tm', 'k52', 'either', 'particular', 'saibaba', '0808', '169', 'ah.now', 'dena', 'vegas', 'sweetie', 'fever', 'gymnastics', 'nasdaq', 'pierre', 'tick', 'argue', 'subscribers', 'blake', 'barmed', 'pleassssssseeeeee', 'station', 'guai', 'wit', 'thanks2', 'pre-book', 'newscaster', 'noun', 'directors', 'weakness', 'reapply', 'wherre', 'indicate', 'kindly', 'keys', 'tul', '9am-11pm', 'december', 'result', 'oyea', 'replys150', 'asthma', 'slide', '2morrow', '83383', 'vid', 'khelate', 'log', '0871-4719-523', 'installation', 'action', 'that.dont', 'franxx', 'smiley', '300p', '1.childish', 'fantasies', 'houseful', 'me.remove', '3680', 'cheesy', 'sales/pee', 'blessed', 'stapati', 'doggin', 'twins', 'appear', 'yards', 'vodafone', 'smartcall', '4.rowdy', 'chinchillas', 'sry', 'unbreakable', 'pound', 'length', 'yifeng', 'lunchtime', 'paranoid', 'zogtorius', '82468', 'mates', 'dreamz', '28days', 'downloads', 'investigate', 'wait', 'drops', 'shouldn', 'g696ga', 'mufti', 'lucky', 'posting', 'today.do', 'kodthini', 'yar', 'animation', 'reception', 'e£nd', 'tues', '32/f', 'argh', 'tv/', 'dancce', 'unconvinced', 'tue', 'urgently', '2p', '09058097218', 'removed', 'guides', 'landmark', 'frmcloud', 'fromwrk', 'comprehensive', 'dialling', 'avalarr', 'skillgame', 'saucy', 'racal', '84128', 'gamestar', '116', 'plus', '8027', '80', 'vinobanagar', 'growing', 'affairs', 'luck', 'strong', 'cheer', 'evone', 'phony', 'recognise', '0871-872-9758', 'affections', 'evr', 'marrge', '09071517866', 'cutie', 'poet', 'embarrassed', 'rush', 'textpod', 'islands', 'violated', 'dough', '48922', 'minor', 'safe', 'timin', 'billing', 'nahi', 'arts', 'gap', 'b4u', 'pansy', '18p/txt', 'speed', 'include', 'lastest', 'nelson', 'shit.justfound', 'breath', 'bennys', '8.neighbour', 'sumfing', 'bed', '7pm', 'knackered', 'gynae', 'now.i', 'anot', 'lac', 'uniform', 'yetunde', 'tyler', 'coimbatore', 'success', 'polyc', 'yeovil', 'creepy', 'hun-onbus', 'reply.be', 'ure', 'missin', 'tellmiss', 'habba', 'tot', '0871212025016', '22', 'mobilesdirect', 'slowly.', 'doors', 'exhausted', 'loyalty', 'carlie', 'immediately', '…thanks', '1146', 'wishes', 'attention', 'gal-can', 'fones', 'ivatte', 'amused', 'cc', '542', '09066362231', 'prem', 'frontierville', 'bud', 'twice-', 'egg', 'wed', 'contents', 'padhe.g.m', 'fast.pls', 'swann', '74355', 'tscs', 'tobacco', 'happiest', 'you.thats', 'ranju', 'american', '4txt/120p', 'joke', 'i\\x92llspeak', 'p£3.99', 'insects', 'accounting', 'remind', 'currently', 'asian', 'drugs', 'locations', 'control', 'stockport', 'tongued', 'indian', 'sticky', 'can.dont', 'jesus', 'havin', 'fixes', 'biola', 'different', 'bettr', 'invest', 'getting', 'lover', 'skillgame,1winaweek', 'spider', 'gek1510', 'bought\\x94braindance\\x94a', 'behalf', 'destiny', 'kiosk', '140ppm', 'www.80488.biz', 'dats', 'neo69', 'prepayment', 'bellearlier', 'upgrdcentre', 'crack', 'obese', 'job', 'agree', 'aaooooright', 'sth', 'format', 'yo-here', 'amrca', 'prayrs', 'glass', 'm8s', 'occur', 'need', '1120', 'bakrid', '02072069400.', 'domain', 'stadium', 'week.|', 'bone', 'sane', '88800', 'dizzee', 'library', 'mid', 'sections', '09050000301', '+£400', 'aslamalaikkum', 'taxes', 'hits', 're-met', 'update', 'fight', 'honest', 'resolution', 'try', 'sindu', 'opponenter', 'disappeared', 'frndsship', 'dnt', 'unfortuntly', 'shah', 'kfc', 'place.no', '7.30', 'lodge', 'unbelievable', 'continue', 'reset', 'staying', 'grinder', 'regretted', 'call2optout/674', 'jide', '3.sentiment', '18+6', 'yes.mum', 'box61', 'cab', 'purse', 'nobody', 'emailed', '£250', 'mitsake', 'prashanthettan', 'reache', 'rob', 'lengths', 'zhong', 'foreign', 'fights', 'url', 'problems', 'prospects', 'wrote', 'can', 'phrase', 'plm', 'e.g', 'aeronautics', 'per', '69855', 'unconscious', 'portege', 'nevamind', 'sugababes', 'pool', 'freephone', 'hollalater', 'tscs08714740323', 'ha', 'using', '08715203694', 'dysentry', 'replacing', 'badass', 'wa', 'property', 'fucks', 'sofa', 'macha', 'thinkin', 'model', 'hill', 'txting', 'remembr', 'hdd', 'nature', 'expert', 'tkts', 'missy', 'kaila', 'edukkukayee', '448712404000', 'throwin', 'vote', 'f', 'nvq', 'eveb-', 'sumthin', 'id.convey', 'ham', 'rinu', 'significant', 'julianaland', 'arguing', 'purchases', 'sum', 'load', 'woul', 'most', 'forward', 'urmom.i', 'wales', 'june', 'convince', 'tunji', 'minded', 'uup', 'surrounded', 'blame', \"did'nt\", 'refreshed', 'genes', 'zindgi', 'foward', 'italian', 'double', 'disconnected', 'north', 'nan', 'audiitions', 'unlimited', 'chapter', 'number-so', 'le', 'sayin', 'inconvenience', 'returning', 'uk-mobile-date', 'hun', 'nigro', 'attach', '0870141701216+', 'fusion', 'chinese', 'loyal', 'sheets', 'newspapers', '2optout', 'credits', '150', \"'its\", 'e-mail', 'future', 'rajitha', 'rply', 'csbcm4235wc1n3xx', 'verifying', 'pmt', 'traveling', 'bull', 'dusk', '-the', 'wetherspoons', 'auntie', 't', 'gailxx', 'collecting', 'cl', 'cash-balance', 'beside', 'chop', 'nokia/150p', 'dontcha', 'scoring', '鈥┾', 'terminated.we', '2yrs', 'btwn', 'september', 'practicing', 'ritten', 'bomb', 'lool', 'q', '1.u', 'bullshit', 'sian', 'yupz', 'gym', 'xxxx', 'correct', 'mandy', 'weeks', 'everybody', '7am', 'boring', 'uawake', 'mobile', \"i'ma\", 'tiring', 'masked', 'employee', 'fowler', 'depressed', 'seeing', 'limiting', 'delhi', 'sink', 'pocy', 'argentina', 'pai', 'obviously', 'beautiful', 'videosound', 'haul', 'shop.we', 'pity', 'facebook', 'poly3', 'decking', 'dartboard', 'born.please', 'jeremiah', 'sensitive', 'smidgin', 'sachin', 'yourinclusive', 'orc', 'randomly', 'feed', 'frnd', 'distract', 'pockets', 'convenience', '08718738001', '250', 'syrup', 'sitter', 'thx', 'vouchers-text', 'hell', 'your', 'information', 'disturbing', 'status', 'calling.forgot', \"don't4get2text\", 'waste', 'pobox365o4w45wq', 'tooo', 'half', 'blow', 'weird', 'dob', 'shant', '£1500', 'impressively', 'qi', 'planning', 'miwa', 'peaceful', '*', 'had', 'turned', '6-ramaduth', '0125698789', 'obey', 'ibm', 'marandratha', 'packs', 'ths', 'ful', 'watches', 'flippin', 'professors', 'loan', 'world', '2.', 'w8in', 'built', 'ctargg', 'noworriesloans.com', 'site', 'rpl', 'ayo', 'pray', 'stand', 'ew', 'should', 'graduated', 'wewa', 'run', 'dreams', 'whom', 'rite', 'update_now', '449050000301', 'squid', 'aftr', 'hail', '077xxx', 'select', 'radiator', 'buen', '32000', 'nutter', 'delete', 'bowls', 'barbie', 'caring', 'membership.take', 'scream', 'suffering', '08701752560', '8wp', 'crashing', 'turn', 'vava', 'sympathetic', 'poorly', 'stranger', \"did't\", 'humanities', 'heat', 'callers', 'bhayandar', 'xmas', '08719839835.', 'justbeen', 'servs', 'gibbs', '4041', 'lesser', 'okmail', '//www.urawinner.com', 'everythin', 'heading', 'car', 'danger', 'shelf', 'bangb', 'banks', 'if/when/how', 'bucks', 'gift', 'camp', 'galileo', 'portions', 'ate', 'box326', 'case', 'suggestions', 'saturday', '0800', 'news.by', 'texting', 'texts/weekend', 'hug', 'row/w1j6hl', 'there', 'value', '07808247860', 'str', 'boltblue', 'grinule', 'eatin', 'there.goodnight', 'hoops', \"'xam\", 'varaya', 'nalli', 'chuck', 'meh', 'confirmed', 'howz', 'vijay', 'seeking', 'smarter', 'haha', 'alcohol', '2moro', '7.30ish', 'those', '20', 'childrens', 'anti', 'posted', 'spiffing', 'pub/cafe', 'stomps', 'walked', '09050001295', 'lady', 'server', 'unhappiness', 'limping', 'complimentary', 'closed', 'convincing', 'being', 'pump', 'bluetoothhdset', 'common', 'hitler', 'feel', 'mum', 'kintu', 'workin', 'sory', 'effects', 'hot', 'technical', 'guaranteed', 'nah', 'wo', 'stopcs', 'bian', 'as', 'swashbuckling', '09064012103', 'considering', 'fresh', 'seemed', 'shiny', '087147123779am-7pm', '08712402972', 'mm', '09066358152', 'arrange', '=d', 'frndz', 'herself', 'accomodations', 'nvm', 'witot', 'walkin', 'specs', '1lemon/day=no', '-|', 'smashed', 'participate', 'here', 'mind', 'river', 'life.and', 'came', 'seventeen', 'dha', '12hours', '=/', 'prepare', 'kisi', 'wml', '545', 'lager', 'vegetables', \"'s\", 'www.ldew.com', 'funs', 'wud', 'aid', 'speechless', 'wow', 'somewheresomeone', 'january', 'everyone', 'pattern', '09058094454', '83370.', 'www.cnupdates.com/newsletter', 'inconsiderate', 'bsn', 'rct', 'calls£1/minmobsmore', '09065394514', 'terrible', 'hai', '530', 'stocked', 'settings', 'dismissial', 'hoody', 'gr8fun', 'learn', 'dont', 'freeentry', 'running.lets', '84122', 'lionm', 'o=44345', 'gv', 'wherevr', 'mobilesvary', 'abel', '06/11/04', 'explicitly', 'footprints', 'various', 'tcs', 'xavier', 'before.went', 'bangbabes', 'unfortunately', 'priest', 'applyed', 'method', 'direct', 'eve', '9996.', 'call.drove', 'bless', '200', 'noon', 'logoff', 'necklace', '87575.', 'naked', 'destination', 'pod', 'gsoh', 'checked', 'slo', '5+3+2=', 'practical', 'fixd', 'province', 'happening', 't91', 'petrol', 'tonite', 'help08714742804', 'persian', 'laptop', 'www.sms.ac/u/goldviking', '09050280520', 'picture', 'wonderful', 'assistance', 'm8', 'lage', 'skirt', 'sos', 'pleasant', 'saved', '09061701851.', 'entrepreneurs', 'win', 'lucyxx', 'textbook', 'tantrum', 'bring', 'requires', 'expect', 'ebay', 'canary', 'space', 'egg-potato', 'motor', 'cld', 'ec2a', 'mofo', 'bowa', 'txt250.com', 'four', 'sent', 'soonlots', '…', 'satthen', 'attended', 'sem', 'warwick', 'evey', 'arcade', '700', 'joking.', 'we\\x92ve', 'ore', 'prakasam', 'psychic', 'e', '09094100151', 'nd', 'hor', 'ias', 'err', 'abta', 'chosen', 'beth', 'formally.pls', 'rolled', 'iscoming', 'kolathupalayam', 'wee', 'fringe', 'threats', 'salon', 'too.pray', 'tim', 'hlp', 'deeraj', 'faded', 'raksha', '85555', 'dip', '2exit', 'gt', 'white', 'iff', 'snoring.they', 'leadership', 'shldxxxx', 'camera/video', 'exact', 'garments', 'puttin', 'want2come', 'luvd', 'yi', 'program', 'adrink', 'pobox36504w45wq', 'www.ringtones.co.uk', 'heap', 'recognises', 'exmpel', 'conform', 'ubandu', 'lot.will', 'takes', 'yest', 'cookies', '130.', 'fri', 'forced', 'name.my', 'terrific', 'w1a', '1000s', 'hypertension', 'ringtoneking.co.uk', 'news', 'datebox1282essexcm61xn', 'lovin', ')', 'wedding', 'vill', '2day.love', 'sayy', '3aj', 'unintentional', 'propose', 'dps', 'categories', 'granite', 'weirdy', '7250', 'annoyin', 'non', 'united', 'no', 'individual.time', 'tsunami', 'sup', 'edward', 'nick', 'devils', 'oxygen', 'enna', 'stress', 'karaoke', 'albi', 'checkmate', 'without', 'speling', '24', 'message', 'everything', 'to', 'peril', 'irritated', 'barely', 'feb', 'oso', '7zs', 'hold', 'tones', 'files', '£5000.00', 'transcribing', 'guessing', 'ok.', 'getzed.co.uk', 'dawns', 'sportsx', 'til', 'wisdom', 'glands', 'bedrm-', '09050003091', 'wuldnt', '07099833605', 'bites', 'sick', 'dizzamn', 'rough', 'quiz.win', 'intro', 'arrived', 'porn', 'accumulation', 'morefrmmob', '526', 'avenge', 'provided', 'zealand', '>', 'venaam', 'no:83355', 'pobox334', 'bye', 'ac/w/icmb3cktz8r7', 'note', 'yet', 'stressfull', 'theory', 'fireplace', 'abnormally', 'hide', 'dear.take', 'peace', 'lodging', '08718726970', 'massages', 'smoked', 'gim', 'katexxx', 'maintain', '84199', 'reserve', 'xxxxxx', 'sept', '09061790125', 'seeds', 'brison', 'weaknesses', 'pretsovru', 'art', 'crying', 'ummifying', 'jez', '09061743806', 'prefer', 'island', 'frosty', 'wisheds', 'shining', 'location', '02/06/03', 'attached', '2814032', 'tag', 'reduce', 'gifted', 'month.not', 'alter', 'crucify', 'pleasured', '4', \"s'fine\", 'footie', 'baby', 'smear', 'budget', 'aunty', 'lou', 'ended', '3000', 'dabbles', '630', 'ummma.will', 'dvg', 'doll', 'faith', 'organizer', 'heaven', 'nte', 'outl8r', 'first=true18:0430-jul-05', '/oz', 'bognor', 'pass', 'colin', 'panties', 'ollu.but', '£10,000', 'offline', 'lovely', 'hhahhaahahah', 'http', 'newest', 'electricity', 'splat', 'speciale', 'hanks', 'styles', '09066649731from', 'studio', 'posts', 'dropped', 'lololo', 'buz', 'fml', 'woke', 'laden', 'days.he', 'il', 'balloon', 'laundry', 'jp', 'tips', '20m12aq', '09065171142-stopsms-08718727870150ppm', 't-ruthful', 'complaint', 'winner', 'rcb.battle', 'don', 'usb', 'fills', 'westlife', 'brought', 'prize.to', 'kip', 'chad', 'at/your', 'neighbors', 'daytime', 'you\\x92re', '83435.', 'mah', 'loneliness', 'thinked', 'gays', 'tonite.busy', 'fwiw', 'tomo', 'popping', '5we', 'dress', 'girlie', '£900', 'savamob', 'referin', 'specify', 'innu', 'callon', 'bought', 'western', 'quizclub', 'force', 'inde', 'headset', 'jealous', 'caveboy', 'ese', 'house-maid', 'sip', 'crossing', 'canada', '087187272008', 'parent', 'gate', 'eventually', '02', 'yun', 'raed', 'dunno', 'swhrt', '80122300p/wk', '150p/sms', '8.attractive', 'pulling', 'right', 'breaker', 'cake', 'giggle', 'relax', 'toyota', 'conclusion', 'hg/suite342/2lands', 'chgs', 'yummy', 'wahleykkum.sharing', '--', 'nannys', 'perspective', '09050002311', 'arise', '09095350301', 'cheyyamo', 'golddigger', 'jurong', '5wb', 'explicit', '.so', 'pause', '2.15', '402', 'brdget', '.by', 'enjoyin', 'shoving', 'steve', 'reunion', '09061701939.', 'damn', 'i\\x92ve', 'meal', 'dl', 'farting', 'buses', 'adjustable', 'phews', 'shite', 'could', 'share', '7.8p/min', 'supply', 'fink', '83021.', 'pobox12n146tf15', 'rstm', 'bottle', 'premier', 'preponed', '2007', '42478', '8883', 'its', 'calicut', 'giving', 'studyn', 'bite', 'smsservices', 'cup', 'eviction', 'forgt', 'gone', 'eruku', 'host-based', 'superior', 'liquor', 'upcharge', 'bx420-ip4-5we', 'didn', 'true', 'eerie', 'xclusive', 'dept', 'yours', '83332.please', 'coccooning', 'weasels', 'light', 'transfer', 'anjola', 'agents', 'enc', 'discussed', 'imat', 'wins', 'subject', 'ak', 'row/w1jhl', 'agency', '07786200117', 'explosive', '86021', 'from', 'villa', 'liking.be', 'never', 'fund', 'ntt', 'hes', 'rt-king', '09099726481', '.joker', 'bt-national-rate', 'rwm', 'exposed', 'now.onion', 'butt', 'clas', 'duvet', 'syllabus', 'prabu', 'pics', 'likes', 'rest', 'renting', 'bigger', 'fill', 'brisk', 'bmw', '£s', 'easier', 'ron', 'joking', 'boggy', 'flowing', '£3', 'wc1n3xx', 'sister', '2.30ish', '83600', '1/08/03', '6.45pm', 'spelling', 'studying', 'loooooool', 'african', 'diwali', '8714714', 'attempt', 'bcum', 'emotion', 'lonlines', '08717895698', 'failed', '07808726822', 'remembrs', 'epi', '08718720201', 'das', 'monkey', '09099726395', 'waheed', 'ofsi', 'opinion', 'bailiff', 'goverment', '87121', 'suffers', '5.00', 'checkup', 'comfey', 'randomlly', 'stops', 'ringtones', 'ph', 'read', '£1250', 'landing', '08708800282', 'ends', 'ie', 'exterminator', '81618-', 'perpetual', 'mc', 'm39m51', 'becz', 'irulinae', 'gender', 'awarded', 'cloth', '21st', 'specific', 'pap', 'user', 'crucial', 'free-nokia', 'boys', 'overheating', 'functions', 'dinner', 'cards', '78', 'ugadi', 'disasters', 'failing', 'accept', 'believe', 'gained', 'brum', 'notice', 'due', 'receipt', '150p/meg', 'customers', 'invaders', 'dudette', 'dog', '310303.', 's.i', 'park.6ph', 'leave', 'values', 'sends', 'prescription', 'yah', 'wrld', 'keep-in-touch', '87021', 'ihave', 'configure', 'misfits', 'apologise', 'ref:9280114', 'submitting', 'hurried', 'wenwecan', 'praises', 'c52', 'lifpartnr', '07xxxxxxxxx', 'constantly', 'pee', 'costumes', 'smash', 'kadeem', 'booty', '2px', 'idc', 'escape', 'promises', 'je', 'puts', 'd=', 'watever', 'dasara', 'xoxo', 'dhina', 'tensed', 'coming', 'finance', 'morphine', 'manageable', 'away', 'slob-', 'exe', 'www.txttowin.co.uk', 'comes', 'spacebucks', '391784.', 'tlk', 'probably', 'meals', 'athome', 'new', 'basic', 'sexy', 'surfing', 'chillaxin', '2667', 'always', '3uz', 'compromised', 'plenty', 'her.love', 'forums', 'types', 'misscall', 'nimya', 'road', 'yalrigu', 'lindsay', 'or', 'eyes', 'thrown', 'writhing', 'backdoor', 'time', 'snap', 'atten', 'samus', 'bambling', 'wasnt', 'trav', 'help:08700469649.', 'there.xx', 'now', 'gr8', 'goodies', 'jewelry', 'wesleys', 'manda', 'trainners', 'recycling', 'hv', 'stunning', 'days.will', 'ringtone', '9153.', 'chile', 'thinkthis', 'worth', 'outside', 'age16.150ppermesssubscription', 'wap', '07808', 'ukp', 'slightly', 'ts', 'decision', 'telphone', '27/03', 'apologetic', 'falconerf', 'lavender', 'discount', 'visa', 'expensive', 'usc', 'dungerees', 'whole', 'ovr', 'nytho', 'absolutely', 'silence', '09064017295', 'enter', 'actually', 'parkin', '3xx', 'xxxxxxxxxxxxxx', 'taking', 'programs', 'erm', 'bedroom', 'bugis', 'baaaaaaaabe', 'walk', 'reg', 'carolina', 'hussey', 'nose', '09061209465', 'receiving', 'jacket', 'cousin', 'natalie', 'nuclear', 'tie-pos', 'sar', 'meds', \"'re\", '£200', '84199.', 'gr8prizes', '08712400200', 'stones', 'emc1.co.uk', 'evaluation', 'learned', 'event', 'sittin', '//www.bubbletext.com', 'owns', 'allah', 'setting', 'beeen', 'supplies', 'reward', 'un-redeemed', 'werethe', 'completing', 'imprtant', 'snogs', 'pases', 'lookin', 'co.', 'touch', 'flower', 'nookii', 'passport', 'dryer', '\\x91rents', 'labor', 'bell', '09065989182.', 'licks', '2nite-tell', 'torch', 'range', 'merry', 'glasgow', 'board', 'countin', 'gauti', 'it.may', 'woah', 'soryda', 'subscriber', '08718711108', 'blu', 'profit', 'uh', 'removal', '11mths+', 'sutra', 'petrol-rs', 'eye', 'fave', 'fact', 'intentions', 'icic', 'hello', '87077', 'rugby', 'sathy', 'burden', 'install', 'bags', 'mo', 'dave', 'onwords', 'snickering', 'henry', 't.b', '09064018838.', 'profiles', 'satsgettin', 'appy', 'sound\\x92s', 'born', 'tc', 'docks', 'links', 'back', 'christmassy', 'tirupur', 'cutest', 'days', 'pookie', 'ms', 'ego', 'gbp', 'mmsto', 'salad', 'thurs', 'because', 'major', 'constant', 'ansr', 'showing', 'doesn\\x92t', 'box385', 'spark', '24/10/04', 'charles', 'clarification', '+', 'dontplease', 'upstairs', 'bears', 'horo', 'playin', 'flood', 'ocean', 'idiot', '32323', 'burrito', 'particularly', 'goods', 'tocall.shall', 'sonyericsson', 'rodds1', 'wrc', 'dileep.thank', 'hunks', '4get', 'lifting', 'operator', 'lyricalladie', 'satanic', 'reasonable', 'prob', 'anyone', 'arnt', 'nordstrom', 'yen', 'prakesh', 'hui', 'battery', 'something', 'forgiven', 'cleaning', 'converter', 'legs', 'dislikes', '2morro', 'pictures', 'relaxing', '3-maruti', 'module', 'lifebook', '01223585334', 'spares', 'myspace', 'ishtamayoo', 'jas', 'xxxmobilemovieclub.com', 'chick', 'min', 'hotels', 'educational', 'kidz', 'roommate', 'closingdate04/09/02', 're-sub', 'possessiveness', 'ccna', 'style', 'merememberin', 'tayseer', '4ward', 'dhorte', '08714712379', 'usf', 'ouch', 'current', 'lives', 'orh', 'worc', 'google', 'oil', 'themes', 'pthis', 'dinner.msg', 'or2optout/hv9d', 'leaving', '02/09/03', 'kept', 'mist', 'fancies', 'reaching', '09065171142-stopsms-08', '89555', 'took', 'tnc', 'middle', 'dt', 'colany', 'famous', 'www.tkls.com', 'woozles', 'shoul', 'dedicate', '07946746291/07880867867', 'kerala', 'kudi', 'squeezed', 'turkeys', 'attend', 'naseeb', '£1.50', 'it.i', 'diseases', 'id=1b6a5ecef91ff9', 'shanil', 'serving', 'hotmail.com', 'fizz', 'transfr', 'sarcasm', 'balance', 'outrageous', 'spun-out', 'princes', '8ball', '5wq', 'wrongly', 'several', 'soup', 'planet.i', 'bank', 'airport', 'offered', 'web', 'premium', 'visit.need', 'w1j', 'studentfinancial', 'sony', '08000930705', 'car.so', '1', 'cruise', 'closer', 'draw', 'thoughts', 'rum', 'hanging', 'awww', 'himself', 'rental', 'exp', 'happens', 'ag', 'penny', 'busy.i', 'tech', 'vth', 'hoping', 'his', '£5', 'drink', 'vomitin', 'vary', 'customer', 'biro', 'plural', 'multis', 'bunch', '21/f', '2-u', 'theatre', 'oath', 'suganya', '09063458130', 'pours', 'politicians', 'smith', 'lighters', '86888', 'signal', 'carly', 'sake', 'season', 'pen', 'porridge', 'collages', 'bloke', 'outsider', 'tenants', 'saying', 'receive', 'panic', 'ones', 'kotees', '...............', 'helen', 'somtimes', 'fix', '08719899229', 'seem', 'bandages', 'hamster', 'billed', 'liked', 'predicting', 'masters', 'bam', 'wanted', 'fortune', 'still', '6th', 'optimistic', 'jd', 'reply', 'phoenix', 'peripherals', '62220cncl', 'suzy', 'help', 'dating', 'busty', 'offering', '09050000460', 'mad', 'battle', 'ctagg', 'weekend', 'imposter', 'answer', 'spoken', 'video/pic', 'lounge', '08002988890', 'tirunelvali', '09064019014', '61200', 'call', 'donno', 'rebtel', 'rcvd', 'ringing', 'spent', 'cribbs', 'wkent/150p16+', 'number.pls', 'me.i', 'macs', 'tight', 'application', 'gram', 'cres', '..', 'sophas', 'residency', 'sacrifice', 'needing', '08718723815', 'buy', 'may', 'friendships', 'urgent.but', 'maneesha', 'pain.it', 'poker', '050703', 'head…', 'cu', 'messenger', '25/f', 'christmas', 'inconvenient', 'wkly', 'robs', 'latest', 'tt', 'photos', '09050000878.', 'reasons', 'bday', 'nver', 'complementary', 'denis', 'passes', 'chest', 'visiting', 'nitro', 'okie', 'professional', '0870241182716', 'sachin.just', 'oreo', 'frog-axel', 'whn', 'avenue', 'strtd', 'breakfast', '07734396839', 'forwarding', 'moan', 'presnts', '09058097189', 'euro', 'mfl', 'slaaaaave', 'rayan', 'final', 'deposited', 'gprs', '09061749602', '8+6+3=', 'nitros', 'queen', 'parish', 'home.wot', '08709501522', 'videochat', 'p', 'okey', 'waking', 'musta', '07090201529', '9.decent', 'legitimat', 'view', 'jia', 'approaches', 'telly', 'heads', 'cnn', 'carefully', 'hav2hear', 'stick', 'odalebeku', 'videosounds+2', 'earn', 'gota', 'rules', '69696', 'clip', 'intha', 'fedex', 'forwarded', 'smoke', 'pre', 'thet', 'subs', 'pears', 'grownup', 'gloucesterroad', 'rajnikant', 'spain', 'invoices', 'gorgeous', '1,000', 'responsible', 'heard', 'ip', 'li', 'concentrate', 'screen', '3lp', 'trouble', 'sapna', 'christians', 'lot', 'truble', 'possession', 'sarasota', 'perform', 'publish', '80155', 'olage', 'ten', 'coincidence', 'possible', 'counts', 'works', 'nursery', 'sang', 'thedailydraw', 'rem', 'full', 'her.i', 'detailed', 'wtf', 'digits', 'midnight', 'noe', 'iphone', 'wesley', 'prove', 'at', 'm100', 'but', \"''\", 'j89', 'loosing', 'wats', 'yelow', 'frwd', 'exciting', 'wicket', 'transfred', 'shattered', 'goodevening', '09063442151', 'stuff', 'kallis', 'sexychat', 'dates', 'wounds', 'lotsly', 'jaykwon', 'base', 'man', 'thursday', 'shola', 'e-namous', 'hudgi', 'aco', '2docd.please', 'cyclists', 'ya', 'massage', 'vic', 'slacking', '13/10/04', 'noncomittal', 'fm', 'the4th', 'apparently', 'alot', 'go', '07973788240', 'hook', 'enjoyed', '88039.skilgme.tscs087147403231winawk', 'eg', 'aquarius', '08718738034', 'progress', 'macho', '0906346330.', 'ph:08704050406', 'gonnamissu', 'corvettes', 'happy', 'realy', 'happier', 'stopped', 'inspection', 'comb', 'village', 'beneficiary', '30', 'doggy', 'sometime', 'timing', 'fulfil', 'dogg', 'disastrous', 'song', 'too', 'sucker', 'think', 'night', 'ringtoneking', 'drum', '08718726971', 'ltd.£1,50/mtmsgrcvd18+', 'taken', 'afternoon', 'farm', 'deer', '2mro', 'sat.love', 'thought-', 'snowman', 'aiyo', 'gran', 'australia', '1tulsi', 'hyde', 'nr31', 'abusers', 'over', '-msg', 'command', 'surname', 'bruv', 'zaher', 'room', 'floor', 'medical', 'computers', 'tonsolitusaswell', 'chastity', 'springs', 'bec', 'boatin', 'laurie', 'uworld', '5.30', 'hasnt', 'sweater', 'yes-165', 'discreet', 'scrappy', 'reserved', 'unhappy', 'closes', 'fetch', 'holding', 'matches', \"doesn\\\\'t\", 'infront', 'thout', 'sterm', 'dear-loving', 'up.yeh', 'otherwise', 'claim', 'hottest', 'money.i', '08000407165', 'cstore', 'tbs/persolvo', 'gudni8', '15541', 'tuth', 'stuff.leaving', 'imagine', '//careers', 'box245c2150pm', 'kg', 'defeat', 'palm', 'that\\x92s', 'minnaminunginte', 'south', '5.i\\x92m', 'chloe', 'webeburnin', 'friday', 'linear', 'roomate', 'stink', 'land', 'qlynnbv', 'gave', 'txtstar', 'sum1', 'kingdom', 'opinions', 'gauge', 'discuss', 'bout', 'jamster.co.uk', 'increase', 'starring', 'kusruthi', 'grab', 'gist', 'neway', 'creative', 'steam', 'for£38', '2bold', 'sliding', 'denying', 'disturb', 'props', 'see', 'accidant', 'stuffs', 'stands', 'instead', \"'rencontre\", 'jap', 'john', 'voda', '1.', 'priya', 'others', '0871277810810', 'milta', 'raviyog', 'indian.pls', 'gravy', 'formal', 'hostel', 'insha', 'putting', 'poboxox36504w45wq', 'jobs', 'genius', 'prabha', 'passionate', 'swear', 'arestaurant', '0871277810910p/min', 'sub', 'cal', 'informed.rgds', 'nighters', 'picking', 'swimsuit', '6669', '£75,000', 'fathima', 'slow', 'wah', '1st4terms', 'manky', 'yes-434', 'warm', 'tampa', 'notified', 'sleeping', '7ish', 'moral', 'chords', 'derp', '-no', 'announcement', 'combine', 'painting', '..........', 'no.1', 'ldnw15h', 'alerts', 'stolen', 'helpline', 'sudden', 'thangam', 'bcmsfwc1n3xx', '08712404000', 'gain', 'stuffed', 'realised', 'gosh', 'tron', 'hugh', 'wks', 'required', 'buns', 'belovd', 'would', 'bcoz', 'heehee', 't-shirt', 'ph:08700435505150p', 'hurting', 'topic', 'poortiyagi', 'situation', 'elsewhere', 'probthat', 'bribe', '08704439680ts', 'elama', 'smiles', 'whilltake', '£3/wk', 'boundaries', 'gf', 'breathe', 'typical', 'breezy', 'kicks', 'nething', 'record', 'send', 'weed', 'goodo', 'valued', 'txt82228.co.uk', 'sagamu', 'listn', '09701213186', 'fainting', 'sorrows.i', 'cheers', 'into', 'shagged', 'lying', 'horniest', 'ls278bb', 'scores', 'orig', 'duchess', 'lrg', '150p/wk', '28/5', '09099725823', 'phoned', 'weddingfriend', 'starving', 'check', '08706091795', 'pl', 'suppose', 'stated', 'grandfather', 'splendid', 'determine', 'passable', 'avo', 'folks', 'jeri', 'b/tooth', 'ou', 'huai', 'yahoo', 'plane', 'special', '16', 'text', 'tee', 'ü', 'fold', 'mother-in-law', 'bothering', 'tv', 'youwanna', 'mail.i', 'sips', 'tescos', 'swimming', 'tiwary', 'logo/pic', 'more', 'xxxxxxx', 'dang', 'temp', 'ktv', 'potter', 'transaction', 'symptoms', 'chk', 'beneath', \"'melle\", 'only1more', 'tscs087147403231winawk', 'kalaachutaarama', 'changed', 'landlineonly', 'charge', 'th', 'eire', '〨ud', 'again', '-apples', 'jorge-shock', 'roller', 'side', 'suite', 'weirdo', 'salesman', 'photo', '1327', 'enough', 'fast', 'accordin', 'www.asjesus.com', 'epsilon', 'risk', 'jod', 'hear', 'put', 'clash', '2years', 'gentle', '10am', 'problum', 'malaria', 'dem', 'ability', 'crazy', 'salt', 'bother', 'james', 'ofice', 'cost', 'noline', 'ikea', 'violence', '07090298926', 'access', 'lux', 'independently', 'acc', 'lunsford', 'romcapspam', '09064019788', 'i', '£250k', 'uwant', '-db-', '5min', 'offer', '10p', 'that', '373', 'popped', 'pouch', '2-bajarangabali', 'somerset', 'sac', 'kick', 'installing', 'hardly', 'replying', 'ending', 'dint', 'act', 'coming.tmorow', 'colleagues', 'pract', 'lambu', 'buttheres', 'leg', \"'\", 'lubly', 'bash', 'wrks', '+449071512431', 'datz', '08718738002', 'toxic', 'stretch', 'services', '09061702893', 'write', '-via', 'shock', 'chinatown', 'abt', 'lions', '//www.e-tlp.co.uk/reward', 'time.your', 'they', 'sentence', 'pixels', 'greece', 'showed', 'laughs', 'listed', 'meet+greet', 'cer', 'managed', 'trips', 'subscribed', 'feb-april', '8000930705', 'reminded', 'you/carlos', 'tiempo', '3wks', 'support.providing', 'face', 'expiry', 'thought', 'married', 'onto', 'cost£3.75max', 'ding', 'nonetheless', '09066380611', 'token', 'i\\x92m', \"b'coz\", 'rp176781', 'words', 'deciding', 'brothers', 'response', 'risks', 'curtsey', 'route', 'barkleys', 'flow', 'clear', 'cover', 'tait', 'guys', '1x150p/wk', 'claire', 'otbox', 'finds', 'cya', '1.20', 'lecture', 'downloaded', 'poyyarikatur', 'extract', '84', 'europe', 'downon', 'limit', '2/3', 'lovable', 'accomodate', 'yetty', 'alrite.have', 'say/ask', 'chance', 'flat', 'brains', 'affidavit', 'pretsorginta', 'nokia6600', 'revealing', 'blackberry', 'offdam', 'o', '4-pavanaputra', 'wana', 'guy', 'rich', 'spin', 'affectionate', 'veggie', 'very', 'didntgive', 'slp', 'skip', '10.1mega', 'animal', 'through', '300', 'afterwards', 'dent', 'uv', 'pei', 'wall', 'quiz', 'minutes', 'like', 'westonzoyland', 'locks', 'beer-rs', 'ithink', 'college', 'bloomberg.com', '09066358361', 'fishrman', 'followed', 'bath', 'valentines', 'harlem', '40', 'roger', 'respect', 'olayiwola', 'meet', 'audrie', '08717168528', 'places', '21/m', '4msgs', 'frying', '731', 'only', 'recreation', 'stylish', 'you', 'shy', 'gm', '30pp/txt', '=twelve', '4-some1', 'ali', 'meat', 'loverboy', 'triumphed', 'africa', 'ralphs', 'dvd', '.call', 'marketing', 'box97n7qp', 'todo', 'value-morning', 'twice', 'person2die', '68866.', '7.', 'pro', 'cooperative', 'squatting', 'fro', 'excused', 'classic', '08000776320', '09066368470', 'unsold.now', '£100,000', 'chic', '150p/msg', 'bein', 'men', 'harish', 'play', 'hppnss', 'past', '61610', 'hopeso', 'cock', '1st', 'lots', 'lttrs', 'monkeys', 'wil', 'werebored', 'drug', 'preferably', 'time-hope', 'arrow', 'feb.', 'cuck', 'mia', 'greatly', 'selected', 'www.santacalling.com', 'bevies.waz', 'chillin', 'beendropping', 'saw', 'aight', 'school', 'champneys', 'tour', '730', '180', 'petey', 'china', 'than', 'shoppin', 'follow', 'field', 'pocked', 'met', 'lovingly', 'liverpool', 'pickle', 'replacement', 'identification', 'vibrant', '3510i', 'apply', 'forfeit', 'rain', 'symbol', 'textbuddy', 'xt', ':', 'spys', 'certainly', 'ignoring', 'money', '4d', 'sense', 'gent', 'thoughts.i', '80878.', 'lucy', '...', 'anyways', 'title', 'glorious', 'join', 'icicibank.com', 'ship', 'begin', 'caller', 'orchard', 'soiree', 'mutations', 'address', 'oredi', 'guessin', 'anythin', 'www.gamb.tv', 'b.', '151.', 'noise', \"'wnevr\", 'bollox', '123', 'commercial', 'tulip', 'want', '09061701461.', '18/11/04', 'worlds', 'inever', '2005', 'cast', '08702840625', 'please', 'teasing', 'hols', 'repairs', 'alibi', 'no1', 'pharmacy', 'hos', 'unni', 'bag', 'else', 'crisis', 'acted', 'yoga', 'spontaneously', 'tiz', 'spare', 'creep', 'foundurself', 'apart', 'filth', 'mahal', 'sextextuk.com', 'section', '08712405022', 'dooms', 'longer', 'club4mobiles.com', 'joined', 'unfolds', 'arrival', 'latests', 'fone', 't-mobile', 'studies', 'showr', 'interflora', 'events', 'sorrow', '2005.', 'amt', 'strip', 'evo', 'occupied', 'secure', 'drpd', 'motive', 'expression', 'too.lets', 'tank', 'craving', 'abj', 'continued', 'chickened', 'neft', 'antha', 'someplace', 'concerned', '3d', 'punj', 'pdate_now', 'names', 'shadow', 'acl03530150pm', 'checking', 'concentration', 'piece', 'occurs', 'receipts—well', 'code', 'owo', 'entered', 'algarve', '09077818151', 'pub', 'patients', 'alwys', 'numbers', 'chachi', 'remembered', 'up', 'accidentally', 'inr', 'dengra', 'postcard', 'u4', 'contribute', 'confuses', 'quarter', 'cat', 'volcanoes', '+get', 'century', 'previously', '8th', 'other', 'cheap', 'xy', 'weighed', 'wont', 'ltd', 'energy', 'cumin', 'wan', \"er'ything\", \"'heart\", 'brother', 'k.k.how', 'department', '83600.', \"'doctors\", 'getsleep', 'ms.suman', 'results', 'macedonia', 'helloooo', 'logging', 'wait.i', '44', 'unsold.mike', 'anonymous', 'okies', '.please', 'nevering', '100', 'camera', 'earning', 'hep', 'ennal', 'w/question', 'banter', 'let', 'basketball', 'ever', 'thru.respect', '83118', 'give', 'spiritual', 'honeymoon', 'shitload', 'witin', 'rawring', 'ba', 'screamed', '150ppmsg', '08717205546', 'wishing', 'jstfrnd', '08719181513', 'make', 'thnk', 'confirmd', 'sw7', 'chip', 'b-day', 'youdoing', 'local', 'yam', 'plate', 'rumour', 'dancin', 'email', 'everyday', 'gigolo', 'hunting', 'optin', 'percentages', 'movies', 'neck', '6.romantic', 'players', 'republic', 'poem', 'omw', 'gucci', 'desk', 'grumble', 'munsters', 'show', 'miles', 'follows', 'claims', 'bc', 'availa', 'forms.don', 'mean', 'suitemates', 'polyph', 're', '08717507382', '11mths', '150p/text', '28', 'night.nobody', 'traffic', 'headin', 'twat', 'asusual', 'person', '3-u', 'burial', 'flim', 'beer', '69669', 'thandiyachu', '09064015307', 'ibored', 'bt-national', 'thou', 'engaged', '09061744553', 'education', 'darling', 'msg150p', 'begun', 'handle', 'approve', 'voucher', 'much.i', 'winterstone', 'leanne.what', '08718726978', 'accommodation', '80488.', 'rings', '09058091854', 'buttons', 'num', 'parachute', 'decided', '29/m', 'miss', 'propsd', 'ans', 'contact', '69969', 'locaxx', 'twiggs', 'refilled', '08000938767', 'sed', 'beers', 'been', 'ltd.', 'shocking', 'persevered', 'grief', 'o2fwd', '4403ldnw1a7rw18', 'm6', 'hip', 'sweet', 'leaves', 'english', 'completely', 'seh', 'jo', 'spouse', 'ish', 'interfued', 'ta', 'reltnship', 'sarcastic', 'promise', 'huh', 'call2optout/lf56', 'kochi', 'filthyguys', '2stoptx', 'fixed', 'www.rtf.sphosting.com', 'yes.he', 'bao', 'fifa', 'brah', 'sheet', 'supose', 'muchand', 'reflection', \"b'day\", 'unless', 'drove', 'lily', '08715203652', 'review', 'relation', 'pack', 'www.txt43.com', 'docs', 'vikky', 'boat', 'shall', '2.naughty', '0870753331018+', 'tops', 'ipod', 'uhhhhrmm', 'recharged', 'cashbin.co.uk', 'hypotheticalhuagauahahuagahyuhagga', 'brolly', 'weekdays', 'brainless', 'o2', 'thanx', '2morrowxxxx', 'opps', 'pounds', 'complete', 'monkeespeople', 'chennai', 'greetings', 'akon-lonely', 'diesel', 'alex', 'gives', 'monkeyaround', '07801543489', '150p/msg.2', 'home.check', 'someday', 'w/c', 'karnan', 'mailbox', 'opened', '125gift', 'nap', 'people', 'maraikara', 'junna', 'hmmm.still', 'hmmmm', 'breathe1', '60p/min', 'hurricanes', 'thm', 'sooooo', 'resent', 'trust', 'becausethey', 'along', 'm.', 'threw', 'stuff42moro', 'carryin', 'batsman', 'samantha', 'mistake.u', 'ava', 'showrooms', '2hook', 'tddnewsletter', 'soooo', '4.47per', 'textand', 'register', 'efficient', 'asking', 'reach', 'both', 'female', 'further', 'errors', 'staff', 'partner'] 9439\n"
     ]
    }
   ],
   "execution_count": 14
  },
  {
   "metadata": {
    "ExecuteTime": {
     "end_time": "2024-09-13T08:09:35.779074Z",
     "start_time": "2024-09-13T08:09:35.776901Z"
    }
   },
   "cell_type": "code",
   "source": "frequency_matrix.shape",
   "id": "34b79c26c6451df5",
   "outputs": [
    {
     "data": {
      "text/plain": [
       "(5572, 9439)"
      ]
     },
     "execution_count": 15,
     "metadata": {},
     "output_type": "execute_result"
    }
   ],
   "execution_count": 15
  },
  {
   "metadata": {
    "ExecuteTime": {
     "end_time": "2024-09-13T08:09:37.495302Z",
     "start_time": "2024-09-13T08:09:37.492948Z"
    }
   },
   "cell_type": "code",
   "source": [
    "def get_used_words(vector: np.ndarray, unique_words: list[str]) -> list[str]:\n",
    "    non_zero_indices = np.where(vector > 0)[0]\n",
    "    words = [unique_words[i] for i in non_zero_indices]\n",
    "    return words"
   ],
   "id": "c4f43daefeb070b3",
   "outputs": [],
   "execution_count": 16
  },
  {
   "metadata": {
    "ExecuteTime": {
     "end_time": "2024-09-13T08:09:38.256640Z",
     "start_time": "2024-09-13T08:09:38.254723Z"
    }
   },
   "cell_type": "code",
   "source": [
    "vector = frequency_matrix[0]\n",
    "used_words = get_used_words(vector, unique_words)"
   ],
   "id": "17edcf9850cae382",
   "outputs": [],
   "execution_count": 17
  },
  {
   "metadata": {
    "ExecuteTime": {
     "end_time": "2024-09-13T08:09:39.890420Z",
     "start_time": "2024-09-13T08:09:39.887244Z"
    }
   },
   "cell_type": "code",
   "source": "used_words",
   "id": "cd41359b27db12b",
   "outputs": [
    {
     "data": {
      "text/plain": [
       "['n',\n",
       " 'cine',\n",
       " 'got',\n",
       " 'great',\n",
       " 'la',\n",
       " 'buffet',\n",
       " 'wat',\n",
       " 'amore',\n",
       " 'point',\n",
       " 'until',\n",
       " ',',\n",
       " 'available',\n",
       " 'in',\n",
       " 'world',\n",
       " 'there',\n",
       " 'e',\n",
       " 'jurong',\n",
       " 'bugis',\n",
       " '..',\n",
       " 'go',\n",
       " 'crazy',\n",
       " 'only',\n",
       " '...']"
      ]
     },
     "execution_count": 18,
     "metadata": {},
     "output_type": "execute_result"
    }
   ],
   "execution_count": 18
  },
  {
   "metadata": {
    "ExecuteTime": {
     "end_time": "2024-09-13T08:09:42.979459Z",
     "start_time": "2024-09-13T08:09:42.976227Z"
    }
   },
   "cell_type": "code",
   "source": [
    "from sklearn.neighbors import KNeighborsClassifier\n",
    "from sklearn.svm import SVC\n",
    "from sklearn.tree import DecisionTreeClassifier\n",
    "from sklearn.model_selection import train_test_split\n",
    "from sklearn.metrics import accuracy_score\n"
   ],
   "id": "d178fc075a29401",
   "outputs": [],
   "execution_count": 19
  },
  {
   "metadata": {
    "ExecuteTime": {
     "end_time": "2024-09-13T08:09:43.848372Z",
     "start_time": "2024-09-13T08:09:43.845009Z"
    }
   },
   "cell_type": "code",
   "source": [
    "def print_accuracy(X: np.ndarray, y: np.ndarray, type: str) -> None:\n",
    "    classifiers: dict[\n",
    "        str,\n",
    "        tp.Union[DecisionTreeClassifier, SVC, KNeighborsClassifier]\n",
    "    ] = {\n",
    "        'Decision Tree': DecisionTreeClassifier(),\n",
    "        'SVM': SVC(),\n",
    "        'KNN': KNeighborsClassifier()\n",
    "    }\n",
    "    X_train, X_test, y_train, y_test = train_test_split(X, y, test_size=0.2, random_state=42)\n",
    "    for name, classifier in classifiers.items():\n",
    "        classifier.fit(X_train, y_train)\n",
    "        y_pred = classifier.predict(X_test)\n",
    "        print(\n",
    "            f'{type}:> '\n",
    "            f'Classifier: {name}. '\n",
    "            f'Accuracy: {accuracy_score(y_test, y_pred)}. '\n",
    "        )\n",
    "\n",
    "\n",
    "def print_diff_classifiers(X, y, selected_features, select_method: str) -> None:\n",
    "    print_accuracy(X=X, y=y, type=f\"Before {select_method}\")\n",
    "    X_selected = X[:, selected_features]\n",
    "    print_accuracy(X=X_selected, y=y, type=f\"After {select_method}\")"
   ],
   "id": "d85a4711cfcdb13b",
   "outputs": [],
   "execution_count": 20
  },
  {
   "metadata": {},
   "cell_type": "markdown",
   "source": "Filter method:>",
   "id": "150c8bd6fa0015fb"
  },
  {
   "metadata": {},
   "cell_type": "code",
   "source": "from sklearn.feature_selection import SelectKBest, chi2",
   "id": "551d92995468cdef",
   "outputs": [],
   "execution_count": null
  },
  {
   "metadata": {},
   "cell_type": "code",
   "source": [
    "select_kbest = SelectKBest(chi2, k=30)\n",
    "X_new = select_kbest.fit_transform(frequency_matrix, y)\n",
    "selected_features = np.array(unique_words)[select_kbest.get_support()]\n",
    "\n",
    "print(\"Best features by filter KBest:\", selected_features.tolist())"
   ],
   "id": "85277cccfe7bb950",
   "outputs": [],
   "execution_count": null
  },
  {
   "metadata": {},
   "cell_type": "code",
   "source": "print_diff_classifiers(frequency_matrix, y, select_kbest.get_support(), select_method=\"SelectKBest\")",
   "id": "78b3902baa2ff68d",
   "outputs": [],
   "execution_count": null
  },
  {
   "metadata": {},
   "cell_type": "markdown",
   "source": "Wrapper method:>",
   "id": "510df51d55a74ed0"
  },
  {
   "metadata": {
    "ExecuteTime": {
     "end_time": "2024-09-13T08:31:45.372637Z",
     "start_time": "2024-09-13T08:31:45.369724Z"
    }
   },
   "cell_type": "code",
   "source": [
    "frequency_matrix = frequency_matrix[:500, :]\n",
    "y = y[:500]"
   ],
   "id": "4d57a8958c455212",
   "outputs": [],
   "execution_count": 31
  },
  {
   "metadata": {
    "ExecuteTime": {
     "end_time": "2024-09-13T08:32:10.792646Z",
     "start_time": "2024-09-13T08:31:46.703279Z"
    }
   },
   "cell_type": "code",
   "source": "from sklearn.feature_selection import RFE",
   "id": "8e583ae85180dc1c",
   "outputs": [],
   "execution_count": null
  },
  {
   "metadata": {
    "ExecuteTime": {
     "end_time": "2024-09-13T08:41:43.402453Z",
     "start_time": "2024-09-13T08:41:18.298659Z"
    }
   },
   "cell_type": "code",
   "source": [
    "model = DecisionTreeClassifier()\n",
    "rfe = RFE(estimator=model, n_features_to_select=10)\n",
    "rfe = rfe.fit(frequency_matrix, y)\n",
    "rfe.ranking_"
   ],
   "id": "2455523449fd726c",
   "outputs": [
    {
     "data": {
      "text/plain": [
       "array([9430, 9429, 9428, ..., 4258, 4260, 5721])"
      ]
     },
     "execution_count": 33,
     "metadata": {},
     "output_type": "execute_result"
    }
   ],
   "execution_count": 33
  },
  {
   "metadata": {
    "ExecuteTime": {
     "end_time": "2024-09-13T08:41:49.757980Z",
     "start_time": "2024-09-13T08:41:49.752155Z"
    }
   },
   "cell_type": "code",
   "source": [
    "important_features = np.array(unique_words)[rfe.support_]\n",
    "print(\"Best features by wrapper RFE:\", important_features.tolist())"
   ],
   "id": "9b311e646ef78f47",
   "outputs": [
    {
     "name": "stdout",
     "output_type": "stream",
     "text": [
      "Best features by wrapper RFE: ['prize', 'link', 'to', 'reply', 'tron', 'plane', 'special', 'hear', '09064019788', 'i']\n"
     ]
    }
   ],
   "execution_count": 35
  },
  {
   "metadata": {
    "ExecuteTime": {
     "end_time": "2024-09-13T08:42:13.802826Z",
     "start_time": "2024-09-13T08:42:13.756073Z"
    }
   },
   "cell_type": "code",
   "source": "print_diff_classifiers(frequency_matrix, y, rfe.support_, select_method=\"RFE\")",
   "id": "d9f347378ecf0f05",
   "outputs": [
    {
     "name": "stdout",
     "output_type": "stream",
     "text": [
      "Before RFE:> Classifier: Decision Tree. Accuracy: 0.9. \n",
      "Before RFE:> Classifier: SVM. Accuracy: 1.0. \n",
      "Before RFE:> Classifier: KNN. Accuracy: 0.95. \n",
      "After RFE:> Classifier: Decision Tree. Accuracy: 0.95. \n",
      "After RFE:> Classifier: SVM. Accuracy: 0.9. \n",
      "After RFE:> Classifier: KNN. Accuracy: 0.95. \n"
     ]
    }
   ],
   "execution_count": 36
  },
  {
   "metadata": {},
   "cell_type": "markdown",
   "source": "Embedded method:>",
   "id": "5ca6eb6ab67ac5cc"
  },
  {
   "metadata": {},
   "cell_type": "markdown",
   "source": "",
   "id": "e645c53a7995d8"
  },
  {
   "metadata": {},
   "cell_type": "code",
   "source": [
    "decision_tree = DecisionTreeClassifier(random_state=42)\n",
    "decision_tree.fit(frequency_matrix, y)\n",
    "features = decision_tree.feature_importances_\n",
    "tuple_values = [(i, unique_words[i], importance) for i, importance in enumerate(features)]\n",
    "tuple_values = sorted(tuple_values, key=lambda x: x[2], reverse=True)\n",
    "indices, names, _ = zip(*tuple_values)\n",
    "# Печать наиболее важных признаков\n",
    "print(\"Best features by embedded DecisionTreeClassifier:\", names[:30])"
   ],
   "id": "efa17e16ab431532",
   "outputs": [],
   "execution_count": null
  },
  {
   "metadata": {},
   "cell_type": "code",
   "source": "print_diff_classifiers(frequency_matrix, y, indices[:30], select_method=\"DecisionTreeClassifier\")",
   "id": "79e8bfb8a28241e",
   "outputs": [],
   "execution_count": null
  },
  {
   "metadata": {},
   "cell_type": "code",
   "source": [
    "list1 = ['stop', 'horo', '#', 'have', 'your', 'text', 'mobile', 'pix', 'or', 'ask', 'a', 'aight', 'call', 'not', 'i', 'me', '!', 'u', 'with', 'extra', 'its', 'later', 'to', 'free', 'for', 'prize', 'quite', 'txt', 'you', 'while']\n",
    "list2 = ['call', 'txt', 'i', 'text', 'me', 'reply', 'http', 'won', 'to', '150p/msg', 'claim', 'you', 'tones', 'reveal', 'ringtone', 'service', '18', 'stop', 'my', 'for', 'now', '..', '150p', 'selection', 'ill', 'chat', 'ask', 'not', ';', 'games']\n",
    "set1 = set(list1)\n",
    "set2 = set(list2)\n",
    "common_elements = set1.intersection(set2)\n",
    "unique_in_list1 = set1.difference(set2)\n",
    "unique_in_list2 = set2.difference(set1)\n",
    "common_elements = list(common_elements)\n",
    "unique_in_list1 = list(unique_in_list1)\n",
    "unique_in_list2 = list(unique_in_list2)\n",
    "print(\"Common elements:\", common_elements)\n",
    "print(\"Unique to list1:\", unique_in_list1)\n",
    "print(\"Unique to list2:\", unique_in_list2)"
   ],
   "id": "1664116539eebb1b",
   "outputs": [],
   "execution_count": null
  },
  {
   "metadata": {},
   "cell_type": "code",
   "source": "",
   "id": "292de19bbfeda096",
   "outputs": [],
   "execution_count": null
  }
 ],
 "metadata": {
  "kernelspec": {
   "display_name": "Python 3",
   "language": "python",
   "name": "python3"
  },
  "language_info": {
   "codemirror_mode": {
    "name": "ipython",
    "version": 2
   },
   "file_extension": ".py",
   "mimetype": "text/x-python",
   "name": "python",
   "nbconvert_exporter": "python",
   "pygments_lexer": "ipython2",
   "version": "2.7.6"
  }
 },
 "nbformat": 4,
 "nbformat_minor": 5
}
