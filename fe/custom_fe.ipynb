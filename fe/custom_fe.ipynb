{
 "cells": [
  {
   "cell_type": "code",
   "id": "initial_id",
   "metadata": {
    "collapsed": true,
    "ExecuteTime": {
     "end_time": "2024-09-13T08:32:51.020243Z",
     "start_time": "2024-09-13T08:32:50.766959Z"
    }
   },
   "source": [
    "import typing as tp\n",
    "\n",
    "import pandas as pd"
   ],
   "outputs": [],
   "execution_count": 2
  },
  {
   "metadata": {
    "ExecuteTime": {
     "end_time": "2024-09-13T08:32:51.033528Z",
     "start_time": "2024-09-13T08:32:51.021127Z"
    }
   },
   "cell_type": "code",
   "source": [
    "df = pd.read_csv('SMS.tsv', delimiter='\\t')\n",
    "df"
   ],
   "id": "9fc2b9d1f8cfba99",
   "outputs": [
    {
     "data": {
      "text/plain": [
       "     class                                               text\n",
       "0      ham  Go until jurong point, crazy.. Available only ...\n",
       "1      ham                      Ok lar... Joking wif u oni...\n",
       "2     spam  Free entry in 2 a wkly comp to win FA Cup fina...\n",
       "3      ham  U dun say so early hor... U c already then say...\n",
       "4      ham  Nah I don't think he goes to usf, he lives aro...\n",
       "...    ...                                                ...\n",
       "5567  spam  This is the 2nd time we have tried 2 contact u...\n",
       "5568   ham               Will ü b going to esplanade fr home?\n",
       "5569   ham  Pity, * was in mood for that. So...any other s...\n",
       "5570   ham  The guy did some bitching but I acted like i'd...\n",
       "5571   ham                         Rofl. Its true to its name\n",
       "\n",
       "[5572 rows x 2 columns]"
      ],
      "text/html": [
       "<div>\n",
       "<style scoped>\n",
       "    .dataframe tbody tr th:only-of-type {\n",
       "        vertical-align: middle;\n",
       "    }\n",
       "\n",
       "    .dataframe tbody tr th {\n",
       "        vertical-align: top;\n",
       "    }\n",
       "\n",
       "    .dataframe thead th {\n",
       "        text-align: right;\n",
       "    }\n",
       "</style>\n",
       "<table border=\"1\" class=\"dataframe\">\n",
       "  <thead>\n",
       "    <tr style=\"text-align: right;\">\n",
       "      <th></th>\n",
       "      <th>class</th>\n",
       "      <th>text</th>\n",
       "    </tr>\n",
       "  </thead>\n",
       "  <tbody>\n",
       "    <tr>\n",
       "      <th>0</th>\n",
       "      <td>ham</td>\n",
       "      <td>Go until jurong point, crazy.. Available only ...</td>\n",
       "    </tr>\n",
       "    <tr>\n",
       "      <th>1</th>\n",
       "      <td>ham</td>\n",
       "      <td>Ok lar... Joking wif u oni...</td>\n",
       "    </tr>\n",
       "    <tr>\n",
       "      <th>2</th>\n",
       "      <td>spam</td>\n",
       "      <td>Free entry in 2 a wkly comp to win FA Cup fina...</td>\n",
       "    </tr>\n",
       "    <tr>\n",
       "      <th>3</th>\n",
       "      <td>ham</td>\n",
       "      <td>U dun say so early hor... U c already then say...</td>\n",
       "    </tr>\n",
       "    <tr>\n",
       "      <th>4</th>\n",
       "      <td>ham</td>\n",
       "      <td>Nah I don't think he goes to usf, he lives aro...</td>\n",
       "    </tr>\n",
       "    <tr>\n",
       "      <th>...</th>\n",
       "      <td>...</td>\n",
       "      <td>...</td>\n",
       "    </tr>\n",
       "    <tr>\n",
       "      <th>5567</th>\n",
       "      <td>spam</td>\n",
       "      <td>This is the 2nd time we have tried 2 contact u...</td>\n",
       "    </tr>\n",
       "    <tr>\n",
       "      <th>5568</th>\n",
       "      <td>ham</td>\n",
       "      <td>Will ü b going to esplanade fr home?</td>\n",
       "    </tr>\n",
       "    <tr>\n",
       "      <th>5569</th>\n",
       "      <td>ham</td>\n",
       "      <td>Pity, * was in mood for that. So...any other s...</td>\n",
       "    </tr>\n",
       "    <tr>\n",
       "      <th>5570</th>\n",
       "      <td>ham</td>\n",
       "      <td>The guy did some bitching but I acted like i'd...</td>\n",
       "    </tr>\n",
       "    <tr>\n",
       "      <th>5571</th>\n",
       "      <td>ham</td>\n",
       "      <td>Rofl. Its true to its name</td>\n",
       "    </tr>\n",
       "  </tbody>\n",
       "</table>\n",
       "<p>5572 rows × 2 columns</p>\n",
       "</div>"
      ]
     },
     "execution_count": 3,
     "metadata": {},
     "output_type": "execute_result"
    }
   ],
   "execution_count": 3
  },
  {
   "metadata": {
    "ExecuteTime": {
     "end_time": "2024-09-13T08:32:51.493605Z",
     "start_time": "2024-09-13T08:32:51.487899Z"
    }
   },
   "cell_type": "code",
   "source": "df.describe()",
   "id": "a24a34d751b0320d",
   "outputs": [
    {
     "data": {
      "text/plain": [
       "       class                    text\n",
       "count   5572                    5572\n",
       "unique     2                    5169\n",
       "top      ham  Sorry, I'll call later\n",
       "freq    4825                      30"
      ],
      "text/html": [
       "<div>\n",
       "<style scoped>\n",
       "    .dataframe tbody tr th:only-of-type {\n",
       "        vertical-align: middle;\n",
       "    }\n",
       "\n",
       "    .dataframe tbody tr th {\n",
       "        vertical-align: top;\n",
       "    }\n",
       "\n",
       "    .dataframe thead th {\n",
       "        text-align: right;\n",
       "    }\n",
       "</style>\n",
       "<table border=\"1\" class=\"dataframe\">\n",
       "  <thead>\n",
       "    <tr style=\"text-align: right;\">\n",
       "      <th></th>\n",
       "      <th>class</th>\n",
       "      <th>text</th>\n",
       "    </tr>\n",
       "  </thead>\n",
       "  <tbody>\n",
       "    <tr>\n",
       "      <th>count</th>\n",
       "      <td>5572</td>\n",
       "      <td>5572</td>\n",
       "    </tr>\n",
       "    <tr>\n",
       "      <th>unique</th>\n",
       "      <td>2</td>\n",
       "      <td>5169</td>\n",
       "    </tr>\n",
       "    <tr>\n",
       "      <th>top</th>\n",
       "      <td>ham</td>\n",
       "      <td>Sorry, I'll call later</td>\n",
       "    </tr>\n",
       "    <tr>\n",
       "      <th>freq</th>\n",
       "      <td>4825</td>\n",
       "      <td>30</td>\n",
       "    </tr>\n",
       "  </tbody>\n",
       "</table>\n",
       "</div>"
      ]
     },
     "execution_count": 4,
     "metadata": {},
     "output_type": "execute_result"
    }
   ],
   "execution_count": 4
  },
  {
   "metadata": {
    "ExecuteTime": {
     "end_time": "2024-09-13T08:32:52.139236Z",
     "start_time": "2024-09-13T08:32:52.136385Z"
    }
   },
   "cell_type": "code",
   "source": "y = df['class'].map({'ham': 0, 'spam': 1})",
   "id": "789cdfaa4e6873c",
   "outputs": [],
   "execution_count": 5
  },
  {
   "metadata": {
    "ExecuteTime": {
     "end_time": "2024-09-13T08:32:52.604803Z",
     "start_time": "2024-09-13T08:32:52.601990Z"
    }
   },
   "cell_type": "code",
   "source": "y, y.shape",
   "id": "fd2b4d68036a7600",
   "outputs": [
    {
     "data": {
      "text/plain": [
       "(0       0\n",
       " 1       0\n",
       " 2       1\n",
       " 3       0\n",
       " 4       0\n",
       "        ..\n",
       " 5567    1\n",
       " 5568    0\n",
       " 5569    0\n",
       " 5570    0\n",
       " 5571    0\n",
       " Name: class, Length: 5572, dtype: int64,\n",
       " (5572,))"
      ]
     },
     "execution_count": 6,
     "metadata": {},
     "output_type": "execute_result"
    }
   ],
   "execution_count": 6
  },
  {
   "metadata": {
    "ExecuteTime": {
     "end_time": "2024-09-13T08:32:53.169332Z",
     "start_time": "2024-09-13T08:32:53.166909Z"
    }
   },
   "cell_type": "code",
   "source": "df[\"text\"][0]",
   "id": "f3e6018036f81bc4",
   "outputs": [
    {
     "data": {
      "text/plain": [
       "'Go until jurong point, crazy.. Available only in bugis n great world la e buffet... Cine there got amore wat...'"
      ]
     },
     "execution_count": 7,
     "metadata": {},
     "output_type": "execute_result"
    }
   ],
   "execution_count": 7
  },
  {
   "metadata": {
    "ExecuteTime": {
     "end_time": "2024-09-13T08:32:54.623307Z",
     "start_time": "2024-09-13T08:32:53.908649Z"
    }
   },
   "cell_type": "code",
   "source": [
    "import nltk\n",
    "from nltk.tokenize import word_tokenize"
   ],
   "id": "c11be8b646ff1e9d",
   "outputs": [],
   "execution_count": 8
  },
  {
   "metadata": {
    "ExecuteTime": {
     "end_time": "2024-09-13T00:25:11.315799Z",
     "start_time": "2024-09-13T00:25:03.841520Z"
    }
   },
   "cell_type": "code",
   "source": [
    "import ssl\n",
    "\n",
    "try:\n",
    "    _create_unverified_https_context = ssl._create_unverified_context\n",
    "except AttributeError:\n",
    "    pass\n",
    "else:\n",
    "    ssl._create_default_https_context = _create_unverified_https_context\n",
    "\n",
    "nltk.download()"
   ],
   "id": "464d0e3bca67da05",
   "outputs": [
    {
     "name": "stdout",
     "output_type": "stream",
     "text": [
      "showing info https://raw.githubusercontent.com/nltk/nltk_data/gh-pages/index.xml\n"
     ]
    },
    {
     "data": {
      "text/plain": [
       "True"
      ]
     },
     "execution_count": 12,
     "metadata": {},
     "output_type": "execute_result"
    }
   ],
   "execution_count": 12
  },
  {
   "metadata": {
    "ExecuteTime": {
     "end_time": "2024-09-13T00:25:14.657460Z",
     "start_time": "2024-09-13T00:25:14.652631Z"
    }
   },
   "cell_type": "code",
   "source": "nltk.download('punkt_tab')",
   "id": "322c19cd9125e15f",
   "outputs": [
    {
     "name": "stderr",
     "output_type": "stream",
     "text": [
      "[nltk_data] Downloading package punkt_tab to\n",
      "[nltk_data]     /Users/hedwig_industries/nltk_data...\n",
      "[nltk_data]   Package punkt_tab is already up-to-date!\n"
     ]
    },
    {
     "data": {
      "text/plain": [
       "True"
      ]
     },
     "execution_count": 13,
     "metadata": {},
     "output_type": "execute_result"
    }
   ],
   "execution_count": 13
  },
  {
   "metadata": {
    "ExecuteTime": {
     "end_time": "2024-09-13T08:32:57.034006Z",
     "start_time": "2024-09-13T08:32:57.031970Z"
    }
   },
   "cell_type": "code",
   "source": "import numpy as np",
   "id": "d63439599315ea09",
   "outputs": [],
   "execution_count": 9
  },
  {
   "metadata": {
    "ExecuteTime": {
     "end_time": "2024-09-13T08:32:57.197690Z",
     "start_time": "2024-09-13T08:32:57.194358Z"
    }
   },
   "cell_type": "code",
   "source": [
    "def calc_frequency_matrix(df: pd.DataFrame) -> [np.ndarray, list[str]]:\n",
    "    unique_words = set()\n",
    "\n",
    "    tokenized_texts = df['text'].apply(lambda x: word_tokenize(x.lower()))\n",
    "    for text in tokenized_texts:\n",
    "        unique_words.update(text)\n",
    "\n",
    "    unique_words = list(unique_words)\n",
    "    word_index = {word: i for i, word in enumerate(unique_words)}\n",
    "    frequency_matrix = []\n",
    "    for text in tokenized_texts:\n",
    "        word_count = [0] * len(unique_words)\n",
    "        for word in text:\n",
    "            if word in word_index:\n",
    "                word_count[word_index[word]] += 1\n",
    "        frequency_matrix.append(word_count)\n",
    "    return np.array(frequency_matrix), unique_words"
   ],
   "id": "57b8459b7a4a598f",
   "outputs": [],
   "execution_count": 10
  },
  {
   "metadata": {
    "ExecuteTime": {
     "end_time": "2024-09-13T08:32:59.631540Z",
     "start_time": "2024-09-13T08:32:57.566594Z"
    }
   },
   "cell_type": "code",
   "source": "frequency_matrix, unique_words = calc_frequency_matrix(df)",
   "id": "485ffbbc0571101",
   "outputs": [],
   "execution_count": 11
  },
  {
   "metadata": {
    "ExecuteTime": {
     "end_time": "2024-09-13T08:32:59.638572Z",
     "start_time": "2024-09-13T08:32:59.632832Z"
    }
   },
   "cell_type": "code",
   "source": "print(unique_words, len(unique_words))",
   "id": "95f9ea1378ea58ca",
   "outputs": [
    {
     "name": "stdout",
     "output_type": "stream",
     "text": [
      "['usc', '.call', 'gokila', 'custom', '83332.please', 'module', 'typical', '2u2', 'joined.hope', 'kind', 'southern', 'term', 'belt', 'period', 'fucks', 'keep', 'aberdeen', 'wants', 'infront', 'witout', '180', 'litres', 'today.do', 'jokin', 'aint', 'sooo', 'dlf', 'alwys', 'workand', 'someday', 'coulda', 'fulfil', 'neva', '6wu', 'tonite.things', 'honesty', '-shakespeare-', 'transferred', 'santa', 'heard', 'packing', 'hire', 'dough', 'n-oble', 'baaaaabe', 'fact', 'eruku', 'jon', 'landlineonly', 'hmmmm', 'duffer', 'korche', 'wasn', 'logon', 'both', 'informed.rgds', '12,000pes', 'church', 'excused', '83021.', 'deus', 'casting', 'lots', 'forms.don', 'shaved', 'except', 'wo', 'burden', 'answerin', 'helpful', 'ortxt', 'responsibilities', 'bin', 'festival', 'section', 'verify', 'hogli', 'babes', 'password', 'srs', 'inconsiderate', 'korte', 'maniac', \"'that\", 'traffic', 'sall', 'weaknesses', 'webeburnin', 'rings', 'mmm', '68866.', 'much.i', 'go2', 'sources', 'ba128nnfwfly150ppm', 'fit', '0207', \"'comfort\", 'prestige', 'footy', 'we\\x92ve', 'kath', 'hooked', 'edge', '09050000928.', 'likes', 'xxxxxxxxxxxxxx', 'on', 'vouchers', '1thing.i', 'comingdown', '£50award', 'keralacircle', 'functions', '4.49/month', 'kanji', '4041', 'grow.random', 'waste', 'tcr/w1', 'howdy', 'boring', 'hiphop', 'yo-here', 'actor', 'difference', 'buttons', 'today.he', '1,2', 'internal', 'trains', 'seconds', 'photo', 'depends', 'aeroplane', 'awesome', 'during', '2/2', 'bud', 'height', 'max', 'presence', 'del', 'mufti', 'youdoing', 'machines', 'tcs', 'double', 'bookedthe', '2stop', 'saturday', 'loveme', '-message', 'bears', 'choose', 'box', 'line', 'gudni8', 'ny-usa', 'compulsory', 'everyday', 'processed', 'freedom', 'supervisor', 'noworriesloans.com', 'slowly', 'unjalur', '21/11/04', 'shud', 'maat', 'gving', 'wahay', 'thandiyachu', 'box139', 'havent', 'ass', 'home.wot', '2309', 'naseeb', 'write', 'had', 'nursery', 'ifink', 'middle', 'deduct', 'starving', 'dearly', 'dear.rakhesh', 'texts', 'station', 'bbd', 'freezing', 'combination', 'occur', 'spageddies', 'console', 'boatin', 'falling', 'statement', 'computational', 'imagine', 'oooooh', 'hum', 'manky', 'over', 'soryda', 'lennon', 'rct', '945+', '5.i\\x92m', 'mirror', '£1.50/wk', 'vatian', 'stalking', 'thnx', 'room', 'car', 'gentleman', 'mei', 'subtoitles', 'xxxxxxxx', 'velly', 'm263uz', 'ciao', 'dogs', 'math', 'gals', 'imp', 'sambar.life', 'theatre', '80182', 'sept', 'pink', 'conversations', 'zac', 'abel', 'sunshine', 'silent', 'do', 'nange', 'tonexs', 'grandmas', 'owo', 'cres', 'connected', 'transfer', '09066350750', 'minus', 'kettoda', 'update', 'starer', 'risk', 'babyjontet', 'watches', 'is', '2kbsubject', 'readers', 'now', 'serena', 'curry', 'scotsman', 'discuss', 'again.call', '2.15', 'sound', 'cough', 'advising', 'something', 'libertines', 'medical', 'happenin', 'secure', 'forgiveness', '515', 'overheating', 'simonwatson5120', 'attended', 'countinlots', 'difficulties', 'srt', 'lanka', 'strong-buy', 'air', 'invoices', 'maggi', 'server', 'interest', 'messed', 'showered', 'beer-rs', 'mee', 'aight', 'wamma', 'pocy', '08006344447', 'husband', 'servs', 'jez', 'explicitly', 'person2die', 'lotto', 'dream', 'kvb', 'forgotten', 'flirting', 'spouse', 'yuo', 'postponed', 'soiree', 'looking', 'salesman', 'arrived', '150p/day', 'lil', 'spiral', 'name2', 'multiply', 'saves', 'elaborating', 'skirt', 'windows', 'wife.how', 'tune', 'bpo', 'vague', 'heroes', 'yoville', 'disclose', 'coincidence', 'box420', 'housework', 'you.thats', 'route', 'wellda', 'willing', '5wq', 'cheer', 'week', 'fishhead', 'norm150p/tone', 'coming', '69969', 'convincing', 'quick', 'jess', 'mag', '88066', 'shaking', 'dogg', 'w8in', 'unusual', 'nhs', 'hanks', 'beers', 'cps', 'b-blue', 'parade', 'shitinnit', '92h', 'wallet', 'aftr', '4', 'michael', 'keyword', 'dled', 'red', 'dd', 'savamob', 'ralphs', 'uh', 'splendid', 'charts', 'kerala', 'technologies', '//www.vouch4me.com/etlp/dining.asp', 'college', 'lucyxx', 'sex', 'clos1', 'horrible', 'directly', 'hard', 'exorcism', 'screamed', 'seing', 'customers', 'lem', 'avenue', 'provided', \"'its\", 'slow', 'workout', 'battle', '!', 'paris.free', 'ogunrinde', 'pattern', 'latr', 'bettr', '....', '08718730666', 'std', 'irritates', 'murderer', 'sppok', 'fiting', 'remember', 'y87', 'charges', 'winning', 'dat', 'remove', 'sh', 'ques-', 'age16', 'visa', 'lived', 'xxxmobilemovieclub.com', 'resort', 'barmed', '30apr', 'calls£1/minmoremobsemspobox45po139wa', 'torrents', 'prob', 'nmde', 'rewarding', '41685', 'beneath', 'artists', 'gon', 'north', 'apologetic', 'dudes', 'papers', 'luck', 'ok.varunnathu', 'anything', 'upd8', '25', 'bookmark', 'tol', 'african', 'ringing', 'five', 'shesil', 'helen', 'sir', 'opt-out', 'www.ringtoneking.co.uk', '30th', 'date', 'hop', 'golddigger', 'uncles', '-vivekanand-', 'la32wu', 'corect', 'cudnt', '\\x93harry', '80608.', 'persevered', '0578', 'lrg', 'eyed-dont', 'm100', 'confuses', 'loses', '08717111821', 'when/where', 'boss', 'blackberry', 'epsilon', 'steam', 'astoundingly', 'jada', \"'til\", 'rules', '5wkg', 'selflessness', 'graphics', 'share', 'wks', 'shah', 'customercare', 'link', 'eggs-pert', 'her.she', 'hooch', '4.', 'inshah', 'shouting', '…thanks', \"'wnevr\", 'programs', 'oyster', 'flight', 'mental', 'cried', 'cable', 'e£nd', 'syria', '.so', 'complete', 'box39822', '2geva', 'avo', 'smth', 'couldn\\x92t', 'ring', 'cm', '2optout', 'clear', 'wrnog', 'shinco', 'purchases', 'str', 'oni', 'seeking', 'hostile', 'dump', 'dot', 'twice', 'film', 'pierre', '4-7/12', 'eckankar', 'patent', 'lark', 'melt', 'planet', 'foregate', 'pop', 'enjoy', 'ente', 'posh', 'that', 'acc', 'nap', 'imagination', 'govt.instituitions', 'pump', 'khelate', 'appendix', '07xxxxxxxxx', 'orno', 'heltini', 'tomorrow.call', 'women', 'charged', 'cops', '/7', 'approaching', 'rents', '£2,000', 'careabout', 'shelf', 'nic', 'settle', 'sending', 'ym', 'free-nokia', 'quoting', 'bag', 'harlem', 'guessing', 'body', 'halloween', 'senses.respect', 'canname', 'twilight', 'splat', 'model', 'cos', 'aig', 'match', 'beyond', 'lap', 'luxury', 'distract', 'initiate', 'abdomen', 'dontplease', '8714714', 'rushing', 't.', 'av', 'tel', 'alternative.hope', 'hes', 'noi\\x92m', '08452810071', '~', 'citylink', 'pobox45w2tg150p', 'needle', 'www.sms.ac/u/bootydelious', 'wah', 'rahul', 'natwest', 'w1j', 'coast', 'casing', '26th', 'shoot', 'talks', '08712300220', 'stores', 'standard', 'sw7', 'tau', 'funky', '0a', 'dabooks', 'unemployed', 'langport', 'sherawat', 'nasty', 'cheyyamo', 'turned', 'spoken', 'infra', '150p/mtmsg', 'nig', 'er', 'pushes', '7', 'breeze', 'tea/coffee', 'limited', 'scrounge', 'sufficient', 'alone', 'lying', 'provider', 'water', 'why', 'tomorrow', 'rayman', 'w14rg', 'inside', '24/7mp', 'ho', \"don\\\\'t\", 'this', 'pound', '5th', 'kalainar', 'okors', 'rum', 'handing', 'thx', 'yck', 'welcomes', 'yelling', 'ericson', 'paru', 'presents', 'hold', '7pm', 'twelve', 'free', '1/3', '6days', 'triple', 'flim', 'b.', 'happen', 'poboxox36504w45wq', 'warming', 'yet', 'fullonsms.com', 'icic', 'slower', 'prayrs', 'values', 'psp', 'mob', 'device', 'acknowledgement', '12', 'squeezed', 'nosy', 'wisdom', 'name1', 'ball', 'ground', 'age', 'girls', 'crash', 'prepare', 'hmmm', 'six', 'documents', 'meaningful', 'www.ldew.com', 'plate', 'intelligent', 'hint', 'everythin', 'nevr', '09058097189', 'downloads', 'pisces', 'science', 'germany', '5', '07/11/04', 'lotta', 'endowed', 'floating', 'first=true¡c', 'xt', 'sips', 'ic', 'fantastic', '7548', 'ammo', '7634', 'administrator', 'stocked', 'a21', '6zf', 'here.thanks', 'str8', 'darkest', 'ke', 'recent', 'smokin', 'bike', 'sportsx', 'conducts', 'tobacco', 'younger', 'availa', 'apart', '3750', 'into', 'mutations', 'meaning', '06.05.05', 'videos', '087123002209am-7pm', 'madurai', 'randomly', 'cancer', 'mah', 'heart', 'affections', 'loving', '08719180248', 'thru', 'frog-axel', 'end', 'pin', 'promo', 'wat', 'exp', 'yoga', 'paragraphs', 'cttergg', 'basketball', 'styles', 'call2optout/j', 'ali', 'dave', '2day', 'contacts', 'mentioned.tomorrow', 'useful', 'duo', 'ta', '*', 'terrific', 'tiz', 'by', 'somebody', 'predictive', 'venaam', 'bills', 'thou', '26/11/04', 'designation', 'gandhipuram', 'graduated', 'brats', 'wear', 'sacrifice', 'relax', 'western', 'e', '2px', 'incomm', 'muht', 'well.you', 'flowers', ']', 'hectic', 'bakra', 'nobody', 'morphine', 'sink', 'hun-onbus', 'cali', 'd', 'realise', 'call2optout/4qf2', 'officer', 'eggs', 'mquiz', 'psychic', '16+', '09065989182.', 'via', 'key', 'correctly', 'tryin', 'attached', 'diddy', 'remb', 'pass', '7.children', 'chiong', 'pract', 'particularly', 'stuffs', '//img', 'today', 'month', 'tough', 'holla', 'ex-wife', 'tat', 'hanumanji', 'hitter.anyway', 'cds', 'fringe', 'pongal', 'treat', 'stones', 'ugadi', 'correction', 'rpl', '62468', 'payee', 'payed', 'bar', 'rr', 'conference', 'tsunami', 'flirt', 'team', 'potential', 'bothering', 'singing', 'causing', '08002986906', 'kill', 'brdget', 'grocers', 'aunty', 'puzzeles', 'secured', 'mk17', 'befor', '69911', 'messaging', 'truck', 'stop2', 'tming', '84199.', 'jiayin', 'count', 'delete', '01223585236', 'personal', 'role', '0', 'whats', 'reservations', 'sip', 'doke', 'easily', 'lecturer', 'convey', 'train', '£750', 'harish', '1-month', 'slice', 'split', 'boooo', '08701237397', 'detail', '69888nyt', 'rimac', 'yijue', 'tolerance', 'ne', 'cw25wx', 'shoranur', 'gsoh', 'ldnw15h', 'stream', 'identification', 'gek1510', 'atrocious', 'image', 'sensitive', 'that\\x92scool', 'subject', 'balance', 'flights', 'weirdo', 'slave', '62220cncl', '150pm', 'henry', '08719181503', 'lays', 'swell', 'braved', 'strong', 'k.its', 'www.ldew.com1win150ppmx3age16', 'better', 'there.xx', 'stagwood', 'restrict', 'buying', 'sarcasm', 'effects', 'profit', 'galileo', 'happiest', 'allow', 'imposter', 'village', 'cold', 'petrol', 'name.my', 'activate', 'priest', 'damn', 'shirts', 'if', 'sony', 'education', 'luck.2', 'lousy', '11', 'avatar', 'reference', 'naked', 'woods', 'ripped', '4the', 'pshew', 'luks', 'clarification', 'dismay', 'cnn', '2.50', '1146', 'store', 'courtroom', '81303', 'upto', 'eyes', 'study', 'cardiff', '12mths', 'katexxx', 'gim', 'wake', '09061743811', 'pocked', '09099725823', 'what', 'currently', 'shorter', 'whenever', 'queries', 'nagar', 'abusers', 'roses', 'thnk', 'rush', 'beneficiary', 'july', 'fb', 'sympathetic', 'december', 'seem', 'texas', 'function', '\\x91rents', 'delicious', 'shrek', '630', '08717890890£1.50', '09061104276', 'hmmm.but', 'wiv', 'understanding', 'named', 'matters', 'drugs', 'punish', 'bless.get', 'jaz', 'bt-national', 'calls', 'passable', '2mro', 'gal-no', 'neither', '50s', 'requires', 'answers', 'inr', 'pls.i', 'msgrcvd18+', '//www.bubbletext.com', 'desparately', 'intro', 'senthil', 'lip', 'stealing', 'parties', 'flame', 'pharmacy', 'lifeis', 'wk.txt', 'jane', 'melody', 'previous', 'info', '85', 'guy', '8883', 'hu', '0871277810710p/min', 'characters', '84', 'h', 'footprints', '2.naughty', '89938', 'prin', 'specially', 'help08700621170150p', 'replacement', 'kit', 'bedreal', 'gorgeous', '-sub', 'rhythm', 'weaseling', 'rows', 'payback', 'e.g.23f', '087104711148', 'cloud', 'ipaditan', 'save', 'doesn\\x92t', '2004', '60p', 'cleaning', 'independence', 'kaaj', 'fedex', 'hug', 'sleeps', 'outs', 'juicy', 'happend', 'clash', 'compromised', 'place.no', 'them', 'upset.i', 'instantly', 'shut', 'malaria', 'messages-text', 'bright', '69888', 'title.so', 'appointments', 'ah.the', 'american', 'occupy', 'balloon', '0871-872-9755', 'speling', 'filling', '_', '2morow', 'pub/cafe', 'stockport', 'robs', 'anna', 'backwards', 'sleep', 'energy', 'penny', 'deer', 'readiness', 'epi', '09061790125', 'met', 'clocks', 'entered', 'tncs', 'mycalls', 'greeting', 'neft', 'optout', 'men', '430', 'tallent', 'yer', 'bck', '1st4terms', 'decades', 'ppt150x3+normal', 'wkly', 'edhae', 'ups', 'hungry', 'sue', 'bit', 'dload', 'swing', '12hrs', 'mns', '6230', 'shrink', 'how', 'learned', 'gudnyt', '08706091795', 'dasara', 'goto', 'gas', 'bleak', 'shoes', 'fond', '61200', 'problems', 'fired', 'sc', 'aust', 'www.win-82050.co.uk', 'bb', 'confirm', 'next', 'yours', 'freephone', 'phrase', 'hero', 'kane', 'belligerent', 'thrown', 'culdnt', 'booty', 'panicks', 'receipts', '07732584351', 'princes', '8lb', '80878.', 's.this', 'lac', '450pw', 'videosound', 'icicibank.com', 'recd', 'bluetoothhdset', 'nowhere', '5-sankatmochan', 'baig', 'necessity', 'fuckinnice', \"'maangalyam\", 'sighs', 'skilgme', 'ams', 'dey.i', 'crap', 'disasters', 'dignity', '255.', '-no', 'aproach', 'eastenders', 'enketa', 'community', 'jeevithathile', 'fujitsu', 'weather', 'basq', 'downloaded', 'kochi', 'sian', 'days.will', 'wrecked', 'girl', 'died', 'tookplace', 'religiously', 'mother-in-law', 'missing', 'fav', 'http//tms', 'jsut', 'tnc', 'www.sms.ac/u/goldviking', 'lavender', 'restocked', 'dungerees', 'jb', 'complain', 'pouch', 'freinds', 'os', 'gower', 'christmas', 'decide', 'sdryb8i', 'area', '3680', 'pt2', 'lool', 'cribbs', 'pillows', 'lips', 'ones', '30pp/txt', 'alaikkum.pride', 'argument', 'dentist', '10p/min', 'lifebook', '69855', 'beta', '4fil', 'freemsg', 'lord', '09050000301', 'noon', 'barcelona', 'gyno', 'unless', 'representative', 'reassuring', 'completely', 'we', 'kodthini', 'uncut', 'accident', 'postal', 'dresser', 'tasts', 'guai', 'aldrine', 'headin', 'w1t1jy', 'alright', 'keeping', 'sathy', 'doublemins', 'cars', 'sucks', 'mahal', 'foned', 'tarot', 'customer', 'se', '09066362206', 'boston', 'chapter', 'bt-national-rate', 'copy', 'yuou', 'panther', 'goverment', 'opposite', 'prince', 'soundtrack', 'smeone', 'fgkslpopw', 'pendent', '40mph', 'spaces', 'account', 'tissco', '4u.i', 'reaction', '4742', 'reunion', 'pale', 'reckon', 'subscribe', 'arise', 'disappointment', 'exist', 'price', 'friendship', 'carefully', 'dang', 'fredericksburg', 'c.', '£75,000', 'unsecured', 'url', '-p', 'footie', 'blame', 'nearer', 'practicing', '2wt', 'showr', 'kama', 'rock', 'mc', 'ref:9307622', '+cheer', 'lucozade.co.uk/wrc', 'whilltake', 'cro1327', 'healer', \"''\", '08719839835.', 'caught', 'tscs08714740323', 'twenty', 'formally.pls', 'per', 'loneliness', '£1000', 'brother', 'prashanthettan', 'prem', 'poet', 'care', 'wrk', 'converted', 'breakfast', 'fat', 'jet', 'spam', 'drop', 'teju', 'medicine', 'video/pic', 'bcm1896wc1n3xx', 'able', 'saristar', 'wishes', 'contacted', 'leg', 'court', 'pull', '\\x91morrow', '4.47per', 'subscriptn3gbp/wk', 'can.dont', 'mobs', '1000s', '11.48', '350', 'premium', 'wishlist', 'locks', '5p', 'wrk.i', 'dialling', 'first-', 'ritten', 'earth', '1030', 'maintain', 'forced', 'wildest', 'hollalater', 'begging', 'profile', 'stopbcm', 'jaklin', \"y'day\", 'rays', 'finn', 'ard', 'elaborate', 'prone', 'power', 'location', '£1.50', 'aburo', '1.50p', 'psychiatrist', 'kusruthi', 'bull', '1er', 'tiime', 'devouring', 'nxt', 'young', 'tie-pos', 'adventuring', '400', 'nokia6600', 'coherently', 'message', 'cc', 'forever', 'headache', 'himso', 'tigress', 'bill', 'hunting', 'camp', 'callfreefone', 'waqt', 'capacity', '09065394973', 'promise', 'truro', 'bawling', '021', '2667', 'sk38xh', 'too.pray', 'too.lets', 'sd', 'jap', 'tensed', 'lindsay', 'bros', 'proper', 'ela', 'hurts', 'dhorte', 'escalator', 'spring', 'expression', \"i'ma\", 'yeh', 'disastrous', 'trying', '09058091870', 'tomorrow/today', 'thot', 'flowing', 'it+both', 'missed', 'goodmorning', 'lush', 'woke', 'fallen', 'help:08700469649.', 'splash', 'thus', 'tea', 'indian', 'player.why', 'gv', 'reserved', 'dull', 'brief', 'senrd-dnot', 'cousin', 'john\\x94-sounds', 'set', 'propose', 'training', 'aiyo', 'farting', 'joined', 'duvet', 'birthday', 'elaine', '6.45pm', 'songs', 'ktv', 'teaches', '83049.', 'get4an18th', 'visionsms.com', 'quiz.win', 'outgoing', 'ing', 'driving', 'ava', 'gained', 'evone', 'basket', 'lounge', 'box1146', '08718726970', 'b4u', 'warner', 'jeremiah', 'bread', 'ahold', 'nething', 'never', 'punishment', 'stay', 'taj', 'stuff.leaving', 'fix', 'mis', 'woozles', 'earn', 'womdarfull', 'mum', 'styling', 'gpu', 'mother', 'dysentry', '=d', 'desires-', 'cud', 'shld', 'cover', 'evening', 'divert', 'admission', 'docks', 'jot', '121', 'fantasy', 'm26', 'trackmarque', 'fund', 'realized', 'calculated', 'poly3', 'upcharge', 'blacko', '41782', 'gent', 'dear', 'papa', 'sunlight', 'while', 'swimsuit', 'anonymous', '20/f', 'trainners', 'reason', 'advice', 'shoulders', 'salary', 'sarcastic', 'shanil', 'btw', '8.attractive', 'raj', 'moby', 'nr31', '0796xxxxxx', 'bowls', 'gastroenteritis', 'playing', 'lodge', 'e=', 'driver', '85023', 'ivatte', 'v.', 'smacks', 'camera', 'wonderful', 'drunkard', '09064018838.', 'java', 'gei', 'tap', 'miracle', 'thoughts.i', 'jason', 'scenario', 'bc', '5.gardener', 'gauti', 'booking', 'premarica.kindly', 'smartcall', 'callertune', 'espe', 'hmmm.still', '150p/sms', 'soon', 'pears', 'china', 'prove', 'brain', 'turkeys', 'nachos', '08000930705', 'marsms', '69866.18', 'cash', 'tc-llc', 'arab', 'garage', 'success', 'woohoo', 'bye', 'ryan', '63miles', 'uks', 'e-threats', 'successfully', 'box326', '83110', 'likeyour', 'hopeful', 'natalie', 'raping', '1stone', 'sory', 'e.g.23g', 'alot', 'spoon', 'latelyxxx', '2c', 'market', 'scrumptious', 'rcv', '13/10/04', 'vomit', 'members', 'den', 'tsandcs', 'completes', '//www.e-tlp.co.uk/expressoffer', 'hi.what', 'oreos', 'classic', 'openin', '21', 'pmt', 'abj', 'web', 'mint', 'www.clubmoby.com', 'my-tone.com/enjoy', 'rite', '645', 'range', 'it\\x92s', 'sitting', 'bsnl', 'overdose', 'surf', '2channel', '7oz', 'join', 'contribute', 'recorded', 'excuses', '``', 'bid', 'unfolds', 'hiya', 'vijay', 'uk', 'jide', 'joanna', 'ideas', 'annoncement', 'vaguely', 'code', 'jetton', 'toughest', 'cost', 'haircut', '83600.', 'punch', 'burns', 'ollu.but', 'ha', 'work', 'lolnice', '50p/msg', 'iphone', 'plumbing', '4.50.', 'exchanged', 'performed', 'fudge', 'na-tuition', 'pest', 'd=', 'loosu', 'mwahs', 'knows', 'otherwise', 'byatch', 'asia', 'www.b4utele.com', 'valuable', 'reslove', 'ditto', 'lect', 'eighth', 'spiritual', 'maga', 'sayin', 'herself', '89105.', 'guessed', 'farrell', 'jump', 'callcost', '81618-', 'id.convey', 'swimming', 'dr', \"b'tooth\", 'bitch', 'ugh', 'shot', 'comin', 'waking', 'minded', 'tall', 'pathaya', 'kingdom', 'blog', 'switch', 'eleven', '0870241182716', 'absolutly', 'reacting', 'elsewhere', 'bet', 'concentration', 'wit', 'geoenvironmental', 'maretare', 'neglect', 'nigeria', 'missunderstding', 'netcollex', 'challenging', 'mecause', 'holy', 'goodmate', 'fuuuuck', 'taxi', 'rightly', 'cuddle', 'british', 'costs', 'oz', 'cme', 'mountains', 'didntgive', 'shoul', 'football', 'hang', 'fring', 'frosty', 'restaurant', 'k.then', '24', 'week-stop', 'describe', 'glo', 'touch', 'boobs', '\\x96', 'haiz', 'mad.then', 'tom', 'hotmix', 'blank', 'oblivious', '09061743386', 'buzy', 'rocks', 'when', '4txt/ú1.20', 'transcribing', 'flute', 'minutes', 'visit.need', 'behind', 'posted', 'rebooting', 'wif', 'prize', 'praying.will', 'calls£1/minmobsmorelkpobox177hp51fl', '09058095201', 'goods', 'scallies', '£100', 'www.asjesus.com', 'lib', 'chaps', 'mad1', ')', 'spark', '08719899230', 'cares', 'zoom', 'bruv', 'install', 'possibility', 'wthout', 'poured', 'hoped', '87070', 'ctter', 'beehoon', 'gently', 'office', 'shy', 'transfr', 'shola', 'pressure', 'her.love', 'also', 'begun', 'buffet', 'eh74rr', 'sculpture', 'their', 'pobox334', 'shrub', 'playin', '3optical', '10th', 'kid', 'chip', 'dusk', '/colour', 'treadmill', \"er'ything\", '08002988890', 'box245c2150pm', 'pehle', 'taste', 'o', '2i', 'dolls', 'helping', '5226', '82324.', 'returned', 'net', 'chat', 'cashto', 'lines', 'defo', 'i-ntimate', 'fps', 'asking', 'tok', 'job', 'specialisation', 'gimmi', 'aboutas', 'thursday', 'yards', 'old', 'kaila', 'fiend/make', '450ppw', 'okmail', 'paypal', 'hallaq', 'atlanta', 'used', '220-cm2', 'horse', 'arng', 'seat', 'instant', 'social', 'bone', 'apt', 'unicef', '08718723815', 'prompts', 'roller', 'pending', 'killed', 'lingo', 'www.ringtones.co.uk', '82468', 'entropication', 'amrita', 'wihtuot', '946', 'others', 'kodstini', 'signing', 'login', 'comes', 'practical', 'sis', 'india', 'cup', 'ileave', 'parked', '89034', 'laurie', 'olol', 'album-quite', 'nitz', 'exactly', '650', 'maximize', 'shuhui', 'hows', 'looked', 'short', 'broken', 'dodgey', 'expires', 'starve', 'mnths', 'mobstorequiz10ppm', 'oops', 'agents', '7.shy', 'shake', 'grl', '100', 'sch', 'description', 'tuth', 'rem', 'haiyoh', '...........', '09061790121', \"it'snot\", 'randomlly', 'wright', 'contented', 'chg', 'occupied', 'aroundn', 'dip', 'starts', 'evry1', \"did't\", 'honeybee', 'becomes', 'toa', '8-8:30', '85233', 'bids', 'shove', 'learn', 'significance', 'snow', 'frnds', 'ish', 'oreo', 'jungle', 'aries', '29/10/0', 'invaders', 'lifetime', 'umma', 'lul', 'problem.i', 'studying', 'shijas', 'factory', 'outside', 'sit', 'dice', 'today.good', 'card', 'capital', 'themob', 'violated', 'centre', '4few', 'de.am', 'cash-in', 'www.movietrivia.tv', 'spirit', 'wad', 'boyf', 'repairs', 'don\\x92t', 'goals/team', 'cartoon', 'scotch', 'sorrows.i', 'thought-', 'irritation', 'pockets', 'nalli', 'hoody', 'bettersn', 'hanging', 'mate', 'carlos', 'dirt', 'splleing', 'fights', 'hearts', \"'taxless\", '£250', 'snake', '7-mahaveer', 'eviction', 'bcoz', 'innu', 'drizzling', 'meatballs', '7th', 'cared', 'ambrith', 'spreadsheet', 'beg', 'xxxxx', 'sleepin', 'fucked', 'kano.', 'b4', 'woo', 'sold', 'drastic', 'call2optout/674', 'chad', '2/3', 'anythiing', 'wallpaper-all', 't-ruthful', 'dao', 'neck', 'laughs', 'lobby', '42810', 'prasanth', '7zs', 'move', 'sf', 'hlp', 'messaged', 'prize.to', 'jack', 'howu', 'bold2', 'babygoodbye', 'browsin', 'dine', 'westonzoyland', 'resend', 'cr', '2-bajarangabali', 'genius', 'skint', 'insects', 'seemed', 'rply', 'tt', '1/2price', 'day.', '80488.biz', 'jenne', 'je', 'bridge', 'ext', 'his', 'checkmate', 'bian', \"'uptown\", 'adp', 'chef', 'panties', '09099726481', 'atm', 'emigrated', 'error', 'salmon', 'genus', '09061702893.', 'askd', 'dino', 'known', 'where', 'plaid', 'possessiveness', 'brilliant', 'valued', 'gsex', 'paperwork', 'lov', '£50', 'prolly', 'private', 'reply-', 'smiling', 'sell', 'heavy', 'txting', 'shadow', 'asthma', 'wish', 'census', '30', '09066649731from', 'cn', 'yam', 'sore', 'pre-book', 'banned', 'cuddled', 'suddenly', 'donno', 'you/carlos', 'urfeeling', 'pain.it', 'decimal', 'easy', 'enjoyin', 'nicky', 'once', '87131.', 'goal', 'agency', 'contains', '7+2+5=', 'notebook', '£350', 'ws', 'tues', 'complexities', '7250', 'ashes', 'zouk', 'underwear', 'dartboard', 'hello-ed', 'process.networking', 'stayed', 'booked', '2day.love', 'thesmszone.com', 'words.evry', 'fun', 'dontignore', 'professors', 'making', 'fr', 'consent', 'laundry', 'breadstick', 'shijutta', 'gbp/week', 'tosend', 'dunno', 'confused', 'everyboy', 'smarter', 'adore', 'series', 'attempt', 'topic', 'approaches', 'acted', 'questions', 'ayo', 'c', 'fifteen', 'ibored', 'of£2000', 'ls1', 'onum', 'sonathaya', 'minuts', 'looks', 'also.or', 'life.you', 'frequently', 'wondar', 'starshine', '-via', 'evrey', 'err', 'caps', '6669', 'help:08712400602450p', 'three', 'reply', 'wating', 'ga', 'wondering', 'prof', 'tome', 'sptv', 'ibhltd', 'self', 'praises', 'vitamin', 'do.interested', '1/1', 'canceled', 'inform', 'bullshit', 'fizz', '1131', 'reverse', '9+2+4=', 'merry', \"'melle\", 'thirunelvali', 'like', 'coupla', 'lesson', 'hurricanes', 'logos', 'useless', 'ors', 'managed', 'speed', 'victors', 'motive', 'bcmsfwc1n3xx', 'roommates', 'celebration', 'tayseer', 'surya', 'mushy', 'beauties', '2003', 'specific', 'lie', 'outstanding', 'penis', 'shite', 'petey', 'leonardo', 'become', 'only1more', '6.romantic', '09050003091', 'exmpel', 'mornin', 'finance', 'experience', 'pure', '£54', '3miles', 'lnly', 'ondu', 'loosing', 'dual', 'miiiiiiissssssssss', 'is-', 'electricity', 'turning', '3.sentiment', 'sheffield', 'yar', 'nuerologist', 'hcl', 'asda', 'mcfly-all', 'rights', 'zogtorius', 'now.onion', 'bus', 'kz', '85.', 'woman', 'fell', '81303.', 'realised', 'snappy', 'lage', 'further', 'store.like', '09058094583', 'euro2004', 'fold', 'prix', 'nimbomsons', 'adam', 'gep', 'olage', 'hits', 'karnan', 'objection', 'ctla', 'havbeen', '0844', 'statements', 'changes', '........', 'impression', 'visiting', 'thasa', 'escape', 'shirt', '2gthr', 'allowed', 'character', 'pa.', 'memorable', '85222', 'beloved', '087018728737', 'bein', 'thepub', 'breaker', '150', 'slip', '9061100010', 'opening', 'i.ll', 'given', 'dryer', 'laid', \"don't4get2text\", 'already', 'stewartsize', 'hlday', 'videochat', '4got', 'smoke', 'leftovers', 'velachery', 'amore', 'snowball', 'expert', 'stopped', 'doesn', 'missy', 'purchase', 'sunday', 'canary', 'anyone', '300', 'begin', 'killing', 'tip', 'amused', 'order', 'tenants', 'every', 'recently', 'hell', 'send', 'midnight', 'matched', '81010', 'weirdest', 'catching', 'law', 'gut', 'offdam', 'address', 'mess', 'unbelievable', 'picking', 'hp', 'consider', '89080', 'born', 'puppy', 'crab', 'guide', 'abuse', 'appropriate', 'trouser', '24hrs', 'fools', 'gray', 'denis', 'album', 'that\\x92s', 'stressfull', 'headstart', 'practice', 'logo/pic', 'valid12hrs', 'dramastorm', 'nammanna', 'gloucesterroad', 'www.txttowin.co.uk', 'snd', 'zhong', 'stunning', 'reach', 'watts', '-apples', 'memories', 'bowl', 'smsservices', 'compensation', 'haven', 'answer', 'lions', 'feelin', 'yo', 'insurance', 'games', 'arithmetic', 'seriously', 'issues', 'lovly', 'should', 'mine', 'polyphonic', \"'anything\", 'nitros', 'yowifes', 'stressed', 'usually', 'twiggs', 'dismissial', 'you', 'networks', 'suffers', 'accomodations', 'meanwhile', 'souveniers', '08712402972', 'test', 'listened2the', 'dooms', 'listening', 'k.i', 'weekend', 'shortage', 'giving', 'building', 'reminds', 'continue', 'atlast', 'hav2hear', 'alter', '87121', 'despite', 'ground.amla', 'ou', 'texted', '130.', 'monday', 'joke', 'www.bridal.petticoatdreams.co.uk', 'closer', 'nb', 'addamsfa', 'concentrate', 'born.please', '6031', 'as', 'thank', 'srsly', '24/10/04', '£79', 'm227xy', 'x49.your', 'edward', 'listn', 'cozy', 'aunties', 'careful', 'impressed', 'value-morning', 'tootsie', 'mailbox', 'unnecessarily', 'ls278bb', 'tram', 'floppy', 'before', 'calling', 'wot', '600', 'kr', 'deal', 'millions', 'relationship', '864233', 'nearby', 'for', 'senthil.hsbc', 'phonebook', 'nurses', 'arrive', 'tonsolitusaswell', '2ez', '5/9/03', 'nok', 'nikiyu4.net', 'chloe', 'bhaji', 'tke', 'sane', '087187272008', 'cha', 'sales/pee', 'chief', 'olowoyey', '2moro', 'csh11', 'txtauction', 'tension', 'mt', 'buen', '//www.urawinner.com', 'ta-daaaaa', 'uncountable', 'kay', 'barolla', 'sorts', 'suite', 'token', 'hypertension', 'handset', 'rinu', 'faglord', 'pro', 'wet', 'at/your', 'nokia/150p', 'mtnl', 'barely', 'owl', 'soon.c', 'ducking', 'ar.praveesh', 'somewhat', 'base', 'perform', 'rebel', 'please', 'repeat', 'hari-', 'clubsaisai', 'eh', 'lot', 'mf', 'outdoors', 'kg', 'lately', 'ffffuuuuuuu', 'her.i', 'probpop', 'ammae', 'entertaining', 'teletext', 'simpler', 'baller', 'shitstorm', 'elaya', 'ending', 'hr', 'madodu', 'woodland', 'categories', 'shop.we', '1.20', 'silence', 'dps', 'magical', 'qlynnbv', 'guidance', 'prizeawaiting', 'juswoke', 'sk3', '09090900040', 'lacs.there', 'poker', 'haf', 'thinked', 'da', 'friday.hope', 'comment', 'smaller', 'yes-165', 'checkboxes', 'mitsake', 'mmmm', 'oncall', '150p/rcvd', 'edukkukayee', 'badass', 'no:83355', 'chk', 'tick', 'me.i', '0776xxxxxxx', 'necessary', 'mates', 'box95qu', 'way', 'google', 'hassling', 'toss', 'c-in', '0825', 'laughing', 'mutai', 'blake', 'the4th', 'ayn', 'is/are', 'wrc', '£1.50/week', 'obedient', 'nails', 'white', 'moving', '7cfca1a', 'leona', 'computerless', 'caroline', 'xoxo', 'w45wq', '09066358361', 'alertfrom', '2007', 'dubsack', 'crckt', 'n', '/', 'yummmm', 'bottle', 'gud', 'armand', 'lyf', 'survey', 'throwin', 'yes-440', 'yavnt', 'hates', 'rob', 'roads', 'dehydrated', 'ashley', 'dirty', 'bday', 'participate', 'heading', 'isv.important', 'ofsi', '1.50', 'fals', 'quote', 'doin', 'ge', 'webpage', 'print', 'number-so', 'stand', 'tests', 'children', 'oblisingately', 'wind', 'newquay-send', 'build', '£1.50p', 'eating', 'hail', 'seekers', 'uneventful', 'usb', '>', 'asleep', 'file', '3030', 'thesis', 'entertain', 'drivin', 'sashimi', 'bootydelious', 'trishul', 'holder', 'kl341', 'http', 'request', 'practising', 'appreciate', 'fruit', 'aletter', 'hudgi', 'closeby', 'opted', 'now.i', 'goggles', 'poyyarikatur', 'its', '2b', 'accounts', 'abbey', 'thatmum', 'lick', 'features', 'unbreakable', 'usual', 'warwick', 'interfued', 'smart', 'txt250.com', '83383.', \"is'love\", 'increase', 'ello', 'pobox1', 'earlier-we', 'calling.forgot', 'review', 'li', 'anniversary', 'banneduk', '83600', 'woould', 'house', 'arsenal', 'gate', 'ericsson', 'mega', 'guild', 'fourth', 'returns', 'hotmail.com', '28th', 'miserable', 'appreciated', 'general', 'browse', 'fatty', 'member', 'sized', 'empty', 'msg', 'swear', 'wheat', 'partnership', 'sim', 'marley', 'app', 'panren', 'subsequent', 'sells', '09058097218', 'cthen', 'single', 'cd', 'sprint', 'mind', 'concentrating', 'figure', 'samus', 'loyal', '09066368470', 'manageable', 'thanx', 'joking', 'cliff', 'sugar', 'colany', 'ultimate', 'bimbo', 'frndship', 'lists', 'addie', '4882', 'update_now', 'lazy', 't-mobile', 'peeps', 'ethnicity', 'such', 'conveying', 'edison', 'apparently', 'starwars3', 'hmph', 'lotsly', 'afternoon', 'blastin', 'case', 'relation', 'fed', '07753741225', 'pros', 'charlie', 'logged', 'amazing', 'asus', 'singles', 'nickey', '+get', 'premier', 'haven\\x92t', 'collapsed', '£3/wk', 'research', 'def', 'glass', 'dancing', '09058094599', 'woken', 'fri', 'fletcher', '02085076972', 'sticky', 'him', 'toking', 'anyones', 'beatings', '88039', 'mrt', 'naal', 'chase', 'either', 'chest', 'instead', 'haughaighgtujhyguj', 'sem', '.lovable', 'too', 'gr8', 'solve', '1843.', 'user', 'certificate', 'taka', '87066', 'cdgt', 'professional', 'hp20', 'monkeyaround', 'stamped', 'confirmed', 'spanish', 'tmr', 'kb', 'snoring.they', 'heehee', 's', 'wed', 'honestly', 'mouse', 'sent', 'apps', 'farm', '150ppermesssubscription', 'sao', 're-send', 'frnt', 'insha', 'related', 'proof', 'wined', 'sofa', 'ger', 'uv', 'cc100p/min', '09066660100', 'nottingham', 'v-aluable', 'using', 'filthy', 'halla', 'b4280703', '2hook', 'nick', 'slots', 'uawake', 'days', 'constant', 'elvis', 'wan', 'club', 'mr', 'honeymoon', 'peak', 'queen', 'rocking', 'leading', 'zaher', '69669.', 'london', '07008009200', 'covers', 'love', 'getsleep', 'audrie', 'envy', 'machan', 'charming', 'blu', 'undrstnd', 'murder', 'systems', 'return', 'avble', '09064019788', 'answr', 'toyota', 'felt', 'dined', 'strewn', 'female', '.very', '5+3+2=', 'sariyag', 'txtin', 'deck', 'brolly', 'justthought', 'twat', 'evng', 'by\\x94leafcutter', 'unclaimed', 'asssssholeeee', 'zeros', 'racing', 'pix', 'to', '08452810073', 'plural', 'virgin', 'two', 'musical', 'ilol', 'probably', 'refreshed', 'gota', 'zealand', 'sudn', 'tmorrow.pls', 'luckily', 'bevies.waz', 'brin', 'hunks', 'exam', 'page', 'local', 'offered', 'smith', 'coat', 'x', 'promotion', 'behalf', 'kicks', 'tscs', '3uz', 'enjoyed', 'bx420-ip4-5we', 'pen', 'pictures', 'ignore', 'firefox', 'gopalettan', 'soon.xxx', 'jia', 'imposed', 'life.and', 'draw', 'reality', 'splashmobile', 'newport', 'xchat', 'orc', 'mums', 'against', 'nit', 'death', 's.i.m', 'fluids', 'marandratha', 'ploughing', \"'heart\", 'instructions', 'butting', '08081263000', 'euro', 'japanese', 'logos+musicnews', 'kissing', 'spot', 'ujhhhhhhh', 'treated', 'boyfriend', 'pounded', 'canteen', 'amrca', 'lit', 'finest', 'painful', 'quizzes', 'data', 'shb', 'ya', 'fighting', 'filled', '4.30', 'alaipayuthe', 'worlds', 'threw', 'crowd', 'makin', '10ppm', 'listener', 'fails', '3mins', 'might', '09066362220', 'turns', 'okden', 'iwana', 'inclusive', \"'s\", 'stayin', 'fear', 'officially', '151.', 'itz', 'rv', 'engaged', 'pobox', '087147123779am-7pm', 'arun', '£10,000', 'fats', 'expects', 'dangerous', 'watchin', '£50-£500', 'soz', 'meds', 'tomarrow', 'wk', 'g', '83738.', 'sam', '.please', 'gain', 'acnt', 'rvx', 'regards', '02/06/03', '09050002311', 'dock', 'sharing', 'shell', '2hrs', 'attributed', 'grown', 'rearrange', 'ad', '300603', 'question', 'gymnastics', 'flip', 'entey', '28', 'recieve', 'bluff', 'cnl', 'algarve', 'an', 'ph:08700435505150p', 'supplies', 'limiting', 'mentionned', 'showed', 'affection', 'corrct', 'svc', 'videophones', 'immed', 'blue', 'dhina', 'x2', 'www.4-tc.biz', 'inch', 'virgins', 'dileep.thank', '–', 'internet/service', 'meat', 'wylie', 'percentages', 'landlines', 'pending.i', 'bars', 'cts', '500', 'eight', 'seh', 'video', 'track', 'pulls', '8', 'experiencehttp', 'scrappy', 'freaked', 'groovying', 'ridden', 'britney', '8027', '0870737910216yrs', '-|', 'huge', '505060', 'fall', 'operator', 'tolerat.bcs', 'walk', 'seen', 'hungover', 'town.dontmatter', 'wer', '1405', '2005.', 'dammit', 'burning', 'thousands', 'workage', 'thew/end', \"did'nt\", 'tips', '2bold', 'gold', 'bcum', '2marrow', 'veggie', 'csc', 'puzzles', 'freshers', 'mist', 'earlier', 'dealer', 'w111wx', '4jx', '?', 'rt-king', 'especially', 'boltblue', 'xuhui', 'mundhe', 'aiyah', '6missed', 'celebrate', 'pay', 'amt', 'marking', 'amanda', 'lodging', 'ahead', 'cave', 'erupt', 'evo', 'teachers', '&', 'wifi', 'birth', 'smells', 'excellent', 'park.6ph', 'god.you', 'e.g', 'funny', 'www.fullonsms.com', 'normally', 'foundurself', 'begins', 'anand', 'les', 'individual', 'nonetheless', 'ahhhh', 'weakness', \"tm'ing\", '/oz', 'hmv', 'somtimes', 'fees', 'brownies', 'latest', '08717898035', 'unknown', 'manege', 'hols', 'space', 'found', 'incorrect', 'jog', '08712466669', '20', '\\x93it', 'money.i', 'i\\x92d', 'nag', 'tv/', '2mrw', '20p/min', 'trained', 'neway', 'a£50', 'hesitant', 'saved', 'expired', '087016248', '786', 'nt', 'onam', 'dialogue', 'chechi', 'savamob-member', 'i.', 'aquarius', 'lift', 'watchng', 'merememberin', '//www.wtlp.co.uk/text', 'batt', 'maaaan', 'slowly.', 'cant', 'credits', '09065171142-stopsms-08', 'depression', 'hockey', 'broke', '3wks', 'finalise', 'aft', 'ful', 'came', 'memory', 'fuelled', 'stable', 'unconscious', 'pack', 'zebra', 'rakhesh', 'patients', 'includes', 'valentines', 'fridays', '.dont', 'cstore', 'everybody', 'waiting', 'corvettes', 'announcement', 'ibm', 'stolen', 'lab', 'cooperative', 'ive', 'sign', 'posible', '0800', 'stdtxtrate', '................', 'spatula', 'meet+greet', 'ingredients', 'points', 'voice', 'created', 'steps', 'xxxxxx', 'needing', '82277', 'laptop', 'weed-deficient', 'iriver', 'piggy', 'doctor', 'diwali', 'alle', 'chez', 'hairdressers', 'luton', 'ure', 'powerful', 'fake', 'knickers', 'beads', 'ennal', 'sugababes', 'deals', 'yan', 'ask', 'record', 'early', 'walmart', 'club4mobiles.com', 'xxx', 'arrested', 'busty', 'mandy', 'head', 'difficult', 'g.', 'posts', 'thru.respect', 'hopeu', 'pubs', 'schedule', 'greatly', 'fever', 'imf', 'jumpers', 'errors', 'la3', 'fingers', 'colour=red', 'drinkin', '8.lovable', 'main', 'site', 'eppolum', 'jen', 'sar', 'fixd', 'spoil', 'breathing', 'suntec', 'l8r', 'hopeing', '402', 'traveling', 'benefits', 'cell', 'outages', 'lowes', 'ukp', 'downon', 'infections', 'apologise', 'digi', 'macha', 'collected', 'won', 'lane', 'leave', 'si', 'inmind', 'cool', '22', '0871-4719-523', 'heaven', 'spk', 'janinexx', 'riddance', 'nobbing', 'outfor', 'vegetables', 'uniform', 'shore', 'childporn', 'attending', 'tmw', 'assistance', 'lives', '530', 'big', 'bani', 'stomach', 'indians', 'happy', 'ola', 'westshore', 'class', 'though', '2yrs', 'history', 'flaky', 'years', 'dance', 'fish', 'sun0819', 'cheetos', 'listen', 'offer', 'iouri', 'med', 'call2optout/lf56', 'firsg', 'calls1.50ppm', 'moved', 'proverb', '09066382422', '3-u', 'sick', 'dramatic', 'pobox202', 'vargu', 'thinkin', 'then', '98321561', 'sary', 'brothers', 'sundayish', 'everyso', 'wuld', '2go', '545', 'compliments', 'extract', 'dorm', 'innings', 'kadeem', 'message.pandy', 'silver', 'custcare:08718720201', 'caring', 'interview', 'frankie', 'icky', 'nuclear', 'about', 'misss', 'man', 'lighters', 'permanent', '09061209465', 'monos', 'sooooo', 'vid', 'odalebeku', 'nor', 'sum1', 'txtno', 'spontaneously', 'hesitation', '1apple/day=no', 'beth', '.', 'started', '09061701444.', 'bleh', 'perumbavoor', 'www.flirtparty.us', 'kano', 'wrote', 'gari', 'plenty', 'arts', 'tp', 'bribe', 'passport', 'gibe', 'tb', '09061744553', 'slovely', 'asked', '2nite-tell', 'flavour', '80', 'intention', 'massage', 'board', 'family', 'offense', '2morro', 'maturity', 'moves', 'forfeit', 'lancaster', 'banks', 'lookatme', 'konw', 'prods', 'jay', 'comprehensive', 'fans', 'uk-mobile-date', '2rcv', 'wahleykkum.sharing', 'ec2a', 'f', 'oja', 'gaps', 'rudi', 'any', 'hrishi', 'craving', 'embarassed', 'dying', 'karaoke', 'watch', 'irulinae', 'disconnect', 'sumfing', 'geeee', 'newscaster', 'pants', 'getting', 'treats', 'sexual', 'id', 'grinule', 'gnt', 'yesterday', 'lol', '08719899217', 'actually', 'karo', 'bathe', 'n=qjkgighjjgcbl', '-pls', 'say/ask', '08717205546', 'put', 'sat', 'deleted', 'ago', '08701752560', 'www.textpod.net', 'way2sms.com', 'yes-910', 'aretaking', 'jenxxx', '10.1mega', '£1250', 'ubi', 'wikipedia.com', '27/03', 'incident', 'enna', 'probs', 'racal', 'mostly', 'lacs', 'colleagues', 'teeth', 'daywith', 'inperialmusic', 'ar', 'differences', 'pleassssssseeeeee', 'ceiling', 'mas', 'boost', 'stylist', 'independently', 'connection', 'consistently', 'fast.pls', 'paces', 'from', 'captain', 'moments', '4info', 'spacebucks', 'ttyl', 'brothas', 'pan', 'jersey', 'cruise', 'amy', '07786200117', 'www.sms.ac/u/natalie2k9', '8-hr', 'specialise', 'inconvenient', '83383', 'there.goodnight', 'gr8fun', 'sorry-i', 'hav', 'ticket', 'kiosk', 'dogwood', 'kicchu', 'sat.love', 'pairs', 'round', 'united', 'awkward', 'dear.with', '20m12aq', 'dane', 'mmmmm', '08707808226', 'brownie', 'flies', 'arms', 'showrooms', '3mobile', 'beautiful', '4txt/120p', 'carryin', 'library', 'mising', 'housewives', 't.b', 'u.', '2exit', 'misfits', 'diapers', 'want', '.........', 'airport', 'swoop', 'ag', 'were', 'timing', 'bedrm', 'cutie', 'das', 'fieldof', 'angels', '09050000332', 'applyed', 'gift', 'motivating', 'hunny', 'preferably', 'ride', 'overa', 'swan', 'home.left', 'feeling.wavering', 'measure', 'rawring', 'gail', 'bathroom', 'doinat', 'healthy', 'fa', 'tops', 'source', 'peace', 'desparate', 'holiday', 'art', 'converter', 'than', 'deciding', 'helloooo', 'sayy', 'drunk', 'perspective', 'voted', 'slaaaaave', '89545', 'samantha', '88088', 'nokia', '449050000301', 'achieve', 'tells', 'avalarr', '4my', 'www.sms.ac/u/nat27081980', 'dodda', 'shoppin', 'ultimatum', 'wonder', 'one', 'tank', 'rajnikant', \"'ve\", 'miles', 'want2come', '08700621170150p', '09063440451', 'wc1n', 'brainy', 'possessive', 'flung', 'diseases', '4.cook', 'fantasies', 'outfit', 'discreet', 'suits', 'delayed', 'machi', 'hear', 'hundred', '£900', 'shared', 'tht', 'm39m51', '08714712412', 'thriller', 'attitude', 'commit', 'weiyi', 'freek', 'asap', 'thinks', 'necessarily', 'fidalfication', 'iyo', 'student', 'through', '3680.offer', 'chikku', 'ok', 'courageous', '1.5p/min', 'tog', 'co', 'company', 'wt', 'ig11', 'dvg', '1st', 'wana', 'domain', 'sad', 'engin', 'msn', 'soft', 'pc', 'isn\\x92t', 'sterling', 'doesnt', 'dinner', 'told', 'november', '08715205273', 'province', 'seems', 'records', 'youphone', 'mahfuuz', 'so.so', 'com', 'urself', 'wait.i', 'dis', 'determine', 'kidz', '07090298926', 'ettans', 'toshiba', 'someone', 'spoiled', '£250k', 'mobileupd8', 'gist', '£5000.00', 'printer', 'closingdate04/09/02', 'genuine', 'sweater', 'phews', 'yalrigu', '.gud', 'played', '09111030116.', '£1,500', 'a30', 'aah', 'transport', '08718738034', 'strongly', '09063442151', 'collecting', 'pounds', 'box42wr29c', 'growing', 'propsd', 'literally', 'crucial', 'improved', 'macleran', 'networking', 'unlike', '08000407165', 'directors', 'friday', 'unable', 'ow', 'angry', 'clock', '5000', 'reg', 'slob-', 'drinking', 'sexy', 'trial', 'voicemail', 'swashbuckling', 'increments', 'munsters', 'yahoo', '3pound', 'corrupt', 'housing', 'pdate_now', 'nice.nice.how', 'arul', 'plus', 'florida', 'motherfucker', 'national', 'sexiest', 'hyde', 'lager', 'ph:08704050406', 'dena', 'fan', 'break', 'evry', 'flatter', 'shattered', 'cakes', 'times', 'resubmit', 'eat', 'means', 'legal', 'many', 'monkey', 'priya', 'items', 'accessible', 'opt', 'tot', 'www.txt43.com', 'tmrw', 'theacusations', 'ishtamayoo', 'hurt', 'office.thenampet', 'purse', 'itna', '30s', 'wow', 'n-atural', 'comfort', 'boundaries', '4years', '6times', 'listening2the', 'busetop', '09066364349', 'worst', 'sday', 'it.may', 'headset', 'ate', 'masters', 'landline', 'starting', 'faber', 'reasonable', 'qing', 'absolutely', 'realize', 'ppm150', 'twittering', 'strtd', 'necesity', 'address.u', 'weddin', '40411', 'lo', 'shouted', 'olayiwola', 'gm', 'worried', 'jus', 'mallika', 'outreach', 'algorithms', 'sehwag', 'callers', 'shall', 'support', 'contact', 'raksha', 'misscall', 'pride', 'chennai', 'accordin', 'tor', 'coin', '09050001808', 'nav', 'drms.take', 'leh', 'fret', '08712402050', 'platt', 'jobs', 'subscriber', 'gentle', 'lst', 'murdered', 'slap', 'division', 'qbank', 'jamster.co.uk', 'plm', 'transfered', 'nationwide', 'wendy', 'univ', 'generally', 'fancies', 'collages', 'vava', 'happiness', 'feelingood', 'tirupur', 'cuppa', '3x£150pw', 'simulate', 'chance', 'isn', 'j', 'until', '3qxj9', 'grief', 'bad-', '09058094455', 'complaint', 'thout', 'fifty', 'telphone', 'stupid.its', 'appt', 'blood.send', 'ltd', 'creative', 'geeeee', 'flaked', 'calicut', '08448350055', 'studdying', 'nauseous', 'pei', '450p', 'ummmmmaah', 'claims', 'cust', 'badly', 'owns', 'receivea', 'gotany', 'activ8', 'sports', 'rumour', 'cheque', '0871277810910p/min', 'psychologist', 'flyng', 'ordered', 'crammed', 'probthat', '02072069400.', 'rgent', '3100', 'sayhey', 'mu', 'mode', 'durban', 'treatin', 'carpark', 'ubandu', 'several', 'emerging', 'grams', 'bare', 'shitload', 'rodds1', 'i', 'cya', 'stylish', 'fried', 'reapply', 'sway', '09061701851.', 'credit', 'isnt', 'girlie', 'engagement', 'jerk', 'pics', 'differ.be', 'hello-', 'mustprovide', 'resolution', '2find', '-d', 'secret', 'ned', 'whatsup', 'hrs', 'comp.ofstuff', 'chick', 'randy', 'sp', 'nasdaq', 'onlyfound', 'stitch', 'max£7', 'cal', 'drove', 'zyada', 'sweet', 'howard', 'gigolo', 'clover', 'weasels', 'ended', 'adewale', 'safety', 'monthlysubscription', '83435.', 'channel', 'whoever', 'arises', 'shoving', 'choice', 'she', 'nz', 'lock', 'sweets', 'chillaxin', 'beauty', 'affectionate', 'settings', 'gotmarried', 'durham', 'university', '09061213237', 'oredi', 'shock', 'www.telediscount.co.uk', '4w', '528', '861', 'sweetheart', 'hut', 'transaction', 'horny', 'dawns', 'music', 'frauds', 'tait', 'agidhane', 'mittelschmertz', 'hhahhaahahah', 'mathe', 'ee', 'b\\x92day', '--', 'malarky', 'jos', 'exposes', 'submitted', '09065989180', 'satisfied', 'lunchtime', 'would', '-db-', 'illspeak', '-msg', 'payment', 'lololo', 'uve', 'smashed', 'poly', '24th', 'laughed', 'morn', 'call2optout/f4q=', 'completed', 'care.umma', 'margin', 'are', 'entirely', 'push', 'squeeeeeze', 'front', '-the', 'weekends', 'cochin', 'sitll', 'pool', 'va', 'gays', 'schools', '8.30', 'song', '3000', 'semiobscure', 'blessings', 'total', 'surprised', 'unsubscribe', 'rally', 'matric', 'understood', 'chik', '08719899229', 'feels', 'bought\\x94braindance\\x94a', 'yest', 'mountain', 'sake', 'colleg', 'pie', 'extra', 'virtual', 'kisses', 'pap', 'lambda', 'election', 'shelves', 'ambitious', 'bcaz', '£1/minmobsmorelkpobox177hp51fl', 'lose', 'wipro', 'application', 'bloomberg.com', 'exhaust', 'oral', 'aaooooright', 'journey', 'ebay', 'cedar', 'thirtyeight', 'strings', 'taken', 'you\\x92re', 'kalaachutaarama', 'haventcn', 'mummy', 'maybe', 'yoyyooo', 'motorola', 'wannatell', 'xxxmobilemovieclub', 'live', '£3.00', 'breaks', 'perfect', 'kiosk.valid', 'audiitions', 'wrking', 'bloomberg', 'emc1.co.uk', 'god', 'reaching', '9am-11pm', 'images', 'kitty', 'specify', 'hamper', 'luvd', 'night.nobody', '32/f', 'photoshop', 'oyea', '48922', 'battery', 'impatient', 'helpline', 'century', 'here', 'haul', 'jealous', 'lifted', 'onto', 'vipclub4u', 'doll', 'it.or', 'gibbs', 'properly', 'teach', '80488.', 'mumbai', \"'re\", 'face', 'tears', 'calld', 'missionary', 'resent', 'bro', '2years', 'antibiotic', 'pl', 'surrender', 'naughty', 'celebrations', 'kids', 'um', 'age16+£1.50perwksub', 'dontcha', 'rummer', 'consensus', 'chapel', 'hmm', 'dob', 'cry', 'crisis', 'foward', 'score', 'lor', 'assessment', 'male', 'junna', 'fated', 'props', 'joys', 'ans', 'thats', 'another', 'rule', 'buy', 'quickly', 'lady', 'leads', 'tightly', '6hrs', 'nevamind', 'tkts', 'madstini', 'n8', 'xclusive', 'attracts', 'ads', 'shun', '82242', 'long', 'analysis', 'curious', 'spile', 'denying', 'follows', 'asusual', 'sonetimes', \"'hw\", 'no1', 'kick', '.....', 'read', 'avin', '28days', 'bishan', 'rude', 'nothing', 'actin', 'promptly', 'buffy', 'else', 'street', 'hundreds', 'bcz', 'passed', \"b'coz\", 'ill', '11mths+', 'clearing', 'abta', 'eire', 'dependable', 'borrow', 'rp176781', 'embassy', 'luv', 'box177', 'www.smsco.net', 'england', 't-shirt', 'performance', 'slightly', 'competition', 'vth', 'entrepreneurs', 'tomo', 'box334', '40', 'smiled', 'dorothy', 'rumbling', 'cream', 'wedlunch', 'xxxxxxx', 'hello.how', 'sooner', 'buyer', 'mack', 'hardly', 'vijaykanth', '18/11/04', 'hen', 'cocksuckers', 'exams', 'avoids', 'brighten', 'hospitals', 'invitation', 'letter', '2wks', 'knee', 'side', 'press', 'swhrt', 'reception', 'unique', 'aging', 'hun', 'rice', 'acl03530150pm', 'lands', 'snuggles', 'ltd.', '4brekkie', 'grateful', 'cage', 'teaching', 'adults', 'facilities', 'pm', 'dressed', 'marriage', 'juliana', 'paragon', 'reassurance', 'opinions', 'shracomorsglsuplt', '21/m', 'identifier', 'cabin', 'thnq', 'whom', 'dudette', '£33:50', 'goigng', 'm221bp', 'theater', 'exciting', 'definitely', 'datebox1282essexcm61xn', 'force', 'yhl', 'box403', 'ds', 'tons', 'boo', 'facebook', 'thanksgiving', 'view', '£2.50', '5wb', 'tulip', 'doing', 'problum', 'avoid', 'bstfrnd', 'palm', \"'ll\", 'reveal', 'ls15hb', 'groovy', 'nt.swt', '80122300p/wk', 'njan', 'orh', 'hex', '542', 'computers', 'limit', 'laying', 'congratulations', 'crushes', '20,000', 'father', 'devils', 'ajith', 'uncomfortable', 'puts', 'your', 'nothin', 'field', 'congrats', 'food', 'liverpool', 'knowing', 'em', 'stands', 'amigos', 'max6/month', 'sheets', 'revealed', 'xafter', 'fyi', 'remembered', 'loans', 'bsn', '08712405022', 'izzit', 'humans', 'nightnight', 'brb', 'command', 'stars', 'wrks', 'wicket', 'sun', 'gender', 'blah', 'cash-balance', 'infact', 'milk/day=no', 'king', 'moment', 'cld', 'disagreeable', 'hip', 'pleasant', 'boy-y', 'delay', 'stick', '08712103738', 'evil', '-xx', '54', 'frog', 'so', 'sometime.rakhesh', 'mtalk', 'partner', 'lecture', 'cool-mob', 'second-', 'oic', '£1.50/msg', '85555', 'baaaaaaaabe', 'raining', 'www.phb1.com', 'xam', 'up', '800', 'say', 'fgkslpo', '07046744435', '£125', '125gift', 'previews', 'tones', 'athletic', \"you'ld\", 'loud', 'her', 'promises', 'yellow', 'system', 'sang', '08715203685', '08002888812', '4t', '£1.50pm', 'dehydration', 'second', 'hont', 'kickboxing', 'prakesh', 'nigro', 'astronomer', 'tablet', 'royal', 'porridge', 'korli', 'po', 'unhappy', 'popcorn', 'annie', 'bloo', '1-hanuman', 'theplace', '£200', 'formatting', 'temales', 'shu', 'feellikw', 'max10mins', 'followed', 'chrgd', 'delivered', 'door', 'lvblefrnd', 'allah.rakhesh', 'checking', 'between', 'vehicle', 'dokey', 'surname', 'said', 'nìte', 'events', 'surrounded', 'yeah', 'checked', '4a', 'no-762', 'wings', 'hi', 'sachin.just', 'greatest', 'full', 'attention', 'bomb', 'slo', 'matra', 'mistakes', 'passion', '0870141701216+', 'illness', 'chain', 'uncle', 'wuldnt', 'totes', 'outsomewhere', 'yrs', 'connect', 'allalo', '12:30', 'vettam', 'invention', 'clue', 'wen', 'interviw', 'guitar', 'furniture', 'cyclists', 'start.i', 'indyarocks.com', 'couch', 'blanket', 'ranju', 'presnts', 'watevr', 'judgemental', 'www.txt-2-shop.com', 'www.idew.com', 'thm', 'sight', 'ok.ok', '4217', 'loooooool', 'emailed', 'up.yeh', 'anytime', 'parchi', 'giv', 'i\\x92l', 'troubleshooting', 'sneham', 'flurries', '09077818151', 'ba', 'gee', 'aeronautics', '1im', 'suppose', 'here.pls', 'nitro', 'sittin', 'same', 'im', 'biola', \"'need\", 'anot', 'hvae', 'harder', 'meals', 'fastest', 'evn', '008704050406', 'arguing', 'cheers', 'sorta', 'ringtoneking.co.uk', 'omw', 'aptitude', 'topped', 'yetty', 'ew', 'bits', '18+', 'news', 'waht', 'rajitha', 'courage', 'poo', '08708800282', 'style', '08712402902', 'pretend', 'locations', '//gotbabes.co.uk', 'triumphed', 'purple', 'forgt', 'hill', 'calm', 'taylor', 'brandy', 'eye', 'kegger', 'yes', 'somone', 'é', 'mfl', 'offc', 'verified', 'hypotheticalhuagauahahuagahyuhagga', 'bugis', '82277.unsub', 'fetch', 'ft.', 'management', 'try', '0808', 'warning', 'use', 'cooking', '09065174042.', 'throws', 'kfc', 'expected', '#', 'upstairs', 'ends', 'freaking', 'dependents', 'amnow', 'raed', 'dieting', 'up+not', 'scenery', 'vco', 'y', 'republic', 'menu', '09063458130', 'seeing', '鈥┾', '4u', 'themed', 'vip', '4msgs', 'fonin', 'unrecognized', '88039.', 'call2optout/hf8', '.by', 'reflex', 'special', 'fly', 'sextextuk.com', 'row/w1jhl', '1000', 'monoc', 'meetins', 'raiden', 'career', 'correct', 'huai', '5.ful', 'isaiah.=d', 'dining', 'lyricalladie', '37819', 'take', 'don', 'collection', 'ma', 'jocks', 'recession', 'pudunga', 'apology', 'thgt', 'seven', 'bray', 'belongs', 'mystery', '09058094507', 'i.e', 'mj', 'vary', 'made', '09064017305', 'registration', 'ts', 'process', '‘', '2watershd', 'skinny', \"'married\", 'skillgame,1winaweek', 'waited', 'sound\\x92s', 'cornwall', 'grumpy', 'numbers', 'clip', 'resume', 'sender', \"'an\", 'gr8prizes', 'preschoolco-ordinator', 'complacent', 'gods', 'tariffs', 'start', 'edwards', 'crucify', 'barred', 'hence', 'chatting', '9-6', 'drugdealer', 'vivek', 'dumb', '400mins', '5.15pm', 'grow', 'act', \"'m\", 'confirm/deny', 'picked', 'goodnight', 'jontin', 'quiteamuzing', 'shexy', 'b', 'bad', '£500', 'panic', '89555.', 'k.good', 'satthen', 'salon', 'lead', 'secrets', 'expensive', 'gal-can', 'hottest', 'sale', 'eta', 'upon', 'contention', '3.u', 'ummma.will', 'rhode', 'grooved', '6th', 'forevr', 'getiing', 'sub', 'orchard', 'gran', 'batchlor', 'dreading', 'breathe', 'exercise', '09058095107', '5249', 'siva', 'financial', 'staff', 'award', 'ffffffffff', 'hasnt', 'inner', 'iwas+marine', 'sinco', '09064019014', 'immunisation', 'unsold.now', 'roommate', 'spoke', 'cuddling', 'ahmad', 'pages', 'daily', 'whose', 'ref:9280114', '2000', 'albi', 'ceri', 'indicate', '08712460324', 'sophas', 'squatting', 'hand', '09061104283', 'basic', 'nver', 's.i', '21st', 'fwiw', 'beach', 'struggling', '£400', 'jan', 'wine', 'sux', 'prsn', 'qi', '100p/sms', 'bought', '434', 'oranges', 'late', 'syrup', 'j89', '01223585334', 'dear1', 'nokias', 'nearly', '08000938767', '35p', 'gbp4.50/week', '2006', 'poem', 'webadres', 'swollen', 'replace', 'sutra', 'vomitin', 'stretch', 'thia', 'ignorant', 'event', 'brison', '150p/wk', 'receipt', 'bangbabes', 'port', 'chicken', 'ooooooh', 'ertini', 'call.drove', 'cr9', 'thk', 'k.k', 'nyt.ec2a.3lp.msg', 'haha', 'inde', 'steamboat', 'p.s', 'wednesday', 'subscrition', 'thanku', 'sms-08718727870', 'getzed.co.uk', 'un-redeemed', 'entry41', 'flow', 'prabu', 'elliot', 'overemphasise.or', 'portal', 'trust', 'twinks', 'yor', 'snowman', 'wire3.net', 'win150ppmx3age16', 'land', 'complaining', 'whr', 'loo', 'baby', 'obese', 'walks', 'nite+2', 'cereals', 'cross', 'wkent/150p16+', 'mary', 'goodies', 'anythin', 'inconvenience', 'navigate', 'falls', 'specs', 'afghanistan', 'mcat', 'norm', 'mymoby', 'polyph', 'dust', 'problematic', 'recpt', 'nosh', '08712402578', 'planet.i', 'salt', 'thangam', 'strips', 'nbme', 'keris', 'teacher', 'bognor', 'sickness', '3xx', 'weekly', 'colin', 'ex', 'punto', 'justbeen', 'arm', 'cancelled', 'slippery', 'positions', 'pleased', 'choosing', 'leaving', 'meet', 'fran', 'certainly', 'ideal', 'tendencies', 'tackle', '09061221066', 'jiu', 'hilarious-also', 'hanger', '08715203694', 'spose', 'tenerife', 'mca', 'meive', 'talking', 'yetunde', 'online', 'maps', 'golden', 'flea', 'running', 'bw', 'anymore', 'prometazine', 'know', 'at', 'amp', 'raised', 'ours', 'e-mail', 'tul', 'dear.take', 'villa', 'ship', 'giggle', 'k52', 'payasam', 'al', 'sections', '47', 'terrible', '88877', 'opponenter', 'www.applausestore.com', 'teams', 'till', 'quitting', 'purity', 'teasing', 'gudnite', 'badrith', 'www.cashbin.co.uk', 'needed.salary', 'bras', 'miss.take', 'darkness', '20p', 'leadership', 'developed', 'touched', 'makes', 'landmark', '08718730555', 'echo', 'eveb-', 'gmw', '-tho', '.joker', 'soil', 'special-call', 'thread', 'callin', 'pobox75ldns7', 'help08718728876', '139', 'temp', 'ashwini', 'wherevr', 'lesser', 'secretary', 'box97n7qp', 'action', '08448714184', '09050000555.', 'throat', 'oooh', 'belong', 'grazed', 'legitimat', 'relocate', '08081560665', 'sms.shsex.netun', 'ink', 'pints', 'rest', 'africa', 'cl', 'assumed', 'nos', 'wee', 'no:81151', 'bhaskar', 'forum', 'oxygen', 'm8', 'gary', 'breath', '6.30', '84199', 'non', 'citizen', '84025', 'perfume', 'jade', 'wearing', 'iff', 'accenture', 'weighed', 'hearing', 'crashing', 'dent', 'drivby-:0quit', 'ovulate.when', 'hook', 'months', 'sol', 'jeetey', 'details', 'half', '86688', 'ocean', 'technical', 'great.bye', '88039.skilgme.tscs087147403231winawk', 'willpower', 'message.it', 'almost', 'spys', 'springs', 'pity', 'phasing', 'added', 'fuckin', 'announced', 'deepak', 'phoned', 'year', 'donyt', 'plum', 'chatter', 'humanities', 'urgoin', 'astne', 'shagged', '£s', 'mylife', '82277.', 'shorts', 'secs', '8.', '08715203656', 'archive', 'gifted', '£800', '07734396839', 'peaceful', 'losers', 'or', 'okies', 'got', 'pobox36504w45wq', 'urgently', 'keep-in-touch', 'upping', '50', 'public', 'toaday', 'yup', 'quizclub', 'wewa', 'protect', 'own', 'improve', 'champ', 'costume', 'parking', 'list', 'laxinorficated', '0871-872-9758', 'frontierville', 'u-find', 'cut', 'ctargg', 'syd', 'xavier', 'beverage', 'sec', 'mite', 'sindu', 'aww', 'de', 'janarige', 'world', 'gre', '2.', 'issue', 'returning', 'kilos', 'handed', 'tix', 'child', 'funs', 'concert', 'beggar', 'approved', 'ny', 'egbon', 'unconvinced', 'nusstu', 'snatch', 'toclaim', 'conected', 'unni', '5.00', '140', 'optin', 'season', 'iraq', '87077', 'g.b', '3aj', 'replying', 'snogs', 'living', 'awaiting', 'high', 'edrunk', 'decorating', 'dancce', 'antelope', 'heater', 'developer', 'arent', 'x29', 'off', 'anywhere', '8007', 'see', 'breezy', 'shindig', 'prediction', 'edition', 'westlife', 'sweetie', '-call', 'types', 'heal', 'aathi', '£1450', 'joy', 'support.providing', 'closed', 'alrite.have', 'dedicated', 'jolly', 'folks', 'individual.time', 'previously', '07099833605', 'symbol', 'crickiting', 'finds', 'welcome', '84128', 'mb', 'novelty', 'noline', 'brown', 'mouth', 'jam', '£5/month', 'sleeping', 'dont', 'weigh', 'yifeng', 'talkbut', 'thecd', 'some1', 'common', 'prepaid', 'backdoor', 'yourjob', 'chill', 'pobox365o4w45wq', 'worse', 'portege', 'monster', 'yorge', 'joking.', 'whenevr', 'st', 'responding', '4eva', 'nri', 'muah', 'pobox12n146tf15', 'tantrum', 'causes', 'scraped', '^', 'buttheres', 'slp', 'bruce', 'telling', 'il', 'doug', 'violence', 'kaypoh', 'unspoken', 'absence', 'burgundy', 'fowler', 'stripes', 'cutest', 'definitly', 'club4', 'scorable', 'am.x', 'soc', '09065171142-stopsms-08718727870150ppm', '//wap', '0871277810810', 'pimples', '21/f', 'disconnected', 'row', 'path', 'coveragd', 'classes', 'idc', 'evey', 'advisors', 'ibn', 'newspapers', 'upgrade', 'mudyadhu', 'temple', 'hogidhe', 'course', 'paining', 'importantly', 'puttin', 'loko', 'volcanoes', '150ppmpobox10183bhamb64xe', 'homeowners', 'massages', 'original', 'responsible', 'takes', '9ja', 'married', 'ladies', 'important', 'past', 'secretly', 'studentfinancial', 'fills', 'situations', 'docs', 'gosh', 'needy', 'crazy', 'fixedline', 'islands', 'aunts', 'spun-out', 'notified', 'dict', 'screen', 'babysit', 'recount', 'approx', 'paranoid', 'wasn\\x92t', 'pose', 'shows', 'parish', 'everywhere', '09061743806', '£1.50ea', 'pleasured', 'skyving', 'creepy', '2nd', '4d', '<', 'creep', 'continued', 'potato', 'watr/day=no', 'hills', 'deserve', 'vs.', 'opportunity', 'blessing', 'storming', ';', 'register', 'wi', 't91', '4-some1', 'ystrday.ice', 'considering', 'spare', 'favor', 'vote', 'who', 'monkeespeople', 'mindset.believe', 'lik', 'greatness', 'shining', 'comuk.220cm2', 'bored', 'meow', '177.', 'cashbin.co.uk', 'kittum', 'rose', 'becaus', 'neo69', 'left', 'beeen', '£33.65', '150p/mtmsgrcvd18', 'boggy', '08000776320', '09064017295', 'stubborn', '.irritating', 'kent', 'understand', 'stopcs', '145', 'oscar', 'no-165', 'part', 'stuck', 'sos', 'animal', 'prices', 'least', 'hearted', 'eatin', '.terry', '£2000', 'blur', '10/06/03', 'mathews', 'resizing', 'ganesh', 'ratio', 'swap', 'friendsare', '42478', 'note', 'browser', 'completing', 'star', 'bailiff', 'casualty', '81618', 'fundamentals', '1.50p/wk', 'pases', 'goodnite', 'whether', '89123', 'place', 'waves', 'www.rtf.sphosting.com', 'misundrstud', '08712400603', 'skye', 'nat', 'recharge', 'smear', 'iknow', 'gumby', 'hack', 'coz', '09065394514', 'glasgow', 'zindgi', '07123456789', '07090201529', 'anyways', 'peripherals', 'listed', 'minimum', 'phil', 'subscription', '07808726822', 'brings', 'gprs', 'really', 'shipping', 'bloody', 'petrol-rs', 'broadband', 'wounds', 'hesitate', 'proze', 'followin', 'tampa', 'stuffed', 'kavalan', 'less', 've', 'charity', 'hair', 'bash', 'ben', 'fill', 'running.lets', 'guessin', 'quality', 'natalja', 'html', 'u.othrwise', 'four', 'content', 'congratulation', '...............', 'di', 'cutefrnd', 'marry', 'abroad', 'having', 'youuuuu', '1/2', 'lotr', 'remembrs', 'privacy', 'unsold.mike', 'creativity', '08450542832', 'fightng', 'wild', 'shit', 'lv', 'julianaland', 'let', 'sensible', 'kothi', 'call2optout=j5q', 'simpsons', 'texting', 'pressies', 'hurried', 'downs', 'ay', 'drinks', 'w4', 'watever', 'did', '146tf150p', 'mr.', 'priscilla', 'sunoco', 'erode', '83039', \"doesn\\\\'t\", '87021', 'reading', '69200', '29/03/05', '42049', 'yummy', 'shifad', 'eachother', 'losing', 'wtf', 'on-edge', 'predict', 'cafe', 'stash', 'locaxx', 'charles', '07815296484', 'witin', 'ree', 'nichols', 'q', 'thing', 'linear', 'gucci', '40533', 'fire', 'thet', 'odi', '3lp', '8800', 'o2.co.uk/games', 'bird', 'lk', '7732584351', '6months', 'tones2you.co.uk', 'elephant', 'phoenix', 'fast', 'lonely', '0089', 'grahmbell', 'cons', 'beforehand', 'indeed', '5free', 'mornings', 'spree', 'andres', 'sunroof', 'weekdays', 'weed', '850.', 'suffer', 'rub', 'eerulli', '087187262701.50gbp/mtmsg18', 'trek', 'large', 'cutter', 'grins', 'cam', 'sn', 'our', 'satsgettin', 'bthere', 'subs', 'disturb', 'apeshit', 'home', 'polo', 'control', 'morning', 'scores', 'half8th', 'ca', 'stoptxtstop£1.50/week', 'everyone', 'jesus', 'tranquility', 'satisfy', 'kinda', 'ami', 'trav', 'noncomittal', 'mailed', 'steak', 'sliding', 'lost', 'impressively', 'accounting', 'ran', 'approve', 'lies', '08717895698', 'bother', 'yeovil', 'decided', 'recreation', 'sky', 'enemies', \"'\", 'last', 'lovin', 'slurp', 'stranger', 'solved', 'sorry', 'ac', 'walls', 'dear-loving', 'deep', 'faster', 'captaining', 'w', 'txt~journey', 'nike', 'simply', '08712317606', 'unredeemed', 'burger', 'internet', 'prefer', 'intrepid', 'monthly', 'armenia', 'mi', 'lim', 'add', 'goes', 'clothes', 'catch', 'colourful', 'darlin', 'mail.i', '02', 'blankets', 'dog', 'classmates', 'bak', 'inpersonation', 'endof', 'only.don', '7.30pm', 'comb', 'tihs', 'player', '5ish', '87575', 'sorrow', 'fucking', 'rcd', 'woot', 'roomate', 'mumtaz', '4th', 'clean', 'sullivan', 'affidavit', 'in', 'payed2day', 'no.1', 'finally', '1pm', '3650', '09066358152', 's.nervous', 'reformat', 'ultimately', '13/4/04', 'spl', 'deltomorrow', 'claim', 'needa', 'bf', '2morrow', 'qatar', 'qatar.rakhesh', 'na', 'story', 'r836', 'tonght', 'lapdancer', 'cute', 'cumming', 'dating', 'jod', 'answered', 'anyway', 'forgive', '1.childish', 'detroit', 'comp', 'invest', 'txt82228.co.uk', 'night', 'sporadically', 'notice', 'vaazhthukkal', 'minapn', 'valentine', 'din', 'accidentally', 'adsense', 't', 'smash', 'holby', 'worries', 'semester', 'with', 'appy', 'gravel', 'dec', 'matches', 'sausage', 'blonde', 'enc', 'christ', 'caller', 'dippeditinadew', 'pee', 'cmon', 'a-green', 'txts', 'jaykwon', 'polyc', 'blokes', 'hamster', 'steed', 'latests', 'phone', 'mojibiola', 'fro', 'yaxxx', 'countin', 'msg150p', 'supreme', 'inviting', 'tyler', 'yeesh', 'pick', 'that2worzels', 'employer', 'gbp1.50/week', 'somewhere', 'liver', 'dun', 'anti', 'easter', 'slept', 'lyrics', 'setting', 'greetings', 'engalnd', 'syllabus', '06.', 'bfore', 'free-message', 'prabha', 'me.need', 'i\\x92ve', 'hey', 'custcare', 'intentions', 'official', 'ps', 'throw', 'information', 'convenience', 'waitin', 'pg', 'writhing', 'unfortunately', 'sounding', 'toothpaste', 'jstfrnd', 'speechless', 'configure', 'receiving', 'hg/suite342/2lands', 'soonlots', 'days.èn', 'ipad', 'pansy', 'all', 'poly/200p', 'ruin', 'digital', 'knees', 'handsome', '4give', 'manual', 'washob', 'uses', '06/11/04', 'taxes', 'horo', 'prepayment', 'wml', 'urgh', 'hangin', \"fr'ndship\", 'grandma', 'among', 'director', 'forums', 'apply.2', 'akon-lonely', 'reset', 'stu', 'shag', 'abiola', 'wont', 'jerry', 'bong', 'loved', 'bx', 'jordan', 'tortilla', 'products', \"'if\", 'skateboarding', 'ten', 'alibi', 'president', 'grave', 'conserve', '0721072', '26/10/04', 'me.remove', 'neighbors', 'conform', 'carlin', 'shortly', 'city', 'counts', 'guess', '09053750005', 'bitching', 'her.will', 'kalisidare', 'drama', 'bristol', 'jenny', 'allah', 'disaster', 'owe', 'companies', 'pizza', 'gave', 'projects', 'transfred', 'true', '195', 'lovely', 'because', '45', 'tescos', 'threats', '150p/text', 'romantic', 'references', 'supply', '116', '8552', 'box61', 'a.', 'fromm', 'pieces', 'finding', 'diff', 'cheat', 'yay', 'finish', 'unintentional', 'value', '…', 'fave', 'employee', '1120', 'subpoly', 'urgent.but', '09050005321', 'walking', 'ai', 'potter', 'barring', 'breathe1', 'n-gage', 'goin', 'modules', '08718727870', 'kintu', 'knackered', 'que', 'couple', 'somethin', 'coins', 'postcode', 'tunji', '60p/min', 'subscribed', 'habba', 'dollars', 'bowa', 'get', 'plaza', 'havnt', 'abstract', 'accumulation', '08715203677', 'ouch', 'enough', 'salam', 'praying', 'english', 'torch', 'passwords', 'e14', 'jurong', 'nevering', '4thnov.behind', 'stifled', 'sara', 'or2optout/hv9d', 'chosen', 'mails', 'boy', 'synced', 'indian.pls', '2u', 'phne', 'poortiyagi', 'format', 'sq825', 'popped', '09065069154', 'satanic', 'stop2stop', 'carlie', 'jacuzzi', '£1.50rcvd', 'usher', 'swtheart', 'ear', 'maths', 'worry', 'sum', '//doit', 'hppnss', 'login=', 'treacle', 'harri', 'surfing', 'txtstar', 'grab', 'version', 'membership', 'worc', 'okday', 'hot', 'ovr', 'unfortuntly', 'kalstiya', 'dead', 'removed', 'dream.love', 'parts', 'strain', 'my', 'uterus', 'pours', 'crashed', '〨ud', '9t', 'o2fwd', 'affairs', 'drops', '25/f', 'light', 'entire', 'annoyin', 'appeal', 'abi', '150p/tone', 'yes.i', 'urgnt', 'psxtra', 'inspection', 'word', 'questioned', 'morefrmmob', 'box434sk38wp150ppm18+', 'toilet', 'famamus', 'unconsciously', 'senor', 'missin', 'cuck', 'derp', 'possibly', 'grasp', 'rough', 'ago.cusoon', 'gettin', 'click', '09065989182', '9am', 'school', 'eerie', 'pandy', 'bedroom', 'vibrator', 'textand', 'stone', 'blocked', 'okay', 'help08714742804', 'sacked', 'hahaha', '09099726429', 'stopcost', 'august', 'pole', 'hotel', 'waaaat', 'b-', 'wedding', 'well', 'uploaded', 'kuch', 'cs', 'celebrated', 'lei', 'hours', 'spinout', 'f=', '-4', '09058094454', 'age23', 'warranty', 'nw', 'vpod', 'trebles', 'express', 'allo', 'hava', 'few', '5years', 'himself', 'speciale', 'skillgame', 'parachute', 'frndz', 'itwhichturnedinto', 'cbe', 'bunkers', 'swann', 'choices', 'dhanush', 'athome', 'for£38', 'rent', 'that.dont', '1172.', 'nitw', 'vic', 'follow', 'arcade', 'savings', 'z', 'co.', 'takecare', 'perf', 'cst', 'geting', 'cat', 'wenwecan', 'supose', 'answering', 'freaky', 'credited', 'cheese', 'cantdo', 'attach', 'prescription', 'danger', 'fml', 'tc', '4goten', 'frnd', 'days.he', 'hurry', 'differ', 'liked', 'hee', 'kate', 'dedicate', 'itried2tell', 'crazyin', '9yt', 'studyn', 'thurs', 'regular', 'argue', 'e-ternal', 'wotz', 'theyre', 'scoring', 'js', 'grumble', 'dearer', 'september', 'tech', 'drunken', '£6', 'first', 'wanting', 'rd', 're-met', 'exhibition', 'agalla', '1stchoice.co.uk', 'intha', 'mokka', 'urmom.i', 'recognise', 'safely', 'foreign', 'started.india', 'playng', 'actual', 'ms.suman', 'muhommad', 'champneys', 'tee', 'yen', 'wait', 'egg-potato', 'crave', 'unkempt', 'after', 'stereophonics', 'shes', 'ooh', 'enter', 'lessons', 'handle', '10p', 'mia', 'ringtones', 'strange', 'hussey', 'v.tired', 'curtsey', 'tbs/persolvo', 'wherever', 'nan', 'suggestion', 'ni8', 'la1', 'deepest', 'fones', 'amk', 'beware', 'safe', 'deeraj', 'www.clubzed.co.uk', 'weddingfriend', 'wrld', 'reppurcussions', 'goss', 'chex', 'www.100percent-real.com', 'spent', 'shortcode', '1-u', 'greece', 'hitler', 'pocketbabe.co.uk', 'nvq', 'askin', 'exterminator', 'deviousbitch.anyway', 'duchess', 'cancel', 'breakin', 'vday', 'ahhh', 'coca-cola', 'xxsp', 'bridgwater', '09701213186', 'week+', 'fine.inshah', 'mid', 'lou', 'txtstop', 'onwords', 'buz', 'organizer', 'houseful', 'dreamz', 'far', 'aha', 'algebra', 'auction', '08702840625', 'available', 'hugging', 'coping', 'attend', '08000839402', 'uwana', '3d', 'cleared', 'bonus', '1winaweek', 'drink', 'piss', 'uttered', 'solihull', 'i\\x92m', 'arestaurant', 'ghost', 'tellmiss', 'pobox12n146tf150p', 'ac/smsrewards', 'favour', 'rang', 'asthere', 'await', 'relaxing', 'be', 'wlcome', '09064012103', 'hubby', 'band', 'goals', 'gautham', 'lccltd', '9th', 'option', 'vale', 'bmw', 'prevent', 'loverboy', 'down', 'romcapspam', 'hor', '153', 'portions', 'dose', '84122', 'si.como', 'revision', 'bat', 'chit-chat', 'gonnamissu', 'repair', 'confirmd', 'movie', 'roles', 'dan', 'failure', '330.', 'whispers', 'excuse', 'mini', '83338', 'smokes', '10am', 'business', 'customersqueries', 'ipads', 'notes', '[', '1winawk', '87131', 'cultures', 'biggest', 'magic', 'email', '$', 'bigger', 'un', 'no', 'lastest', '140ppm', 'ak', 's.s', 'b-day', '£4.50', 'outage', 'parco', 'px3748', 'passes', 'rooms', 'disk', 'wrench', '113', 'costumes', 'aom', 'todo', 'itself', 'telephone', 'bundle', '09071512432', 'muz', 'stapati', 'jamster', 'steal', '5we', 'bell', 'printed', '09064015307', 'cheating', 'suprman', 'lingerie', 'barry', '09096102316', 'genes', 'promoting', 'teenager', 'wenever', 'banter', 'bend', 'january', 'tarpon', 'stomps', '900', 'billion', 'kept', 'themes', 'cheery', 'operate', 'tex', '6ish', 'works', 'cast', 'rightio', 'rate', 'country', 'sup', 'chastity', '9.', 'billing', 'hg/suite342/2lands/row/w1j6hl', 'downstem', 'anjola', 'exe', '/-', 'lotz', 'aiya', 'winner', 'admirer', 'number.respectful', 'spell', \"s'fine\", 'allows', 'bang', '09050001295', 'earliest', 'needs', 'myself', 'grace', 'essential', ',', 'voda', 'reasons', 'tata', 'cookies', 'interflora', 'forgets', 'movies', 'sorted', 'frying', '£1million', 'yunny', 'pa', 'alerts', 'warned', 'fren', 'tm', 'cards', '//www.e-tlp.co.uk/reward', 'number.pls', 'think', 'fishrman', '09064012160.', 'bcm', 'future', '118p/msg', 'liking.be', 'relatives', 'gay', 'becausethey', 'hai', 'sugardad', '1yf', '10:10', 'nigpun', 'alwa', 'bergkamp', 'awarded', 'best', 'west', 'dormitory', 'each', 'download', 'but', 'dracula', 'worrying', 'hello', 'finishing', 'hidden', '£100,000', '2814032', 'supposed', 'mobsi.com', 'news.by', '5mls', 'vikky', 'films', 'hoping', 'explain', 'french', '08712101358', 'mathematics', 'rememberi', 'feb-april', 'saw', 'cheesy', 'imin', 'everyones', '28thfeb.t', 'poking', 'hw', 'yes.mum', 'axis', 'flippin', 'received', 'wrenching', 'comedy', 'low', 'glands', 'lay', 'toplay', 'mo', 'built', 'pthis', 'alive.better', 'wan2', 'complimentary', 'reflection', 'knocking', 'porn', 'dreams', 'mins/texts', '4get', 'those', 'cr01327bt', '78', 'faggy', 'wisheds', 'whatever', 'zoe', 'stage', 'raglan', 'steering', 'chinnu', 'he\\x92s', 'goin2bed', 'hundred.he', 'scold', '373', 'unintentionally', 'goodnoon', 'thkin', 'prizeswith', 'doors', 'pookie', '86888', 'chasing', 'cappuccino', 'remembr', 'musta', 'xx', 'prominent', 'sounds', 'go', 'ppl', 'fine.', 'asian', 'respect', 'girlfrnd', 'everything', 'manchester', 'postcard', 'lined', 'mgs', 'adventure', '08718725756', 'refunded.this', '7ish', 'negative', 'oso', 'marrge', '09095350301', 'awake', 'sapna', '1lemon/day=no', 'fathima', 'cloth', 'didn', 'tho-', 'wonders', 'preponed', 'noe', 'arguments', 'toot', 'brought', '150p/min', '31/10/04', 'urination', 'accent', '...', 'logoff', '3g', 'uin', 'prior', 'desires', 'granite', 'including', 'pretsovru', '£48', '..', 'situation', 'gossip', 'babe', 'darlings', 'natural', 'particular', 'lubly', 'sparkling', 'noun', 'bakrid', 'urgent', 'accept', 'figuring', '3-maruti', 'call2optout/', 'filth', 'wed.', 'atten', '08712402779', 'widelive.com/index', 'juz', 'declare', 'influx', 'traditions', 'reallyneed', 'constantly', 'gets', 'residency', 'http//www.gr8prizes.com', 'nuther', 'pushbutton', 'screwd', 'habit', 'milk', 'scouse', 'smith-switch', 'hardcore', 'budget', 'thuglyfe', 'dislikes', 'aka', 'harry', 'emily', 'thts', 'however', 'worry.c', '08719181259', 'easiest', 'may', 'of', 'wetherspoons', '2mwen', 'radio', 'assume', 'torture', 'bilo', 'have', 'ready', 'failed', 'accordingly.or', 'tonite.busy', 'fainting', 'muchxxlove', 'painting', 'digits', 'anybody', 'can', 'chuckin', 'march', 'narcotics', 'tooo', 'kills', 'blowing', 'xy', 'stereo', 'guides', 'messages', '£5000', 'somerset', 'party', 'hide', 'mina', 'current', 'ringtoneking', 'coughing', 'relieved', '150p/mt', '09058091854', '300603t', 'island', 'february', 'number', 'spider', 'upset', 'proove', 'tlk', 'along', 'gal', 'leaf/day=no', \"b'day\", '09057039994', 'fellow', '9pm', 'fireplace', 'erm', 'plumbers', 'blanked', 'shudvetold', 'nattil', 'unhappiness', '1tulsi', 's89', 'selected', 'faith', '169', 'services', 'paid', 'forgot', 'sathya', 'sweetest', 'shame', 'players', 'property', 'stressful', 'ntwk', 'yah', 'quiet', 'a', 'scammers', 'werethe', 'ah', 'inclu', 'no-434', 'bec', 'loyalty', 'gbp5/month', '128', 'cer', 'm60', 'sucker', 'jst', 'ijust', 'bedrm-', 'aspects', 'philosophy', 'mobcudb', '08712400200', 'panasonic', 'fault', 'php', 'garbage', 'opened', 'wipe', 'ml', 'idea', 'avenge', 'subscribe6gbp/mnth', 'trips', 'reminded', 'marvel', 'million', 'minnaminunginte', 'ego', 'recovery', 'bcums', '£1500', '09066364311', 'loan', 'haunt', 'ore', 'asks', 'bites', 'following', 'loxahatchee', 'only', 'textoperator', 'lookin', 'was', 'bangb', 'tagged', 'gym', 'keeps', 'winds', 'box334sk38ch', 'says', 'pain', 'floor', 'continent', 'brilliantly', 'ninish', 'goodfriend', 'teresa', 'behave', 'rcb.battle', 'smoking', 'manda', 'www.shortbreaks.org.uk', 'within', 'inlude', 'carry', 'wrkin', '0871212025016', 'ikea', 'care.insha', 'priority', 'm6', 'billy', 'successful', 'cock', 'theres', 'carolina', 'tyrone', '£600', 'underdtand', 'ecstacy', \"'d\", 'coccooning', '1013', 'responsibility', 'www.santacalling.com', '15541', 'mys', 'colours', 'ability', 'titles', 'involve', 'profiles', 'shhhhh', 'bless', '2025050', 'wondarfull', 'conclusion', 'atm/sms', 'plane', 'program', '08452810075over18', 'wahala', 'irritated', 'out', 'heart-', 'sunscreen', 'mobno', 'play', 'that.i', 'cttargg', 'status', 'w1a', 'manage', 'm8s', 'she.s', 'panalam', '150p/msg.2', 'lacking', 'phones', 'enemy', 'chess', 'hello-/', 'make', 'impossible', 'merely', 'wnt', 'final', 'pulling', 'untamed', ':', 'tonight', 'snickering', 'thought', 'onluy', '08707509020', 'waheeda', '6.cruel', 'coco', 'intend', 'www.dbuk.net', 'dabbles', 'squid', 'neshanth', 'cu', 'afew', 'terms', 'nutter', 'fakeye', 'lyfu', 'anderson', 'forwarded', 'surgical', 'together', 'staff.science.nus.edu.sg/~phyhcmk/teaching/pc1323', 'hasbro', 'bite', 'good', 'payoh', 'rounder', 'wining', '0789xxxxxxx', 'brah', '4.15', 'fab', 'spotty', 'everytime', '@', 'clever', 'tape', 'favorite', '80082', 'snowboarding', '89555', 'liao', 'informed', 'retired', 'xin', '29/m', 'burrito', '£71', 'inst', 'sef', 'stock', 'fixes', 'reliant', 'oli', 'cooped', 'rats', 'prakasam', 'ignoring', 'freak', 'cupboard', '050703', 'bari', 'efficient', 'fair', '____', \"'rencontre\", 'txtx', '£1', 'ip4', 'risks', '09061749602', 'evenings', 'clearer', 'yun', 'slide', 'nipost', 'argentina', 'faded', 'access', 'screaming', 'fraction', '80160', 'ponnungale', 'bcm4284', '09094100151', 'east', '08717507382', 'ice', '0125698789', 'maximum', 'honi', '0870', 'ccna', 'mon.l8rs.x', 'bluetooth', 'freefone', 'sed', '40gb', '60,400thousad.i', 'robinson', 'dancin', 'sha', 's3xy', 'decisions', 'global', 'jones', 'tease', 'home.check', 'apartment', 'appear', 'enuff', 'smiley', 'wherre', 'nyc', 'exeter', 'hospital', 'cougar-pen', 'surely', 'molested', 'wld', 'inches', 'accordingly', 'redeemable', 'trash', 'wasting', 'll', 'moan', 'develop', 'youi', 'tunde', 'tongued', '2', 'wesley', '||', 'sept.', 'dozens', '08718726978', 'waheed', 'tag', 'spice', 'clark', 'bhayandar', 'alive', 'phone750', 'interviews', '6', 'much', 'batsman', 'bath', 'super', 'jamz', 'renewed', 'othrs', 'strip', 'luvs', '420', 'week.|', 'cheaper', 'www.ldew.com1win150ppmx3age16subscription', 'donate', 'o2', 'outbid', 'happily', 'lovejen', 'glorious', 'zed', 'xxuk', 'quit', 'linerental', 'tirunelvai', 'funeral', '750', \"'doctors\", 'bags', 'onion-rs', 'figures', '09061701939.', 'random', 'thoughts', 'repent', 'level', '89070', 'crossing', 'awww', 'getstop', '08717168528', 'soladha', 'youre', 'buff', 'lovable', 'compass', 'weds', 'www.07781482378.com', '08002986030', 'being', 'personality', 'nyt', 'been', 'renting', 'dom', 'wife', 'frm', 'opportunity.all', 'forms', 'formal', 'withdraw', 'lonlines', '09061701461.', 'mths', '08709501522', 'thinkthis', 'sms', 'blood', 'reboot', 'rental', 'divorce', 'sense', 'pilates', 'names', 'msging', 'avoiding', 'argh', 'things', 'corporation', 'offering', 'restock', 'flash', 'mp3', 'asa', 'shade', 'ms', 'franyxxxxx', 'rounds', '08714712394', 'aids', 'likely', 'park', 'outsider', 'depressed', '80155', 'believe', 'photos', 'cutting', 'loves', '930', 'obviously', 'mobilesdirect', 'applying', 'right', '08717509990', 'txt', 'sure', 'rayan', '16', 'warm', '08704439680ts', 'sudden', 'slowing', '+123', 'pass.they', 'franxx', 'batch', 'ummifying', 'exact', 'commercial', 'pleasure', 'rodger', 'moji', '2morrowxxxx', 'person.meet', 'calls£1/minmobsmore', 'vat', 'sexychat', 'yelow', '8000930705', 'blogging', '69101.', 'tight', '2005', 'fancied', 'alright.okay', 'asap.ok', 'stories', 'chachi', 'cartons', 'spares', 'happening', '28/5', 'amongst', 'regretted', 'vouchers-text', 'debating', 'desk', 'g.w.r', 'map', 'diet', 'eaten', 'oru', 'loads', 'serious', 'grr', 'bed', 'sitter', '69988', 'iccha', 'dogging', '09071512433', 'invite', 'hm', '200', 'skype', '97n7qp', 'before.went', 'text', 'sth', 'birthdate', 'predicting', '10,000', 'feb', 'hui', 'nah', 'mon', '2nhite', 'barrel', 'peril', 'tats', 'nights', '8pm', 'didn\\x92t', 'nydc', 'rtm', 'voucher', '25p', 'bx420', 'apes', 'irritating', 'truth', 'shiny', 'installation', 'imat', 'der', 'mean', 'taunton', 'chocolate', 'londn', 'neville', 'derek', 'inc', 'convince', 'permission', 'above', 'flat', 'gnarls', 'fridge', 'cheered', 'ringtone', 'antha', 'anyplaces', 'jazz', 'abeg', 'executive', 'vinobanagar', 'taxt', 'help', 'sends', 'done/want', 'alex', 'progress', 'u.call', '50p', 'remain', 'delhi', '31', 'obey', 'longer', 'hate', 'rg21', '2,000', 'ghodbandar', 'arr', 'bob', 'lautech', 'animation', 'scream', '15:26', 'jd', 'wa', 'norcorp', 'i\\x92llspeak', 'textbook', 'sura', 'retrieve', 'prizes', '88600.', 'shitin', 'marketing', '250', 'callback', 'y.', 'dates', 'lily', 'nannys', 'responce', 'crack', 'chic', 'tiring', 'flying', 'motor', 'campus', 'ymca', 'achan', 'semi', 'attack', 'stuffing', \"'xam\", 'ovulation', 'onwards', 'hit', 'person', 'ok.', 'quarter', 'cosign', 'youwanna', 'icon', 'half-8th', 'am', 'or2stoptxt', 'opps', 'pence', 'philosophical', 'resolved', 'friends', 'gm+gn+ge+gn', 'advise', 'riley', 'belovd', 'me.she', 'usmle', 'vibrant', 'wadebridge.i', 'inever', 'ltdhelpdesk', '44', '80086', 'mayb', 'spoons', 'leanne.what', 'none', 'a-', 'smsing', 'oclock', 'legs', 'eightish', 'ax', 'hannaford', 'buyers', 'forwarding', 'x49', '7684', 'length', 'tomorro', 'prayers', 'kickoff', 'cine', 'sponsors', 'seperated', '526', 'jabo', 'coimbatore', 'suply', 'signin', 'nanny', 'varma', 'urn', 'size', 'wats', '09064011000.', 'bao', '62735=£450', 'tattoos', 'ready.all', 'gong', 'mmmmmm', 'publish', 'canada', 'rebtel', 'lionp', 'mofo', 'm', 'paracetamol', '+£400', 'www.comuk.net', 'etc', '0871750.77.11', 'poorly', 'stress', 'dobby', 'steyn', 'somewheresomeone', '//tms', 'lanre', 'somewhr', 'skyped', 'mistake.u', 'grand', 'northampton', '08702490080', 'call', 'released', 'ecstasy', 'netflix', 'esaplanade', 'disturbance.might', 'turn', 'throwing', 'thankyou', '150p/msgrcvdhg/suite342/2lands/row/w1j6hl', 'varaya', 'nvm', 'openings', '2go.did', 'pixels', 'myspace', 'singapore', '-u', 'ph', 'mens', 'borderline', '08718727868.', 'changed', 'major', '150p', 'takin', 'otside', 'rentl', 'include', 'cost£1.50/pm', 'contents', 'dirtiest', 'kallis', 'hurting', 'airtel', 'sumthin', 'ovarian', 'iz', 'necklace', 'phd', '09066362231', '0870753331018+', 'vasai', 'versus', 'pai', 'gaytextbuddy.com', 'masteriastering', 'happened', 'nookii', 'tron', 'unconditionally', '08715705022', 'csbcm4235wc1n3xx', 'recorder', 'students', 'defeat', '09058099801', 'violet', 'dhoni', 'werebored', 'quite', 'babe.sozi', 'keys', '4.rowdy', '16+only', '09041940223', 'dizzee', 'pataistha', 'call.urgent', 'reduce', 'sonyericsson', '83118', 'cashed', 'posting', 'standing', 'picture', 'ctagg', 'units', 'dictionary', 'messenger', 'ru', 'mall', 'www.ldew.com.subs16+1win150ppmx3', 'repeating', 'tear', 'possible', 'age16.150ppermesssubscription', 'without', 'basically', 'were/are', 'hopes', 'www.t-c.biz', 'accomodate', 'frens', '1327', 'sochte', 'aaniye', '69698', 'bus8,22,65,61,66,382', '7250i', 'confidence', 'kindly', 'iter', 'summers', 'river', 'gang', 'slacking', 'lion', 'spjanuary', 'oh', 'ibiza', 'kappa', 'mobilesvary', 'childish', '08708034412', '08701417012150p', 'peoples', 'pokkiri', 'vodka', '6.house-maid', 'suitemates', 'opposed', 'weight', 're-schedule', 'oath', 'planning', 'sort', 'go.wait', 'shampain', '09090204448', 'not', 'madam', 'strike', '08718726270', 'fine', 'ths', 'wth', 'gbp/sms', 'dealing', '08707500020', 'fifth', 'thanx4', 'drms', 'these', 'nokia6650', 'tonights', '4ward', 'money', 'guarantee', '7.romantic', 'en', 'feed', 'effect', 'virgil', 'buses', 'staying', 'time.you', 'wud', 'brains', 'stuff42moro', 'valuing', 'spoilt', 'unmits', 'meaningless', 'title', 'fixed', 'occasion', 'swt', 'regarding', 'wkend', 'lyk', 'chgs', '18yrs', 'outta', 'msgs', '09071517866', 'chinese', '69876.', 'sentence', 'requests', 'u.so', 'wasnt', 'change', 'present', '80062', 'nose', 'respond', 'toxic', 'kiefer.com', 'weightloss', 'head…', 'eng', 'arabian', 'borin', 'barkleys', 'new', 'finishd', 'canal', 'again', '2optout/d3wv', 'rise', 'hotels', 'misplaced', 'dept', 'madoke', 'mapquest', 'working', 'tour', 'dub', 'yr', 'egg', '95/pax', 'aid', 'mm', 'imprtant', 'tirunelvali', 'hehe', 'adi', 'offers', '08719181513', 'ironing', 'waliking', 'remind', 'weapon', '150ppmsg', 'rubber', 'noooooooo', 'amma.rakhesh.qatar', 'call2optout/n9dx', '67441233', 'kanagu', 'jp', 'code:4xx26', 'mandara', '74355', 'glory', 'plyr', 'magicalsongs.blogspot.com', '08718738001', 'dollar', 'registered', 'cricketer', 'keluviri', 'terminated.we', 'jaya', 'bx526', 'chickened', 'tis', 'walked', 'fusion', 'reward', 'enters', 'samachara', 'replied', '|', 'pple', 'dai', 'doubt', 'speedchat', 'noice', 'shop', '£150', 'back', 'cuz', '87239', 'poop', 'apologize', 'lttrs', 'often', 'wesleys', 'lot.will', 'although', 'mila', 'stil', 'usps', '07801543489', 'whole', 'nus', 'now1', 'exposed', 'mistake', 'tho', 'explosive', '2getha', 'forgiven', 'shaping', 'accidant', 'still', 'nowadays', 'slippers', '300p', 'soooo', 'plan', 'hostel', 'first=true18:0430-jul-05', 'available.they', 'require', 'lucky', 'exorcist', 'worthless', 'appointment', 'letters', 'ji', '-', 'tried', 'wotu', 'busy.i', 'ni8.swt', 'doubletxt', '87575.', 'sometext', 'frndshp', '09099726395', 'air1', 'gailxx', 'implications', 'woulda', 'seeds', 'spend', '7.30', 'lux', '8wp', '08715203649', 'shahjahan', 'messy', 'center', 'beer', '3gbp', 'equally', 'broad', 'tx', 'wicked', 'doc', 'hol', 'hardest', 'yes.he', '9153.', 'conacted', 'bringing', 'desperate', 'fffff', 'october', 'nite', 'thesedays', 'gayle', 'labor', 'maintaining', 'table', 'beside', 'ias', 'thangam.it', 'idiot', 'mobile', 'jewelry', 'whassup', 'active', 'sabarish', 'chat80155', 'shouldn', 'eventually', 'mre', 'ihave', 'chores', 'lara', 'authorise', 'very', 'flag', 'jokes', 'mail', 'taught', 'dl', 'removal', '83355', 'bunch', 'rugby', 'rofl', 'ears', 'otbox', 'gotto', '83222', 'smoked', 'crore', 'display', '+', 'betta', '11mths', 'the', 'le', '1680', 'lotsof', 'game', 'fight', 'remixed', 'craigslist', 'minute', 'fuck', 'miwa', 'gravity', 'paul', 'wifes', 'petexxx', 'stupid', 'wn', '700', 'highest', 'addicted', 'it', 'dwn', 'green', 'garments', 'pouts', 'goodo', 'degrees', 'today-sunday', 'direct', 'erotic', '£1.50pmmorefrommobile2bremoved-mobypobox734ls27yf', 'bac', 'chart', 'copies', '5digital', 'apnt', \"'terrorist\", 'swayze', 'x-net', 'extreme', 'text82228', '10k', 'enjoying', 'surprise', 'dvd', 'dick', 'thanks2', 'strt', 'dificult', 'unsubscribed', 'elections', 'millers', 'ken', '5k', 'runs', 'familiar', 'andrews-boy', 'truffles', 'beendropping', 'rain', 'every1', 'degree', 'dentists', 'praps', 'punj', 'babysitting', 'piece', 'always', 'lmao', '......', '09050280520', 'sales', '09066364589', 'jobyet', 'layin', 'up4', 'champlaxigating', 'csbcm4235wc1n3xx.callcost150ppmmobilesvary', 'referin', 'lasagna', 'george', 'toppoly', 'destiny', 'chinchillas', 'urgran', 'suckers', '3hrs', 'discount', 'normal', 'dey', '5+-', 'eg', 'drug', 'hella', 'thedailydraw', 'bookshelf', 'challenge', 'receipts—well', 'bout', '09050000460', 'velusamy', 'suganya', 'steve', 'daddy', 'fo', 'sib', 'away', '08714342399.2stop', 'select', 'textbuddy', 'dark', 'response', 'hourish', 'earning', '09065069120', 'carly', 'cysts', 'point', '3030.', '18+6', 'darren', '+449071512431', 'spin', '5.terror', 'ansr', 'accommodation', 'offcampus', 'catches', 'web2mobile', 'arrange', 'sea', 'acting', 'windy', 'po19', 'newest', 'disappeared', '2wu', 'landing', 'k.k.this', '09050000878.', 'cruisin', 'brand', 'hour', 'anal', 'mw', 'hides', 'weirdy', 'talkin', '36504', '448712404000', 'ppm', 'arrival', 'owned', '’', 'will', 'tablets', 'owed', '%', 'hellogorgeous', 'miss', 'sen', 'renewal', 'masked', 'drum', '5.', 'reserves', 'rcvd', 'parent', 'heap', 'bbc', 'resuming', 'guaranteed', 'spook', 'www.areyouunique.co.uk', 'jeri', 'payments', 'wkg', 'fires.are', 'coaxing', 'shivratri', 'could', 'aunt', 'eshxxxxxxxxxxx', 'msg+ticket', 'shakara', 'hustle', 'time.your', 'sometimes', 'birla', 'checkin', 'tv', 'house-maid', 'settling', 'helens', 'companion', 'upload', 'selection', '08715203652', 'idk', 'cinema', 'totally', 'win', 'europe', 'kotees', 'gap', 'railway', 'guesses', 'percent', 'becz', 'allday', '150p/meg', '32000', 'expiry', 'kiss', '84484', 'pete', 'gifts', 'wknd', 'woul', 'breaking', 'wocay', 'ab', 'victoria', 'trends', 'hdd', 'watched', 'wither', 'yep', 'presleys', 'if/when/how', 'mango', 'condition', 'tamilnadu', 'feng', 'toll', 'other', 'copied', 'sisters', 'darling', 'visitors', 'siguviri', 'sts', '6-ramaduth', 'jules', 'kolathupalayam', 'grownup', 'ache', 'day', 'dress', 'gone', 'lekdog', 'host-based', '£5', 'oga', 'rejected', 'lifting', 'mnth', 'smell', 'sarasota', 'qet', '6hl', '10:30', 'feel', 'tiwary', 'l8tr', 'fox', 'shopping', 'stadium', 'compare', '07946746291/07880867867', 'aslamalaikkum', 'adjustable', 'mood', 'lt', '09058094597', 'ithink', 'parantella', 'annoying', 'stated', 'gbp', 'reply.be', 'christmassy', '3.', 'comfey', '4mths', 'biro', 'lower', 'updat', 'days.so', 'persian', 'retard', 'margaret', 'v', 'gn', 'bathing', 'billed', 'gram', 'witot', 'ibuprofens', 'fne', 'speaking', 'whos', 'his/her', 'laden', '1.u', 'sleepy', 'tahan', 'iscoming', '09066612661', 'organise', '89693', 'footbl', 'us', 'mat', 'hitman', 'around', 'truly', 'g696ga', 'sankranti', 'rates', 'grandfather', 'jogging', 'and/or', '447801259231', 'tactless', 'vl', 'oi', 'tddnewsletter', 'flew', 'leo', 'abnormally', 'skins', 'bk', 'computer', 'el', 'andre', 'hope', 'uwant', 'fassyole', 'changing', 'planned', 'bollox', 'bbq', '1,000', 'exhausted', 'forward', 'radiator', 'prospects', 'adding', 'salad', 'different', 'patty', 'polyh', 'maneesha', 'doggin', 'renewing', 'stink', 'personally', '2.30ish', 'lamp', 'some', 'havin', 'jolt', '£3', '86021', 'window', 'scared', 'suggestions', 'words', 'theoretically', 'fresh', 'tuition', '7876150ppm', 'lovers', 'italian', 'taking', 'birds', 'gin', 'wun', 'rwm', 'gobi', 'vegas', 'defer', 'efreefone', 'www.gamb.tv', 'justify', 'poor', 'musthu', 'sing', 'mone', 'arngd', 'least5times', 'yalru', '9996.', 'invnted', '2end', 'rather', 'biatch', 'matured', 'wil', 'combine', 'licks', 'low-cost', 'saeed', 'ps3', 'wid', 'tomorw', 'orig', 'morning.take', 'camry', 'superior', 'k718', 'th', 'favourite', 'wap', 'paper', 'hoops', 'granted', 'hme', 'intrude', 'called', 'car.so', 'buzzzz', 'attraction.i', 'revealing', 'symptoms', 'coach', 'claypot', 'placed', 'claire', 'heads', '0207-083-6089', 'software', '0906346330.', 'belive', 'deposited', 'bbdeluxe', 'decision', 'sry', 'caveboy', '24m', 'hearin', 'overtime', 'testing', 'connections', 'paths', 'later', 'truble', '3230', 'dial', 'pussy', 'yourinclusive', 'bahamas', 'replacing', 'tocall.shall', 'drive', 'dogbreath', 'visitor', 'gurl', 'honest', 'vital', '8077', 'heron', 'twins', 'reminding', 'silly', 'vomiting', '1cup', 'uup', 'blimey', 'k.are', '08712405020', 'spiffing', 'vibrate', 'uni', 'workin', 'anjie', 'helps', 'no-440', 'sandiago', 'coming.tmorow', 'stalk', 'great', 'thin', 'mus', 'murali', 'police', 'ages', 'bold', 'min', '»', 'mth', 'trauma', 'rip', 'nigh', 'uworld', 'tickets', '09111032124', 'lucozade', 'fooled', 'embarrassed', 'ringtone¡', 'endless', 'drvgsto', 'need', 'nice', 'excited', 'possession', 'pobox84', '61610', 'imma', 'feb.', 'tiempo', 'studio', 'tui', 'california', 'activities', 'tonite', '2.im', 'chances', 'cricket', 'determined', 'hoo', 'hopefully', 'recycling', '08714712388', 'signal', 'shldxxxx', 'lakhs', 'evaporated', 'across', 'heat', 'hon', 'craziest', 'incredible', 'pile', '08712404000', '1205', 'andros', 'scarcasim', 'omg', 'meal', 'month.not', 'scratching', 'wtc', 'fancy', 'prakasamanu', 'guoyang', 'polys', 'ey', 'which', 'netvision.uk.com', '14thmarch', 'step', 'tacos', 'expecting', 'nelson', 'recognises', 'rich', 'hugh', 'realising', 'lipo', 'mac', 'it.i', 'someonone', 'pre', 'summon', 'educational', 'tactful', 'mentor', 'dinero', 'gt', 'e-namous', 'wildlife', 'textin', 'limping', 'k.', 'detailed', 'blessed', 'due', 'flower', '09099726553', 'lunsford', 'timings', '08709222922.', '7.30.', 'holding', 'starring', 'afterwards', '2stoptxt', '31p.msg', 'balls', 'poly/true/pix/ringtones/games', 'ur', 'moral', 'w/c', 'jas', 'requirements', 'selfish', '+447797706009', '4utxt', 'famous', 'dinner.msg', 'adrian', 'mom', '..................', 'shanghai', 'ron', 'smiles', 'subscribers', 'monkeys', 'service', 'wiskey', 'doggy', 'box385', 'explicit', 'just', 'rajini', 'mention', 'tscs087147403231winawk', 'eek', 'nytho', 'shd', 'life', 'ever', 'huh', 'asshole', 'studies', 'does', 'plans', 'towards', 'replys150', 'twice-', 'popping', '80878', 'jeans', '.be', 'macs', 'iron', 'knock', 'pack.also', '6pm', 'xxxx', 'suppliers', 'hole', 'shipped', '1da', 'whereare', 'physics', 'calculation', 'swatch', 'june', 'worms', 'kaitlyn', 'www.regalportfolio.co.uk', 'australia', 'curfew', 'ipod', 'idps', 'adress', 'suggest', 'type', 'impress', 'castor', 'flood', 'in2', 'speak', 'moon', 'rolled', 'in.our', 'lovingly', 'chords', 'fumbling', 'okey', 'mins', 'dem', 'forth', 'mesages', 'mono', 'cooked', 'links', 'mobiles', '2.u', 'c52', 'talk', 'suzy', 'tuesday', 'evaluation', 'thanks', 'academic', 'package', 'tgxxrz', 'k', 'vu', '.nt', 'demand', 'howz', 'buns', '45239', 'refused', '49557', 'travelled', 'thekingshead', 'hype', 'goldviking', 'forget', '09058094565', 'paris', '//alto18.co.uk/wave/wave.asp', 'c-red', 'complementary', 'pic', 'cake', 'sweatter', 'paying', \"'luxury\", 'block', 'watching', 'tiger', '£12', 'pocay', 'mmsto', '4-6', 'outrageous', '3days', 'unlimited', '5min', 'ringtone-get', 'walsall', 'venugopal', '02/09/03', 'dare', 'people', 'afford', 'colour', 'optimistic', 'cause', 'greet', '08715203028', 'ding', 'stays', 'chop', 'neekunna', 'log', 'collect', 're', 'g2', 'it.', 'erutupalam', 'thinl', 'knew', 'princess', 'contract', 'lightly', 'dint', '8th', 'roger', 'camera/video', 'whens', 'call09050000327', 'blind', 'summer', 'nd', 'time', 'agree', 'tool', 'reltnship', 'liquor', '2-4-1', 'smidgin', '9', 'howda', 'reminder', 'anthony', 'olave', 'her.my', 'massive', 'mandan', 'iam', '391784.', 'lucy', 'regret', 'realizes', 'w/question', 'glad', '09094646899', 'me.', 'ham', 'conditions', 'hsbc', '2stoptx', 'shant', 'multimedia', 'john', 'childrens', 'happens', 'camcorder', 'meh', 'idu', 'come', 'claimcode', 'small', '4403ldnw1a7rw18', 'easier', 'doubles', 'bedbut', 'realy', 'opportunity.pls', 'desert', 'todays', 'sipix', 'bring', 'love.rakhesh', 'fetching', 'free2day', 'chile', 'wife.dont', 'usf', 'emotion', 'garden', 'you.my', 'selfindependence', 'boytoy', 'jelly', 'clarify', 'esplanade', 'lunch', 'ldn', 'ac/w/icmb3cktz8r7', 'coffee', '27/6/03', 'stops', 'timi', 'tohar', 'reserve', 'frwd', 'cab', 'k.k.how', 'bam', '09066368327', 'termsapply', 'orange', 'itxt', 'a£1.50', 'b4190604', 'pesky', 'funk', '730', 'good.environment', '10', 'ref', '12hours', 'welp', 'straight', 'investigate', 'resubbing', 'searching', '07742676969', 'ptbo', 'kisi', '8.neighbour', 'tiny', 'aco', 'sometme', 'upgrading', 'burnt', 'mids', 'fri.', 'l8', 'neighbor', 'noisy', '£1.50perweeksub', 'spending', '81151', 'astrology', 'experiment', 'pig', 'league', 'tsunamis', 'checkup', 'skills', 'stability', 'load', 'dizzamn', 'unsub', 'heavily', 'meant', '88222', 'aiyar', \"x'mas\", 'me', '09066368753', 'adds', 'hos', 'pub', 'lionm', 'fal', 'us.get', 'outl8r', 'ruining', 'mark', 'rdy', 'ros', 'gravy', 'm.', '177', 'winterstone', '..........', 'remains', 'motivate', '=/', \"'simple\", 'kudi', 'cumin', 'placement', '09058098002.', 'website', '//careers', 'burial', 'agent', 'christians', 'e.', 'tree', '2nights', 'kip', '3rd', 'spain', '114/14', 'goodtime', 'vilikkam', 'bank', 'rael', 'callon', 'havebeen', 'viva', 'sterm', 'soo', 'stamps', 'sac', 'smoothly', 'ofcourse', 'patrick', 'mel', '08719180219', 'hogolo', 'whn', 'dads', 'cum', 'nudist', 'notxt.co.uk', 'promised', 'winnersclub', 'cardin', 'results', 'secondary', 'afternoons', 'weird', 'wallpaper', 'submitting', 'required', 'sunny', 'bucks', 'swiss', '077xxx', 'pls', 'persons', '6.', 'wrong', 'even', 'convinced', 'hopeso', 'alert', '9.funny', 'must', 'ü', '7am', 'ibh', 'soup', '7.', \"'hex\", 'p', 'sorting', 'firmware', 'selling', 'name', 'walkin', 'opener', \"'help\", 'multis', '08718720201', 'gf', 'korean', 'perhaps', 'yes-762', 'irene.ere', '10am-9pm', 'babies', 'overdid', 'ikno', '07973788240', 'theirs', 'www.cnupdates.com/newsletter', 'ave', 'little', 'files', 'rto', 'yarasu', 'keypad', 'juan', 'amplikater', '2-u', 'lengths', 'went', 'theory', 'establish', 'dental', ',s', 'falconerf', 'disc', 'lkpobox177hp51fl', 'deposit', 'pissed', 'scratches', 'innocent', 'texts/weekend', 'plz', 'dude', 'held', 'ugo', 'sport', 'rajas', 'slices', 'scary', 'language', '88600', 'toledo', '150p/mtmsgrcvd18+', 'itcould', 'unsold', 'stoners', 'hands', '+std', 'interested', 'look', 'anyhow', 'jjc', 'dosomething', 'www.sms.ac/u/hmmross', 'nurungu', 'snap', 'failing', 'wales', 'double-faggot', '.a', 'check', 'needed', 'dha', 'then.will', 'canlove', 'disturbing', 'foot', 'o=44345', 'frndsship', '08718726971', 'interesting', 'refilled', 'www.getzed.co.uk', 'saying', 'evrydy', 'vill', 'walkabout', 'fink', 'visit', 'audrey', 'barbie', 'sw73ss', '7ws', 'grinder', '£10', 'phony', 'sae', 'arnt', 'enufcredeit', 'jo', '7.30ish', 'logo', 'lag', 'words-', 'trade', '69669', 'admit', 'becoz', '4-pavanaputra', 'thanx.xx', 'hall', 's.', 'kaiez', 'associate', 'bot', 'eve', '02073162414', 'entry', 'strokes', 'feathery', 'maraikara', 'a-ffectionate', 'www.music-trivia.net', '08702840625.comuk', 'videosounds+2', '32323', '1225', 'okie', 'home.love', '=twelve', 'vewy', 'jsco', 'trusting', 'mix', 'yi', 'infernal', 'horniest', 'gaze', '2yr', 'purpose', 'prasad', 'network', '123', 'goodevening', 'adrink', '09058094594', 'dt', 'l-oveable', 'nora', 'mush', 'entitled', '9.decent', 'gynae', 'apo', 'www.tkls.com', 'yupz', 'mcr', 'prey', 'neglet', 'they', 'sic', 'kidding', 'moms', 'dime', 'temper', 'wrongly', 'u2moro', 'voila', 'alcohol', '“', 'emergency', '310303.', 'regard', 'tomeandsaid', 'ranjith', 'sister', 'myparents', 'squishy', 'evr', 'freeentry', 'south', 'membership.take', 'da.i', 'clearly', 'involved', 'project', 'seventeen', '.after', 'frmcloud', 'row/w1j6hl', 'eurodisinc', 'wishing', 'happier', 'brainless', 'nordstrom', 'friend', 'wc1n3xx', 'planettalkinstant.com', '4wrd', '09094646631', 'melle', 'guys', 'color', 'search', 'result', 'misbehaved', 'belly', '3', 'installing', 'diamonds', '(', 'town', 'shangela', 'sheet', 'bslvyl', 'ie', '1x150p/wk', 'freely', 'ctxt', 'nope', '5pm', 'pooja', '£1000call', 'auntie', 'dats', 'gona', 'speeding', 'bear', 'cherish', 'msg/subscription', 'has', 'iq', '100txt/mth', '07808247860', 'department', 're-sub', 'etc.', 'fortune', 'die', 'sometime', 'logging', '150ppm', 'milta', 'opinion', 'costa', 'predicte', 'saibaba', 'reached', 'daytime', 'mad', 'bandages', 'pause', 'facts', 'decking', 'fool', 'spider-man', 'hat', 'drpd', 'bay', 'alrite', 'woah', 'crying', 'jackson', '7.8p/min', 'jacket', 'receive', '08701417012', 'definite', 'cheek', 'expect', 'hiding', 'dad', 'peach', '9ae', 'post', 'macedonia', 'minecraft', '26.03.05', 'sack', 'us.let', 'ko', 'tired', 'places', 'boys', '85069', 'didnt', 'dropped', 'tessy', 'talent', 'melnite', 'gotten', 'swalpa', 'tim', 'foley', 'soul', 'staring', 'modl', 'thy', 'much/impede', 'travelling', 'applebees', 'arrow', 'supports', 'golf', 'deliver', '18+only', 'nahi', 'find', 'notifications', '7:30', 'hittng', 'hep', '1hr', '3510i', '69696', 'id=1b6a5ecef91ff9', 'going', 'laugh', '09061702893', 'hunt', 'gd', 'distance', 'black', 'yourself', 'careless', 'mjzgroup', 'aphex\\x92s', 'wheellock', 'gives', 'apply', 'abt', 'dnt', 'book', '150p/msg', 'raise', 'www.80488.biz', 'sez', 'pobox114/14tcr/w1', 'subletting', 'u4', 'feet', 'concern', 'accommodationvouchers', 'perpetual', 'dimension', 'wizzle', 'serving', 'p£3.99', 'finishes', '08715500022', 'joined.so', 'k61', 'id=820554ad0a1705572711', 'bottom', 'chinatown', 'cook', 'significant', 'boye', 'dengra', 'weeks', 'james', 'saucy', 'nervous', 'lambu', 'politicians', 'drink.pa', 'janx', '83370.', '08718738002', 'reache', '3ss', 'problms', 'laready', 'atleast', 'telugu', 'settled', 'problem', 'weak', 'num', 'wicklow', 'nimya', 'nalla', 'chuck', 'no-910', 'shower', 'offline', 'utter', 'vry', '07808', 'guilty', 'swat', 'tell', 'since', 'loss', 'bulbs', '08701213186', 'whore', '1/08/03', 'textcomp', 'wa14', 'pura', 'admin', 'deluxe', 'makiing', 'brisk', 'tallahassee', 'talents', 'magazine', 'roast', 'alfie', 'refund', 'finished', '-/', 'blown', 'shit.justfound', 'uhhhhrmm', 'smile', 'tobed', 'report', 'sachin', 'jackpot', '8ball', 'v.pist', 'mumhas', '07821230901', 'datz', 'cheap', 'prepared', 'undrstndng', 'auto', 'form', 'beerage', 'raji', 'shocking', 'loose', 'road', 'croydon', 'permissions', 'u', '09066380611', 'timin', '8+6+3=', 'wishin', 'affair', '2docd.please', 'charge', 'show', 'olympics', 'parents', 'treasure', 'sigh', 'mk45', '2waxsto', 'yes-434', 'immediately', '09056242159', 'mileage', 'talked', 'costing', 'quiz', 'respectful', 'afternon', 'ourbacks', 'gdeve', 'darker', 'handsomes', '1.', 'fm', 'wall', 'wheel', 'l8er', '2nite', 'discussed', 'chillin', 'telephonic', '=', 'rgds', 'go2sri', 'la', 'meets', 'bloke', 'audition', 'served', 'celeb', 'arty', 'pretty', '10am-7pm', 'notixiquating', 'yaxx', 'suffering', 'gua', 'essay', 'nino', 'k.wish', 'cherthala.in', 'yogasana', 'huiming', 'matthew', 'vodafone', 'diesel', 'bluray', 'hmv1', 'stop', 'cramps', '326', 'www.textcomp.com', 'god.not', 'gnun', 'practicum', 'trouble', 'usc.edu', '08714712379', 'printing', 'valid', 'muchand', 'breather', 'textpod', 'largest', 'lover', 'position', 'scotland', 'stuff', 'real1', 'passionate', 'most', 'b/tooth', 'run', 'nature', 'restrictions', 'dessert', 'ah.now', 'nighters', '18p/txt', 'advance', 'o.', 'friendships', 'boat', 'showers', 'fondly', 'linux', 'parkin', 'picsfree1', 'rupaul', 'travel', 'lido', 'someplace', 'open', 'aa', 'telly', 'autocorrect', 'bellearlier', 'chinky', 'hillsborough', '09050090044', '2p', 'superb', 'www.orange.co.uk/ow', 'butt', 'destination', '0121', 'adult', 'spelled', 'bffs', 'bt', 'subscriptions', 'hugs', 'fifa', '09061221061', 'ryder', 'hl', 'time-hope', 'filthyguys', '1', 'rs', 'nte', 'prescribed', 'moseley', 'concerned', 'recharged', 'gam', 'under', 'diamond', '078498', 'process.excellent', 'avent', 'upgrdcentre', 'replies', 'and', 'afraid', 'buddy', 'sirji.i', '08001950382', 'reffering', \"n't\", 'give', 'near', '1956669', 'wasted', 'pod', 'stool', 'arranging', 'brum', 'mrng', 'lar', 'adoring', '80488', 'occurs', 'bambling', '5.30', 'xmas', '18', 'piah', 'there', 'pickle', 'nooooooo', 'meeting', 'ki', '8am', '09061790126', 'sleepingwith', 'ramen', 'matter', 'fromwrk', 'amount', 'pray', 'elama', 'matrix3', 'gamestar', 'ofice', 'books', '08704439680.', 'noise', 'showing', '21870000', 'joining', 'acid', 'rec', 'packs', 'btwn', 'simple', '09066361921', 'wise', 'april', 'www.txt82228.com', '731', 'knw', 'meetin', '09061743810', 'frank', 'invited', 'wins', 'worth', 'honey', 'blow', 'spelling', 'close', 'limits', 'cost£3.75max', 'macho', '08718711108', 'padhe.g.m', 'clas', 'envelope', 'leaves', '88888', 'embarassing', '3lions', 'ip', 'mad2', '150p/msgrcvd', 'sleepwell', 'oil', 'buddys', 'took', 'gauge', 'tones2u', 'surly', 'eldest', 'minor', 'silently', 'alian', 'top', 'm95', 'rs.5', 'thinking', 'wanted', 'pretsorginta', 'l', 'friend-of-a-friend', 'lets', 'putting', 'tai', 'closes', 'til', 'rstm', 'keen', 'skip', '08714714011', 'tone', 'jorge-shock', 'ntt', 'fone', 'lifpartnr', 'burn', 'chatlines', 'ana', 'still.maybe', '88800', 'can\\x92t', 'done', 'trip', 'tue', 'prescripiton', 'problem-free', 'cliffs', 'raviyog', 'ltd.£1,50/mtmsgrcvd18+', 'he', 'more', 'delivery', 'method', 'feeling', 'strict', 'lasting', 'anythingtomorrow', 'hv', 'buzz', 'free-send', 'best1', 'stairs', 'verifying', '078', 'missions', 'mmmmmmm', 'r', 'ese', 'broth', 'sagamu', 'texd', 'bennys', '£1.50perwksub', 'real', 'busy', 'draws', 'deliveredtomorrow', 'looovvve', 'positive', 'group', 'dry', '0845', 'cs/stop', 'doesdiscount', 'various'] 9439\n"
     ]
    }
   ],
   "execution_count": 12
  },
  {
   "metadata": {
    "ExecuteTime": {
     "end_time": "2024-09-13T08:33:01.303532Z",
     "start_time": "2024-09-13T08:33:01.300787Z"
    }
   },
   "cell_type": "code",
   "source": "frequency_matrix.shape",
   "id": "4125548d76a163df",
   "outputs": [
    {
     "data": {
      "text/plain": [
       "(5572, 9439)"
      ]
     },
     "execution_count": 13,
     "metadata": {},
     "output_type": "execute_result"
    }
   ],
   "execution_count": 13
  },
  {
   "metadata": {
    "ExecuteTime": {
     "end_time": "2024-09-13T08:33:02.647686Z",
     "start_time": "2024-09-13T08:33:02.645228Z"
    }
   },
   "cell_type": "code",
   "source": [
    "def get_used_words(vector: np.ndarray, unique_words: list[str]) -> list[str]:\n",
    "    non_zero_indices = np.where(vector > 0)[0]\n",
    "    words = [unique_words[i] for i in non_zero_indices]\n",
    "    return words"
   ],
   "id": "6786ceaf05a45ee4",
   "outputs": [],
   "execution_count": 14
  },
  {
   "metadata": {
    "ExecuteTime": {
     "end_time": "2024-09-13T08:33:02.805205Z",
     "start_time": "2024-09-13T08:33:02.803056Z"
    }
   },
   "cell_type": "code",
   "source": [
    "vector = frequency_matrix[0]\n",
    "used_words = get_used_words(vector, unique_words)"
   ],
   "id": "c04395aed3aa033e",
   "outputs": [],
   "execution_count": 15
  },
  {
   "metadata": {
    "ExecuteTime": {
     "end_time": "2024-09-13T08:33:02.944329Z",
     "start_time": "2024-09-13T08:33:02.941892Z"
    }
   },
   "cell_type": "code",
   "source": "used_words",
   "id": "3352f41dd16d0ed1",
   "outputs": [
    {
     "data": {
      "text/plain": [
       "['wat',\n",
       " 'e',\n",
       " 'buffet',\n",
       " 'amore',\n",
       " 'n',\n",
       " 'until',\n",
       " 'bugis',\n",
       " 'got',\n",
       " 'world',\n",
       " 'crazy',\n",
       " 'in',\n",
       " 'jurong',\n",
       " 'available',\n",
       " ',',\n",
       " 'go',\n",
       " '...',\n",
       " '..',\n",
       " 'only',\n",
       " 'cine',\n",
       " 'point',\n",
       " 'great',\n",
       " 'la',\n",
       " 'there']"
      ]
     },
     "execution_count": 16,
     "metadata": {},
     "output_type": "execute_result"
    }
   ],
   "execution_count": 16
  },
  {
   "metadata": {
    "ExecuteTime": {
     "end_time": "2024-09-13T08:33:05.577558Z",
     "start_time": "2024-09-13T08:33:05.531080Z"
    }
   },
   "cell_type": "code",
   "source": [
    "from sklearn.neighbors import KNeighborsClassifier\n",
    "from sklearn.svm import SVC\n",
    "from sklearn.tree import DecisionTreeClassifier\n",
    "from sklearn.model_selection import train_test_split\n",
    "from sklearn.metrics import accuracy_score\n"
   ],
   "id": "5fadb0c0755759a9",
   "outputs": [],
   "execution_count": 17
  },
  {
   "metadata": {
    "ExecuteTime": {
     "end_time": "2024-09-13T08:33:05.675900Z",
     "start_time": "2024-09-13T08:33:05.672935Z"
    }
   },
   "cell_type": "code",
   "source": [
    "def print_accuracy(X: np.ndarray, y: np.ndarray, type: str) -> None:\n",
    "    classifiers: dict[\n",
    "        str,\n",
    "        tp.Union[DecisionTreeClassifier, SVC, KNeighborsClassifier]\n",
    "    ] = {\n",
    "        'Decision Tree': DecisionTreeClassifier(),\n",
    "        'SVM': SVC(),\n",
    "        'KNN': KNeighborsClassifier()\n",
    "    }\n",
    "    X_train, X_test, y_train, y_test = train_test_split(X, y, test_size=0.2, random_state=42)\n",
    "    for name, classifier in classifiers.items():\n",
    "        classifier.fit(X_train, y_train)\n",
    "        y_pred = classifier.predict(X_test)\n",
    "        print(\n",
    "            f'{type}:> '\n",
    "            f'Classifier: {name}. '\n",
    "            f'Accuracy: {accuracy_score(y_test, y_pred)}. '\n",
    "        )\n",
    "\n",
    "\n",
    "def print_diff_classifiers(X, y, selected_features, select_method: str) -> None:\n",
    "    print_accuracy(X=X, y=y, type=f\"Before {select_method}\")\n",
    "    X_selected = X[:, selected_features]\n",
    "    print_accuracy(X=X_selected, y=y, type=f\"After {select_method}\")"
   ],
   "id": "e7d99541de6dce89",
   "outputs": [],
   "execution_count": 18
  },
  {
   "metadata": {},
   "cell_type": "markdown",
   "source": "Filter method: >",
   "id": "7290da6225d9605b"
  },
  {
   "metadata": {
    "ExecuteTime": {
     "end_time": "2024-09-13T08:33:08.862112Z",
     "start_time": "2024-09-13T08:33:08.857740Z"
    }
   },
   "cell_type": "code",
   "source": [
    "from scipy.stats import pearsonr\n",
    "import numpy as np\n",
    "\n",
    "\n",
    "def calculate_pearson_correlation(X: np.ndarray, y: np.ndarray) -> np.ndarray:\n",
    "    n_features = X.shape[1]\n",
    "    feature_correlations = np.zeros(n_features)\n",
    "    for feature_idx in range(n_features):\n",
    "        feature_values = X[:, feature_idx]\n",
    "        corr, _ = pearsonr(feature_values, y)\n",
    "        feature_correlations[feature_idx] = corr\n",
    "    return feature_correlations\n",
    "\n",
    "\n",
    "def filter_top_features_by_pearson(X, y, top_n=30) -> np.ndarray:\n",
    "    feature_correlations = calculate_pearson_correlation(X, y)\n",
    "    top_features_idx = np.argsort(np.abs(feature_correlations))[-top_n:]\n",
    "    return top_features_idx"
   ],
   "id": "2bd5ab8665201917",
   "outputs": [],
   "execution_count": 19
  },
  {
   "metadata": {
    "ExecuteTime": {
     "end_time": "2024-09-13T08:33:13.668689Z",
     "start_time": "2024-09-13T08:33:09.015765Z"
    }
   },
   "cell_type": "code",
   "source": [
    "selected_features_idx = filter_top_features_by_pearson(frequency_matrix, y)\n",
    "selected_feature_pearson = np.array(unique_words)[selected_features_idx]\n",
    "print(\"Best features by filter Pearson correlation:\", selected_feature_pearson.tolist())"
   ],
   "id": "1b76e881d6e12826",
   "outputs": [
    {
     "name": "stdout",
     "output_type": "stream",
     "text": [
      "Best features by filter Pearson correlation: ['our', 'i', 'tone', 'awarded', 'customer', 'from', 'cs', 'nokia', 'win', 'contact', 't', 'your', 'now', 'cash', 'service', 'guaranteed', 'or', 'text', 'reply', 'urgent', 'stop', '!', 'to', 'won', 'prize', 'mobile', 'claim', 'free', 'txt', 'call']\n"
     ]
    }
   ],
   "execution_count": 20
  },
  {
   "metadata": {
    "ExecuteTime": {
     "end_time": "2024-09-13T02:15:06.074765Z",
     "start_time": "2024-09-13T02:14:39.185405Z"
    }
   },
   "cell_type": "code",
   "source": "print_diff_classifiers(frequency_matrix, y, selected_features_idx, select_method=\"FilterPearsonCorrelation\")",
   "id": "5ca6a8d459f2965e",
   "outputs": [
    {
     "name": "stdout",
     "output_type": "stream",
     "text": [
      "Before FilterPearsonCorrelation:> Classifier: Decision Tree. Accuracy: 0.9721973094170404. \n",
      "Before FilterPearsonCorrelation:> Classifier: SVM. Accuracy: 0.9820627802690582. \n",
      "Before FilterPearsonCorrelation:> Classifier: KNN. Accuracy: 0.9282511210762332. \n",
      "After FilterPearsonCorrelation:> Classifier: Decision Tree. Accuracy: 0.9632286995515695. \n",
      "After FilterPearsonCorrelation:> Classifier: SVM. Accuracy: 0.968609865470852. \n",
      "After FilterPearsonCorrelation:> Classifier: KNN. Accuracy: 0.9623318385650225. \n"
     ]
    }
   ],
   "execution_count": 93
  },
  {
   "metadata": {},
   "cell_type": "markdown",
   "source": "",
   "id": "662d9385fa77e16f"
  },
  {
   "metadata": {},
   "cell_type": "markdown",
   "source": "Wrapper method:>",
   "id": "f287d88ffc74a7b4"
  },
  {
   "metadata": {
    "ExecuteTime": {
     "end_time": "2024-09-13T08:44:36.416661Z",
     "start_time": "2024-09-13T08:44:36.412171Z"
    }
   },
   "cell_type": "code",
   "source": [
    "# check\n",
    "class CustomRFE:\n",
    "    def __init__(self, n_features_to_select: int = 30, step: int = 1) -> None:\n",
    "        self.max_features: int = n_features_to_select\n",
    "        self.step: int = step\n",
    "        self.n_features_: tp.Optional[int] = None\n",
    "        self.support_: np.ndarray = self._init_support_()\n",
    "        self.rank_: np.ndarray = self._init_rank_()\n",
    "        self.estimator_: DecisionTreeClassifier = DecisionTreeClassifier()\n",
    "\n",
    "    def _init_rank_(self) -> np.ndarray:\n",
    "        return np.ones(self.n_features_, dtype=int)\n",
    "\n",
    "    def _init_support_(self) -> np.ndarray:\n",
    "        return np.ones(self.n_features_, dtype=bool)\n",
    "\n",
    "    def fit(self, X, y) -> np.ndarray:\n",
    "        self.n_features_ = X.shape[1]\n",
    "        self.support_ = self._init_support_()\n",
    "        self.rank_ = self._init_rank_()\n",
    "\n",
    "        while np.sum(self.support_) > self.max_features:\n",
    "            self.estimator_.fit(X[:, self.support_], y)\n",
    "            least_important = np.argsort(self.estimator_.feature_importances_)[:self.step]\n",
    "            self._upd_features(least_important)\n",
    "\n",
    "        self.rank_[self.support_] = 1\n",
    "        return np.where(self.support_)[0]\n",
    "\n",
    "    def _upd_features(self, least_important: np.ndarray) -> None:\n",
    "        for idx in least_important:\n",
    "            if idx < len(self.support_[np.where(self.support_)[0]]):\n",
    "                self._upd_support_(idx)\n",
    "                self._upd_rank_(idx)\n",
    "\n",
    "    def _upd_rank_(self, idx: int) -> None:\n",
    "        self.rank_[np.where(self.rank_)[0][idx]] = np.sum(self.rank_) + 1\n",
    "\n",
    "    def _upd_support_(self, idx: int) -> None:\n",
    "        self.support_[np.where(self.support_)[0][idx]] = False\n"
   ],
   "id": "544c7689f711b92c",
   "outputs": [],
   "execution_count": 24
  },
  {
   "metadata": {
    "ExecuteTime": {
     "end_time": "2024-09-13T08:44:37.054100Z",
     "start_time": "2024-09-13T08:44:37.051183Z"
    }
   },
   "cell_type": "code",
   "source": [
    "frequency_matrix = frequency_matrix[:100, :]\n",
    "y = y[:100]"
   ],
   "id": "d4c1eb6197f1fc86",
   "outputs": [],
   "execution_count": 25
  },
  {
   "metadata": {
    "ExecuteTime": {
     "end_time": "2024-09-13T08:47:09.363448Z",
     "start_time": "2024-09-13T08:46:45.400171Z"
    }
   },
   "cell_type": "code",
   "source": [
    "rfe = CustomRFE(n_features_to_select=30)\n",
    "rfe.fit(frequency_matrix, y)\n",
    "rfe.rank_"
   ],
   "id": "25b29bcc6b665913",
   "outputs": [
    {
     "data": {
      "text/plain": [
       "array([2005494892,          1,          1, ...,          1,          1,\n",
       "                1])"
      ]
     },
     "execution_count": 28,
     "metadata": {},
     "output_type": "execute_result"
    }
   ],
   "execution_count": 28
  },
  {
   "metadata": {
    "ExecuteTime": {
     "end_time": "2024-09-13T08:47:15.051061Z",
     "start_time": "2024-09-13T08:47:15.044512Z"
    }
   },
   "cell_type": "code",
   "source": [
    "important_features = np.array(unique_words)[rfe.support_]\n",
    "print(\"Best features by wrapper CustomRFE:\", important_features.tolist())"
   ],
   "id": "11ec2f039efa3d4b",
   "outputs": [
    {
     "name": "stdout",
     "output_type": "stream",
     "text": [
      "Best features by wrapper CustomRFE: ['prize', 'praying.will', 'calls£1/minmobsmorelkpobox177hp51fl', '09058095201', 'goods', 'scallies', '£100', 'www.asjesus.com', 'lib', 'chaps', 'mad1', ')', 'comes', 'reply', 'to', 'i', 'inever', 'ltdhelpdesk', '44', '80086', 'mayb', 'spoons', 'leanne.what', 'none', 'a-', 'oclock', 'hannaford', 'etc', 'favourite', 'wap']\n"
     ]
    }
   ],
   "execution_count": 29
  },
  {
   "metadata": {},
   "cell_type": "markdown",
   "source": "Embedded method:>",
   "id": "e57941900e3fd314"
  },
  {
   "metadata": {
    "ExecuteTime": {
     "end_time": "2024-09-13T08:47:18.926483Z",
     "start_time": "2024-09-13T08:47:18.879723Z"
    }
   },
   "cell_type": "code",
   "source": "print_diff_classifiers(frequency_matrix, y, rfe.support_, select_method=\"CustomRFE\")",
   "id": "e16a9544ff20cc63",
   "outputs": [
    {
     "name": "stdout",
     "output_type": "stream",
     "text": [
      "Before CustomRFE:> Classifier: Decision Tree. Accuracy: 0.9. \n",
      "Before CustomRFE:> Classifier: SVM. Accuracy: 1.0. \n",
      "Before CustomRFE:> Classifier: KNN. Accuracy: 0.95. \n",
      "After CustomRFE:> Classifier: Decision Tree. Accuracy: 0.95. \n",
      "After CustomRFE:> Classifier: SVM. Accuracy: 0.9. \n",
      "After CustomRFE:> Classifier: KNN. Accuracy: 1.0. \n"
     ]
    }
   ],
   "execution_count": 30
  },
  {
   "metadata": {
    "ExecuteTime": {
     "end_time": "2024-09-13T01:24:58.068983Z",
     "start_time": "2024-09-13T01:24:58.053673Z"
    }
   },
   "cell_type": "code",
   "source": [
    "class Node:\n",
    "    def __init__(self, feature=None, threshold=None, left=None, right=None, value=None) -> None:\n",
    "        self.feature: tp.Optional[int] = feature\n",
    "        self.threshold: tp.Optional[float] = threshold\n",
    "        self.left: tp.Optional[Node] = left\n",
    "        self.right: tp.Optional[Node] = right\n",
    "        self.value: tp.Optional[np.signedinteger] = value\n",
    "\n",
    "    def is_leaf(self) -> bool:\n",
    "        return self.value is not None\n",
    "\n",
    "\n",
    "class CustomDecisionTree:\n",
    "    def __init__(\n",
    "            self,\n",
    "            max_depth: tp.Optional[int] = None,\n",
    "            min_samples_split: int = 2,\n",
    "            min_samples_leaf: int = 1,\n",
    "            max_features: tp.Optional[int] = None\n",
    "    ) -> None:\n",
    "        self.max_depth: tp.Optional[int] = max_depth\n",
    "        self.min_samples_to_split: int = min_samples_split\n",
    "        self.min_samples_leaf: int = min_samples_leaf\n",
    "        self.max_features: tp.Optional[int] = max_features\n",
    "        self.tree: tp.Optional[Node] = None\n",
    "        self.feature_indices: tp.Optional[np.ndarray] = None\n",
    "        self.feature_gains: tp.Optional[np.ndarray] = None\n",
    "\n",
    "    def fit(self, X: np.ndarray, y: np.ndarray) -> None:\n",
    "        n_features = X.shape[1]\n",
    "        y = np.asarray(y)\n",
    "        self._init_features(n_features)\n",
    "        self.tree = self._build_tree(X, y)\n",
    "        self._update_features(n_features)\n",
    "\n",
    "    def _init_features(self, n_features: int) -> None:\n",
    "        self.feature_gains = np.zeros(n_features)\n",
    "\n",
    "    def _build_tree(self, X: np.ndarray, y: np.ndarray, depth: int = 0) -> Node:\n",
    "        n_samples, n_features = X.shape\n",
    "        self.n_classes = len(np.unique(y))\n",
    "        if self.max_depth and depth >= self.max_depth \\\n",
    "                or self.n_classes == 1 \\\n",
    "                or n_samples < self.min_samples_to_split:\n",
    "            leaf_value: np.signedinteger = self._most_common_label(y)\n",
    "            return Node(value=leaf_value)\n",
    "\n",
    "        rand_features = np.random.choice(n_features, n_features, replace=False)\n",
    "        best_feature, best_threshold = self._best_criteria(X, y, rand_features)\n",
    "        left_idxs, right_idxs = self._split(X[:, best_feature], best_threshold)\n",
    "\n",
    "        if (len(left_idxs) < self.min_samples_leaf\n",
    "                or len(right_idxs) < self.min_samples_leaf):\n",
    "            leaf_value: np.signedinteger = self._most_common_label(y)\n",
    "            return Node(value=leaf_value)\n",
    "\n",
    "        left = self._build_tree(X[left_idxs, :], y[left_idxs], depth + 1)\n",
    "        right = self._build_tree(X[right_idxs, :], y[right_idxs], depth + 1)\n",
    "        return Node(feature=best_feature, threshold=best_threshold, left=left, right=right)\n",
    "\n",
    "    def _update_features(self, n_features: int) -> None:\n",
    "        if self.max_features is not None:\n",
    "            top_feature_indices = np.argsort(self.feature_gains)[-self.max_features:]\n",
    "            self.feature_indices = np.sort(top_feature_indices)\n",
    "        else:\n",
    "            self.feature_indices = np.arange(n_features)\n",
    "\n",
    "    def _best_criteria(self, X: np.ndarray, y: np.ndarray, features: np.ndarray) -> tuple[int, float]:\n",
    "        best_gain = -1\n",
    "        best_feature, best_threshold = None, None\n",
    "        for feature in features:\n",
    "            X_column_by_feature = X[:, feature]\n",
    "            thresholds = np.unique(X_column_by_feature)\n",
    "            for threshold in thresholds:\n",
    "                gain = self._information_gain(y, X_column_by_feature=X_column_by_feature, split_thresh=threshold)\n",
    "                if gain > best_gain:\n",
    "                    self.feature_gains[feature] += gain\n",
    "                    best_gain = gain\n",
    "                    best_feature = feature\n",
    "                    best_threshold = threshold\n",
    "        return best_feature, best_threshold\n",
    "\n",
    "    def _information_gain(self, y, X_column_by_feature: np.ndarray, split_thresh: float) -> float:\n",
    "        parent_entropy = self._calc_entropy(y)\n",
    "        left_idxs, right_idxs = self._split(X_column_by_feature, split_thresh)\n",
    "        if len(left_idxs) == 0 or len(right_idxs) == 0:\n",
    "            return -1\n",
    "        n_total, n_left, n_right = len(y), len(left_idxs), len(right_idxs)\n",
    "        entropy_left, entropy_right = self._calc_entropy(y[left_idxs]), self._calc_entropy(y[right_idxs])\n",
    "        k_left, k_right = n_left / n_total, n_right / n_total\n",
    "        child_entropy = k_left * entropy_left + k_right * entropy_right\n",
    "        ig = parent_entropy - child_entropy\n",
    "        return ig\n",
    "\n",
    "    @staticmethod\n",
    "    def _split(X_column_by_feature: np.ndarray, split_thresh: float) -> tuple[np.ndarray, np.ndarray]:\n",
    "        left_idxs = np.argwhere(X_column_by_feature <= split_thresh).flatten()\n",
    "        right_idxs = np.argwhere(X_column_by_feature > split_thresh).flatten()\n",
    "        return left_idxs, right_idxs\n",
    "\n",
    "    @staticmethod\n",
    "    def _calc_entropy(y: np.ndarray) -> float:\n",
    "        p_lst = np.bincount(y) / len(y)\n",
    "        return -np.sum([p * np.log2(p) for p in p_lst if p > 0])\n",
    "\n",
    "    @staticmethod\n",
    "    def _most_common_label(y: np.ndarray) -> np.signedinteger:\n",
    "        return np.bincount(y).argmax()\n",
    "\n",
    "    def predict(self, X: np.ndarray) -> np.ndarray:\n",
    "        return np.array([self._traverse_tree(x, self.tree) for x in X])\n",
    "\n",
    "    def _traverse_tree(self, x, node) -> np.signedinteger:\n",
    "        if node.is_leaf():\n",
    "            return node.value\n",
    "        if x[node.feature] <= node.threshold:\n",
    "            return self._traverse_tree(x, node.left)\n",
    "        return self._traverse_tree(x, node.right)\n"
   ],
   "id": "a98301e4bd3142fc",
   "outputs": [],
   "execution_count": 29
  },
  {
   "metadata": {
    "ExecuteTime": {
     "end_time": "2024-09-13T01:25:12.833269Z",
     "start_time": "2024-09-13T01:24:59.554533Z"
    }
   },
   "cell_type": "code",
   "source": [
    "dt = CustomDecisionTree(\n",
    "    max_depth=5,\n",
    "    min_samples_split=4,\n",
    "    min_samples_leaf=3,\n",
    "    max_features=30\n",
    ")\n",
    "dt.fit(frequency_matrix, y)\n",
    "selected_feature_indices = dt.feature_indices\n",
    "selected_features = np.array(unique_words)[selected_feature_indices]\n",
    "print(\"Best features by embedded CustomDecisionTreeClassifier:\", selected_features.tolist())"
   ],
   "id": "c3343a311f519771",
   "outputs": [
    {
     "name": "stdout",
     "output_type": "stream",
     "text": [
      "Best features by embedded CustomDecisionTreeClassifier: ['stop', 'horo', '#', 'have', 'your', 'text', 'mobile', 'pix', 'or', 'ask', 'a', 'aight', 'call', 'not', 'i', 'me', '!', 'u', 'with', 'extra', 'its', 'later', 'to', 'free', 'for', 'prize', 'quite', 'txt', 'you', 'while']\n"
     ]
    }
   ],
   "execution_count": 30
  },
  {
   "metadata": {
    "ExecuteTime": {
     "end_time": "2024-09-13T01:27:02.145595Z",
     "start_time": "2024-09-13T01:26:34.635741Z"
    }
   },
   "cell_type": "code",
   "source": "print_diff_classifiers(frequency_matrix, y, selected_feature_indices, select_method=\"CustomDecisionTreeClassifier\")",
   "id": "fd328d372372a827",
   "outputs": [
    {
     "name": "stdout",
     "output_type": "stream",
     "text": [
      "Before CustomDecisionTreeClassifier:> Classifier: Decision Tree. Accuracy: 0.9721973094170404. \n",
      "Before CustomDecisionTreeClassifier:> Classifier: SVM. Accuracy: 0.9820627802690582. \n",
      "Before CustomDecisionTreeClassifier:> Classifier: KNN. Accuracy: 0.9282511210762332. \n",
      "After CustomDecisionTreeClassifier:> Classifier: Decision Tree. Accuracy: 0.957847533632287. \n",
      "After CustomDecisionTreeClassifier:> Classifier: SVM. Accuracy: 0.9641255605381166. \n",
      "After CustomDecisionTreeClassifier:> Classifier: KNN. Accuracy: 0.9623318385650225. \n"
     ]
    }
   ],
   "execution_count": 31
  },
  {
   "metadata": {},
   "cell_type": "code",
   "outputs": [],
   "execution_count": null,
   "source": "",
   "id": "a2e9190a70da894f"
  }
 ],
 "metadata": {
  "kernelspec": {
   "display_name": "Python 3",
   "language": "python",
   "name": "python3"
  },
  "language_info": {
   "codemirror_mode": {
    "name": "ipython",
    "version": 2
   },
   "file_extension": ".py",
   "mimetype": "text/x-python",
   "name": "python",
   "nbconvert_exporter": "python",
   "pygments_lexer": "ipython2",
   "version": "2.7.6"
  }
 },
 "nbformat": 4,
 "nbformat_minor": 5
}
