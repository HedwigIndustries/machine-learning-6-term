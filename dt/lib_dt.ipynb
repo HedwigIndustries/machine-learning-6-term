{
 "cells": [
  {
   "cell_type": "code",
   "id": "initial_id",
   "metadata": {
    "collapsed": true,
    "ExecuteTime": {
     "end_time": "2024-06-12T22:39:41.159003Z",
     "start_time": "2024-06-12T22:39:41.148788Z"
    }
   },
   "source": [
    "import pandas as pd\n",
    "from sklearn.datasets import load_breast_cancer\n",
    "\n",
    "data = load_breast_cancer()"
   ],
   "execution_count": 7,
   "outputs": []
  },
  {
   "metadata": {
    "ExecuteTime": {
     "end_time": "2024-06-12T22:40:14.055581Z",
     "start_time": "2024-06-12T22:40:14.029739Z"
    }
   },
   "cell_type": "code",
   "source": [
    "df = pd.DataFrame(data.data, columns=data.feature_names)\n",
    "df['target'] = data.target\n",
    "df"
   ],
   "id": "c072a196aa506888",
   "execution_count": 9,
   "outputs": []
  },
  {
   "metadata": {
    "ExecuteTime": {
     "end_time": "2024-06-12T22:43:13.263946Z",
     "start_time": "2024-06-12T22:43:13.240788Z"
    }
   },
   "cell_type": "code",
   "source": "df.info()",
   "id": "bc9c0e22f6fa7c0b",
   "execution_count": 14,
   "outputs": []
  },
  {
   "metadata": {
    "ExecuteTime": {
     "end_time": "2024-06-12T22:43:25.493777Z",
     "start_time": "2024-06-12T22:43:25.455930Z"
    }
   },
   "cell_type": "code",
   "source": [
    "df.describe()\n",
    "# выбросы? "
   ],
   "id": "82d6b96e21b6576a",
   "execution_count": 15,
   "outputs": []
  },
  {
   "metadata": {
    "ExecuteTime": {
     "end_time": "2024-06-12T22:40:26.015303Z",
     "start_time": "2024-06-12T22:40:26.011548Z"
    }
   },
   "cell_type": "code",
   "source": [
    "from sklearn.model_selection import train_test_split\n",
    "from sklearn.tree import DecisionTreeClassifier\n",
    "from sklearn.metrics import accuracy_score"
   ],
   "id": "ca8d247c1cd39046",
   "execution_count": 10,
   "outputs": []
  },
  {
   "metadata": {
    "ExecuteTime": {
     "end_time": "2024-06-13T00:00:38.975346Z",
     "start_time": "2024-06-13T00:00:38.969225Z"
    }
   },
   "cell_type": "code",
   "source": [
    "def print_accuracy(y_pred, y_test):\n",
    "    test_accuracy = accuracy_score(y_test, y_pred)\n",
    "    print(f\"Test Accuracy: {test_accuracy}\")"
   ],
   "id": "8f34cb51b23904ad",
   "execution_count": 16,
   "outputs": []
  },
  {
   "metadata": {
    "ExecuteTime": {
     "end_time": "2024-06-13T00:00:48.154871Z",
     "start_time": "2024-06-13T00:00:48.145107Z"
    }
   },
   "cell_type": "code",
   "source": [
    "X = data.data\n",
    "y = data.target\n",
    "X_train, X_test, y_train, y_test = train_test_split(X, y, test_size=0.2, random_state=42)\n",
    "\n",
    "clf = DecisionTreeClassifier()\n",
    "clf.fit(X_train, y_train)\n",
    "\n",
    "y_pred = clf.predict(X_test)\n",
    "print_accuracy(y_pred, y_test)"
   ],
   "id": "1c5db33adcc16b27",
   "execution_count": 17,
   "outputs": []
  },
  {
   "metadata": {
    "ExecuteTime": {
     "end_time": "2024-06-13T00:16:51.639425Z",
     "start_time": "2024-06-13T00:16:51.623563Z"
    }
   },
   "cell_type": "code",
   "source": "import matplotlib.pyplot as plt",
   "id": "4743cc5a278ade3d",
   "execution_count": 29,
   "outputs": []
  },
  {
   "metadata": {
    "ExecuteTime": {
     "end_time": "2024-06-13T00:25:27.594595Z",
     "start_time": "2024-06-13T00:25:27.577602Z"
    }
   },
   "cell_type": "code",
   "source": [
    "def plot_tree_depth_by_params(\n",
    "        min_samples_split_lst,\n",
    "        min_samples_leaf_lst,\n",
    "        X_train,\n",
    "        y_train\n",
    "):\n",
    "    depth_lst = []\n",
    "    labels = []\n",
    "\n",
    "    for min_samples_split in min_samples_split_lst:\n",
    "        for min_samples_leaf in min_samples_leaf_lst:\n",
    "            dt = DecisionTreeClassifier(min_samples_split=min_samples_split, min_samples_leaf=min_samples_leaf)\n",
    "            dt.fit(X_train, y_train)\n",
    "\n",
    "            max_depth = dt.tree_.max_depth\n",
    "            depth_lst.append(max_depth)\n",
    "            labels.append(\n",
    "                f\"split:{min_samples_split};leaf:{min_samples_leaf}\"\n",
    "            )\n",
    "    plt.figure(figsize=(10, 6))\n",
    "    plt.plot(depth_lst)\n",
    "    plt.xticks(range(len(depth_lst)), labels, rotation=45, ha='right')\n",
    "    plt.xlabel(\"Hyperparameters\")\n",
    "    plt.ylabel(\"Tree depth\")\n",
    "    plt.title(\"Tree depth by hyperparameters\")\n",
    "    plt.show()"
   ],
   "id": "bafc7d16fadb4f93",
   "execution_count": 54,
   "outputs": []
  },
  {
   "metadata": {
    "ExecuteTime": {
     "end_time": "2024-06-13T00:26:36.245611Z",
     "start_time": "2024-06-13T00:26:35.953904Z"
    }
   },
   "cell_type": "code",
   "source": [
    "# min_samples_split_lst = [i for i in range(2, 31)]\n",
    "depth_lst = [2, 3, 5, 10, 15, 25]\n",
    "# min_samples_leaf_lst = [i for i in range(1, 31)]\n",
    "min_samples_leaf_lst = [2, 3, 5, 10, 15, 25]\n",
    "plot_tree_depth_by_params(\n",
    "    min_samples_split_lst=depth_lst,\n",
    "    min_samples_leaf_lst=min_samples_leaf_lst,\n",
    "    X_train=X_train,\n",
    "    y_train=y_train\n",
    ")\n"
   ],
   "id": "74029b581430b236",
   "execution_count": 56,
   "outputs": []
  },
  {
   "metadata": {
    "ExecuteTime": {
     "end_time": "2024-06-13T00:26:52.218319Z",
     "start_time": "2024-06-13T00:26:52.215084Z"
    }
   },
   "cell_type": "code",
   "source": "import optuna",
   "id": "e01c925435fc81b",
   "execution_count": 57,
   "outputs": []
  },
  {
   "metadata": {
    "ExecuteTime": {
     "end_time": "2024-06-13T00:28:40.030794Z",
     "start_time": "2024-06-13T00:28:40.022980Z"
    }
   },
   "cell_type": "code",
   "source": [
    "def func(trial, X_train, X_val, y_train, y_val):\n",
    "    max_depth = trial.suggest_int('max_depth', 2, 30)\n",
    "    min_samples_split = trial.suggest_int('min_samples_split', 2, 30)\n",
    "    min_samples_leaf = trial.suggest_int('min_samples_leaf', 1, 30)\n",
    "    dt = DecisionTreeClassifier(\n",
    "        max_depth=max_depth,\n",
    "        min_samples_split=min_samples_split,\n",
    "        min_samples_leaf=min_samples_leaf,\n",
    "        random_state=42\n",
    "    )\n",
    "    dt.fit(X_train, y_train)\n",
    "    y_pred = dt.predict(X_val)\n",
    "    accuracy = accuracy_score(y_val, y_pred)\n",
    "    return accuracy"
   ],
   "id": "b989bd7119687be9",
   "execution_count": 63,
   "outputs": []
  },
  {
   "metadata": {
    "ExecuteTime": {
     "end_time": "2024-06-13T00:28:40.396633Z",
     "start_time": "2024-06-13T00:28:40.392689Z"
    }
   },
   "cell_type": "code",
   "source": [
    "def get_best_hyperparameters(X_train, X_val, y_train, y_val):\n",
    "    study = optuna.create_study(direction='maximize')\n",
    "    study.optimize(\n",
    "        func=lambda trial: func(trial, X_train, X_val, y_train, y_val),\n",
    "        n_trials=100,\n",
    "        show_progress_bar=True\n",
    "    )\n",
    "    best_params = study.best_params\n",
    "    best_value = study.best_value\n",
    "    return best_params, best_value\n"
   ],
   "id": "3be8a2da2ba5afba",
   "execution_count": 64,
   "outputs": []
  },
  {
   "metadata": {
    "ExecuteTime": {
     "end_time": "2024-06-13T00:28:40.830832Z",
     "start_time": "2024-06-13T00:28:40.827977Z"
    }
   },
   "cell_type": "code",
   "source": [
    "def get_split_data():\n",
    "    data = load_breast_cancer()\n",
    "    X, y = data.data, data.target\n",
    "    X_train, X_test, y_train, y_test = train_test_split(X, y, test_size=0.2, random_state=42)\n",
    "    X_train, X_val, y_train, y_val = train_test_split(X_train, y_train, test_size=0.2, random_state=42)\n",
    "    return X_test, X_train, X_val, y_test, y_train, y_val"
   ],
   "id": "1958452206407e4e",
   "execution_count": 65,
   "outputs": []
  },
  {
   "metadata": {
    "ExecuteTime": {
     "end_time": "2024-06-13T00:28:41.239518Z",
     "start_time": "2024-06-13T00:28:41.236627Z"
    }
   },
   "cell_type": "code",
   "source": [
    "def pretty_print_best(best_params, best_score):\n",
    "    print(f\"Best parameters: {best_params}\")\n",
    "    print(f\"Best score: {best_score}\")"
   ],
   "id": "54734062e1b4aa78",
   "execution_count": 66,
   "outputs": []
  },
  {
   "metadata": {
    "ExecuteTime": {
     "end_time": "2024-06-13T00:28:43.790559Z",
     "start_time": "2024-06-13T00:28:42.534671Z"
    }
   },
   "cell_type": "code",
   "source": [
    "X_test, X_train, X_val, y_test, y_train, y_val = get_split_data()\n",
    "best_params, best_score = get_best_hyperparameters(X_train, X_val, y_train, y_val)\n",
    "print(\"~\" * 40)\n",
    "pretty_print_best(best_params, best_score)"
   ],
   "id": "fc5883a8664f5ea0",
   "execution_count": 67,
   "outputs": []
  },
  {
   "metadata": {
    "ExecuteTime": {
     "end_time": "2024-06-13T00:40:01.380243Z",
     "start_time": "2024-06-13T00:40:01.374032Z"
    }
   },
   "cell_type": "code",
   "source": [
    "def plot_accuracy_vs_depth(X_test, X_train, X_val, y_test, y_train, y_val, min_samples_split, min_samples_leaf,\n",
    "                           depth_lst):\n",
    "    train_accuracies = []\n",
    "    test_accuracies = []\n",
    "\n",
    "    for depth in depth_lst:\n",
    "        dt = DecisionTreeClassifier(\n",
    "            min_samples_split=min_samples_split, min_samples_leaf=min_samples_leaf,\n",
    "            max_depth=depth, random_state=42,\n",
    "        )\n",
    "        dt.fit(X_train, y_train)\n",
    "\n",
    "        y_train_pred = dt.predict(X_train)\n",
    "        train_accuracies.append(accuracy_score(y_train, y_train_pred))\n",
    "\n",
    "        y_test_pred = dt.predict(X_test)\n",
    "        test_accuracies.append(accuracy_score(y_test, y_test_pred))\n",
    "\n",
    "    plt.plot(depth_lst, train_accuracies, label='Train Accuracy')\n",
    "    plt.plot(depth_lst, test_accuracies, label='Test Accuracy')\n",
    "    plt.xlabel('Depth')\n",
    "    plt.ylabel('Accuracy')\n",
    "    plt.title('Accuracy vs Depth')\n",
    "    plt.legend()\n",
    "    plt.show()"
   ],
   "id": "12c66d36ee0aa7e9",
   "execution_count": 78,
   "outputs": []
  },
  {
   "metadata": {
    "ExecuteTime": {
     "end_time": "2024-06-13T00:40:10.602176Z",
     "start_time": "2024-06-13T00:40:10.469819Z"
    }
   },
   "cell_type": "code",
   "source": [
    "depth_lst = [1, 2, 3, 4, 5, 6, 7, 8, 9, 10, 15, 25]\n",
    "plot_accuracy_vs_depth(\n",
    "    depth_lst=depth_lst,\n",
    "    X_test=X_test,\n",
    "    X_train=X_train,\n",
    "    X_val=X_val,\n",
    "    y_test=y_test,\n",
    "    y_train=y_train,\n",
    "    y_val=y_val,\n",
    "    min_samples_split=best_params['min_samples_split'],\n",
    "    min_samples_leaf=best_params['min_samples_leaf']\n",
    ")"
   ],
   "id": "b7eb065acd4cdb55",
   "execution_count": 80,
   "outputs": []
  },
  {
   "metadata": {
    "ExecuteTime": {
     "end_time": "2024-06-13T00:40:11.013994Z",
     "start_time": "2024-06-13T00:40:11.012438Z"
    }
   },
   "cell_type": "code",
   "source": "",
   "id": "321b7b31c0fac848",
   "execution_count": 80,
   "outputs": []
  },
  {
   "metadata": {},
   "cell_type": "code",
   "execution_count": null,
   "source": "",
   "id": "69e73595790bec2b",
   "outputs": []
  }
 ],
 "metadata": {
  "kernelspec": {
   "display_name": "Python 3",
   "language": "python",
   "name": "python3"
  },
  "language_info": {
   "codemirror_mode": {
    "name": "ipython",
    "version": 2
   },
   "file_extension": ".py",
   "mimetype": "text/x-python",
   "name": "python",
   "nbconvert_exporter": "python",
   "pygments_lexer": "ipython2",
   "version": "2.7.6"
  }
 },
 "nbformat": 4,
 "nbformat_minor": 5
}
