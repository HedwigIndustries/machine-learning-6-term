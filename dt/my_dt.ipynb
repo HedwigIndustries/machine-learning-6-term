{
 "cells": [
  {
   "cell_type": "code",
   "id": "initial_id",
   "metadata": {
    "collapsed": true,
    "ExecuteTime": {
     "end_time": "2024-06-13T11:37:18.063403Z",
     "start_time": "2024-06-13T11:37:18.043901Z"
    }
   },
   "source": [
    "from sklearn.datasets import load_breast_cancer\n",
    "import pandas as pd\n",
    "data = load_breast_cancer()"
   ],
   "execution_count": 24,
   "outputs": []
  },
  {
   "metadata": {
    "ExecuteTime": {
     "end_time": "2024-06-13T11:37:18.387434Z",
     "start_time": "2024-06-13T11:37:18.371716Z"
    }
   },
   "cell_type": "code",
   "source": [
    "df = pd.DataFrame(data.data, columns=data.feature_names)\n",
    "df['target'] = data.target\n",
    "df"
   ],
   "id": "f4df0c1bbdec922b",
   "execution_count": 25,
   "outputs": []
  },
  {
   "metadata": {
    "ExecuteTime": {
     "end_time": "2024-06-13T11:49:43.864561Z",
     "start_time": "2024-06-13T11:49:43.859346Z"
    }
   },
   "cell_type": "code",
   "source": [
    "from my_dt import DecisionTree\n",
    "from sklearn.model_selection import train_test_split\n",
    "from sklearn.metrics import accuracy_score"
   ],
   "id": "890d955263b54103",
   "execution_count": 29,
   "outputs": []
  },
  {
   "metadata": {
    "ExecuteTime": {
     "end_time": "2024-06-13T11:49:44.381261Z",
     "start_time": "2024-06-13T11:49:44.378672Z"
    }
   },
   "cell_type": "code",
   "source": [
    "def print_accuracy(y_pred, y_test):\n",
    "    test_accuracy = accuracy_score(y_test, y_pred)\n",
    "    print(f\"Test Accuracy: {test_accuracy}\")"
   ],
   "id": "bb4516d7f29df74",
   "execution_count": 30,
   "outputs": []
  },
  {
   "metadata": {
    "ExecuteTime": {
     "end_time": "2024-06-13T11:49:46.300534Z",
     "start_time": "2024-06-13T11:49:45.017309Z"
    }
   },
   "cell_type": "code",
   "source": [
    "X = data.data\n",
    "y = data.target\n",
    "X_train, X_test, y_train, y_test = train_test_split(X, y, test_size=0.2, random_state=42)\n",
    "dt = DecisionTree()\n",
    "dt.fit(X_train, y_train)\n",
    "\n",
    "pred = dt.predict(X_test)\n",
    "print_accuracy(pred, y_test)"
   ],
   "id": "d4f2f1cbcbae725b",
   "execution_count": 31,
   "outputs": []
  },
  {
   "metadata": {
    "ExecuteTime": {
     "end_time": "2024-06-13T00:41:33.655913Z",
     "start_time": "2024-06-13T00:41:33.649337Z"
    }
   },
   "cell_type": "code",
   "source": "import matplotlib.pyplot as plt",
   "id": "e50411f44cdad618",
   "execution_count": 8,
   "outputs": []
  },
  {
   "metadata": {
    "ExecuteTime": {
     "end_time": "2024-06-13T00:43:23.534953Z",
     "start_time": "2024-06-13T00:43:23.458577Z"
    }
   },
   "cell_type": "code",
   "source": "import optuna",
   "id": "c2dbaf74fd464c21",
   "execution_count": 13,
   "outputs": []
  },
  {
   "metadata": {
    "ExecuteTime": {
     "end_time": "2024-06-13T00:43:23.836493Z",
     "start_time": "2024-06-13T00:43:23.833722Z"
    }
   },
   "cell_type": "code",
   "source": [
    "def func(trial, X_train, X_val, y_train, y_val):\n",
    "    max_depth = trial.suggest_int('max_depth', 2, 30)\n",
    "    min_samples_split = trial.suggest_int('min_samples_split', 2, 30)\n",
    "    min_samples_leaf = trial.suggest_int('min_samples_leaf', 1, 30)\n",
    "    dt = DecisionTree(\n",
    "        max_depth=max_depth,\n",
    "        min_samples_split=min_samples_split,\n",
    "        min_samples_leaf=min_samples_leaf,\n",
    "    )\n",
    "    dt.fit(X_train, y_train)\n",
    "    y_pred = dt.predict(X_val)\n",
    "    accuracy = accuracy_score(y_val, y_pred)\n",
    "    return accuracy"
   ],
   "id": "386773ac57ccd980",
   "execution_count": 14,
   "outputs": []
  },
  {
   "metadata": {
    "ExecuteTime": {
     "end_time": "2024-06-13T00:43:24.549557Z",
     "start_time": "2024-06-13T00:43:24.546923Z"
    }
   },
   "cell_type": "code",
   "source": [
    "def get_best_hyperparameters(X_train, X_val, y_train, y_val):\n",
    "    study = optuna.create_study(direction='maximize')\n",
    "    study.optimize(\n",
    "        func=lambda trial: func(trial, X_train, X_val, y_train, y_val),\n",
    "        n_trials=100,\n",
    "        show_progress_bar=True\n",
    "    )\n",
    "    best_params = study.best_params\n",
    "    best_value = study.best_value\n",
    "    return best_params, best_value\n"
   ],
   "id": "e8c7a2849a6bfb78",
   "execution_count": 15,
   "outputs": []
  },
  {
   "metadata": {
    "ExecuteTime": {
     "end_time": "2024-06-13T00:43:25.277187Z",
     "start_time": "2024-06-13T00:43:25.274401Z"
    }
   },
   "cell_type": "code",
   "source": [
    "def get_split_data():\n",
    "    data = load_breast_cancer()\n",
    "    X, y = data.data, data.target\n",
    "    X_train, X_test, y_train, y_test = train_test_split(X, y, test_size=0.2, random_state=42)\n",
    "    X_train, X_val, y_train, y_val = train_test_split(X_train, y_train, test_size=0.2, random_state=42)\n",
    "    return X_test, X_train, X_val, y_test, y_train, y_val"
   ],
   "id": "481cfd52064bb5b4",
   "execution_count": 16,
   "outputs": []
  },
  {
   "metadata": {
    "ExecuteTime": {
     "end_time": "2024-06-13T00:43:25.845275Z",
     "start_time": "2024-06-13T00:43:25.842857Z"
    }
   },
   "cell_type": "code",
   "source": [
    "def pretty_print_best(best_params, best_score):\n",
    "    print(f\"Best parameters: {best_params}\")\n",
    "    print(f\"Best score: {best_score}\")"
   ],
   "id": "c1e860b052784cda",
   "execution_count": 17,
   "outputs": []
  },
  {
   "metadata": {
    "ExecuteTime": {
     "end_time": "2024-06-13T00:44:46.777346Z",
     "start_time": "2024-06-13T00:43:26.339088Z"
    }
   },
   "cell_type": "code",
   "source": [
    "X_test, X_train, X_val, y_test, y_train, y_val = get_split_data()\n",
    "best_params, best_score = get_best_hyperparameters(X_train, X_val, y_train, y_val)\n",
    "print(\"~\" * 40)\n",
    "pretty_print_best(best_params, best_score)"
   ],
   "id": "e0538ccb2e6fe057",
   "execution_count": 18,
   "outputs": []
  },
  {
   "metadata": {
    "ExecuteTime": {
     "end_time": "2024-06-13T00:45:14.899300Z",
     "start_time": "2024-06-13T00:45:14.893353Z"
    }
   },
   "cell_type": "code",
   "source": [
    "def plot_accuracy_vs_depth(X_test, X_train, X_val, y_test, y_train, y_val, min_samples_split, min_samples_leaf,\n",
    "                           depth_lst):\n",
    "    train_accuracies = []\n",
    "    test_accuracies = []\n",
    "\n",
    "    for depth in depth_lst:\n",
    "        dt = DecisionTree(\n",
    "            min_samples_split=min_samples_split, min_samples_leaf=min_samples_leaf,\n",
    "            max_depth=depth,\n",
    "        )\n",
    "        dt.fit(X_train, y_train)\n",
    "\n",
    "        y_train_pred = dt.predict(X_train)\n",
    "        train_accuracies.append(accuracy_score(y_train, y_train_pred))\n",
    "\n",
    "        y_test_pred = dt.predict(X_test)\n",
    "        test_accuracies.append(accuracy_score(y_test, y_test_pred))\n",
    "\n",
    "    plt.plot(depth_lst, train_accuracies, label='Train Accuracy')\n",
    "    plt.plot(depth_lst, test_accuracies, label='Test Accuracy')\n",
    "    plt.xlabel('Depth')\n",
    "    plt.ylabel('Accuracy')\n",
    "    plt.title('Accuracy vs Depth')\n",
    "    plt.legend()\n",
    "    plt.show()"
   ],
   "id": "a91ce15349836be7",
   "execution_count": 21,
   "outputs": []
  },
  {
   "metadata": {
    "ExecuteTime": {
     "end_time": "2024-06-13T00:45:24.602030Z",
     "start_time": "2024-06-13T00:45:15.616553Z"
    }
   },
   "cell_type": "code",
   "source": [
    "depth_lst = [1, 2, 3, 4, 5, 6, 7, 8, 9, 10, 15, 25]\n",
    "plot_accuracy_vs_depth(\n",
    "    depth_lst=depth_lst,\n",
    "    X_test=X_test,\n",
    "    X_train=X_train,\n",
    "    X_val=X_val,\n",
    "    y_test=y_test,\n",
    "    y_train=y_train,\n",
    "    y_val=y_val,\n",
    "    min_samples_split=best_params['min_samples_split'],\n",
    "    min_samples_leaf=best_params['min_samples_leaf']\n",
    ")"
   ],
   "id": "6231384c6717e87c",
   "execution_count": 22,
   "outputs": []
  },
  {
   "metadata": {},
   "cell_type": "code",
   "execution_count": null,
   "source": "",
   "id": "81ba420862fe9a11",
   "outputs": []
  }
 ],
 "metadata": {
  "kernelspec": {
   "display_name": "Python 3",
   "language": "python",
   "name": "python3"
  },
  "language_info": {
   "codemirror_mode": {
    "name": "ipython",
    "version": 2
   },
   "file_extension": ".py",
   "mimetype": "text/x-python",
   "name": "python",
   "nbconvert_exporter": "python",
   "pygments_lexer": "ipython2",
   "version": "2.7.6"
  }
 },
 "nbformat": 4,
 "nbformat_minor": 5
}
