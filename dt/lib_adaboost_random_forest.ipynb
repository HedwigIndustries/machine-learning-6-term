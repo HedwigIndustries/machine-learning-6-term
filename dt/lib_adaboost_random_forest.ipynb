{
 "cells": [
  {
   "cell_type": "code",
   "id": "initial_id",
   "metadata": {
    "collapsed": true,
    "ExecuteTime": {
     "end_time": "2024-06-13T15:20:32.458528Z",
     "start_time": "2024-06-13T15:20:32.446475Z"
    }
   },
   "source": [
    "import pandas as pd\n",
    "from sklearn.datasets import load_breast_cancer\n",
    "\n",
    "data = load_breast_cancer()"
   ],
   "execution_count": 4,
   "outputs": []
  },
  {
   "metadata": {
    "ExecuteTime": {
     "end_time": "2024-06-13T15:20:32.930019Z",
     "start_time": "2024-06-13T15:20:32.917409Z"
    }
   },
   "cell_type": "code",
   "source": [
    "df = pd.DataFrame(data.data, columns=data.feature_names)\n",
    "df['target'] = data.target\n",
    "df"
   ],
   "id": "805d1dd2a767674e",
   "execution_count": 5,
   "outputs": []
  },
  {
   "metadata": {
    "ExecuteTime": {
     "end_time": "2024-06-13T15:23:47.151490Z",
     "start_time": "2024-06-13T15:23:47.002406Z"
    }
   },
   "cell_type": "code",
   "source": [
    "from sklearn.metrics import accuracy_score\n",
    "from sklearn.model_selection import train_test_split\n",
    "from sklearn.ensemble import GradientBoostingClassifier, RandomForestClassifier"
   ],
   "id": "9020ecbc8ce59456",
   "execution_count": 8,
   "outputs": []
  },
  {
   "metadata": {
    "ExecuteTime": {
     "end_time": "2024-06-13T15:23:47.557761Z",
     "start_time": "2024-06-13T15:23:47.554763Z"
    }
   },
   "cell_type": "code",
   "source": [
    "def print_accuracy(y_pred, y_test):\n",
    "    test_accuracy = accuracy_score(y_test, y_pred)\n",
    "    print(f\"Test Accuracy: {test_accuracy}\")"
   ],
   "id": "9fd7176b4d944d34",
   "execution_count": 9,
   "outputs": []
  },
  {
   "metadata": {
    "ExecuteTime": {
     "end_time": "2024-06-13T15:23:48.461461Z",
     "start_time": "2024-06-13T15:23:48.143103Z"
    }
   },
   "cell_type": "code",
   "source": [
    "X = data.data\n",
    "y = data.target\n",
    "X_train, X_test, y_train, y_test = train_test_split(X, y, test_size=0.2, random_state=42)\n",
    "boost = GradientBoostingClassifier()\n",
    "boost.fit(X_train, y_train)\n",
    "\n",
    "pred = boost.predict(X_test)\n",
    "print_accuracy(pred, y_test)"
   ],
   "id": "aae1f6040dfbcbe4",
   "execution_count": 10,
   "outputs": []
  },
  {
   "metadata": {
    "ExecuteTime": {
     "end_time": "2024-06-13T15:25:01.786858Z",
     "start_time": "2024-06-13T15:25:01.781513Z"
    }
   },
   "cell_type": "code",
   "source": [
    "import matplotlib.pyplot as plt\n",
    "import optuna"
   ],
   "id": "f834667695c17622",
   "execution_count": 12,
   "outputs": []
  },
  {
   "metadata": {
    "ExecuteTime": {
     "end_time": "2024-06-13T15:25:02.421116Z",
     "start_time": "2024-06-13T15:25:02.417782Z"
    }
   },
   "cell_type": "code",
   "source": [
    "def func(trial, X_train, X_val, y_train, y_val):\n",
    "    n_estimators = trial.suggest_int('n_estimators', 2, 10)\n",
    "    max_depth = trial.suggest_int('max_depth', 2, 30)\n",
    "    min_samples_split = trial.suggest_int('min_samples_split', 2, 30)\n",
    "    min_samples_leaf = trial.suggest_int('min_samples_leaf', 1, 30)\n",
    "    boost = GradientBoostingClassifier(\n",
    "        n_estimators=n_estimators,\n",
    "        max_depth=max_depth,\n",
    "        min_samples_split=min_samples_split,\n",
    "        min_samples_leaf=min_samples_leaf,\n",
    "    )\n",
    "    boost.fit(X_train, y_train)\n",
    "    y_pred = boost.predict(X_val)\n",
    "    accuracy = accuracy_score(y_val, y_pred)\n",
    "    return accuracy"
   ],
   "id": "78d27dd213afeeeb",
   "execution_count": 13,
   "outputs": []
  },
  {
   "metadata": {},
   "cell_type": "markdown",
   "source": "",
   "id": "87093f05f4918f96"
  },
  {
   "metadata": {
    "ExecuteTime": {
     "end_time": "2024-06-13T15:25:11.560031Z",
     "start_time": "2024-06-13T15:25:11.555558Z"
    }
   },
   "cell_type": "code",
   "source": [
    "def get_best_hyperparameters(X_train, X_val, y_train, y_val):\n",
    "    study = optuna.create_study(direction='maximize')\n",
    "    study.optimize(\n",
    "        func=lambda trial: func(trial, X_train, X_val, y_train, y_val),\n",
    "        n_trials=100,\n",
    "        show_progress_bar=True\n",
    "    )\n",
    "    best_params = study.best_params\n",
    "    best_value = study.best_value\n",
    "    return best_params, best_value\n"
   ],
   "id": "105c34f9e4677d08",
   "execution_count": 14,
   "outputs": []
  },
  {
   "metadata": {
    "ExecuteTime": {
     "end_time": "2024-06-13T15:25:15.742154Z",
     "start_time": "2024-06-13T15:25:15.739291Z"
    }
   },
   "cell_type": "code",
   "source": [
    "def get_split_data():\n",
    "    data = load_breast_cancer()\n",
    "    X, y = data.data, data.target\n",
    "    X_train, X_test, y_train, y_test = train_test_split(X, y, test_size=0.2, random_state=42)\n",
    "    X_train, X_val, y_train, y_val = train_test_split(X_train, y_train, test_size=0.2, random_state=42)\n",
    "    return X_test, X_train, X_val, y_test, y_train, y_val"
   ],
   "id": "b27fe1feb46de101",
   "execution_count": 15,
   "outputs": []
  },
  {
   "metadata": {
    "ExecuteTime": {
     "end_time": "2024-06-13T15:25:19.430607Z",
     "start_time": "2024-06-13T15:25:19.427489Z"
    }
   },
   "cell_type": "code",
   "source": [
    "def pretty_print_best(best_params, best_score):\n",
    "    print(f\"Best parameters: {best_params}\")\n",
    "    print(f\"Best score: {best_score}\")"
   ],
   "id": "79d753627312f556",
   "execution_count": 16,
   "outputs": []
  },
  {
   "metadata": {
    "ExecuteTime": {
     "end_time": "2024-06-13T15:25:26.800493Z",
     "start_time": "2024-06-13T15:25:24.174059Z"
    }
   },
   "cell_type": "code",
   "source": [
    "X_test, X_train, X_val, y_test, y_train, y_val = get_split_data()\n",
    "best_params, best_score = get_best_hyperparameters(X_train, X_val, y_train, y_val)\n",
    "print(\"~\" * 40)\n",
    "pretty_print_best(best_params, best_score)"
   ],
   "id": "223945a588f508b6",
   "execution_count": 17,
   "outputs": []
  },
  {
   "metadata": {
    "ExecuteTime": {
     "end_time": "2024-06-13T15:25:42.861237Z",
     "start_time": "2024-06-13T15:25:42.854448Z"
    }
   },
   "cell_type": "code",
   "source": [
    "def plot_accuracy_vs_n_estimators(\n",
    "        X_test, X_train, X_val, y_test, y_train, y_val,\n",
    "        max_depth,\n",
    "        min_samples_split,\n",
    "        min_samples_leaf,\n",
    "        n_est_lst\n",
    "):\n",
    "    train_accuracies = []\n",
    "    test_accuracies = []\n",
    "\n",
    "    for n_est in n_est_lst:\n",
    "        boost = GradientBoostingClassifier(\n",
    "            n_estimators=n_est,\n",
    "            max_depth=max_depth,\n",
    "            min_samples_split=min_samples_split,\n",
    "            min_samples_leaf=min_samples_leaf,\n",
    "        )\n",
    "        boost.fit(X_train, y_train)\n",
    "\n",
    "        y_train_pred = boost.predict(X_train)\n",
    "        train_accuracies.append(accuracy_score(y_train, y_train_pred))\n",
    "\n",
    "        y_test_pred = boost.predict(X_test)\n",
    "        test_accuracies.append(accuracy_score(y_test, y_test_pred))\n",
    "\n",
    "    plt.plot(n_est_lst, train_accuracies, label='Train Accuracy')\n",
    "    plt.plot(n_est_lst, test_accuracies, label='Test Accuracy')\n",
    "    plt.xlabel('N_estimators')\n",
    "    plt.ylabel('Accuracy')\n",
    "    plt.title('Accuracy vs N_estimators')\n",
    "    plt.legend()\n",
    "    plt.show()"
   ],
   "id": "dfd503d5773edf86",
   "execution_count": 18,
   "outputs": []
  },
  {
   "metadata": {
    "ExecuteTime": {
     "end_time": "2024-06-13T15:25:53.847481Z",
     "start_time": "2024-06-13T15:25:47.732705Z"
    }
   },
   "cell_type": "code",
   "source": [
    "# n_est_lst = [1, 2, 3, 4, 5, 6, 7, 8, 9, 10, 15, 25]\n",
    "n_est_lst = [i for i in range(2, 100, 2)]\n",
    "plot_accuracy_vs_n_estimators(\n",
    "    X_test=X_test,\n",
    "    X_train=X_train,\n",
    "    X_val=X_val,\n",
    "    y_test=y_test,\n",
    "    y_train=y_train,\n",
    "    y_val=y_val,\n",
    "    max_depth=best_params[\"max_depth\"],\n",
    "    min_samples_split=best_params[\"min_samples_split\"],\n",
    "    min_samples_leaf=best_params[\"min_samples_leaf\"],\n",
    "    n_est_lst=n_est_lst\n",
    ")"
   ],
   "id": "63a657d34553aa37",
   "execution_count": 19,
   "outputs": []
  },
  {
   "metadata": {
    "ExecuteTime": {
     "end_time": "2024-06-13T15:25:57.557025Z",
     "start_time": "2024-06-13T15:25:56.334495Z"
    }
   },
   "cell_type": "code",
   "source": [
    "n_est_lst = [i for i in range(2, 30)]\n",
    "plot_accuracy_vs_n_estimators(\n",
    "    X_test=X_test,\n",
    "    X_train=X_train,\n",
    "    X_val=X_val,\n",
    "    y_test=y_test,\n",
    "    y_train=y_train,\n",
    "    y_val=y_val,\n",
    "    max_depth=best_params[\"max_depth\"],\n",
    "    min_samples_split=best_params[\"min_samples_split\"],\n",
    "    min_samples_leaf=best_params[\"min_samples_leaf\"],\n",
    "    n_est_lst=n_est_lst\n",
    ")"
   ],
   "id": "a4401dacd7f0ce83",
   "execution_count": 20,
   "outputs": []
  },
  {
   "metadata": {
    "ExecuteTime": {
     "end_time": "2024-06-13T15:26:13.658312Z",
     "start_time": "2024-06-13T15:26:13.651789Z"
    }
   },
   "cell_type": "code",
   "source": [
    "def func(trial, X_train, X_val, y_train, y_val):\n",
    "    n_estimators = trial.suggest_int('n_estimators', 2, 10)\n",
    "    max_depth = trial.suggest_int('max_depth', 2, 30)\n",
    "    min_samples_split = trial.suggest_int('min_samples_split', 2, 30)\n",
    "    min_samples_leaf = trial.suggest_int('min_samples_leaf', 1, 30)\n",
    "    random_forest = RandomForestClassifier(\n",
    "        n_estimators=n_estimators,\n",
    "        max_depth=max_depth,\n",
    "        min_samples_split=min_samples_split,\n",
    "        min_samples_leaf=min_samples_leaf,\n",
    "    )\n",
    "    random_forest.fit(X_train, y_train)\n",
    "    y_pred = random_forest.predict(X_val)\n",
    "    accuracy = accuracy_score(y_val, y_pred)\n",
    "    return accuracy"
   ],
   "id": "d04787e589b4acf6",
   "execution_count": 21,
   "outputs": []
  },
  {
   "metadata": {
    "ExecuteTime": {
     "end_time": "2024-06-13T15:26:17.750250Z",
     "start_time": "2024-06-13T15:26:17.747452Z"
    }
   },
   "cell_type": "code",
   "source": [
    "def get_best_hyperparameters(X_train, X_val, y_train, y_val):\n",
    "    study = optuna.create_study(direction='maximize')\n",
    "    study.optimize(\n",
    "        func=lambda trial: func(trial, X_train, X_val, y_train, y_val),\n",
    "        n_trials=100,\n",
    "        show_progress_bar=True\n",
    "    )\n",
    "    best_params = study.best_params\n",
    "    best_value = study.best_value\n",
    "    return best_params, best_value\n"
   ],
   "id": "e7d4f2170aa6200",
   "execution_count": 22,
   "outputs": []
  },
  {
   "metadata": {
    "ExecuteTime": {
     "end_time": "2024-06-13T15:26:25.429662Z",
     "start_time": "2024-06-13T15:26:23.400081Z"
    }
   },
   "cell_type": "code",
   "source": [
    "X_test, X_train, X_val, y_test, y_train, y_val = get_split_data()\n",
    "best_params, best_score = get_best_hyperparameters(X_train, X_val, y_train, y_val)\n",
    "print(\"~\" * 40)\n",
    "pretty_print_best(best_params, best_score)"
   ],
   "id": "aa1846cc73fb1064",
   "execution_count": 23,
   "outputs": []
  },
  {
   "metadata": {
    "ExecuteTime": {
     "end_time": "2024-06-13T15:26:43.871318Z",
     "start_time": "2024-06-13T15:26:43.865Z"
    }
   },
   "cell_type": "code",
   "source": [
    "def plot_accuracy_vs_n_estimators(\n",
    "        X_test, X_train, X_val, y_test, y_train, y_val,\n",
    "        max_depth,\n",
    "        min_samples_split,\n",
    "        min_samples_leaf,\n",
    "        n_est_lst\n",
    "):\n",
    "    train_accuracies = []\n",
    "    test_accuracies = []\n",
    "\n",
    "    for n_est in n_est_lst:\n",
    "        random_forest = RandomForestClassifier(\n",
    "            n_estimators=n_est,\n",
    "            max_depth=max_depth,\n",
    "            min_samples_split=min_samples_split,\n",
    "            min_samples_leaf=min_samples_leaf,\n",
    "        )\n",
    "        random_forest.fit(X_train, y_train)\n",
    "\n",
    "        y_train_pred = random_forest.predict(X_train)\n",
    "        train_accuracies.append(accuracy_score(y_train, y_train_pred))\n",
    "\n",
    "        y_test_pred = random_forest.predict(X_test)\n",
    "        test_accuracies.append(accuracy_score(y_test, y_test_pred))\n",
    "\n",
    "    plt.plot(n_est_lst, train_accuracies, label='Train Accuracy')\n",
    "    plt.plot(n_est_lst, test_accuracies, label='Test Accuracy')\n",
    "    plt.xlabel('N_estimators')\n",
    "    plt.ylabel('Accuracy')\n",
    "    plt.title('Accuracy vs N_estimators')\n",
    "    plt.legend()\n",
    "    plt.show()"
   ],
   "id": "6b99d9e0794483ea",
   "execution_count": 26,
   "outputs": []
  },
  {
   "metadata": {
    "ExecuteTime": {
     "end_time": "2024-06-13T15:26:45.079059Z",
     "start_time": "2024-06-13T15:26:44.484852Z"
    }
   },
   "cell_type": "code",
   "source": [
    "n_est_lst = [i for i in range(2, 30)]\n",
    "plot_accuracy_vs_n_estimators(\n",
    "    X_test=X_test,\n",
    "    X_train=X_train,\n",
    "    X_val=X_val,\n",
    "    y_test=y_test,\n",
    "    y_train=y_train,\n",
    "    y_val=y_val,\n",
    "    max_depth=best_params[\"max_depth\"],\n",
    "    min_samples_split=best_params[\"min_samples_split\"],\n",
    "    min_samples_leaf=best_params[\"min_samples_leaf\"],\n",
    "    n_est_lst=n_est_lst\n",
    ")"
   ],
   "id": "b0ac028abacb9397",
   "execution_count": 27,
   "outputs": []
  },
  {
   "metadata": {
    "ExecuteTime": {
     "end_time": "2024-06-13T15:26:55.658253Z",
     "start_time": "2024-06-13T15:26:51.135007Z"
    }
   },
   "cell_type": "code",
   "source": [
    "n_est_lst = [i for i in range(2, 200,4)]\n",
    "plot_accuracy_vs_n_estimators(\n",
    "    X_test=X_test,\n",
    "    X_train=X_train,\n",
    "    X_val=X_val,\n",
    "    y_test=y_test,\n",
    "    y_train=y_train,\n",
    "    y_val=y_val,\n",
    "    max_depth=best_params[\"max_depth\"],\n",
    "    min_samples_split=best_params[\"min_samples_split\"],\n",
    "    min_samples_leaf=best_params[\"min_samples_leaf\"],\n",
    "    n_est_lst=n_est_lst\n",
    ")"
   ],
   "id": "28c41d762eecd28a",
   "execution_count": 28,
   "outputs": []
  },
  {
   "metadata": {},
   "cell_type": "code",
   "execution_count": null,
   "source": "",
   "id": "81f9c12634e9a826",
   "outputs": []
  }
 ],
 "metadata": {
  "kernelspec": {
   "display_name": "Python 3",
   "language": "python",
   "name": "python3"
  },
  "language_info": {
   "codemirror_mode": {
    "name": "ipython",
    "version": 2
   },
   "file_extension": ".py",
   "mimetype": "text/x-python",
   "name": "python",
   "nbconvert_exporter": "python",
   "pygments_lexer": "ipython2",
   "version": "2.7.6"
  }
 },
 "nbformat": 4,
 "nbformat_minor": 5
}
