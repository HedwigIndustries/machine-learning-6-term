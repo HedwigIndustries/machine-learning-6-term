{
 "cells": [
  {
   "metadata": {
    "ExecuteTime": {
     "end_time": "2024-09-13T07:41:47.089951Z",
     "start_time": "2024-09-13T07:41:47.087916Z"
    }
   },
   "cell_type": "code",
   "source": [
    "import typing as tp\n",
    "\n",
    "import numpy as np"
   ],
   "id": "f5cb336604305148",
   "outputs": [],
   "execution_count": 23
  },
  {
   "metadata": {
    "ExecuteTime": {
     "end_time": "2024-09-13T07:45:09.126687Z",
     "start_time": "2024-09-13T07:45:09.115620Z"
    }
   },
   "cell_type": "code",
   "source": [
    "class Node:\n",
    "    def __init__(self, feature=None, threshold=None, left=None, right=None, value=None) -> None:\n",
    "        self.feature: tp.Optional[int] = feature\n",
    "        self.threshold: tp.Optional[float] = threshold\n",
    "        self.left: tp.Optional[Node] = left\n",
    "        self.right: tp.Optional[Node] = right\n",
    "        self.value: tp.Optional[np.signedinteger] = value\n",
    "\n",
    "    def is_leaf(self) -> bool:\n",
    "        return self.value is not None\n",
    "\n",
    "\n",
    "class CustomDecisionTree:\n",
    "    def __init__(self, max_depth: tp.Optional[int] = None, min_samples_split: int = 2,\n",
    "                 min_samples_leaf: int = 1) -> None:\n",
    "        self.max_depth: tp.Optional[int] = max_depth\n",
    "        self.min_samples_to_split: int = min_samples_split\n",
    "        self.min_samples_leaf: int = min_samples_leaf\n",
    "        self.tree: tp.Optional[Node] = None\n",
    "        self.cur_depth: tp.Optional[int] = 0\n",
    "\n",
    "    def fit(self, X: np.ndarray, y: np.ndarray) -> None:\n",
    "        self.tree = self._build_tree(X, y)\n",
    "\n",
    "    def _build_tree(self, X: np.ndarray, y: np.ndarray, depth: int = 0) -> Node:\n",
    "        n_samples, n_features = X.shape\n",
    "        self.n_classes = len(np.unique(y))\n",
    "        if self.max_depth and depth >= self.max_depth \\\n",
    "                or self.n_classes == 1 \\\n",
    "                or n_samples < self.min_samples_to_split:\n",
    "            leaf_value: np.signedinteger = self._most_common_label(y)\n",
    "            return Node(value=leaf_value)\n",
    "\n",
    "        rand_features = np.random.choice(n_features, n_features, replace=False)\n",
    "        best_feature, best_threshold = self._best_criteria(X, y, rand_features)\n",
    "        left_idxs, right_idxs = self._split(X[:, best_feature], best_threshold)\n",
    "\n",
    "        if len(left_idxs) < self.min_samples_leaf or len(right_idxs) < self.min_samples_leaf:\n",
    "            leaf_value: np.signedinteger = self._most_common_label(y)\n",
    "            return Node(value=leaf_value)\n",
    "        self.cur_depth += 1\n",
    "        left = self._build_tree(X[left_idxs, :], y[left_idxs], depth + 1)\n",
    "        right = self._build_tree(X[right_idxs, :], y[right_idxs], depth + 1)\n",
    "        return Node(feature=best_feature, threshold=best_threshold, left=left, right=right)\n",
    "\n",
    "    def _best_criteria(self, X: np.ndarray, y: np.ndarray, features: np.ndarray) -> tuple[int, float]:\n",
    "        best_gain = -1\n",
    "        best_feature, best_threshold = None, None\n",
    "        for feature in features:\n",
    "            X_column_by_feature = X[:, feature]\n",
    "            thresholds = np.unique(X_column_by_feature)\n",
    "            for threshold in thresholds:\n",
    "                gain = self._information_gain(y, X_column_by_feature=X_column_by_feature, split_thresh=threshold)\n",
    "                if gain > best_gain:\n",
    "                    best_gain = gain\n",
    "                    best_feature = feature\n",
    "                    best_threshold = threshold\n",
    "        return best_feature, best_threshold\n",
    "\n",
    "    def _information_gain(self, y, X_column_by_feature: np.ndarray, split_thresh: float) -> float:\n",
    "        parent_entropy = self._calc_entropy(y)\n",
    "        left_idxs, right_idxs = self._split(X_column_by_feature, split_thresh)\n",
    "        if len(left_idxs) == 0 or len(right_idxs) == 0:\n",
    "            return 0\n",
    "        n_total, n_left, n_right = len(y), len(left_idxs), len(right_idxs)\n",
    "        entropy_left, entropy_right = self._calc_entropy(y[left_idxs]), self._calc_entropy(y[right_idxs])\n",
    "        k_left, k_right = n_left / n_total, n_right / n_total\n",
    "        child_entropy = k_left * entropy_left + k_right * entropy_right\n",
    "        ig = parent_entropy - child_entropy\n",
    "        return ig\n",
    "\n",
    "    @staticmethod\n",
    "    def _split(X_column_by_feature: np.ndarray, split_thresh: float) -> tuple[np.ndarray, np.ndarray]:\n",
    "        left_idxs = np.argwhere(X_column_by_feature <= split_thresh).flatten()\n",
    "        right_idxs = np.argwhere(X_column_by_feature > split_thresh).flatten()\n",
    "        return left_idxs, right_idxs\n",
    "\n",
    "    @staticmethod\n",
    "    def _calc_entropy(y: np.ndarray) -> float:\n",
    "        p_lst = np.bincount(y) / len(y)\n",
    "        return -np.sum([p * np.log2(p) for p in p_lst if p > 0])\n",
    "\n",
    "    @staticmethod\n",
    "    def _most_common_label(y: np.ndarray) -> np.signedinteger:\n",
    "        return np.bincount(y).argmax()\n",
    "\n",
    "    def predict(self, X: np.ndarray) -> np.ndarray:\n",
    "        return np.array([self._traverse_tree(x, self.tree) for x in X])\n",
    "\n",
    "    def _traverse_tree(self, x, node) -> np.signedinteger:\n",
    "        if node.is_leaf():\n",
    "            return node.value\n",
    "        if x[node.feature] <= node.threshold:\n",
    "            return self._traverse_tree(x, node.left)\n",
    "        return self._traverse_tree(x, node.right)\n"
   ],
   "id": "ac85c56ba3f09974",
   "outputs": [],
   "execution_count": 35
  },
  {
   "metadata": {
    "ExecuteTime": {
     "end_time": "2024-09-13T07:45:10.172386Z",
     "start_time": "2024-09-13T07:45:10.170461Z"
    }
   },
   "cell_type": "code",
   "source": [
    "from sklearn.metrics import accuracy_score\n",
    "from sklearn.model_selection import train_test_split\n",
    "from sklearn.datasets import load_breast_cancer\n"
   ],
   "id": "269571c9e322027",
   "outputs": [],
   "execution_count": 36
  },
  {
   "metadata": {
    "ExecuteTime": {
     "end_time": "2024-09-13T07:45:10.608308Z",
     "start_time": "2024-09-13T07:45:10.606173Z"
    }
   },
   "cell_type": "code",
   "source": [
    "def _get_split_data() -> tp.Any:\n",
    "    data = load_breast_cancer()\n",
    "    X, y = data.data, data.target\n",
    "    X_train, X_test, y_train, y_test = train_test_split(X, y, test_size=0.2, random_state=42)\n",
    "    return X_test, X_train, y_test, y_train"
   ],
   "id": "5c38c2e5c75f0ab1",
   "outputs": [],
   "execution_count": 37
  },
  {
   "metadata": {
    "ExecuteTime": {
     "end_time": "2024-09-13T07:45:11.414742Z",
     "start_time": "2024-09-13T07:45:11.410780Z"
    }
   },
   "cell_type": "code",
   "source": [
    "def pretty_print_best_params(best_params: dict, best_score: float) -> None:\n",
    "    print(f\"Best Score: {best_score:.4f}\")\n",
    "    print(\"Best Parameters:\")\n",
    "    for key, value in best_params.items():\n",
    "        print(f\"  {key}: {value}\")\n",
    "\n",
    "\n",
    "def print_accuracy(y_pred, y_test) -> None:\n",
    "    test_accuracy = accuracy_score(y_test, y_pred)\n",
    "    print(f\"Test Accuracy: {test_accuracy}\")"
   ],
   "id": "52335f29d75598fa",
   "outputs": [],
   "execution_count": 38
  },
  {
   "metadata": {
    "ExecuteTime": {
     "end_time": "2024-09-13T07:45:12.028980Z",
     "start_time": "2024-09-13T07:45:12.026871Z"
    }
   },
   "cell_type": "code",
   "source": [
    "def test_decision_tree() -> None:\n",
    "    X_test, X_train, y_test, y_train = _get_split_data()\n",
    "    dt = CustomDecisionTree()\n",
    "    dt.fit(X_train, y_train)\n",
    "    y_pred = dt.predict(X_test)\n",
    "    print_accuracy(y_pred, y_test)"
   ],
   "id": "bb81e82ab27a76a4",
   "outputs": [],
   "execution_count": 39
  },
  {
   "metadata": {
    "ExecuteTime": {
     "end_time": "2024-09-13T07:45:13.378722Z",
     "start_time": "2024-09-13T07:45:12.432738Z"
    }
   },
   "cell_type": "code",
   "source": "test_decision_tree()",
   "id": "e4b9957f83b1a27d",
   "outputs": [
    {
     "name": "stdout",
     "output_type": "stream",
     "text": [
      "Test Accuracy: 0.9473684210526315\n"
     ]
    }
   ],
   "execution_count": 40
  },
  {
   "cell_type": "code",
   "id": "initial_id",
   "metadata": {
    "collapsed": true,
    "ExecuteTime": {
     "end_time": "2024-09-13T07:45:13.381100Z",
     "start_time": "2024-09-13T07:45:13.379593Z"
    }
   },
   "source": "import pandas as pd",
   "outputs": [],
   "execution_count": 41
  },
  {
   "metadata": {
    "ExecuteTime": {
     "end_time": "2024-09-13T07:45:13.394015Z",
     "start_time": "2024-09-13T07:45:13.381842Z"
    }
   },
   "cell_type": "code",
   "source": [
    "data = load_breast_cancer()\n",
    "df = pd.DataFrame(data.data, columns=data.feature_names)\n",
    "df['target'] = data.target\n",
    "df"
   ],
   "id": "f4df0c1bbdec922b",
   "outputs": [
    {
     "data": {
      "text/plain": [
       "     mean radius  mean texture  mean perimeter  mean area  mean smoothness  \\\n",
       "0          17.99         10.38          122.80     1001.0          0.11840   \n",
       "1          20.57         17.77          132.90     1326.0          0.08474   \n",
       "2          19.69         21.25          130.00     1203.0          0.10960   \n",
       "3          11.42         20.38           77.58      386.1          0.14250   \n",
       "4          20.29         14.34          135.10     1297.0          0.10030   \n",
       "..           ...           ...             ...        ...              ...   \n",
       "564        21.56         22.39          142.00     1479.0          0.11100   \n",
       "565        20.13         28.25          131.20     1261.0          0.09780   \n",
       "566        16.60         28.08          108.30      858.1          0.08455   \n",
       "567        20.60         29.33          140.10     1265.0          0.11780   \n",
       "568         7.76         24.54           47.92      181.0          0.05263   \n",
       "\n",
       "     mean compactness  mean concavity  mean concave points  mean symmetry  \\\n",
       "0             0.27760         0.30010              0.14710         0.2419   \n",
       "1             0.07864         0.08690              0.07017         0.1812   \n",
       "2             0.15990         0.19740              0.12790         0.2069   \n",
       "3             0.28390         0.24140              0.10520         0.2597   \n",
       "4             0.13280         0.19800              0.10430         0.1809   \n",
       "..                ...             ...                  ...            ...   \n",
       "564           0.11590         0.24390              0.13890         0.1726   \n",
       "565           0.10340         0.14400              0.09791         0.1752   \n",
       "566           0.10230         0.09251              0.05302         0.1590   \n",
       "567           0.27700         0.35140              0.15200         0.2397   \n",
       "568           0.04362         0.00000              0.00000         0.1587   \n",
       "\n",
       "     mean fractal dimension  ...  worst texture  worst perimeter  worst area  \\\n",
       "0                   0.07871  ...          17.33           184.60      2019.0   \n",
       "1                   0.05667  ...          23.41           158.80      1956.0   \n",
       "2                   0.05999  ...          25.53           152.50      1709.0   \n",
       "3                   0.09744  ...          26.50            98.87       567.7   \n",
       "4                   0.05883  ...          16.67           152.20      1575.0   \n",
       "..                      ...  ...            ...              ...         ...   \n",
       "564                 0.05623  ...          26.40           166.10      2027.0   \n",
       "565                 0.05533  ...          38.25           155.00      1731.0   \n",
       "566                 0.05648  ...          34.12           126.70      1124.0   \n",
       "567                 0.07016  ...          39.42           184.60      1821.0   \n",
       "568                 0.05884  ...          30.37            59.16       268.6   \n",
       "\n",
       "     worst smoothness  worst compactness  worst concavity  \\\n",
       "0             0.16220            0.66560           0.7119   \n",
       "1             0.12380            0.18660           0.2416   \n",
       "2             0.14440            0.42450           0.4504   \n",
       "3             0.20980            0.86630           0.6869   \n",
       "4             0.13740            0.20500           0.4000   \n",
       "..                ...                ...              ...   \n",
       "564           0.14100            0.21130           0.4107   \n",
       "565           0.11660            0.19220           0.3215   \n",
       "566           0.11390            0.30940           0.3403   \n",
       "567           0.16500            0.86810           0.9387   \n",
       "568           0.08996            0.06444           0.0000   \n",
       "\n",
       "     worst concave points  worst symmetry  worst fractal dimension  target  \n",
       "0                  0.2654          0.4601                  0.11890       0  \n",
       "1                  0.1860          0.2750                  0.08902       0  \n",
       "2                  0.2430          0.3613                  0.08758       0  \n",
       "3                  0.2575          0.6638                  0.17300       0  \n",
       "4                  0.1625          0.2364                  0.07678       0  \n",
       "..                    ...             ...                      ...     ...  \n",
       "564                0.2216          0.2060                  0.07115       0  \n",
       "565                0.1628          0.2572                  0.06637       0  \n",
       "566                0.1418          0.2218                  0.07820       0  \n",
       "567                0.2650          0.4087                  0.12400       0  \n",
       "568                0.0000          0.2871                  0.07039       1  \n",
       "\n",
       "[569 rows x 31 columns]"
      ],
      "text/html": [
       "<div>\n",
       "<style scoped>\n",
       "    .dataframe tbody tr th:only-of-type {\n",
       "        vertical-align: middle;\n",
       "    }\n",
       "\n",
       "    .dataframe tbody tr th {\n",
       "        vertical-align: top;\n",
       "    }\n",
       "\n",
       "    .dataframe thead th {\n",
       "        text-align: right;\n",
       "    }\n",
       "</style>\n",
       "<table border=\"1\" class=\"dataframe\">\n",
       "  <thead>\n",
       "    <tr style=\"text-align: right;\">\n",
       "      <th></th>\n",
       "      <th>mean radius</th>\n",
       "      <th>mean texture</th>\n",
       "      <th>mean perimeter</th>\n",
       "      <th>mean area</th>\n",
       "      <th>mean smoothness</th>\n",
       "      <th>mean compactness</th>\n",
       "      <th>mean concavity</th>\n",
       "      <th>mean concave points</th>\n",
       "      <th>mean symmetry</th>\n",
       "      <th>mean fractal dimension</th>\n",
       "      <th>...</th>\n",
       "      <th>worst texture</th>\n",
       "      <th>worst perimeter</th>\n",
       "      <th>worst area</th>\n",
       "      <th>worst smoothness</th>\n",
       "      <th>worst compactness</th>\n",
       "      <th>worst concavity</th>\n",
       "      <th>worst concave points</th>\n",
       "      <th>worst symmetry</th>\n",
       "      <th>worst fractal dimension</th>\n",
       "      <th>target</th>\n",
       "    </tr>\n",
       "  </thead>\n",
       "  <tbody>\n",
       "    <tr>\n",
       "      <th>0</th>\n",
       "      <td>17.99</td>\n",
       "      <td>10.38</td>\n",
       "      <td>122.80</td>\n",
       "      <td>1001.0</td>\n",
       "      <td>0.11840</td>\n",
       "      <td>0.27760</td>\n",
       "      <td>0.30010</td>\n",
       "      <td>0.14710</td>\n",
       "      <td>0.2419</td>\n",
       "      <td>0.07871</td>\n",
       "      <td>...</td>\n",
       "      <td>17.33</td>\n",
       "      <td>184.60</td>\n",
       "      <td>2019.0</td>\n",
       "      <td>0.16220</td>\n",
       "      <td>0.66560</td>\n",
       "      <td>0.7119</td>\n",
       "      <td>0.2654</td>\n",
       "      <td>0.4601</td>\n",
       "      <td>0.11890</td>\n",
       "      <td>0</td>\n",
       "    </tr>\n",
       "    <tr>\n",
       "      <th>1</th>\n",
       "      <td>20.57</td>\n",
       "      <td>17.77</td>\n",
       "      <td>132.90</td>\n",
       "      <td>1326.0</td>\n",
       "      <td>0.08474</td>\n",
       "      <td>0.07864</td>\n",
       "      <td>0.08690</td>\n",
       "      <td>0.07017</td>\n",
       "      <td>0.1812</td>\n",
       "      <td>0.05667</td>\n",
       "      <td>...</td>\n",
       "      <td>23.41</td>\n",
       "      <td>158.80</td>\n",
       "      <td>1956.0</td>\n",
       "      <td>0.12380</td>\n",
       "      <td>0.18660</td>\n",
       "      <td>0.2416</td>\n",
       "      <td>0.1860</td>\n",
       "      <td>0.2750</td>\n",
       "      <td>0.08902</td>\n",
       "      <td>0</td>\n",
       "    </tr>\n",
       "    <tr>\n",
       "      <th>2</th>\n",
       "      <td>19.69</td>\n",
       "      <td>21.25</td>\n",
       "      <td>130.00</td>\n",
       "      <td>1203.0</td>\n",
       "      <td>0.10960</td>\n",
       "      <td>0.15990</td>\n",
       "      <td>0.19740</td>\n",
       "      <td>0.12790</td>\n",
       "      <td>0.2069</td>\n",
       "      <td>0.05999</td>\n",
       "      <td>...</td>\n",
       "      <td>25.53</td>\n",
       "      <td>152.50</td>\n",
       "      <td>1709.0</td>\n",
       "      <td>0.14440</td>\n",
       "      <td>0.42450</td>\n",
       "      <td>0.4504</td>\n",
       "      <td>0.2430</td>\n",
       "      <td>0.3613</td>\n",
       "      <td>0.08758</td>\n",
       "      <td>0</td>\n",
       "    </tr>\n",
       "    <tr>\n",
       "      <th>3</th>\n",
       "      <td>11.42</td>\n",
       "      <td>20.38</td>\n",
       "      <td>77.58</td>\n",
       "      <td>386.1</td>\n",
       "      <td>0.14250</td>\n",
       "      <td>0.28390</td>\n",
       "      <td>0.24140</td>\n",
       "      <td>0.10520</td>\n",
       "      <td>0.2597</td>\n",
       "      <td>0.09744</td>\n",
       "      <td>...</td>\n",
       "      <td>26.50</td>\n",
       "      <td>98.87</td>\n",
       "      <td>567.7</td>\n",
       "      <td>0.20980</td>\n",
       "      <td>0.86630</td>\n",
       "      <td>0.6869</td>\n",
       "      <td>0.2575</td>\n",
       "      <td>0.6638</td>\n",
       "      <td>0.17300</td>\n",
       "      <td>0</td>\n",
       "    </tr>\n",
       "    <tr>\n",
       "      <th>4</th>\n",
       "      <td>20.29</td>\n",
       "      <td>14.34</td>\n",
       "      <td>135.10</td>\n",
       "      <td>1297.0</td>\n",
       "      <td>0.10030</td>\n",
       "      <td>0.13280</td>\n",
       "      <td>0.19800</td>\n",
       "      <td>0.10430</td>\n",
       "      <td>0.1809</td>\n",
       "      <td>0.05883</td>\n",
       "      <td>...</td>\n",
       "      <td>16.67</td>\n",
       "      <td>152.20</td>\n",
       "      <td>1575.0</td>\n",
       "      <td>0.13740</td>\n",
       "      <td>0.20500</td>\n",
       "      <td>0.4000</td>\n",
       "      <td>0.1625</td>\n",
       "      <td>0.2364</td>\n",
       "      <td>0.07678</td>\n",
       "      <td>0</td>\n",
       "    </tr>\n",
       "    <tr>\n",
       "      <th>...</th>\n",
       "      <td>...</td>\n",
       "      <td>...</td>\n",
       "      <td>...</td>\n",
       "      <td>...</td>\n",
       "      <td>...</td>\n",
       "      <td>...</td>\n",
       "      <td>...</td>\n",
       "      <td>...</td>\n",
       "      <td>...</td>\n",
       "      <td>...</td>\n",
       "      <td>...</td>\n",
       "      <td>...</td>\n",
       "      <td>...</td>\n",
       "      <td>...</td>\n",
       "      <td>...</td>\n",
       "      <td>...</td>\n",
       "      <td>...</td>\n",
       "      <td>...</td>\n",
       "      <td>...</td>\n",
       "      <td>...</td>\n",
       "      <td>...</td>\n",
       "    </tr>\n",
       "    <tr>\n",
       "      <th>564</th>\n",
       "      <td>21.56</td>\n",
       "      <td>22.39</td>\n",
       "      <td>142.00</td>\n",
       "      <td>1479.0</td>\n",
       "      <td>0.11100</td>\n",
       "      <td>0.11590</td>\n",
       "      <td>0.24390</td>\n",
       "      <td>0.13890</td>\n",
       "      <td>0.1726</td>\n",
       "      <td>0.05623</td>\n",
       "      <td>...</td>\n",
       "      <td>26.40</td>\n",
       "      <td>166.10</td>\n",
       "      <td>2027.0</td>\n",
       "      <td>0.14100</td>\n",
       "      <td>0.21130</td>\n",
       "      <td>0.4107</td>\n",
       "      <td>0.2216</td>\n",
       "      <td>0.2060</td>\n",
       "      <td>0.07115</td>\n",
       "      <td>0</td>\n",
       "    </tr>\n",
       "    <tr>\n",
       "      <th>565</th>\n",
       "      <td>20.13</td>\n",
       "      <td>28.25</td>\n",
       "      <td>131.20</td>\n",
       "      <td>1261.0</td>\n",
       "      <td>0.09780</td>\n",
       "      <td>0.10340</td>\n",
       "      <td>0.14400</td>\n",
       "      <td>0.09791</td>\n",
       "      <td>0.1752</td>\n",
       "      <td>0.05533</td>\n",
       "      <td>...</td>\n",
       "      <td>38.25</td>\n",
       "      <td>155.00</td>\n",
       "      <td>1731.0</td>\n",
       "      <td>0.11660</td>\n",
       "      <td>0.19220</td>\n",
       "      <td>0.3215</td>\n",
       "      <td>0.1628</td>\n",
       "      <td>0.2572</td>\n",
       "      <td>0.06637</td>\n",
       "      <td>0</td>\n",
       "    </tr>\n",
       "    <tr>\n",
       "      <th>566</th>\n",
       "      <td>16.60</td>\n",
       "      <td>28.08</td>\n",
       "      <td>108.30</td>\n",
       "      <td>858.1</td>\n",
       "      <td>0.08455</td>\n",
       "      <td>0.10230</td>\n",
       "      <td>0.09251</td>\n",
       "      <td>0.05302</td>\n",
       "      <td>0.1590</td>\n",
       "      <td>0.05648</td>\n",
       "      <td>...</td>\n",
       "      <td>34.12</td>\n",
       "      <td>126.70</td>\n",
       "      <td>1124.0</td>\n",
       "      <td>0.11390</td>\n",
       "      <td>0.30940</td>\n",
       "      <td>0.3403</td>\n",
       "      <td>0.1418</td>\n",
       "      <td>0.2218</td>\n",
       "      <td>0.07820</td>\n",
       "      <td>0</td>\n",
       "    </tr>\n",
       "    <tr>\n",
       "      <th>567</th>\n",
       "      <td>20.60</td>\n",
       "      <td>29.33</td>\n",
       "      <td>140.10</td>\n",
       "      <td>1265.0</td>\n",
       "      <td>0.11780</td>\n",
       "      <td>0.27700</td>\n",
       "      <td>0.35140</td>\n",
       "      <td>0.15200</td>\n",
       "      <td>0.2397</td>\n",
       "      <td>0.07016</td>\n",
       "      <td>...</td>\n",
       "      <td>39.42</td>\n",
       "      <td>184.60</td>\n",
       "      <td>1821.0</td>\n",
       "      <td>0.16500</td>\n",
       "      <td>0.86810</td>\n",
       "      <td>0.9387</td>\n",
       "      <td>0.2650</td>\n",
       "      <td>0.4087</td>\n",
       "      <td>0.12400</td>\n",
       "      <td>0</td>\n",
       "    </tr>\n",
       "    <tr>\n",
       "      <th>568</th>\n",
       "      <td>7.76</td>\n",
       "      <td>24.54</td>\n",
       "      <td>47.92</td>\n",
       "      <td>181.0</td>\n",
       "      <td>0.05263</td>\n",
       "      <td>0.04362</td>\n",
       "      <td>0.00000</td>\n",
       "      <td>0.00000</td>\n",
       "      <td>0.1587</td>\n",
       "      <td>0.05884</td>\n",
       "      <td>...</td>\n",
       "      <td>30.37</td>\n",
       "      <td>59.16</td>\n",
       "      <td>268.6</td>\n",
       "      <td>0.08996</td>\n",
       "      <td>0.06444</td>\n",
       "      <td>0.0000</td>\n",
       "      <td>0.0000</td>\n",
       "      <td>0.2871</td>\n",
       "      <td>0.07039</td>\n",
       "      <td>1</td>\n",
       "    </tr>\n",
       "  </tbody>\n",
       "</table>\n",
       "<p>569 rows × 31 columns</p>\n",
       "</div>"
      ]
     },
     "execution_count": 42,
     "metadata": {},
     "output_type": "execute_result"
    }
   ],
   "execution_count": 42
  },
  {
   "metadata": {
    "ExecuteTime": {
     "end_time": "2024-09-13T07:45:14.676385Z",
     "start_time": "2024-09-13T07:45:14.675017Z"
    }
   },
   "cell_type": "code",
   "source": "",
   "id": "9caefb48379b2d3",
   "outputs": [],
   "execution_count": 42
  },
  {
   "metadata": {
    "ExecuteTime": {
     "end_time": "2024-09-13T07:45:15.111623Z",
     "start_time": "2024-09-13T07:45:15.109489Z"
    }
   },
   "cell_type": "code",
   "source": "",
   "id": "7e68b0e621baab49",
   "outputs": [],
   "execution_count": 42
  },
  {
   "metadata": {
    "ExecuteTime": {
     "end_time": "2024-09-13T07:45:15.467237Z",
     "start_time": "2024-09-13T07:45:15.462149Z"
    }
   },
   "cell_type": "code",
   "source": [
    "data = load_breast_cancer()\n",
    "X = data.data\n",
    "y = data.target\n",
    "X_train, X_test, y_train, y_test = train_test_split(X, y, test_size=0.2, random_state=42)"
   ],
   "id": "e0e22afdf0d1aeb",
   "outputs": [],
   "execution_count": 43
  },
  {
   "metadata": {
    "ExecuteTime": {
     "end_time": "2024-09-13T07:45:43.025054Z",
     "start_time": "2024-09-13T07:45:42.648529Z"
    }
   },
   "cell_type": "code",
   "source": "import matplotlib.pyplot as plt",
   "id": "85c96353edd5a73c",
   "outputs": [],
   "execution_count": 47
  },
  {
   "metadata": {
    "ExecuteTime": {
     "end_time": "2024-09-13T07:45:46.363202Z",
     "start_time": "2024-09-13T07:45:46.358393Z"
    }
   },
   "cell_type": "code",
   "source": [
    "def plot_tree_depth_by_params(\n",
    "        min_samples_split_lst,\n",
    "        min_samples_leaf_lst,\n",
    "        X_train,\n",
    "        y_train\n",
    "):\n",
    "    depth_lst = []\n",
    "    labels = []\n",
    "\n",
    "    for min_samples_split in min_samples_split_lst:\n",
    "        for min_samples_leaf in min_samples_leaf_lst:\n",
    "            dt = CustomDecisionTree(min_samples_split=min_samples_split, min_samples_leaf=min_samples_leaf)\n",
    "            dt.fit(X_train, y_train)\n",
    "            max_depth = dt.cur_depth\n",
    "            depth_lst.append(max_depth)\n",
    "            labels.append(\n",
    "                f\"split:{min_samples_split};leaf:{min_samples_leaf}\"\n",
    "            )\n",
    "    plt.figure(figsize=(10, 6))\n",
    "    plt.plot(depth_lst)\n",
    "    plt.xticks(range(len(depth_lst)), labels, rotation=45, ha='right')\n",
    "    plt.xlabel(\"Hyperparameters\")\n",
    "    plt.ylabel(\"Tree depth\")\n",
    "    plt.title(\"Tree depth by hyperparameters\")\n",
    "    plt.show()"
   ],
   "id": "aee17780bf799546",
   "outputs": [],
   "execution_count": 49
  },
  {
   "metadata": {
    "ExecuteTime": {
     "end_time": "2024-09-13T07:48:41.026947Z",
     "start_time": "2024-09-13T07:48:13.922015Z"
    }
   },
   "cell_type": "code",
   "source": [
    "# min_samples_split_lst = [i for i in range(2, 31)]\n",
    "min_samples_split_lst = [2, 3, 5, 10, 15, 25]\n",
    "# min_samples_leaf_lst = [i for i in range(1, 31)]\n",
    "min_samples_leaf_lst = [2, 3, 5, 10, 15, 25]\n",
    "\n",
    "plot_tree_depth_by_params(\n",
    "    min_samples_split_lst=min_samples_split_lst,\n",
    "    min_samples_leaf_lst=min_samples_leaf_lst,\n",
    "    X_train=X_train,\n",
    "    y_train=y_train\n",
    ")\n"
   ],
   "id": "795fdf030d629fe0",
   "outputs": [
    {
     "data": {
      "text/plain": [
       "<Figure size 1000x600 with 1 Axes>"
      ],
      "image/png": "[encoded data removed]"
     },
     "metadata": {},
     "output_type": "display_data"
    }
   ],
   "execution_count": 51
  },
  {
   "metadata": {},
   "cell_type": "code",
   "source": [
    "import optuna\n",
    "import numpy as np\n"
   ],
   "id": "c2dbaf74fd464c21",
   "outputs": [],
   "execution_count": null
  },
  {
   "metadata": {
    "ExecuteTime": {
     "end_time": "2024-09-11T13:21:31.155675Z",
     "start_time": "2024-09-11T13:21:31.153046Z"
    }
   },
   "cell_type": "code",
   "source": [
    "def func(trial, X_train: np.ndarray, X_val: np.ndarray, y_train: np.ndarray, y_val: np.ndarray) -> float:\n",
    "    max_depth = trial.suggest_int('max_depth', 2, 30)\n",
    "    min_samples_split = trial.suggest_int('min_samples_split', 2, 30)\n",
    "    min_samples_leaf = trial.suggest_int('min_samples_leaf', 1, 30)\n",
    "    dt = CustomDecisionTree(\n",
    "        max_depth=max_depth,\n",
    "        min_samples_split=min_samples_split,\n",
    "        min_samples_leaf=min_samples_leaf,\n",
    "    )\n",
    "    dt.fit(X_train, y_train)\n",
    "    y_pred = dt.predict(X_val)\n",
    "    accuracy = accuracy_score(y_val, y_pred)\n",
    "    return accuracy"
   ],
   "id": "386773ac57ccd980",
   "outputs": [],
   "execution_count": 32
  },
  {
   "metadata": {
    "ExecuteTime": {
     "end_time": "2024-09-11T13:21:31.719530Z",
     "start_time": "2024-09-11T13:21:31.716576Z"
    }
   },
   "cell_type": "code",
   "source": [
    "def get_best_hyperparameters(\n",
    "        X_train: np.ndarray, X_val: np.ndarray, y_train: np.ndarray, y_val: np.ndarray\n",
    ") -> tuple[dict, float]:\n",
    "    study = optuna.create_study(direction='maximize')\n",
    "    study.optimize(\n",
    "        func=lambda trial: func(trial, X_train, X_val, y_train, y_val),\n",
    "        n_trials=100,\n",
    "        show_progress_bar=True\n",
    "    )\n",
    "    best_params = study.best_params\n",
    "    best_value = study.best_value\n",
    "    return best_params, best_value\n"
   ],
   "id": "e8c7a2849a6bfb78",
   "outputs": [],
   "execution_count": 33
  },
  {
   "metadata": {
    "ExecuteTime": {
     "end_time": "2024-09-11T13:21:32.059816Z",
     "start_time": "2024-09-11T13:21:32.056765Z"
    }
   },
   "cell_type": "code",
   "source": [
    "def get_split_data():\n",
    "    data = load_breast_cancer()\n",
    "    X, y = data.data, data.target\n",
    "    X_train, X_test, y_train, y_test = train_test_split(X, y, test_size=0.2, random_state=42)\n",
    "    X_train, X_val, y_train, y_val = train_test_split(X_train, y_train, test_size=0.2, random_state=42)\n",
    "    return X_test, X_train, X_val, y_test, y_train, y_val"
   ],
   "id": "481cfd52064bb5b4",
   "outputs": [],
   "execution_count": 34
  },
  {
   "metadata": {
    "ExecuteTime": {
     "end_time": "2024-09-11T13:22:34.264327Z",
     "start_time": "2024-09-11T13:21:32.413322Z"
    }
   },
   "cell_type": "code",
   "source": [
    "X_test, X_train, X_val, y_test, y_train, y_val = get_split_data()\n",
    "best_params, best_score = get_best_hyperparameters(X_train, X_val, y_train, y_val)\n",
    "print(\"~\" * 40)\n",
    "pretty_print_best_params(best_params, best_score)"
   ],
   "id": "e0538ccb2e6fe057",
   "outputs": [
    {
     "name": "stderr",
     "output_type": "stream",
     "text": [
      "[I 2024-09-11 16:21:32,420] A new study created in memory with name: no-name-41fdc80b-782d-41c6-bc59-b71f1c37ae74\n"
     ]
    },
    {
     "data": {
      "text/plain": [
       "  0%|          | 0/100 [00:00<?, ?it/s]"
      ],
      "application/vnd.jupyter.widget-view+json": {
       "version_major": 2,
       "version_minor": 0,
       "model_id": "4bb4c4485d944905a5a70c488be24329"
      }
     },
     "metadata": {},
     "output_type": "display_data"
    },
    {
     "name": "stdout",
     "output_type": "stream",
     "text": [
      "[I 2024-09-11 16:21:33,046] Trial 0 finished with value: 0.9120879120879121 and parameters: {'max_depth': 6, 'min_samples_split': 20, 'min_samples_leaf': 15}. Best is trial 0 with value: 0.9120879120879121.\n",
      "[I 2024-09-11 16:21:33,639] Trial 1 finished with value: 0.9230769230769231 and parameters: {'max_depth': 8, 'min_samples_split': 17, 'min_samples_leaf': 6}. Best is trial 1 with value: 0.9230769230769231.\n",
      "[I 2024-09-11 16:21:34,208] Trial 2 finished with value: 0.9010989010989011 and parameters: {'max_depth': 21, 'min_samples_split': 23, 'min_samples_leaf': 9}. Best is trial 1 with value: 0.9230769230769231.\n",
      "[I 2024-09-11 16:21:34,780] Trial 3 finished with value: 0.9230769230769231 and parameters: {'max_depth': 23, 'min_samples_split': 21, 'min_samples_leaf': 7}. Best is trial 1 with value: 0.9230769230769231.\n",
      "[I 2024-09-11 16:21:35,347] Trial 4 finished with value: 0.9010989010989011 and parameters: {'max_depth': 30, 'min_samples_split': 20, 'min_samples_leaf': 18}. Best is trial 1 with value: 0.9230769230769231.\n",
      "[I 2024-09-11 16:21:36,001] Trial 5 finished with value: 0.9010989010989011 and parameters: {'max_depth': 19, 'min_samples_split': 26, 'min_samples_leaf': 14}. Best is trial 1 with value: 0.9230769230769231.\n",
      "[I 2024-09-11 16:21:36,576] Trial 6 finished with value: 0.9120879120879121 and parameters: {'max_depth': 24, 'min_samples_split': 22, 'min_samples_leaf': 12}. Best is trial 1 with value: 0.9230769230769231.\n",
      "[I 2024-09-11 16:21:37,118] Trial 7 finished with value: 0.9010989010989011 and parameters: {'max_depth': 30, 'min_samples_split': 29, 'min_samples_leaf': 9}. Best is trial 1 with value: 0.9230769230769231.\n",
      "[I 2024-09-11 16:21:37,695] Trial 8 finished with value: 0.9120879120879121 and parameters: {'max_depth': 12, 'min_samples_split': 27, 'min_samples_leaf': 15}. Best is trial 1 with value: 0.9230769230769231.\n",
      "[I 2024-09-11 16:21:38,128] Trial 9 finished with value: 0.8901098901098901 and parameters: {'max_depth': 10, 'min_samples_split': 14, 'min_samples_leaf': 30}. Best is trial 1 with value: 0.9230769230769231.\n",
      "[I 2024-09-11 16:21:38,558] Trial 10 finished with value: 0.9120879120879121 and parameters: {'max_depth': 2, 'min_samples_split': 5, 'min_samples_leaf': 1}. Best is trial 1 with value: 0.9230769230769231.\n",
      "[I 2024-09-11 16:21:39,220] Trial 11 finished with value: 0.9230769230769231 and parameters: {'max_depth': 15, 'min_samples_split': 14, 'min_samples_leaf': 2}. Best is trial 1 with value: 0.9230769230769231.\n",
      "[I 2024-09-11 16:21:39,825] Trial 12 finished with value: 0.9120879120879121 and parameters: {'max_depth': 25, 'min_samples_split': 9, 'min_samples_leaf': 6}. Best is trial 1 with value: 0.9230769230769231.\n",
      "[I 2024-09-11 16:21:40,416] Trial 13 finished with value: 0.9120879120879121 and parameters: {'max_depth': 8, 'min_samples_split': 17, 'min_samples_leaf': 23}. Best is trial 1 with value: 0.9230769230769231.\n",
      "[I 2024-09-11 16:21:41,065] Trial 14 finished with value: 0.9230769230769231 and parameters: {'max_depth': 15, 'min_samples_split': 11, 'min_samples_leaf': 5}. Best is trial 1 with value: 0.9230769230769231.\n",
      "[I 2024-09-11 16:21:41,499] Trial 15 finished with value: 0.9010989010989011 and parameters: {'max_depth': 2, 'min_samples_split': 17, 'min_samples_leaf': 6}. Best is trial 1 with value: 0.9230769230769231.\n",
      "[I 2024-09-11 16:21:42,093] Trial 16 finished with value: 0.9120879120879121 and parameters: {'max_depth': 19, 'min_samples_split': 3, 'min_samples_leaf': 10}. Best is trial 1 with value: 0.9230769230769231.\n",
      "[I 2024-09-11 16:21:42,671] Trial 17 finished with value: 0.9010989010989011 and parameters: {'max_depth': 26, 'min_samples_split': 24, 'min_samples_leaf': 20}. Best is trial 1 with value: 0.9230769230769231.\n",
      "[I 2024-09-11 16:21:43,259] Trial 18 finished with value: 0.9230769230769231 and parameters: {'max_depth': 13, 'min_samples_split': 19, 'min_samples_leaf': 4}. Best is trial 1 with value: 0.9230769230769231.\n",
      "[I 2024-09-11 16:21:43,833] Trial 19 finished with value: 0.9010989010989011 and parameters: {'max_depth': 6, 'min_samples_split': 10, 'min_samples_leaf': 8}. Best is trial 1 with value: 0.9230769230769231.\n",
      "[I 2024-09-11 16:21:44,264] Trial 20 finished with value: 0.8901098901098901 and parameters: {'max_depth': 22, 'min_samples_split': 14, 'min_samples_leaf': 28}. Best is trial 1 with value: 0.9230769230769231.\n",
      "[I 2024-09-11 16:21:44,924] Trial 21 finished with value: 0.9340659340659341 and parameters: {'max_depth': 16, 'min_samples_split': 14, 'min_samples_leaf': 1}. Best is trial 21 with value: 0.9340659340659341.\n",
      "[I 2024-09-11 16:21:45,598] Trial 22 finished with value: 0.9340659340659341 and parameters: {'max_depth': 18, 'min_samples_split': 12, 'min_samples_leaf': 1}. Best is trial 21 with value: 0.9340659340659341.\n",
      "[I 2024-09-11 16:21:46,284] Trial 23 finished with value: 0.9340659340659341 and parameters: {'max_depth': 17, 'min_samples_split': 7, 'min_samples_leaf': 1}. Best is trial 21 with value: 0.9340659340659341.\n",
      "[I 2024-09-11 16:21:46,965] Trial 24 finished with value: 0.9230769230769231 and parameters: {'max_depth': 18, 'min_samples_split': 6, 'min_samples_leaf': 1}. Best is trial 21 with value: 0.9340659340659341.\n",
      "[I 2024-09-11 16:21:47,568] Trial 25 finished with value: 0.9120879120879121 and parameters: {'max_depth': 16, 'min_samples_split': 8, 'min_samples_leaf': 3}. Best is trial 21 with value: 0.9340659340659341.\n",
      "[I 2024-09-11 16:21:48,166] Trial 26 finished with value: 0.9120879120879121 and parameters: {'max_depth': 18, 'min_samples_split': 12, 'min_samples_leaf': 3}. Best is trial 21 with value: 0.9340659340659341.\n",
      "[I 2024-09-11 16:21:48,818] Trial 27 finished with value: 0.9340659340659341 and parameters: {'max_depth': 12, 'min_samples_split': 7, 'min_samples_leaf': 1}. Best is trial 21 with value: 0.9340659340659341.\n",
      "[I 2024-09-11 16:21:49,393] Trial 28 finished with value: 0.9010989010989011 and parameters: {'max_depth': 20, 'min_samples_split': 2, 'min_samples_leaf': 11}. Best is trial 21 with value: 0.9340659340659341.\n",
      "[I 2024-09-11 16:21:49,990] Trial 29 finished with value: 0.9120879120879121 and parameters: {'max_depth': 17, 'min_samples_split': 12, 'min_samples_leaf': 4}. Best is trial 21 with value: 0.9340659340659341.\n",
      "[I 2024-09-11 16:21:50,569] Trial 30 finished with value: 0.9010989010989011 and parameters: {'max_depth': 14, 'min_samples_split': 13, 'min_samples_leaf': 13}. Best is trial 21 with value: 0.9340659340659341.\n",
      "[I 2024-09-11 16:21:51,226] Trial 31 finished with value: 0.9340659340659341 and parameters: {'max_depth': 13, 'min_samples_split': 7, 'min_samples_leaf': 1}. Best is trial 21 with value: 0.9340659340659341.\n",
      "[I 2024-09-11 16:21:51,848] Trial 32 finished with value: 0.9120879120879121 and parameters: {'max_depth': 11, 'min_samples_split': 4, 'min_samples_leaf': 3}. Best is trial 21 with value: 0.9340659340659341.\n",
      "[I 2024-09-11 16:21:52,531] Trial 33 finished with value: 0.9230769230769231 and parameters: {'max_depth': 9, 'min_samples_split': 9, 'min_samples_leaf': 1}. Best is trial 21 with value: 0.9340659340659341.\n",
      "[I 2024-09-11 16:21:53,153] Trial 34 finished with value: 0.9010989010989011 and parameters: {'max_depth': 6, 'min_samples_split': 7, 'min_samples_leaf': 7}. Best is trial 21 with value: 0.9340659340659341.\n",
      "[I 2024-09-11 16:21:53,780] Trial 35 finished with value: 0.9230769230769231 and parameters: {'max_depth': 17, 'min_samples_split': 15, 'min_samples_leaf': 5}. Best is trial 21 with value: 0.9340659340659341.\n",
      "[I 2024-09-11 16:21:54,449] Trial 36 finished with value: 0.9230769230769231 and parameters: {'max_depth': 21, 'min_samples_split': 10, 'min_samples_leaf': 3}. Best is trial 21 with value: 0.9340659340659341.\n",
      "[I 2024-09-11 16:21:55,043] Trial 37 finished with value: 0.9010989010989011 and parameters: {'max_depth': 15, 'min_samples_split': 6, 'min_samples_leaf': 7}. Best is trial 21 with value: 0.9340659340659341.\n",
      "[I 2024-09-11 16:21:55,632] Trial 38 finished with value: 0.9120879120879121 and parameters: {'max_depth': 11, 'min_samples_split': 16, 'min_samples_leaf': 17}. Best is trial 21 with value: 0.9340659340659341.\n",
      "[I 2024-09-11 16:21:56,234] Trial 39 finished with value: 0.9120879120879121 and parameters: {'max_depth': 13, 'min_samples_split': 11, 'min_samples_leaf': 5}. Best is trial 21 with value: 0.9340659340659341.\n",
      "[I 2024-09-11 16:21:56,842] Trial 40 finished with value: 0.9010989010989011 and parameters: {'max_depth': 23, 'min_samples_split': 18, 'min_samples_leaf': 23}. Best is trial 21 with value: 0.9340659340659341.\n",
      "[I 2024-09-11 16:21:57,523] Trial 41 finished with value: 0.9340659340659341 and parameters: {'max_depth': 12, 'min_samples_split': 8, 'min_samples_leaf': 1}. Best is trial 21 with value: 0.9340659340659341.\n",
      "[I 2024-09-11 16:21:58,223] Trial 42 finished with value: 0.9340659340659341 and parameters: {'max_depth': 16, 'min_samples_split': 5, 'min_samples_leaf': 2}. Best is trial 21 with value: 0.9340659340659341.\n",
      "[I 2024-09-11 16:21:58,921] Trial 43 finished with value: 0.945054945054945 and parameters: {'max_depth': 14, 'min_samples_split': 7, 'min_samples_leaf': 1}. Best is trial 43 with value: 0.945054945054945.\n",
      "[I 2024-09-11 16:21:59,523] Trial 44 finished with value: 0.9120879120879121 and parameters: {'max_depth': 20, 'min_samples_split': 2, 'min_samples_leaf': 4}. Best is trial 43 with value: 0.945054945054945.\n",
      "[I 2024-09-11 16:22:00,193] Trial 45 finished with value: 0.9230769230769231 and parameters: {'max_depth': 17, 'min_samples_split': 4, 'min_samples_leaf': 2}. Best is trial 43 with value: 0.945054945054945.\n",
      "[I 2024-09-11 16:22:00,783] Trial 46 finished with value: 0.9120879120879121 and parameters: {'max_depth': 14, 'min_samples_split': 9, 'min_samples_leaf': 9}. Best is trial 43 with value: 0.945054945054945.\n",
      "[I 2024-09-11 16:22:01,449] Trial 47 finished with value: 0.9230769230769231 and parameters: {'max_depth': 19, 'min_samples_split': 12, 'min_samples_leaf': 2}. Best is trial 43 with value: 0.945054945054945.\n",
      "[I 2024-09-11 16:22:02,061] Trial 48 finished with value: 0.9010989010989011 and parameters: {'max_depth': 28, 'min_samples_split': 7, 'min_samples_leaf': 5}. Best is trial 43 with value: 0.945054945054945.\n",
      "[I 2024-09-11 16:22:02,668] Trial 49 finished with value: 0.9010989010989011 and parameters: {'max_depth': 8, 'min_samples_split': 10, 'min_samples_leaf': 4}. Best is trial 43 with value: 0.945054945054945.\n",
      "[I 2024-09-11 16:22:03,316] Trial 50 finished with value: 0.9230769230769231 and parameters: {'max_depth': 4, 'min_samples_split': 15, 'min_samples_leaf': 1}. Best is trial 43 with value: 0.945054945054945.\n",
      "[I 2024-09-11 16:22:03,995] Trial 51 finished with value: 0.945054945054945 and parameters: {'max_depth': 13, 'min_samples_split': 7, 'min_samples_leaf': 2}. Best is trial 43 with value: 0.945054945054945.\n",
      "[I 2024-09-11 16:22:04,671] Trial 52 finished with value: 0.945054945054945 and parameters: {'max_depth': 10, 'min_samples_split': 6, 'min_samples_leaf': 2}. Best is trial 43 with value: 0.945054945054945.\n",
      "[I 2024-09-11 16:22:05,261] Trial 53 finished with value: 0.9120879120879121 and parameters: {'max_depth': 10, 'min_samples_split': 4, 'min_samples_leaf': 6}. Best is trial 43 with value: 0.945054945054945.\n",
      "[I 2024-09-11 16:22:05,875] Trial 54 finished with value: 0.9120879120879121 and parameters: {'max_depth': 15, 'min_samples_split': 5, 'min_samples_leaf': 3}. Best is trial 43 with value: 0.945054945054945.\n",
      "[I 2024-09-11 16:22:06,545] Trial 55 finished with value: 0.945054945054945 and parameters: {'max_depth': 14, 'min_samples_split': 8, 'min_samples_leaf': 2}. Best is trial 43 with value: 0.945054945054945.\n",
      "[I 2024-09-11 16:22:07,139] Trial 56 finished with value: 0.9010989010989011 and parameters: {'max_depth': 10, 'min_samples_split': 8, 'min_samples_leaf': 8}. Best is trial 43 with value: 0.945054945054945.\n",
      "[I 2024-09-11 16:22:07,820] Trial 57 finished with value: 0.9560439560439561 and parameters: {'max_depth': 14, 'min_samples_split': 11, 'min_samples_leaf': 2}. Best is trial 57 with value: 0.9560439560439561.\n",
      "[I 2024-09-11 16:22:08,438] Trial 58 finished with value: 0.9120879120879121 and parameters: {'max_depth': 11, 'min_samples_split': 11, 'min_samples_leaf': 4}. Best is trial 57 with value: 0.9560439560439561.\n",
      "[I 2024-09-11 16:22:09,075] Trial 59 finished with value: 0.9120879120879121 and parameters: {'max_depth': 14, 'min_samples_split': 6, 'min_samples_leaf': 6}. Best is trial 57 with value: 0.9560439560439561.\n",
      "[I 2024-09-11 16:22:09,754] Trial 60 finished with value: 0.945054945054945 and parameters: {'max_depth': 7, 'min_samples_split': 9, 'min_samples_leaf': 2}. Best is trial 57 with value: 0.9560439560439561.\n",
      "[I 2024-09-11 16:22:10,431] Trial 61 finished with value: 0.945054945054945 and parameters: {'max_depth': 5, 'min_samples_split': 9, 'min_samples_leaf': 2}. Best is trial 57 with value: 0.9560439560439561.\n",
      "[I 2024-09-11 16:22:11,108] Trial 62 finished with value: 0.9340659340659341 and parameters: {'max_depth': 4, 'min_samples_split': 10, 'min_samples_leaf': 2}. Best is trial 57 with value: 0.9560439560439561.\n",
      "[I 2024-09-11 16:22:11,671] Trial 63 finished with value: 0.9010989010989011 and parameters: {'max_depth': 7, 'min_samples_split': 30, 'min_samples_leaf': 3}. Best is trial 57 with value: 0.9560439560439561.\n",
      "[I 2024-09-11 16:22:12,246] Trial 64 finished with value: 0.9230769230769231 and parameters: {'max_depth': 3, 'min_samples_split': 9, 'min_samples_leaf': 4}. Best is trial 57 with value: 0.9560439560439561.\n",
      "[I 2024-09-11 16:22:12,842] Trial 65 finished with value: 0.9120879120879121 and parameters: {'max_depth': 7, 'min_samples_split': 8, 'min_samples_leaf': 5}. Best is trial 57 with value: 0.9560439560439561.\n",
      "[I 2024-09-11 16:22:13,510] Trial 66 finished with value: 0.9340659340659341 and parameters: {'max_depth': 5, 'min_samples_split': 6, 'min_samples_leaf': 2}. Best is trial 57 with value: 0.9560439560439561.\n",
      "[I 2024-09-11 16:22:14,095] Trial 67 finished with value: 0.9120879120879121 and parameters: {'max_depth': 8, 'min_samples_split': 5, 'min_samples_leaf': 21}. Best is trial 57 with value: 0.9560439560439561.\n",
      "[I 2024-09-11 16:22:14,700] Trial 68 finished with value: 0.9230769230769231 and parameters: {'max_depth': 13, 'min_samples_split': 3, 'min_samples_leaf': 3}. Best is trial 57 with value: 0.9560439560439561.\n",
      "[I 2024-09-11 16:22:15,357] Trial 69 finished with value: 0.9010989010989011 and parameters: {'max_depth': 10, 'min_samples_split': 8, 'min_samples_leaf': 2}. Best is trial 57 with value: 0.9560439560439561.\n",
      "[I 2024-09-11 16:22:15,786] Trial 70 finished with value: 0.8901098901098901 and parameters: {'max_depth': 7, 'min_samples_split': 10, 'min_samples_leaf': 28}. Best is trial 57 with value: 0.9560439560439561.\n",
      "[I 2024-09-11 16:22:16,459] Trial 71 finished with value: 0.9230769230769231 and parameters: {'max_depth': 9, 'min_samples_split': 14, 'min_samples_leaf': 2}. Best is trial 57 with value: 0.9560439560439561.\n",
      "[I 2024-09-11 16:22:17,098] Trial 72 finished with value: 0.9230769230769231 and parameters: {'max_depth': 16, 'min_samples_split': 13, 'min_samples_leaf': 4}. Best is trial 57 with value: 0.9560439560439561.\n",
      "[I 2024-09-11 16:22:17,765] Trial 73 finished with value: 0.9340659340659341 and parameters: {'max_depth': 12, 'min_samples_split': 9, 'min_samples_leaf': 1}. Best is trial 57 with value: 0.9560439560439561.\n",
      "[I 2024-09-11 16:22:18,366] Trial 74 finished with value: 0.9230769230769231 and parameters: {'max_depth': 14, 'min_samples_split': 13, 'min_samples_leaf': 7}. Best is trial 57 with value: 0.9560439560439561.\n",
      "[I 2024-09-11 16:22:18,964] Trial 75 finished with value: 0.9120879120879121 and parameters: {'max_depth': 5, 'min_samples_split': 11, 'min_samples_leaf': 3}. Best is trial 57 with value: 0.9560439560439561.\n",
      "[I 2024-09-11 16:22:19,629] Trial 76 finished with value: 0.9340659340659341 and parameters: {'max_depth': 9, 'min_samples_split': 6, 'min_samples_leaf': 1}. Best is trial 57 with value: 0.9560439560439561.\n",
      "[I 2024-09-11 16:22:20,228] Trial 77 finished with value: 0.9120879120879121 and parameters: {'max_depth': 15, 'min_samples_split': 7, 'min_samples_leaf': 5}. Best is trial 57 with value: 0.9560439560439561.\n",
      "[I 2024-09-11 16:22:20,839] Trial 78 finished with value: 0.9010989010989011 and parameters: {'max_depth': 12, 'min_samples_split': 9, 'min_samples_leaf': 3}. Best is trial 57 with value: 0.9560439560439561.\n",
      "[I 2024-09-11 16:22:21,446] Trial 79 finished with value: 0.9120879120879121 and parameters: {'max_depth': 13, 'min_samples_split': 11, 'min_samples_leaf': 14}. Best is trial 57 with value: 0.9560439560439561.\n",
      "[I 2024-09-11 16:22:22,046] Trial 80 finished with value: 0.9230769230769231 and parameters: {'max_depth': 11, 'min_samples_split': 8, 'min_samples_leaf': 6}. Best is trial 57 with value: 0.9560439560439561.\n",
      "[I 2024-09-11 16:22:22,758] Trial 81 finished with value: 0.9340659340659341 and parameters: {'max_depth': 18, 'min_samples_split': 13, 'min_samples_leaf': 1}. Best is trial 57 with value: 0.9560439560439561.\n",
      "[I 2024-09-11 16:22:23,411] Trial 82 finished with value: 0.9230769230769231 and parameters: {'max_depth': 18, 'min_samples_split': 12, 'min_samples_leaf': 2}. Best is trial 57 with value: 0.9560439560439561.\n",
      "[I 2024-09-11 16:22:24,071] Trial 83 finished with value: 0.9340659340659341 and parameters: {'max_depth': 15, 'min_samples_split': 15, 'min_samples_leaf': 1}. Best is trial 57 with value: 0.9560439560439561.\n",
      "[I 2024-09-11 16:22:24,744] Trial 84 finished with value: 0.9230769230769231 and parameters: {'max_depth': 16, 'min_samples_split': 10, 'min_samples_leaf': 2}. Best is trial 57 with value: 0.9560439560439561.\n",
      "[I 2024-09-11 16:22:25,340] Trial 85 finished with value: 0.9120879120879121 and parameters: {'max_depth': 14, 'min_samples_split': 26, 'min_samples_leaf': 4}. Best is trial 57 with value: 0.9560439560439561.\n",
      "[I 2024-09-11 16:22:25,969] Trial 86 finished with value: 0.9230769230769231 and parameters: {'max_depth': 17, 'min_samples_split': 16, 'min_samples_leaf': 3}. Best is trial 57 with value: 0.9560439560439561.\n",
      "[I 2024-09-11 16:22:26,638] Trial 87 finished with value: 0.9340659340659341 and parameters: {'max_depth': 16, 'min_samples_split': 7, 'min_samples_leaf': 2}. Best is trial 57 with value: 0.9560439560439561.\n",
      "[I 2024-09-11 16:22:27,227] Trial 88 finished with value: 0.9230769230769231 and parameters: {'max_depth': 5, 'min_samples_split': 22, 'min_samples_leaf': 3}. Best is trial 57 with value: 0.9560439560439561.\n",
      "[I 2024-09-11 16:22:27,811] Trial 89 finished with value: 0.9120879120879121 and parameters: {'max_depth': 19, 'min_samples_split': 12, 'min_samples_leaf': 11}. Best is trial 57 with value: 0.9560439560439561.\n",
      "[I 2024-09-11 16:22:28,467] Trial 90 finished with value: 0.945054945054945 and parameters: {'max_depth': 14, 'min_samples_split': 5, 'min_samples_leaf': 1}. Best is trial 57 with value: 0.9560439560439561.\n",
      "[I 2024-09-11 16:22:29,121] Trial 91 finished with value: 0.9560439560439561 and parameters: {'max_depth': 14, 'min_samples_split': 4, 'min_samples_leaf': 1}. Best is trial 57 with value: 0.9560439560439561.\n",
      "[I 2024-09-11 16:22:29,801] Trial 92 finished with value: 0.945054945054945 and parameters: {'max_depth': 14, 'min_samples_split': 3, 'min_samples_leaf': 1}. Best is trial 57 with value: 0.9560439560439561.\n",
      "[I 2024-09-11 16:22:30,488] Trial 93 finished with value: 0.9230769230769231 and parameters: {'max_depth': 12, 'min_samples_split': 3, 'min_samples_leaf': 1}. Best is trial 57 with value: 0.9560439560439561.\n",
      "[I 2024-09-11 16:22:31,141] Trial 94 finished with value: 0.9230769230769231 and parameters: {'max_depth': 13, 'min_samples_split': 4, 'min_samples_leaf': 2}. Best is trial 57 with value: 0.9560439560439561.\n",
      "[I 2024-09-11 16:22:31,735] Trial 95 finished with value: 0.9120879120879121 and parameters: {'max_depth': 14, 'min_samples_split': 2, 'min_samples_leaf': 4}. Best is trial 57 with value: 0.9560439560439561.\n",
      "[I 2024-09-11 16:22:32,399] Trial 96 finished with value: 0.9340659340659341 and parameters: {'max_depth': 13, 'min_samples_split': 5, 'min_samples_leaf': 1}. Best is trial 57 with value: 0.9560439560439561.\n",
      "[I 2024-09-11 16:22:33,067] Trial 97 finished with value: 0.9230769230769231 and parameters: {'max_depth': 11, 'min_samples_split': 3, 'min_samples_leaf': 2}. Best is trial 57 with value: 0.9560439560439561.\n",
      "[I 2024-09-11 16:22:33,666] Trial 98 finished with value: 0.9010989010989011 and parameters: {'max_depth': 15, 'min_samples_split': 6, 'min_samples_leaf': 3}. Best is trial 57 with value: 0.9560439560439561.\n",
      "[I 2024-09-11 16:22:34,261] Trial 99 finished with value: 0.9120879120879121 and parameters: {'max_depth': 14, 'min_samples_split': 4, 'min_samples_leaf': 5}. Best is trial 57 with value: 0.9560439560439561.\n",
      "~~~~~~~~~~~~~~~~~~~~~~~~~~~~~~~~~~~~~~~~\n",
      "Best Score: 0.9560\n",
      "Best Parameters:\n",
      "  max_depth: 14\n",
      "  min_samples_split: 11\n",
      "  min_samples_leaf: 2\n"
     ]
    }
   ],
   "execution_count": 35
  },
  {
   "metadata": {
    "ExecuteTime": {
     "end_time": "2024-09-11T13:22:34.268106Z",
     "start_time": "2024-09-11T13:22:34.266027Z"
    }
   },
   "cell_type": "code",
   "source": "import matplotlib.pyplot as plt",
   "id": "7bd639b6aabbca75",
   "outputs": [],
   "execution_count": 36
  },
  {
   "metadata": {
    "ExecuteTime": {
     "end_time": "2024-09-11T13:22:34.272251Z",
     "start_time": "2024-09-11T13:22:34.268847Z"
    }
   },
   "cell_type": "code",
   "source": [
    "def plot_accuracy_vs_depth(X_test, X_train, y_test, y_train,\n",
    "                           min_samples_split, min_samples_leaf, depth_lst):\n",
    "    train_accuracies = []\n",
    "    test_accuracies = []\n",
    "\n",
    "    for depth in depth_lst:\n",
    "        dt = CustomDecisionTree(\n",
    "            min_samples_split=min_samples_split,\n",
    "            min_samples_leaf=min_samples_leaf,\n",
    "            max_depth=depth,\n",
    "        )\n",
    "        dt.fit(X_train, y_train)\n",
    "\n",
    "        y_train_pred = dt.predict(X_train)\n",
    "        train_accuracies.append(accuracy_score(y_train, y_train_pred))\n",
    "\n",
    "        y_test_pred = dt.predict(X_test)\n",
    "        test_accuracies.append(accuracy_score(y_test, y_test_pred))\n",
    "\n",
    "    plt.plot(depth_lst, train_accuracies, label='Train Accuracy')\n",
    "    plt.plot(depth_lst, test_accuracies, label='Test Accuracy')\n",
    "    plt.xlabel('Depth')\n",
    "    plt.ylabel('Accuracy')\n",
    "    plt.title('Accuracy vs Depth')\n",
    "    plt.legend()\n",
    "    plt.show()"
   ],
   "id": "a91ce15349836be7",
   "outputs": [],
   "execution_count": 37
  },
  {
   "metadata": {
    "ExecuteTime": {
     "end_time": "2024-09-11T13:22:41.461216Z",
     "start_time": "2024-09-11T13:22:34.273570Z"
    }
   },
   "cell_type": "code",
   "source": [
    "depth_lst = [1, 2, 3, 4, 5, 6, 7, 8, 9, 10, 15, 25]\n",
    "plot_accuracy_vs_depth(\n",
    "    depth_lst=depth_lst,\n",
    "    X_test=X_test,\n",
    "    X_train=X_train,\n",
    "    y_test=y_test,\n",
    "    y_train=y_train,\n",
    "    min_samples_split=best_params['min_samples_split'],\n",
    "    min_samples_leaf=best_params['min_samples_leaf']\n",
    ")"
   ],
   "id": "6231384c6717e87c",
   "outputs": [
    {
     "data": {
      "text/plain": [
       "<Figure size 640x480 with 1 Axes>"
      ],
      "image/png": "[encoded data removed]"
     },
     "metadata": {},
     "output_type": "display_data"
    }
   ],
   "execution_count": 38
  },
  {
   "metadata": {
    "ExecuteTime": {
     "end_time": "2024-09-11T13:15:28.492520Z",
     "start_time": "2024-09-11T13:15:28.491102Z"
    }
   },
   "cell_type": "code",
   "source": "",
   "id": "81ba420862fe9a11",
   "outputs": [],
   "execution_count": 18
  },
  {
   "metadata": {},
   "cell_type": "code",
   "outputs": [],
   "execution_count": null,
   "source": "",
   "id": "9f387090221868c6"
  }
 ],
 "metadata": {
  "kernelspec": {
   "display_name": "Python 3",
   "language": "python",
   "name": "python3"
  },
  "language_info": {
   "codemirror_mode": {
    "name": "ipython",
    "version": 2
   },
   "file_extension": ".py",
   "mimetype": "text/x-python",
   "name": "python",
   "nbconvert_exporter": "python",
   "pygments_lexer": "ipython2",
   "version": "2.7.6"
  }
 },
 "nbformat": 4,
 "nbformat_minor": 5
}
