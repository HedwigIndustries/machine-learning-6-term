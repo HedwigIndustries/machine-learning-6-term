{
 "cells": [
  {
   "cell_type": "code",
   "id": "initial_id",
   "metadata": {
    "collapsed": true,
    "ExecuteTime": {
     "end_time": "2024-09-11T18:00:44.770170Z",
     "start_time": "2024-09-11T18:00:44.766148Z"
    }
   },
   "source": [
    "import matplotlib.pyplot as plt\n",
    "import numpy as np\n",
    "import optuna\n",
    "import pandas as pd\n",
    "from sklearn.datasets import load_iris\n",
    "from sklearn.metrics import accuracy_score\n",
    "from sklearn.model_selection import train_test_split\n",
    "from sklearn.neighbors import KNeighborsClassifier\n",
    "from sklearn.preprocessing import StandardScaler\n"
   ],
   "execution_count": 10,
   "outputs": []
  },
  {
   "metadata": {
    "ExecuteTime": {
     "end_time": "2024-09-11T18:00:44.933387Z",
     "start_time": "2024-09-11T18:00:44.926479Z"
    }
   },
   "cell_type": "code",
   "source": [
    "iris = load_iris()\n",
    "df = pd.DataFrame(data=iris.data, columns=iris.feature_names)\n",
    "df['target'] = iris.target\n",
    "df"
   ],
   "id": "ad9032442dd7092b",
   "execution_count": 11,
   "outputs": []
  },
  {
   "metadata": {
    "ExecuteTime": {
     "end_time": "2024-09-11T18:00:45.083184Z",
     "start_time": "2024-09-11T18:00:45.080961Z"
    }
   },
   "cell_type": "code",
   "source": [
    "def pretty_print_best_params(best_params: dict, best_score: float) -> None:\n",
    "    print(f\"Best Score: {best_score:.4f}\")\n",
    "    print(\"Best Parameters:\")\n",
    "    for key, value in best_params.items():\n",
    "        print(f\"  {key}: {value}\")\n",
    "\n",
    "\n",
    "def print_accuracy(y_pred, y_test) -> None:\n",
    "    test_accuracy = accuracy_score(y_test, y_pred)\n",
    "    print(f\"Test Accuracy: {test_accuracy}\")"
   ],
   "id": "862534f2c8d7a430",
   "execution_count": 12,
   "outputs": []
  },
  {
   "metadata": {
    "ExecuteTime": {
     "end_time": "2024-09-11T18:00:45.280202Z",
     "start_time": "2024-09-11T18:00:45.277272Z"
    }
   },
   "cell_type": "code",
   "source": [
    "def func(trial, X_train: np.ndarray, X_val: np.ndarray, y_train: np.ndarray, y_val: np.ndarray) -> float:\n",
    "    n_neighbors = trial.suggest_int('n_neighbors', 1, 30)\n",
    "    p = trial.suggest_int('p', 1, 4)\n",
    "    weights = trial.suggest_categorical('weights', ['uniform', 'distance'])\n",
    "    metric = trial.suggest_categorical('metric', ['euclidean', 'manhattan', 'cosine'])\n",
    "    knn = KNeighborsClassifier(\n",
    "        n_neighbors=n_neighbors,\n",
    "        weights=weights,\n",
    "        metric=metric, p=p\n",
    "    )\n",
    "    knn.fit(X_train, y_train)\n",
    "    y_pred = knn.predict(X_val)\n",
    "    accuracy = accuracy_score(y_val, y_pred)\n",
    "    return accuracy"
   ],
   "id": "aef45f69a4cfea3f",
   "execution_count": 13,
   "outputs": []
  },
  {
   "metadata": {
    "ExecuteTime": {
     "end_time": "2024-09-11T18:00:45.571400Z",
     "start_time": "2024-09-11T18:00:45.567864Z"
    }
   },
   "cell_type": "code",
   "source": [
    "def get_best_hyperparameters(\n",
    "        X_train: np.ndarray, X_val: np.ndarray, y_train: np.ndarray, y_val: np.ndarray\n",
    ") -> tuple[dict, float]:\n",
    "    study = optuna.create_study(direction='maximize')\n",
    "    study.optimize(\n",
    "        func=lambda trial: func(trial, X_train, X_val, y_train, y_val),\n",
    "        n_trials=100,\n",
    "        show_progress_bar=True\n",
    "    )\n",
    "    best_params = study.best_params\n",
    "    best_value = study.best_value\n",
    "    return best_params, best_value\n"
   ],
   "id": "e38355e9f738d342",
   "execution_count": 14,
   "outputs": []
  },
  {
   "metadata": {
    "ExecuteTime": {
     "end_time": "2024-09-11T18:00:45.843269Z",
     "start_time": "2024-09-11T18:00:45.840014Z"
    }
   },
   "cell_type": "code",
   "source": [
    "def get_split_data():\n",
    "    data = load_iris()\n",
    "    X, y = data.data, data.target\n",
    "    scaler = StandardScaler()\n",
    "    X_normalized = scaler.fit_transform(X)\n",
    "    X_train, X_test, y_train, y_test = train_test_split(X_normalized, y, test_size=0.2, random_state=42)\n",
    "    X_train, X_val, y_train, y_val = train_test_split(X_train, y_train, test_size=0.2, random_state=42)\n",
    "    return X_test, X_train, X_val, y_test, y_train, y_val"
   ],
   "id": "8a126b1091395e1a",
   "execution_count": 15,
   "outputs": []
  },
  {
   "metadata": {
    "ExecuteTime": {
     "end_time": "2024-09-11T18:00:46.769055Z",
     "start_time": "2024-09-11T18:00:46.080669Z"
    }
   },
   "cell_type": "code",
   "source": [
    "X_test, X_train, X_val, y_test, y_train, y_val = get_split_data()\n",
    "best_params, best_score = get_best_hyperparameters(X_train, X_val, y_train, y_val)\n",
    "print(\"~\" * 40)\n",
    "pretty_print_best_params(best_params, best_score)"
   ],
   "id": "847d00614454f5b5",
   "execution_count": 16,
   "outputs": []
  },
  {
   "metadata": {
    "ExecuteTime": {
     "end_time": "2024-09-11T18:00:46.772868Z",
     "start_time": "2024-09-11T18:00:46.770300Z"
    }
   },
   "cell_type": "code",
   "source": [
    "def plot_accuracy_vs_k(X_test, X_train, y_test, y_train, weights, metric, p):\n",
    "    ks = range(1, 30)\n",
    "    train_accuracies = []\n",
    "    test_accuracies = []\n",
    "\n",
    "    for k in ks:\n",
    "        knn = KNeighborsClassifier(n_neighbors=k, weights=weights, metric=metric, p=p)\n",
    "        knn.fit(X_train, y_train)\n",
    "\n",
    "        y_train_pred = knn.predict(X_train)\n",
    "        train_accuracies.append(accuracy_score(y_train, y_train_pred))\n",
    "\n",
    "        y_test_pred = knn.predict(X_test)\n",
    "        test_accuracies.append(accuracy_score(y_test, y_test_pred))\n",
    "\n",
    "    plt.plot(ks, train_accuracies, label='Train Accuracy')\n",
    "    plt.plot(ks, test_accuracies, label='Test Accuracy')\n",
    "    plt.xlabel('Number of Neighbors (k)')\n",
    "    plt.ylabel('Accuracy')\n",
    "    plt.title('Accuracy vs Number of Neighbors')\n",
    "    plt.legend()\n",
    "    plt.show()"
   ],
   "id": "486cdcb2f5149a85",
   "execution_count": 17,
   "outputs": []
  },
  {
   "metadata": {
    "ExecuteTime": {
     "end_time": "2024-09-11T18:00:47.363360Z",
     "start_time": "2024-09-11T18:00:47.221288Z"
    }
   },
   "cell_type": "code",
   "source": [
    "plot_accuracy_vs_k(X_test, X_train, y_test, y_train,\n",
    "                   weights=best_params['weights'],\n",
    "                   metric=best_params['metric'],\n",
    "                   p=best_params['p'])"
   ],
   "id": "a6609009713ba7b7",
   "execution_count": 18,
   "outputs": []
  },
  {
   "metadata": {},
   "cell_type": "code",
   "execution_count": null,
   "source": "",
   "id": "e45fd8fcdd349bf7",
   "outputs": []
  }
 ],
 "metadata": {
  "kernelspec": {
   "display_name": "Python 3",
   "language": "python",
   "name": "python3"
  },
  "language_info": {
   "codemirror_mode": {
    "name": "ipython",
    "version": 2
   },
   "file_extension": ".py",
   "mimetype": "text/x-python",
   "name": "python",
   "nbconvert_exporter": "python",
   "pygments_lexer": "ipython2",
   "version": "2.7.6"
  }
 },
 "nbformat": 4,
 "nbformat_minor": 5
}
