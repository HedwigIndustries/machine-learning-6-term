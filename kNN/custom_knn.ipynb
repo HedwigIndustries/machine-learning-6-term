{
 "cells": [
  {
   "metadata": {
    "ExecuteTime": {
     "end_time": "2024-09-13T07:32:14.779811Z",
     "start_time": "2024-09-13T07:32:13.304453Z"
    }
   },
   "cell_type": "code",
   "source": [
    "import typing as tp\n",
    "\n",
    "import numpy as np\n",
    "from sklearn.neighbors import NearestNeighbors"
   ],
   "id": "3f658d74c350976b",
   "execution_count": 3,
   "outputs": []
  },
  {
   "metadata": {
    "ExecuteTime": {
     "end_time": "2024-09-13T07:32:14.784390Z",
     "start_time": "2024-09-13T07:32:14.780883Z"
    }
   },
   "cell_type": "code",
   "source": [
    "def uniform_kernel(distances: np.ndarray) -> np.ndarray:\n",
    "    return np.where(distances < 1, 1, 0)\n",
    "\n",
    "\n",
    "def gaussian_kernel(distances: np.ndarray) -> np.ndarray:\n",
    "    return np.exp(-0.5 * distances ** 2)\n",
    "\n",
    "\n",
    "def epanechnikov_kernel(distances: np.ndarray) -> np.ndarray:\n",
    "    return np.where(distances < 1, 0.75 * (1 - distances ** 2), 0)\n",
    "\n",
    "\n",
    "def custom_kernel(distances: np.ndarray) -> np.ndarray:\n",
    "    return np.ones_like(distances) * 0.5\n",
    "\n",
    "\n",
    "def cosine_distance(x: np.ndarray, y: np.ndarray) -> np.ndarray:\n",
    "    dot_product = np.dot(x, y)\n",
    "    norm_x = np.linalg.norm(x)\n",
    "    norm_y = np.linalg.norm(y)\n",
    "    cosine_similarity = dot_product / (norm_x * norm_y)\n",
    "    return 1 - cosine_similarity\n",
    "\n",
    "\n",
    "def minkowski_distance(x: np.ndarray, y: np.ndarray, p: int = 2) -> np.ndarray:\n",
    "    return np.sum(np.abs(x - y) ** p) ** (1 / p)\n",
    "\n",
    "\n",
    "def custom_distance(x: np.ndarray, y: np.ndarray) -> np.ndarray:\n",
    "    return np.sum(np.abs(x - y) ** 2)\n"
   ],
   "id": "5993629610f11808",
   "execution_count": 4,
   "outputs": []
  },
  {
   "metadata": {
    "ExecuteTime": {
     "end_time": "2024-09-13T07:32:17.314483Z",
     "start_time": "2024-09-13T07:32:17.311501Z"
    }
   },
   "cell_type": "code",
   "source": [
    "MetricFunction = tp.Callable[[np.ndarray, np.ndarray], np.ndarray]\n",
    "KernelFunction = tp.Callable[[np.ndarray], np.ndarray]\n",
    "\n",
    "\n",
    "def create_minkowski_distance(p: int) -> MetricFunction:\n",
    "    def distance(x: np.ndarray, y: np.ndarray) -> np.ndarray:\n",
    "        return minkowski_distance(x, y, p)\n",
    "\n",
    "    return distance"
   ],
   "id": "1a3149e12fc989bc",
   "execution_count": 5,
   "outputs": []
  },
  {
   "metadata": {
    "ExecuteTime": {
     "end_time": "2024-09-13T07:32:17.762579Z",
     "start_time": "2024-09-13T07:32:17.751795Z"
    }
   },
   "cell_type": "code",
   "source": [
    "class CustomKnn:\n",
    "    def __init__(\n",
    "            self,\n",
    "            k: int = 3,\n",
    "            window: str = 'fixed',\n",
    "            fixed_radius: float = 1.0,\n",
    "            kernel: str = 'UNIFORM',\n",
    "            metric: str = 'MINKOWSKI',\n",
    "            p: int = 2,\n",
    "            sample_weights: tp.Optional[np.ndarray] = None,\n",
    "            lowess: bool = False\n",
    "    ) -> None:\n",
    "        self.k: int = k\n",
    "        self.window: str = window\n",
    "        self.fixed_radius: float = fixed_radius\n",
    "        self.kernel_f: KernelFunction = self._init_kernel_function(kernel)\n",
    "        self.p: int = p\n",
    "        self.metric_f: MetricFunction = self._init_metric_function(metric)\n",
    "        self.sample_weights: tp.Optional[np.ndarray] = sample_weights\n",
    "        self.X_train: tp.Optional[np.ndarray] = None\n",
    "        self.y_train: tp.Optional[np.ndarray] = None\n",
    "        self.nearest_neighbor: tp.Optional[NearestNeighbors] = None\n",
    "        self.classes_ = None\n",
    "        self.lowess: bool = lowess\n",
    "\n",
    "    @staticmethod\n",
    "    def _init_kernel_function(kernel: str) -> KernelFunction:\n",
    "        match kernel:\n",
    "            case 'UNIFORM':\n",
    "                return uniform_kernel\n",
    "            case 'GAUSSIAN':\n",
    "                return gaussian_kernel\n",
    "            case 'EPANECHNIKOV':\n",
    "                return epanechnikov_kernel\n",
    "            case 'CUSTOM':\n",
    "                return custom_kernel\n",
    "            case _:\n",
    "                raise ValueError(f'Unknown kernel function: {kernel}')\n",
    "\n",
    "    def _init_metric_function(self, metric: str) -> MetricFunction:\n",
    "        match metric:\n",
    "            case 'COSINE':\n",
    "                return cosine_distance\n",
    "            case 'MINKOWSKI':\n",
    "                return create_minkowski_distance(self.p)\n",
    "            case 'CUSTOM':\n",
    "                return custom_distance\n",
    "            case _:\n",
    "                raise ValueError(f'Unknown metric function: {metric}')\n",
    "\n",
    "    def _init_data(self, X_train: np.ndarray, y_train: np.ndarray) -> None:\n",
    "        if X_train.shape[0] != y_train.shape[0]:\n",
    "            raise ValueError('Number of training samples does not match')\n",
    "        self.X_train: np.ndarray = X_train\n",
    "        self.y_train: np.ndarray = y_train\n",
    "\n",
    "    def fit(self, X_train: np.ndarray, y_train: np.ndarray) -> None:\n",
    "        self._init_data(X_train, y_train)\n",
    "        self.nearest_neighbor: NearestNeighbors = NearestNeighbors(n_neighbors=self.k, metric=self.metric_f)\n",
    "        self.nearest_neighbor.fit(X_train)\n",
    "        self.classes_ = np.unique(y_train)\n",
    "        if self.lowess:\n",
    "            self.sample_weights = self._apply_lowess(X_train, y_train)\n",
    "\n",
    "    def predict(self, X: np.ndarray) -> np.ndarray:\n",
    "        distances, divisors, indexes = self._calc_by_window_type(X)\n",
    "        predictions = []\n",
    "        items_count = X.shape[0]\n",
    "        for item in range(items_count):\n",
    "            neighbour_distances, neighbour_indexes = self._normalize_distances(distances, divisors, indexes, item)\n",
    "            neighbor_labels = self.y_train[neighbour_indexes]\n",
    "            kernel_weights = self.kernel_f(neighbour_distances)\n",
    "            if self.sample_weights is not None:\n",
    "                prior_weights = self.sample_weights[neighbour_indexes]\n",
    "                combined_weights = kernel_weights * prior_weights\n",
    "            else:\n",
    "                combined_weights = kernel_weights\n",
    "\n",
    "            prediction = self._get_most_relevant_class(combined_weights, neighbor_labels)\n",
    "\n",
    "            predictions.append(prediction)\n",
    "        return np.array(predictions)\n",
    "\n",
    "    def _calc_by_window_type(self, X) -> tuple[np.ndarray, np.ndarray, np.ndarray]:\n",
    "        items_count = X.shape[0]\n",
    "        if self.window == \"FIXED\":\n",
    "            distances, indexes = self.nearest_neighbor.kneighbors(X=X, n_neighbors=self.k)\n",
    "            filtered_distances = np.full((items_count, self.k), np.inf)\n",
    "            filtered_indexes = np.full((items_count, self.k), -1, dtype=int)\n",
    "            for i in range(items_count):\n",
    "                neighbor_dists = distances[i]\n",
    "                in_radius_mask = neighbor_dists <= self.fixed_radius\n",
    "                current_distances = neighbor_dists[in_radius_mask]\n",
    "                current_indexes = indexes[i][in_radius_mask]\n",
    "                if len(current_distances) > self.k:\n",
    "                    sorted_indices = np.argsort(current_distances)\n",
    "                    current_distances = current_distances[sorted_indices][:self.k]\n",
    "                    current_indexes = current_indexes[sorted_indices][:self.k]\n",
    "                filtered_distances[i, :len(current_distances)] = current_distances\n",
    "                filtered_indexes[i, :len(current_indexes)] = current_indexes\n",
    "\n",
    "            distances = filtered_distances\n",
    "            indexes = filtered_indexes\n",
    "            divisors = np.full(items_count, self.fixed_radius)\n",
    "        elif self.window == \"NON_FIXED\":\n",
    "            distances, indexes = self.nearest_neighbor.kneighbors(X=X, n_neighbors=self.k + 1)\n",
    "            divisors = distances[:, -1]\n",
    "            distances = distances[:, :-1]\n",
    "            indexes = indexes[:, :-1]\n",
    "        else:\n",
    "            raise ValueError('Window must be FIXED or NON_FIXED')\n",
    "        return distances, divisors, indexes\n",
    "\n",
    "    def _apply_lowess(self, X: np.ndarray, y: np.ndarray) -> np.ndarray:\n",
    "        weights = []\n",
    "        for i in range(len(X)):\n",
    "            knn = CustomKnn(k=9, fixed_radius=1, kernel='UNIFORM', metric='COSINE', window='NON_FIXED')\n",
    "            knn.fit(np.delete(X, i, axis=0), np.delete(y, i, axis=0))\n",
    "            new_y = (knn.predict(np.array([X[i]]))[0])\n",
    "            if self.kernel_f is not None:\n",
    "                weight = self.kernel_f(np.array(0 if y[i] == new_y else 1))\n",
    "            else:\n",
    "                weight = 0 if y[i] == new_y else 1\n",
    "            weights.append(weight)\n",
    "        return np.array(weights)\n",
    "\n",
    "    def _normalize_distances(\n",
    "            self,\n",
    "            distances: np.ndarray,\n",
    "            divisors: np.ndarray,\n",
    "            indexes: np.ndarray,\n",
    "            item: int\n",
    "    ) -> tuple[np.ndarray, np.ndarray]:\n",
    "        neighbour_distances = distances[item] / divisors[item]\n",
    "        neighbour_indexes = indexes[item]\n",
    "        if len(distances[item]) > self.k:\n",
    "            neighbour_distances = neighbour_distances[:self.k]\n",
    "            neighbour_indexes = neighbour_indexes[:self.k]\n",
    "        return neighbour_distances, neighbour_indexes\n",
    "\n",
    "    def _get_most_relevant_class(self, combined_weights: np.ndarray, neighbor_labels: np.ndarray) -> int:\n",
    "        classes_votes = np.zeros(len(self.classes_), dtype=float)\n",
    "        num_neighbors = min(self.k, len(neighbor_labels))\n",
    "        for i in range(num_neighbors):\n",
    "            _class: int = int(neighbor_labels[i])\n",
    "            classes_votes[_class] += combined_weights[i]\n",
    "        prediction: int = int(np.argmax(classes_votes))\n",
    "        return prediction\n"
   ],
   "id": "f564ef6bb594c4ea",
   "execution_count": 6,
   "outputs": []
  },
  {
   "metadata": {
    "ExecuteTime": {
     "end_time": "2024-09-13T07:32:20.383914Z",
     "start_time": "2024-09-13T07:32:20.308955Z"
    }
   },
   "cell_type": "code",
   "source": [
    "from sklearn.datasets import load_iris\n",
    "from sklearn.model_selection import train_test_split\n",
    "from sklearn.preprocessing import StandardScaler"
   ],
   "id": "26c6de934d8a376d",
   "execution_count": 7,
   "outputs": []
  },
  {
   "metadata": {
    "ExecuteTime": {
     "end_time": "2024-09-13T07:32:21.264204Z",
     "start_time": "2024-09-13T07:32:21.261753Z"
    }
   },
   "cell_type": "code",
   "source": [
    "def _get_split_data() -> tp.Any:\n",
    "    data = load_iris()\n",
    "    X, y = data.data, data.target\n",
    "    scaler = StandardScaler()\n",
    "    X_normalized = scaler.fit_transform(X)\n",
    "    X_train, X_test, y_train, y_test = train_test_split(X_normalized, y, test_size=0.2, random_state=42)\n",
    "    return X_test, X_train, y_test, y_train"
   ],
   "id": "9c46327cbecc356b",
   "execution_count": 8,
   "outputs": []
  },
  {
   "metadata": {
    "ExecuteTime": {
     "end_time": "2024-09-13T07:32:21.560624Z",
     "start_time": "2024-09-13T07:32:21.557450Z"
    }
   },
   "cell_type": "code",
   "source": [
    "def pretty_print_best_params(best_params: dict, best_score: float) -> None:\n",
    "    print(f\"Best Score: {best_score:.4f}\")\n",
    "    print(\"Best Parameters:\")\n",
    "    for key, value in best_params.items():\n",
    "        print(f\"  {key}: {value}\")\n",
    "\n",
    "\n",
    "def print_accuracy(y_pred, y_test) -> None:\n",
    "    test_accuracy = custom_accuracy_score(y_test, y_pred)\n",
    "    print(f\"Test Accuracy: {test_accuracy}\")\n",
    "\n",
    "\n",
    "def custom_accuracy_score(y_true: np.ndarray, y_pred: np.ndarray, alpha: int = 1) -> float:\n",
    "    correct_predictions = np.sum(y_true == y_pred) * alpha\n",
    "    total_predictions = len(y_true)\n",
    "    accuracy = correct_predictions / total_predictions\n",
    "    return accuracy"
   ],
   "id": "8392679a1d65b96c",
   "execution_count": 9,
   "outputs": []
  },
  {
   "metadata": {
    "ExecuteTime": {
     "end_time": "2024-09-13T07:32:21.755655Z",
     "start_time": "2024-09-13T07:32:21.733876Z"
    }
   },
   "cell_type": "code",
   "source": [
    "def test_model() -> None:\n",
    "    X_test, X_train, y_test, y_train = _get_split_data()\n",
    "    knn = CustomKnn(k=119, window='FIXED', fixed_radius=0.33, metric='MINKOWSKI', p=5)\n",
    "    knn.fit(X_train, y_train)\n",
    "    y_pred = knn.predict(X_test)\n",
    "    print_accuracy(y_pred, y_test)\n",
    "\n",
    "\n",
    "test_model()"
   ],
   "id": "initial_id",
   "execution_count": 10,
   "outputs": []
  },
  {
   "metadata": {
    "ExecuteTime": {
     "end_time": "2024-09-13T07:32:21.983453Z",
     "start_time": "2024-09-13T07:32:21.903911Z"
    }
   },
   "cell_type": "code",
   "source": "import optuna",
   "id": "a88cbad01be698dc",
   "execution_count": 11,
   "outputs": []
  },
  {
   "metadata": {
    "ExecuteTime": {
     "end_time": "2024-09-13T07:32:22.091680Z",
     "start_time": "2024-09-13T07:32:22.088723Z"
    }
   },
   "cell_type": "code",
   "source": [
    "def func(trial, X_train: np.ndarray, X_val: np.ndarray, y_train: np.ndarray, y_val: np.ndarray) -> float:\n",
    "    k = trial.suggest_int('k', 3, 20)\n",
    "    p = trial.suggest_int('p', 1, 4)\n",
    "    window = trial.suggest_categorical('window', ['FIXED', 'NON_FIXED'])\n",
    "    fixed_radius = trial.suggest_float('fixed_radius', 0.5, 5.0)\n",
    "    kernel = trial.suggest_categorical('kernel', ['UNIFORM', 'GAUSSIAN', 'EPANECHNIKOV'])\n",
    "    metric = trial.suggest_categorical('metric', ['COSINE', 'MINKOWSKI'])\n",
    "    knn = CustomKnn(\n",
    "        k=k,\n",
    "        window=window,\n",
    "        fixed_radius=fixed_radius,\n",
    "        kernel=kernel,\n",
    "        metric=metric,\n",
    "        p=p\n",
    "    )\n",
    "    knn.fit(X_train, y_train)\n",
    "    y_pred = knn.predict(X_val)\n",
    "    accuracy = custom_accuracy_score(y_val, y_pred)\n",
    "    return accuracy"
   ],
   "id": "75d759dcdf077b25",
   "execution_count": 12,
   "outputs": []
  },
  {
   "metadata": {
    "ExecuteTime": {
     "end_time": "2024-09-13T07:32:22.517155Z",
     "start_time": "2024-09-13T07:32:22.514737Z"
    }
   },
   "cell_type": "code",
   "source": [
    "def get_best_hyperparameters(\n",
    "        X_train: np.ndarray, X_val: np.ndarray, y_train: np.ndarray, y_val: np.ndarray\n",
    ") -> tuple[dict, float]:\n",
    "    study = optuna.create_study(direction='maximize')\n",
    "    study.optimize(\n",
    "        lambda trial: func(trial, X_train, X_val, y_train, y_val),\n",
    "        n_trials=1000,\n",
    "        show_progress_bar=True\n",
    "    )\n",
    "    best_params = study.best_params\n",
    "    best_value = study.best_value\n",
    "    return best_params, best_value"
   ],
   "id": "fa9362b5240a9502",
   "execution_count": 13,
   "outputs": []
  },
  {
   "metadata": {
    "ExecuteTime": {
     "end_time": "2024-09-13T07:32:22.867788Z",
     "start_time": "2024-09-13T07:32:22.864601Z"
    }
   },
   "cell_type": "code",
   "source": [
    "def get_split_data():\n",
    "    data = load_iris()\n",
    "    X, y = data.data, data.target\n",
    "    scaler = StandardScaler()\n",
    "    X_normalized = scaler.fit_transform(X)\n",
    "    X_train, X_test, y_train, y_test = train_test_split(X_normalized, y, test_size=0.2, random_state=42)\n",
    "    X_train, X_val, y_train, y_val = train_test_split(X_train, y_train, test_size=0.2, random_state=42)\n",
    "    return X_test, X_train, X_val, y_test, y_train, y_val"
   ],
   "id": "79997526ee58352d",
   "execution_count": 14,
   "outputs": []
  },
  {
   "metadata": {
    "ExecuteTime": {
     "end_time": "2024-09-11T18:01:57.517497Z",
     "start_time": "2024-09-11T18:01:34.747237Z"
    }
   },
   "cell_type": "code",
   "source": [
    "X_test, X_train, X_val, y_test, y_train, y_val = get_split_data()\n",
    "best_params, best_score = get_best_hyperparameters(X_train, X_val, y_train, y_val)\n",
    "print(\"~\" * 40)\n",
    "pretty_print_best_params(best_params, best_score)"
   ],
   "id": "438b8fdbae17a9c",
   "execution_count": 46,
   "outputs": []
  },
  {
   "metadata": {
    "ExecuteTime": {
     "end_time": "2024-09-11T18:01:57.520446Z",
     "start_time": "2024-09-11T18:01:57.518751Z"
    }
   },
   "cell_type": "code",
   "source": "import matplotlib.pyplot as plt",
   "id": "618279488f50538",
   "execution_count": 47,
   "outputs": []
  },
  {
   "metadata": {
    "ExecuteTime": {
     "end_time": "2024-09-11T18:01:57.523757Z",
     "start_time": "2024-09-11T18:01:57.521067Z"
    }
   },
   "cell_type": "code",
   "source": [
    "def plot_accuracy_vs_k(X_test, X_train, y_test, y_train, kernel, window, fixed_radius, metric):\n",
    "    ks = range(1, 30)\n",
    "    train_accuracies = []\n",
    "    test_accuracies = []\n",
    "\n",
    "    for k in ks:\n",
    "        knn = CustomKnn(k=k, kernel=kernel, metric=metric, fixed_radius=fixed_radius, window=window)\n",
    "        knn.fit(X_train, y_train)\n",
    "\n",
    "        y_train_pred = knn.predict(X_train)\n",
    "        train_accuracies.append(custom_accuracy_score(y_train, y_train_pred))\n",
    "\n",
    "        y_test_pred = knn.predict(X_test)\n",
    "        test_accuracies.append(custom_accuracy_score(y_test, y_test_pred))\n",
    "\n",
    "    plt.plot(ks, train_accuracies, label='Train Accuracy')\n",
    "    plt.plot(ks, test_accuracies, label='Test Accuracy')\n",
    "    plt.xlabel('Number of Neighbors (k)')\n",
    "    plt.ylabel('Accuracy')\n",
    "    plt.title('Accuracy vs Number of Neighbors')\n",
    "    plt.legend()\n",
    "    plt.show()"
   ],
   "id": "78e7006fa2caebd5",
   "execution_count": 48,
   "outputs": []
  },
  {
   "metadata": {
    "ExecuteTime": {
     "end_time": "2024-09-11T18:01:57.918668Z",
     "start_time": "2024-09-11T18:01:57.524947Z"
    }
   },
   "cell_type": "code",
   "source": [
    "plot_accuracy_vs_k(X_train, X_test, y_train, y_test,\n",
    "                   kernel=best_params['kernel'],\n",
    "                   window=best_params['window'],\n",
    "                   fixed_radius=best_params['fixed_radius'],\n",
    "                   metric=best_params['metric'])"
   ],
   "id": "bb10ebe671e9b2e6",
   "execution_count": 49,
   "outputs": []
  },
  {
   "metadata": {
    "ExecuteTime": {
     "end_time": "2024-09-13T07:34:40.371506Z",
     "start_time": "2024-09-13T07:34:40.226074Z"
    }
   },
   "cell_type": "code",
   "source": [
    "X_test, X_train, y_test, y_train = _get_split_data()\n",
    "knn = CustomKnn(k=119, window='FIXED', fixed_radius=0.33, metric='MINKOWSKI', p=5, lowess=True)\n",
    "knn.fit(X_train, y_train)\n",
    "knn.sample_weights"
   ],
   "id": "45f4e74b8692a7aa",
   "execution_count": 22,
   "outputs": []
  },
  {
   "metadata": {
    "ExecuteTime": {
     "end_time": "2024-09-13T07:34:41.043696Z",
     "start_time": "2024-09-13T07:34:41.029089Z"
    }
   },
   "cell_type": "code",
   "source": [
    "y_pred = knn.predict(X_test)\n",
    "print_accuracy(y_pred, y_test)"
   ],
   "id": "f179583392cdc9d2",
   "execution_count": 23,
   "outputs": []
  },
  {
   "metadata": {},
   "cell_type": "code",
   "execution_count": null,
   "source": "",
   "id": "8fbe8440d7e4f0e9",
   "outputs": []
  }
 ],
 "metadata": {
  "kernelspec": {
   "display_name": "Python 3",
   "language": "python",
   "name": "python3"
  },
  "language_info": {
   "codemirror_mode": {
    "name": "ipython",
    "version": 2
   },
   "file_extension": ".py",
   "mimetype": "text/x-python",
   "name": "python",
   "nbconvert_exporter": "python",
   "pygments_lexer": "ipython2",
   "version": "2.7.6"
  }
 },
 "nbformat": 4,
 "nbformat_minor": 5
}
