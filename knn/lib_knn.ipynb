{
 "cells": [
  {
   "cell_type": "code",
   "id": "initial_id",
   "metadata": {
    "collapsed": true,
    "ExecuteTime": {
     "end_time": "2024-09-11T18:00:44.770170Z",
     "start_time": "2024-09-11T18:00:44.766148Z"
    }
   },
   "source": [
    "import matplotlib.pyplot as plt\n",
    "import numpy as np\n",
    "import optuna\n",
    "import pandas as pd\n",
    "from sklearn.datasets import load_iris\n",
    "from sklearn.metrics import accuracy_score\n",
    "from sklearn.model_selection import train_test_split\n",
    "from sklearn.neighbors import KNeighborsClassifier\n",
    "from sklearn.preprocessing import StandardScaler\n"
   ],
   "outputs": [],
   "execution_count": 10
  },
  {
   "metadata": {
    "ExecuteTime": {
     "end_time": "2024-09-11T18:00:44.933387Z",
     "start_time": "2024-09-11T18:00:44.926479Z"
    }
   },
   "cell_type": "code",
   "source": [
    "iris = load_iris()\n",
    "df = pd.DataFrame(data=iris.data, columns=iris.feature_names)\n",
    "df['target'] = iris.target\n",
    "df"
   ],
   "id": "ad9032442dd7092b",
   "outputs": [
    {
     "data": {
      "text/plain": [
       "     sepal length (cm)  sepal width (cm)  petal length (cm)  petal width (cm)  \\\n",
       "0                  5.1               3.5                1.4               0.2   \n",
       "1                  4.9               3.0                1.4               0.2   \n",
       "2                  4.7               3.2                1.3               0.2   \n",
       "3                  4.6               3.1                1.5               0.2   \n",
       "4                  5.0               3.6                1.4               0.2   \n",
       "..                 ...               ...                ...               ...   \n",
       "145                6.7               3.0                5.2               2.3   \n",
       "146                6.3               2.5                5.0               1.9   \n",
       "147                6.5               3.0                5.2               2.0   \n",
       "148                6.2               3.4                5.4               2.3   \n",
       "149                5.9               3.0                5.1               1.8   \n",
       "\n",
       "     target  \n",
       "0         0  \n",
       "1         0  \n",
       "2         0  \n",
       "3         0  \n",
       "4         0  \n",
       "..      ...  \n",
       "145       2  \n",
       "146       2  \n",
       "147       2  \n",
       "148       2  \n",
       "149       2  \n",
       "\n",
       "[150 rows x 5 columns]"
      ],
      "text/html": [
       "<div>\n",
       "<style scoped>\n",
       "    .dataframe tbody tr th:only-of-type {\n",
       "        vertical-align: middle;\n",
       "    }\n",
       "\n",
       "    .dataframe tbody tr th {\n",
       "        vertical-align: top;\n",
       "    }\n",
       "\n",
       "    .dataframe thead th {\n",
       "        text-align: right;\n",
       "    }\n",
       "</style>\n",
       "<table border=\"1\" class=\"dataframe\">\n",
       "  <thead>\n",
       "    <tr style=\"text-align: right;\">\n",
       "      <th></th>\n",
       "      <th>sepal length (cm)</th>\n",
       "      <th>sepal width (cm)</th>\n",
       "      <th>petal length (cm)</th>\n",
       "      <th>petal width (cm)</th>\n",
       "      <th>target</th>\n",
       "    </tr>\n",
       "  </thead>\n",
       "  <tbody>\n",
       "    <tr>\n",
       "      <th>0</th>\n",
       "      <td>5.1</td>\n",
       "      <td>3.5</td>\n",
       "      <td>1.4</td>\n",
       "      <td>0.2</td>\n",
       "      <td>0</td>\n",
       "    </tr>\n",
       "    <tr>\n",
       "      <th>1</th>\n",
       "      <td>4.9</td>\n",
       "      <td>3.0</td>\n",
       "      <td>1.4</td>\n",
       "      <td>0.2</td>\n",
       "      <td>0</td>\n",
       "    </tr>\n",
       "    <tr>\n",
       "      <th>2</th>\n",
       "      <td>4.7</td>\n",
       "      <td>3.2</td>\n",
       "      <td>1.3</td>\n",
       "      <td>0.2</td>\n",
       "      <td>0</td>\n",
       "    </tr>\n",
       "    <tr>\n",
       "      <th>3</th>\n",
       "      <td>4.6</td>\n",
       "      <td>3.1</td>\n",
       "      <td>1.5</td>\n",
       "      <td>0.2</td>\n",
       "      <td>0</td>\n",
       "    </tr>\n",
       "    <tr>\n",
       "      <th>4</th>\n",
       "      <td>5.0</td>\n",
       "      <td>3.6</td>\n",
       "      <td>1.4</td>\n",
       "      <td>0.2</td>\n",
       "      <td>0</td>\n",
       "    </tr>\n",
       "    <tr>\n",
       "      <th>...</th>\n",
       "      <td>...</td>\n",
       "      <td>...</td>\n",
       "      <td>...</td>\n",
       "      <td>...</td>\n",
       "      <td>...</td>\n",
       "    </tr>\n",
       "    <tr>\n",
       "      <th>145</th>\n",
       "      <td>6.7</td>\n",
       "      <td>3.0</td>\n",
       "      <td>5.2</td>\n",
       "      <td>2.3</td>\n",
       "      <td>2</td>\n",
       "    </tr>\n",
       "    <tr>\n",
       "      <th>146</th>\n",
       "      <td>6.3</td>\n",
       "      <td>2.5</td>\n",
       "      <td>5.0</td>\n",
       "      <td>1.9</td>\n",
       "      <td>2</td>\n",
       "    </tr>\n",
       "    <tr>\n",
       "      <th>147</th>\n",
       "      <td>6.5</td>\n",
       "      <td>3.0</td>\n",
       "      <td>5.2</td>\n",
       "      <td>2.0</td>\n",
       "      <td>2</td>\n",
       "    </tr>\n",
       "    <tr>\n",
       "      <th>148</th>\n",
       "      <td>6.2</td>\n",
       "      <td>3.4</td>\n",
       "      <td>5.4</td>\n",
       "      <td>2.3</td>\n",
       "      <td>2</td>\n",
       "    </tr>\n",
       "    <tr>\n",
       "      <th>149</th>\n",
       "      <td>5.9</td>\n",
       "      <td>3.0</td>\n",
       "      <td>5.1</td>\n",
       "      <td>1.8</td>\n",
       "      <td>2</td>\n",
       "    </tr>\n",
       "  </tbody>\n",
       "</table>\n",
       "<p>150 rows × 5 columns</p>\n",
       "</div>"
      ]
     },
     "execution_count": 11,
     "metadata": {},
     "output_type": "execute_result"
    }
   ],
   "execution_count": 11
  },
  {
   "metadata": {
    "ExecuteTime": {
     "end_time": "2024-09-11T18:00:45.083184Z",
     "start_time": "2024-09-11T18:00:45.080961Z"
    }
   },
   "cell_type": "code",
   "source": [
    "def pretty_print_best_params(best_params: dict, best_score: float) -> None:\n",
    "    print(f\"Best Score: {best_score:.4f}\")\n",
    "    print(\"Best Parameters:\")\n",
    "    for key, value in best_params.items():\n",
    "        print(f\"  {key}: {value}\")\n",
    "\n",
    "\n",
    "def print_accuracy(y_pred, y_test) -> None:\n",
    "    test_accuracy = accuracy_score(y_test, y_pred)\n",
    "    print(f\"Test Accuracy: {test_accuracy}\")"
   ],
   "id": "862534f2c8d7a430",
   "outputs": [],
   "execution_count": 12
  },
  {
   "metadata": {
    "ExecuteTime": {
     "end_time": "2024-09-11T18:00:45.280202Z",
     "start_time": "2024-09-11T18:00:45.277272Z"
    }
   },
   "cell_type": "code",
   "source": [
    "def func(trial, X_train: np.ndarray, X_val: np.ndarray, y_train: np.ndarray, y_val: np.ndarray) -> float:\n",
    "    n_neighbors = trial.suggest_int('n_neighbors', 1, 30)\n",
    "    p = trial.suggest_int('p', 1, 4)\n",
    "    weights = trial.suggest_categorical('weights', ['uniform', 'distance'])\n",
    "    metric = trial.suggest_categorical('metric', ['euclidean', 'manhattan', 'cosine'])\n",
    "    knn = KNeighborsClassifier(\n",
    "        n_neighbors=n_neighbors,\n",
    "        weights=weights,\n",
    "        metric=metric, p=p\n",
    "    )\n",
    "    knn.fit(X_train, y_train)\n",
    "    y_pred = knn.predict(X_val)\n",
    "    accuracy = accuracy_score(y_val, y_pred)\n",
    "    return accuracy"
   ],
   "id": "aef45f69a4cfea3f",
   "outputs": [],
   "execution_count": 13
  },
  {
   "metadata": {
    "ExecuteTime": {
     "end_time": "2024-09-11T18:00:45.571400Z",
     "start_time": "2024-09-11T18:00:45.567864Z"
    }
   },
   "cell_type": "code",
   "source": [
    "def get_best_hyperparameters(\n",
    "        X_train: np.ndarray, X_val: np.ndarray, y_train: np.ndarray, y_val: np.ndarray\n",
    ") -> tuple[dict, float]:\n",
    "    study = optuna.create_study(direction='maximize')\n",
    "    study.optimize(\n",
    "        func=lambda trial: func(trial, X_train, X_val, y_train, y_val),\n",
    "        n_trials=100,\n",
    "        show_progress_bar=True\n",
    "    )\n",
    "    best_params = study.best_params\n",
    "    best_value = study.best_value\n",
    "    return best_params, best_value\n"
   ],
   "id": "e38355e9f738d342",
   "outputs": [],
   "execution_count": 14
  },
  {
   "metadata": {
    "ExecuteTime": {
     "end_time": "2024-09-11T18:00:45.843269Z",
     "start_time": "2024-09-11T18:00:45.840014Z"
    }
   },
   "cell_type": "code",
   "source": [
    "def get_split_data():\n",
    "    data = load_iris()\n",
    "    X, y = data.data, data.target\n",
    "    scaler = StandardScaler()\n",
    "    X_normalized = scaler.fit_transform(X)\n",
    "    X_train, X_test, y_train, y_test = train_test_split(X_normalized, y, test_size=0.2, random_state=42)\n",
    "    X_train, X_val, y_train, y_val = train_test_split(X_train, y_train, test_size=0.2, random_state=42)\n",
    "    return X_test, X_train, X_val, y_test, y_train, y_val"
   ],
   "id": "8a126b1091395e1a",
   "outputs": [],
   "execution_count": 15
  },
  {
   "metadata": {
    "ExecuteTime": {
     "end_time": "2024-09-11T18:00:46.769055Z",
     "start_time": "2024-09-11T18:00:46.080669Z"
    }
   },
   "cell_type": "code",
   "source": [
    "X_test, X_train, X_val, y_test, y_train, y_val = get_split_data()\n",
    "best_params, best_score = get_best_hyperparameters(X_train, X_val, y_train, y_val)\n",
    "print(\"~\" * 40)\n",
    "pretty_print_best_params(best_params, best_score)"
   ],
   "id": "847d00614454f5b5",
   "outputs": [
    {
     "name": "stderr",
     "output_type": "stream",
     "text": [
      "[I 2024-09-11 21:00:46,084] A new study created in memory with name: no-name-636a5076-5780-4715-9d7b-9399d5b74236\n"
     ]
    },
    {
     "data": {
      "text/plain": [
       "  0%|          | 0/100 [00:00<?, ?it/s]"
      ],
      "application/vnd.jupyter.widget-view+json": {
       "version_major": 2,
       "version_minor": 0,
       "model_id": "d171d8dc569646b3a932bd6c9ee99479"
      }
     },
     "metadata": {},
     "output_type": "display_data"
    },
    {
     "name": "stdout",
     "output_type": "stream",
     "text": [
      "[I 2024-09-11 21:00:46,091] Trial 0 finished with value: 0.7083333333333334 and parameters: {'n_neighbors': 5, 'p': 2, 'weights': 'distance', 'metric': 'cosine'}. Best is trial 0 with value: 0.7083333333333334.\n",
      "[I 2024-09-11 21:00:46,094] Trial 1 finished with value: 0.9166666666666666 and parameters: {'n_neighbors': 5, 'p': 2, 'weights': 'distance', 'metric': 'euclidean'}. Best is trial 1 with value: 0.9166666666666666.\n",
      "[I 2024-09-11 21:00:46,097] Trial 2 finished with value: 0.9166666666666666 and parameters: {'n_neighbors': 10, 'p': 1, 'weights': 'uniform', 'metric': 'manhattan'}. Best is trial 1 with value: 0.9166666666666666.\n",
      "[I 2024-09-11 21:00:46,099] Trial 3 finished with value: 0.9166666666666666 and parameters: {'n_neighbors': 12, 'p': 2, 'weights': 'distance', 'metric': 'euclidean'}. Best is trial 1 with value: 0.9166666666666666.\n",
      "[I 2024-09-11 21:00:46,103] Trial 4 finished with value: 0.9166666666666666 and parameters: {'n_neighbors': 13, 'p': 4, 'weights': 'uniform', 'metric': 'manhattan'}. Best is trial 1 with value: 0.9166666666666666.\n",
      "[I 2024-09-11 21:00:46,105] Trial 5 finished with value: 0.9166666666666666 and parameters: {'n_neighbors': 7, 'p': 3, 'weights': 'distance', 'metric': 'euclidean'}. Best is trial 1 with value: 0.9166666666666666.\n",
      "[I 2024-09-11 21:00:46,108] Trial 6 finished with value: 0.875 and parameters: {'n_neighbors': 18, 'p': 1, 'weights': 'uniform', 'metric': 'cosine'}. Best is trial 1 with value: 0.9166666666666666.\n",
      "[I 2024-09-11 21:00:46,111] Trial 7 finished with value: 0.875 and parameters: {'n_neighbors': 15, 'p': 4, 'weights': 'distance', 'metric': 'cosine'}. Best is trial 1 with value: 0.9166666666666666.\n",
      "[I 2024-09-11 21:00:46,113] Trial 8 finished with value: 0.9166666666666666 and parameters: {'n_neighbors': 9, 'p': 2, 'weights': 'distance', 'metric': 'manhattan'}. Best is trial 1 with value: 0.9166666666666666.\n",
      "[I 2024-09-11 21:00:46,115] Trial 9 finished with value: 0.875 and parameters: {'n_neighbors': 3, 'p': 1, 'weights': 'distance', 'metric': 'euclidean'}. Best is trial 1 with value: 0.9166666666666666.\n",
      "[I 2024-09-11 21:00:46,123] Trial 10 finished with value: 0.9166666666666666 and parameters: {'n_neighbors': 29, 'p': 3, 'weights': 'uniform', 'metric': 'euclidean'}. Best is trial 1 with value: 0.9166666666666666.\n",
      "[I 2024-09-11 21:00:46,129] Trial 11 finished with value: 0.9166666666666666 and parameters: {'n_neighbors': 1, 'p': 1, 'weights': 'uniform', 'metric': 'manhattan'}. Best is trial 1 with value: 0.9166666666666666.\n",
      "[I 2024-09-11 21:00:46,136] Trial 12 finished with value: 0.9583333333333334 and parameters: {'n_neighbors': 21, 'p': 1, 'weights': 'uniform', 'metric': 'manhattan'}. Best is trial 12 with value: 0.9583333333333334.\n",
      "[I 2024-09-11 21:00:46,143] Trial 13 finished with value: 1.0 and parameters: {'n_neighbors': 21, 'p': 2, 'weights': 'uniform', 'metric': 'euclidean'}. Best is trial 13 with value: 1.0.\n",
      "[I 2024-09-11 21:00:46,149] Trial 14 finished with value: 0.9583333333333334 and parameters: {'n_neighbors': 22, 'p': 3, 'weights': 'uniform', 'metric': 'manhattan'}. Best is trial 13 with value: 1.0.\n",
      "[I 2024-09-11 21:00:46,155] Trial 15 finished with value: 0.9583333333333334 and parameters: {'n_neighbors': 24, 'p': 1, 'weights': 'uniform', 'metric': 'euclidean'}. Best is trial 13 with value: 1.0.\n",
      "[I 2024-09-11 21:00:46,161] Trial 16 finished with value: 0.9583333333333334 and parameters: {'n_neighbors': 20, 'p': 2, 'weights': 'uniform', 'metric': 'manhattan'}. Best is trial 13 with value: 1.0.\n",
      "[I 2024-09-11 21:00:46,167] Trial 17 finished with value: 0.9166666666666666 and parameters: {'n_neighbors': 26, 'p': 1, 'weights': 'uniform', 'metric': 'euclidean'}. Best is trial 13 with value: 1.0.\n",
      "[I 2024-09-11 21:00:46,174] Trial 18 finished with value: 0.9583333333333334 and parameters: {'n_neighbors': 18, 'p': 2, 'weights': 'uniform', 'metric': 'manhattan'}. Best is trial 13 with value: 1.0.\n",
      "[I 2024-09-11 21:00:46,180] Trial 19 finished with value: 0.7916666666666666 and parameters: {'n_neighbors': 28, 'p': 3, 'weights': 'uniform', 'metric': 'cosine'}. Best is trial 13 with value: 1.0.\n",
      "[I 2024-09-11 21:00:46,187] Trial 20 finished with value: 1.0 and parameters: {'n_neighbors': 22, 'p': 1, 'weights': 'uniform', 'metric': 'euclidean'}. Best is trial 13 with value: 1.0.\n",
      "[I 2024-09-11 21:00:46,194] Trial 21 finished with value: 1.0 and parameters: {'n_neighbors': 22, 'p': 1, 'weights': 'uniform', 'metric': 'euclidean'}. Best is trial 13 with value: 1.0.\n",
      "[I 2024-09-11 21:00:46,200] Trial 22 finished with value: 0.9583333333333334 and parameters: {'n_neighbors': 24, 'p': 1, 'weights': 'uniform', 'metric': 'euclidean'}. Best is trial 13 with value: 1.0.\n",
      "[I 2024-09-11 21:00:46,206] Trial 23 finished with value: 0.9583333333333334 and parameters: {'n_neighbors': 17, 'p': 2, 'weights': 'uniform', 'metric': 'euclidean'}. Best is trial 13 with value: 1.0.\n",
      "[I 2024-09-11 21:00:46,212] Trial 24 finished with value: 0.9583333333333334 and parameters: {'n_neighbors': 24, 'p': 1, 'weights': 'uniform', 'metric': 'euclidean'}. Best is trial 13 with value: 1.0.\n",
      "[I 2024-09-11 21:00:46,219] Trial 25 finished with value: 1.0 and parameters: {'n_neighbors': 20, 'p': 2, 'weights': 'uniform', 'metric': 'euclidean'}. Best is trial 13 with value: 1.0.\n",
      "[I 2024-09-11 21:00:46,225] Trial 26 finished with value: 0.9166666666666666 and parameters: {'n_neighbors': 27, 'p': 1, 'weights': 'uniform', 'metric': 'euclidean'}. Best is trial 13 with value: 1.0.\n",
      "[I 2024-09-11 21:00:46,231] Trial 27 finished with value: 0.9166666666666666 and parameters: {'n_neighbors': 30, 'p': 1, 'weights': 'uniform', 'metric': 'euclidean'}. Best is trial 13 with value: 1.0.\n",
      "[I 2024-09-11 21:00:46,237] Trial 28 finished with value: 1.0 and parameters: {'n_neighbors': 23, 'p': 2, 'weights': 'uniform', 'metric': 'euclidean'}. Best is trial 13 with value: 1.0.\n",
      "[I 2024-09-11 21:00:46,244] Trial 29 finished with value: 0.9166666666666666 and parameters: {'n_neighbors': 16, 'p': 3, 'weights': 'uniform', 'metric': 'cosine'}. Best is trial 13 with value: 1.0.\n",
      "[I 2024-09-11 21:00:46,250] Trial 30 finished with value: 0.9166666666666666 and parameters: {'n_neighbors': 26, 'p': 2, 'weights': 'uniform', 'metric': 'euclidean'}. Best is trial 13 with value: 1.0.\n",
      "[I 2024-09-11 21:00:46,257] Trial 31 finished with value: 1.0 and parameters: {'n_neighbors': 20, 'p': 2, 'weights': 'uniform', 'metric': 'euclidean'}. Best is trial 13 with value: 1.0.\n",
      "[I 2024-09-11 21:00:46,263] Trial 32 finished with value: 0.9583333333333334 and parameters: {'n_neighbors': 19, 'p': 2, 'weights': 'uniform', 'metric': 'euclidean'}. Best is trial 13 with value: 1.0.\n",
      "[I 2024-09-11 21:00:46,270] Trial 33 finished with value: 1.0 and parameters: {'n_neighbors': 22, 'p': 2, 'weights': 'uniform', 'metric': 'euclidean'}. Best is trial 13 with value: 1.0.\n",
      "[I 2024-09-11 21:00:46,276] Trial 34 finished with value: 0.9166666666666666 and parameters: {'n_neighbors': 15, 'p': 1, 'weights': 'distance', 'metric': 'euclidean'}. Best is trial 13 with value: 1.0.\n",
      "[I 2024-09-11 21:00:46,282] Trial 35 finished with value: 0.9583333333333334 and parameters: {'n_neighbors': 25, 'p': 2, 'weights': 'uniform', 'metric': 'euclidean'}. Best is trial 13 with value: 1.0.\n",
      "[I 2024-09-11 21:00:46,288] Trial 36 finished with value: 1.0 and parameters: {'n_neighbors': 21, 'p': 1, 'weights': 'uniform', 'metric': 'euclidean'}. Best is trial 13 with value: 1.0.\n",
      "[I 2024-09-11 21:00:46,294] Trial 37 finished with value: 0.9166666666666666 and parameters: {'n_neighbors': 12, 'p': 3, 'weights': 'distance', 'metric': 'euclidean'}. Best is trial 13 with value: 1.0.\n",
      "[I 2024-09-11 21:00:46,303] Trial 38 finished with value: 0.875 and parameters: {'n_neighbors': 19, 'p': 2, 'weights': 'uniform', 'metric': 'cosine'}. Best is trial 13 with value: 1.0.\n",
      "[I 2024-09-11 21:00:46,309] Trial 39 finished with value: 0.9166666666666666 and parameters: {'n_neighbors': 14, 'p': 4, 'weights': 'uniform', 'metric': 'euclidean'}. Best is trial 13 with value: 1.0.\n",
      "[I 2024-09-11 21:00:46,316] Trial 40 finished with value: 0.9166666666666666 and parameters: {'n_neighbors': 17, 'p': 1, 'weights': 'distance', 'metric': 'euclidean'}. Best is trial 13 with value: 1.0.\n",
      "[I 2024-09-11 21:00:46,325] Trial 41 finished with value: 1.0 and parameters: {'n_neighbors': 23, 'p': 2, 'weights': 'uniform', 'metric': 'euclidean'}. Best is trial 13 with value: 1.0.\n",
      "[I 2024-09-11 21:00:46,333] Trial 42 finished with value: 1.0 and parameters: {'n_neighbors': 22, 'p': 2, 'weights': 'uniform', 'metric': 'euclidean'}. Best is trial 13 with value: 1.0.\n",
      "[I 2024-09-11 21:00:46,339] Trial 43 finished with value: 1.0 and parameters: {'n_neighbors': 23, 'p': 2, 'weights': 'uniform', 'metric': 'euclidean'}. Best is trial 13 with value: 1.0.\n",
      "[I 2024-09-11 21:00:46,346] Trial 44 finished with value: 1.0 and parameters: {'n_neighbors': 20, 'p': 2, 'weights': 'uniform', 'metric': 'euclidean'}. Best is trial 13 with value: 1.0.\n",
      "[I 2024-09-11 21:00:46,353] Trial 45 finished with value: 0.9166666666666666 and parameters: {'n_neighbors': 26, 'p': 3, 'weights': 'uniform', 'metric': 'euclidean'}. Best is trial 13 with value: 1.0.\n",
      "[I 2024-09-11 21:00:46,360] Trial 46 finished with value: 0.875 and parameters: {'n_neighbors': 18, 'p': 1, 'weights': 'distance', 'metric': 'cosine'}. Best is trial 13 with value: 1.0.\n",
      "[I 2024-09-11 21:00:46,368] Trial 47 finished with value: 1.0 and parameters: {'n_neighbors': 21, 'p': 2, 'weights': 'uniform', 'metric': 'euclidean'}. Best is trial 13 with value: 1.0.\n",
      "[I 2024-09-11 21:00:46,375] Trial 48 finished with value: 1.0 and parameters: {'n_neighbors': 23, 'p': 1, 'weights': 'uniform', 'metric': 'euclidean'}. Best is trial 13 with value: 1.0.\n",
      "[I 2024-09-11 21:00:46,382] Trial 49 finished with value: 0.9583333333333334 and parameters: {'n_neighbors': 19, 'p': 4, 'weights': 'uniform', 'metric': 'euclidean'}. Best is trial 13 with value: 1.0.\n",
      "[I 2024-09-11 21:00:46,388] Trial 50 finished with value: 0.9166666666666666 and parameters: {'n_neighbors': 10, 'p': 2, 'weights': 'uniform', 'metric': 'manhattan'}. Best is trial 13 with value: 1.0.\n",
      "[I 2024-09-11 21:00:46,395] Trial 51 finished with value: 1.0 and parameters: {'n_neighbors': 20, 'p': 2, 'weights': 'uniform', 'metric': 'euclidean'}. Best is trial 13 with value: 1.0.\n",
      "[I 2024-09-11 21:00:46,401] Trial 52 finished with value: 1.0 and parameters: {'n_neighbors': 21, 'p': 2, 'weights': 'uniform', 'metric': 'euclidean'}. Best is trial 13 with value: 1.0.\n",
      "[I 2024-09-11 21:00:46,409] Trial 53 finished with value: 1.0 and parameters: {'n_neighbors': 22, 'p': 2, 'weights': 'uniform', 'metric': 'euclidean'}. Best is trial 13 with value: 1.0.\n",
      "[I 2024-09-11 21:00:46,416] Trial 54 finished with value: 0.9583333333333334 and parameters: {'n_neighbors': 25, 'p': 3, 'weights': 'uniform', 'metric': 'euclidean'}. Best is trial 13 with value: 1.0.\n",
      "[I 2024-09-11 21:00:46,423] Trial 55 finished with value: 0.9583333333333334 and parameters: {'n_neighbors': 17, 'p': 2, 'weights': 'uniform', 'metric': 'euclidean'}. Best is trial 13 with value: 1.0.\n",
      "[I 2024-09-11 21:00:46,431] Trial 56 finished with value: 0.8333333333333334 and parameters: {'n_neighbors': 24, 'p': 1, 'weights': 'uniform', 'metric': 'cosine'}. Best is trial 13 with value: 1.0.\n",
      "[I 2024-09-11 21:00:46,439] Trial 57 finished with value: 0.9583333333333334 and parameters: {'n_neighbors': 28, 'p': 2, 'weights': 'distance', 'metric': 'euclidean'}. Best is trial 13 with value: 1.0.\n",
      "[I 2024-09-11 21:00:46,447] Trial 58 finished with value: 0.9166666666666666 and parameters: {'n_neighbors': 5, 'p': 1, 'weights': 'uniform', 'metric': 'manhattan'}. Best is trial 13 with value: 1.0.\n",
      "[I 2024-09-11 21:00:46,454] Trial 59 finished with value: 1.0 and parameters: {'n_neighbors': 20, 'p': 3, 'weights': 'uniform', 'metric': 'euclidean'}. Best is trial 13 with value: 1.0.\n",
      "[I 2024-09-11 21:00:46,463] Trial 60 finished with value: 0.9583333333333334 and parameters: {'n_neighbors': 25, 'p': 1, 'weights': 'uniform', 'metric': 'euclidean'}. Best is trial 13 with value: 1.0.\n",
      "[I 2024-09-11 21:00:46,470] Trial 61 finished with value: 1.0 and parameters: {'n_neighbors': 22, 'p': 2, 'weights': 'uniform', 'metric': 'euclidean'}. Best is trial 13 with value: 1.0.\n",
      "[I 2024-09-11 21:00:46,479] Trial 62 finished with value: 1.0 and parameters: {'n_neighbors': 23, 'p': 2, 'weights': 'uniform', 'metric': 'euclidean'}. Best is trial 13 with value: 1.0.\n",
      "[I 2024-09-11 21:00:46,487] Trial 63 finished with value: 1.0 and parameters: {'n_neighbors': 22, 'p': 2, 'weights': 'uniform', 'metric': 'euclidean'}. Best is trial 13 with value: 1.0.\n",
      "[I 2024-09-11 21:00:46,495] Trial 64 finished with value: 0.9583333333333334 and parameters: {'n_neighbors': 19, 'p': 2, 'weights': 'uniform', 'metric': 'euclidean'}. Best is trial 13 with value: 1.0.\n",
      "[I 2024-09-11 21:00:46,504] Trial 65 finished with value: 0.9583333333333334 and parameters: {'n_neighbors': 16, 'p': 2, 'weights': 'uniform', 'metric': 'euclidean'}. Best is trial 13 with value: 1.0.\n",
      "[I 2024-09-11 21:00:46,513] Trial 66 finished with value: 1.0 and parameters: {'n_neighbors': 21, 'p': 2, 'weights': 'uniform', 'metric': 'euclidean'}. Best is trial 13 with value: 1.0.\n",
      "[I 2024-09-11 21:00:46,521] Trial 67 finished with value: 0.9583333333333334 and parameters: {'n_neighbors': 18, 'p': 1, 'weights': 'uniform', 'metric': 'euclidean'}. Best is trial 13 with value: 1.0.\n",
      "[I 2024-09-11 21:00:46,528] Trial 68 finished with value: 0.9583333333333334 and parameters: {'n_neighbors': 24, 'p': 3, 'weights': 'distance', 'metric': 'manhattan'}. Best is trial 13 with value: 1.0.\n",
      "[I 2024-09-11 21:00:46,537] Trial 69 finished with value: 0.875 and parameters: {'n_neighbors': 20, 'p': 1, 'weights': 'uniform', 'metric': 'cosine'}. Best is trial 13 with value: 1.0.\n",
      "[I 2024-09-11 21:00:46,546] Trial 70 finished with value: 0.9583333333333334 and parameters: {'n_neighbors': 25, 'p': 2, 'weights': 'uniform', 'metric': 'euclidean'}. Best is trial 13 with value: 1.0.\n",
      "[I 2024-09-11 21:00:46,553] Trial 71 finished with value: 1.0 and parameters: {'n_neighbors': 21, 'p': 1, 'weights': 'uniform', 'metric': 'euclidean'}. Best is trial 13 with value: 1.0.\n",
      "[I 2024-09-11 21:00:46,560] Trial 72 finished with value: 1.0 and parameters: {'n_neighbors': 22, 'p': 1, 'weights': 'uniform', 'metric': 'euclidean'}. Best is trial 13 with value: 1.0.\n",
      "[I 2024-09-11 21:00:46,568] Trial 73 finished with value: 0.9583333333333334 and parameters: {'n_neighbors': 19, 'p': 1, 'weights': 'uniform', 'metric': 'euclidean'}. Best is trial 13 with value: 1.0.\n",
      "[I 2024-09-11 21:00:46,575] Trial 74 finished with value: 1.0 and parameters: {'n_neighbors': 23, 'p': 1, 'weights': 'uniform', 'metric': 'euclidean'}. Best is trial 13 with value: 1.0.\n",
      "[I 2024-09-11 21:00:46,583] Trial 75 finished with value: 0.9166666666666666 and parameters: {'n_neighbors': 27, 'p': 1, 'weights': 'uniform', 'metric': 'euclidean'}. Best is trial 13 with value: 1.0.\n",
      "[I 2024-09-11 21:00:46,591] Trial 76 finished with value: 1.0 and parameters: {'n_neighbors': 21, 'p': 2, 'weights': 'uniform', 'metric': 'euclidean'}. Best is trial 13 with value: 1.0.\n",
      "[I 2024-09-11 21:00:46,598] Trial 77 finished with value: 0.9583333333333334 and parameters: {'n_neighbors': 24, 'p': 1, 'weights': 'uniform', 'metric': 'euclidean'}. Best is trial 13 with value: 1.0.\n",
      "[I 2024-09-11 21:00:46,606] Trial 78 finished with value: 0.9583333333333334 and parameters: {'n_neighbors': 18, 'p': 2, 'weights': 'uniform', 'metric': 'euclidean'}. Best is trial 13 with value: 1.0.\n",
      "[I 2024-09-11 21:00:46,613] Trial 79 finished with value: 0.9583333333333334 and parameters: {'n_neighbors': 20, 'p': 2, 'weights': 'distance', 'metric': 'euclidean'}. Best is trial 13 with value: 1.0.\n",
      "[I 2024-09-11 21:00:46,621] Trial 80 finished with value: 0.8333333333333334 and parameters: {'n_neighbors': 17, 'p': 1, 'weights': 'uniform', 'metric': 'cosine'}. Best is trial 13 with value: 1.0.\n",
      "[I 2024-09-11 21:00:46,628] Trial 81 finished with value: 1.0 and parameters: {'n_neighbors': 23, 'p': 2, 'weights': 'uniform', 'metric': 'euclidean'}. Best is trial 13 with value: 1.0.\n",
      "[I 2024-09-11 21:00:46,635] Trial 82 finished with value: 1.0 and parameters: {'n_neighbors': 22, 'p': 2, 'weights': 'uniform', 'metric': 'euclidean'}. Best is trial 13 with value: 1.0.\n",
      "[I 2024-09-11 21:00:46,642] Trial 83 finished with value: 1.0 and parameters: {'n_neighbors': 23, 'p': 2, 'weights': 'uniform', 'metric': 'euclidean'}. Best is trial 13 with value: 1.0.\n",
      "[I 2024-09-11 21:00:46,650] Trial 84 finished with value: 1.0 and parameters: {'n_neighbors': 21, 'p': 2, 'weights': 'uniform', 'metric': 'euclidean'}. Best is trial 13 with value: 1.0.\n",
      "[I 2024-09-11 21:00:46,657] Trial 85 finished with value: 0.9583333333333334 and parameters: {'n_neighbors': 19, 'p': 2, 'weights': 'uniform', 'metric': 'euclidean'}. Best is trial 13 with value: 1.0.\n",
      "[I 2024-09-11 21:00:46,665] Trial 86 finished with value: 1.0 and parameters: {'n_neighbors': 26, 'p': 3, 'weights': 'uniform', 'metric': 'manhattan'}. Best is trial 13 with value: 1.0.\n",
      "[I 2024-09-11 21:00:46,672] Trial 87 finished with value: 0.9583333333333334 and parameters: {'n_neighbors': 24, 'p': 2, 'weights': 'uniform', 'metric': 'euclidean'}. Best is trial 13 with value: 1.0.\n",
      "[I 2024-09-11 21:00:46,680] Trial 88 finished with value: 1.0 and parameters: {'n_neighbors': 20, 'p': 2, 'weights': 'uniform', 'metric': 'euclidean'}. Best is trial 13 with value: 1.0.\n",
      "[I 2024-09-11 21:00:46,687] Trial 89 finished with value: 1.0 and parameters: {'n_neighbors': 22, 'p': 1, 'weights': 'uniform', 'metric': 'euclidean'}. Best is trial 13 with value: 1.0.\n",
      "[I 2024-09-11 21:00:46,694] Trial 90 finished with value: 1.0 and parameters: {'n_neighbors': 21, 'p': 3, 'weights': 'uniform', 'metric': 'euclidean'}. Best is trial 13 with value: 1.0.\n",
      "[I 2024-09-11 21:00:46,702] Trial 91 finished with value: 1.0 and parameters: {'n_neighbors': 23, 'p': 2, 'weights': 'uniform', 'metric': 'euclidean'}. Best is trial 13 with value: 1.0.\n",
      "[I 2024-09-11 21:00:46,709] Trial 92 finished with value: 1.0 and parameters: {'n_neighbors': 22, 'p': 2, 'weights': 'uniform', 'metric': 'euclidean'}. Best is trial 13 with value: 1.0.\n",
      "[I 2024-09-11 21:00:46,719] Trial 93 finished with value: 1.0 and parameters: {'n_neighbors': 23, 'p': 2, 'weights': 'uniform', 'metric': 'euclidean'}. Best is trial 13 with value: 1.0.\n",
      "[I 2024-09-11 21:00:46,726] Trial 94 finished with value: 1.0 and parameters: {'n_neighbors': 20, 'p': 2, 'weights': 'uniform', 'metric': 'euclidean'}. Best is trial 13 with value: 1.0.\n",
      "[I 2024-09-11 21:00:46,735] Trial 95 finished with value: 0.9583333333333334 and parameters: {'n_neighbors': 25, 'p': 2, 'weights': 'uniform', 'metric': 'euclidean'}. Best is trial 13 with value: 1.0.\n",
      "[I 2024-09-11 21:00:46,743] Trial 96 finished with value: 0.9583333333333334 and parameters: {'n_neighbors': 24, 'p': 2, 'weights': 'distance', 'metric': 'euclidean'}. Best is trial 13 with value: 1.0.\n",
      "[I 2024-09-11 21:00:46,751] Trial 97 finished with value: 1.0 and parameters: {'n_neighbors': 21, 'p': 2, 'weights': 'uniform', 'metric': 'euclidean'}. Best is trial 13 with value: 1.0.\n",
      "[I 2024-09-11 21:00:46,759] Trial 98 finished with value: 0.875 and parameters: {'n_neighbors': 19, 'p': 1, 'weights': 'uniform', 'metric': 'cosine'}. Best is trial 13 with value: 1.0.\n",
      "[I 2024-09-11 21:00:46,766] Trial 99 finished with value: 1.0 and parameters: {'n_neighbors': 22, 'p': 2, 'weights': 'uniform', 'metric': 'euclidean'}. Best is trial 13 with value: 1.0.\n",
      "~~~~~~~~~~~~~~~~~~~~~~~~~~~~~~~~~~~~~~~~\n",
      "Best Score: 1.0000\n",
      "Best Parameters:\n",
      "  n_neighbors: 21\n",
      "  p: 2\n",
      "  weights: uniform\n",
      "  metric: euclidean\n"
     ]
    }
   ],
   "execution_count": 16
  },
  {
   "metadata": {
    "ExecuteTime": {
     "end_time": "2024-09-11T18:00:46.772868Z",
     "start_time": "2024-09-11T18:00:46.770300Z"
    }
   },
   "cell_type": "code",
   "source": [
    "def plot_accuracy_vs_k(X_test, X_train, y_test, y_train, weights, metric, p):\n",
    "    ks = range(1, 30)\n",
    "    train_accuracies = []\n",
    "    test_accuracies = []\n",
    "\n",
    "    for k in ks:\n",
    "        knn = KNeighborsClassifier(n_neighbors=k, weights=weights, metric=metric, p=p)\n",
    "        knn.fit(X_train, y_train)\n",
    "\n",
    "        y_train_pred = knn.predict(X_train)\n",
    "        train_accuracies.append(accuracy_score(y_train, y_train_pred))\n",
    "\n",
    "        y_test_pred = knn.predict(X_test)\n",
    "        test_accuracies.append(accuracy_score(y_test, y_test_pred))\n",
    "\n",
    "    plt.plot(ks, train_accuracies, label='Train Accuracy')\n",
    "    plt.plot(ks, test_accuracies, label='Test Accuracy')\n",
    "    plt.xlabel('Number of Neighbors (k)')\n",
    "    plt.ylabel('Accuracy')\n",
    "    plt.title('Accuracy vs Number of Neighbors')\n",
    "    plt.legend()\n",
    "    plt.show()"
   ],
   "id": "486cdcb2f5149a85",
   "outputs": [],
   "execution_count": 17
  },
  {
   "metadata": {
    "ExecuteTime": {
     "end_time": "2024-09-11T18:00:47.363360Z",
     "start_time": "2024-09-11T18:00:47.221288Z"
    }
   },
   "cell_type": "code",
   "source": [
    "plot_accuracy_vs_k(X_test, X_train, y_test, y_train,\n",
    "                   weights=best_params['weights'],\n",
    "                   metric=best_params['metric'],\n",
    "                   p=best_params['p'])"
   ],
   "id": "a6609009713ba7b7",
   "outputs": [
    {
     "data": {
      "text/plain": [
       "<Figure size 640x480 with 1 Axes>"
      ],
      "image/png": "[encoded data removed]"
     },
     "metadata": {},
     "output_type": "display_data"
    }
   ],
   "execution_count": 18
  },
  {
   "metadata": {},
   "cell_type": "code",
   "execution_count": null,
   "source": "",
   "id": "e45fd8fcdd349bf7",
   "outputs": []
  }
 ],
 "metadata": {
  "kernelspec": {
   "display_name": "Python 3",
   "language": "python",
   "name": "python3"
  },
  "language_info": {
   "codemirror_mode": {
    "name": "ipython",
    "version": 2
   },
   "file_extension": ".py",
   "mimetype": "text/x-python",
   "name": "python",
   "nbconvert_exporter": "python",
   "pygments_lexer": "ipython2",
   "version": "2.7.6"
  }
 },
 "nbformat": 4,
 "nbformat_minor": 5
}
