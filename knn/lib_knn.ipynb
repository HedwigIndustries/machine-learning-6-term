{
 "cells": [
  {
   "cell_type": "code",
   "id": "initial_id",
   "metadata": {
    "collapsed": true,
    "ExecuteTime": {
     "end_time": "2024-06-05T18:40:07.079901Z",
     "start_time": "2024-06-05T18:40:05.839054Z"
    }
   },
   "source": [
    "import matplotlib.pyplot as plt\n",
    "import optuna\n",
    "import pandas as pd\n",
    "from sklearn.datasets import load_iris\n",
    "from sklearn.metrics import accuracy_score\n",
    "from sklearn.model_selection import train_test_split\n",
    "from sklearn.neighbors import KNeighborsClassifier\n",
    "from sklearn.preprocessing import StandardScaler\n"
   ],
   "execution_count": 3,
   "outputs": []
  },
  {
   "metadata": {
    "ExecuteTime": {
     "end_time": "2024-06-05T18:40:07.092488Z",
     "start_time": "2024-06-05T18:40:07.080947Z"
    }
   },
   "cell_type": "code",
   "source": [
    "iris = load_iris()\n",
    "df = pd.DataFrame(data=iris.data, columns=iris.feature_names)\n",
    "df['target'] = iris.target\n",
    "df"
   ],
   "id": "ad9032442dd7092b",
   "execution_count": 4,
   "outputs": []
  },
  {
   "metadata": {
    "ExecuteTime": {
     "end_time": "2024-06-05T18:40:07.095401Z",
     "start_time": "2024-06-05T18:40:07.093488Z"
    }
   },
   "cell_type": "code",
   "source": "",
   "id": "52032ee47f0d9588",
   "execution_count": 5,
   "outputs": []
  },
  {
   "metadata": {
    "ExecuteTime": {
     "end_time": "2024-06-05T18:40:07.099404Z",
     "start_time": "2024-06-05T18:40:07.096688Z"
    }
   },
   "cell_type": "code",
   "source": [
    "def get_split_data():\n",
    "    data = load_iris()\n",
    "    X, y = data.data, data.target\n",
    "    scaler = StandardScaler()\n",
    "    X_normalized = scaler.fit_transform(X)\n",
    "    X_train, X_test, y_train, y_test = train_test_split(X_normalized, y, test_size=0.2, random_state=42)\n",
    "    X_train, X_val, y_train, y_val = train_test_split(X_train, y_train, test_size=0.2, random_state=42)\n",
    "    return X_test, X_train, X_val, y_test, y_train, y_val"
   ],
   "id": "779bed45af36c382",
   "execution_count": 6,
   "outputs": []
  },
  {
   "metadata": {
    "ExecuteTime": {
     "end_time": "2024-06-05T18:40:07.416479Z",
     "start_time": "2024-06-05T18:40:07.414006Z"
    }
   },
   "cell_type": "code",
   "source": [
    "def print_accuracy(y_pred, y_test):\n",
    "    test_accuracy = accuracy_score(y_test, y_pred)\n",
    "    print(f\"Test Accuracy: {test_accuracy}\")"
   ],
   "id": "26a2cde0ed7e2974",
   "execution_count": 7,
   "outputs": []
  },
  {
   "metadata": {
    "ExecuteTime": {
     "end_time": "2024-06-05T18:40:07.750888Z",
     "start_time": "2024-06-05T18:40:07.747940Z"
    }
   },
   "cell_type": "code",
   "source": [
    "def pretty_print_best(best_params, best_score):\n",
    "    print(f\"Best parameters: {best_params}\")\n",
    "    print(f\"Best score: {best_score}\")"
   ],
   "id": "862534f2c8d7a430",
   "execution_count": 8,
   "outputs": []
  },
  {
   "metadata": {
    "ExecuteTime": {
     "end_time": "2024-06-05T18:40:08.062038Z",
     "start_time": "2024-06-05T18:40:08.058374Z"
    }
   },
   "cell_type": "code",
   "source": [
    "def func(trial, X_train, X_val, y_train, y_val):\n",
    "    n_neighbors = trial.suggest_int('n_neighbors', 1, 30)\n",
    "    p = trial.suggest_int('p', 1, 4)\n",
    "    weights = trial.suggest_categorical('weights', ['uniform', 'distance'])\n",
    "    metric = trial.suggest_categorical('metric', ['euclidean', 'manhattan', 'cosine'])\n",
    "    knn = KNeighborsClassifier(n_neighbors=n_neighbors, weights=weights, metric=metric, p=p)\n",
    "    knn.fit(X_train, y_train)\n",
    "    y_pred = knn.predict(X_val)\n",
    "    accuracy = accuracy_score(y_val, y_pred)\n",
    "    return accuracy"
   ],
   "id": "aef45f69a4cfea3f",
   "execution_count": 9,
   "outputs": []
  },
  {
   "metadata": {
    "ExecuteTime": {
     "end_time": "2024-06-05T18:40:08.383080Z",
     "start_time": "2024-06-05T18:40:08.378944Z"
    }
   },
   "cell_type": "code",
   "source": [
    "def get_best_hyperparameters(X_train, X_val, y_train, y_val):\n",
    "    study = optuna.create_study(direction='maximize')\n",
    "    study.optimize(\n",
    "        func=lambda trial: func(trial, X_train, X_val, y_train, y_val),\n",
    "        n_trials=100,\n",
    "        show_progress_bar=True\n",
    "    )\n",
    "    best_params = study.best_params\n",
    "    best_value = study.best_value\n",
    "    return best_params, best_value\n"
   ],
   "id": "e38355e9f738d342",
   "execution_count": 10,
   "outputs": []
  },
  {
   "metadata": {
    "ExecuteTime": {
     "end_time": "2024-06-05T18:40:09.619569Z",
     "start_time": "2024-06-05T18:40:08.720920Z"
    }
   },
   "cell_type": "code",
   "source": [
    "X_test, X_train, X_val, y_test, y_train, y_val = get_split_data()\n",
    "best_params, best_score = get_best_hyperparameters(X_train, X_val, y_train, y_val)\n",
    "print(\"~\" * 40)\n",
    "pretty_print_best(best_params, best_score)"
   ],
   "id": "847d00614454f5b5",
   "execution_count": 11,
   "outputs": []
  },
  {
   "metadata": {
    "ExecuteTime": {
     "end_time": "2024-06-05T18:40:10.986727Z",
     "start_time": "2024-06-05T18:40:10.981797Z"
    }
   },
   "cell_type": "code",
   "source": [
    "\n",
    "def plot_accuracy_vs_k(X_test, X_train, X_val, y_test, y_train, y_val, weights, metric, p=1):\n",
    "    ks = range(1, 90)\n",
    "    train_accuracies = []\n",
    "    test_accuracies = []\n",
    "\n",
    "    for k in ks:\n",
    "        knn = KNeighborsClassifier(n_neighbors=k, weights=weights, metric=metric, p=p)\n",
    "        knn.fit(X_train, y_train)\n",
    "\n",
    "        y_train_pred = knn.predict(X_train)\n",
    "        train_accuracies.append(accuracy_score(y_train, y_train_pred))\n",
    "\n",
    "        y_test_pred = knn.predict(X_test)\n",
    "        test_accuracies.append(accuracy_score(y_test, y_test_pred))\n",
    "\n",
    "    plt.plot(ks, train_accuracies, label='Train Accuracy')\n",
    "    plt.plot(ks, test_accuracies, label='Test Accuracy')\n",
    "    plt.xlabel('Number of Neighbors (k)')\n",
    "    plt.ylabel('Accuracy')\n",
    "    plt.title('Accuracy vs Number of Neighbors')\n",
    "    plt.legend()\n",
    "    plt.show()"
   ],
   "id": "486cdcb2f5149a85",
   "execution_count": 12,
   "outputs": []
  },
  {
   "metadata": {
    "ExecuteTime": {
     "end_time": "2024-06-05T18:40:12.448785Z",
     "start_time": "2024-06-05T18:40:11.675203Z"
    }
   },
   "cell_type": "code",
   "source": [
    "plot_accuracy_vs_k(X_test, X_train, X_val, y_test, y_train, y_val, best_params['weights'], best_params['metric'],\n",
    "                   best_params['p'])"
   ],
   "id": "a6609009713ba7b7",
   "execution_count": 13,
   "outputs": []
  },
  {
   "metadata": {},
   "cell_type": "markdown",
   "source": "",
   "id": "f9f424ac91cdffb5"
  },
  {
   "metadata": {
    "ExecuteTime": {
     "end_time": "2024-06-13T14:03:35.075085Z",
     "start_time": "2024-06-13T14:03:35.048180Z"
    }
   },
   "cell_type": "code",
   "source": [
    "import numpy as np\n",
    "from knn.my_knn import Kernel\n",
    "\n",
    "\n",
    "# {'n_neighbors': 21, 'p': 4, 'weights': 'uniform', 'metric': 'euclidean'}\n",
    "\n",
    "def LOWESS(X, y, kernel=None):\n",
    "    weights = []\n",
    "    for i in range(len(X)):\n",
    "        knn = KNeighborsClassifier(\n",
    "            n_neighbors=9, \n",
    "            metric='euclidean',\n",
    "            p=4\n",
    "        )\n",
    "        knn.fit(np.delete(X, i, axis=0), np.delete(y, i, axis=0))\n",
    "        new_y = (knn.predict(np.array([X[i]]))[0])\n",
    "        if kernel is not None:\n",
    "            weight = kernel(0 if y[i] == new_y else 1)\n",
    "        else:\n",
    "            weight = 0 if y[i] == new_y else 1\n",
    "        weights.append(weight)\n",
    "\n",
    "    return np.array(weights)"
   ],
   "id": "1e94aeb8f176990c",
   "execution_count": 14,
   "outputs": []
  },
  {
   "metadata": {
    "ExecuteTime": {
     "end_time": "2024-06-13T14:03:41.794931Z",
     "start_time": "2024-06-13T14:03:41.682931Z"
    }
   },
   "cell_type": "code",
   "source": [
    "data = load_iris()\n",
    "X, y = data.data, data.target\n",
    "weights = LOWESS(X, y, kernel=Kernel.UNIFORM)\n",
    "print(weights)\n",
    "print(weights.shape)"
   ],
   "id": "6a923e55f23e27e7",
   "execution_count": 15,
   "outputs": []
  },
  {
   "metadata": {},
   "cell_type": "code",
   "execution_count": null,
   "source": "",
   "id": "e45fd8fcdd349bf7",
   "outputs": []
  }
 ],
 "metadata": {
  "kernelspec": {
   "display_name": "Python 3",
   "language": "python",
   "name": "python3"
  },
  "language_info": {
   "codemirror_mode": {
    "name": "ipython",
    "version": 2
   },
   "file_extension": ".py",
   "mimetype": "text/x-python",
   "name": "python",
   "nbconvert_exporter": "python",
   "pygments_lexer": "ipython2",
   "version": "2.7.6"
  }
 },
 "nbformat": 4,
 "nbformat_minor": 5
}
