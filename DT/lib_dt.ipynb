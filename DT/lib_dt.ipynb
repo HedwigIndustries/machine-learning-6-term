{
 "cells": [
  {
   "cell_type": "code",
   "id": "initial_id",
   "metadata": {
    "collapsed": true,
    "ExecuteTime": {
     "end_time": "2024-09-11T18:47:20.119110Z",
     "start_time": "2024-09-11T18:47:19.394392Z"
    }
   },
   "source": [
    "import pandas as pd\n",
    "from sklearn.datasets import load_breast_cancer\n",
    "\n",
    "data = load_breast_cancer()"
   ],
   "execution_count": 8,
   "outputs": []
  },
  {
   "metadata": {
    "ExecuteTime": {
     "end_time": "2024-09-11T18:47:20.133113Z",
     "start_time": "2024-09-11T18:47:20.120202Z"
    }
   },
   "cell_type": "code",
   "source": [
    "df = pd.DataFrame(data.data, columns=data.feature_names)\n",
    "df['target'] = data.target\n",
    "df"
   ],
   "id": "c072a196aa506888",
   "execution_count": 9,
   "outputs": []
  },
  {
   "metadata": {
    "ExecuteTime": {
     "end_time": "2024-09-11T18:47:20.140273Z",
     "start_time": "2024-09-11T18:47:20.133812Z"
    }
   },
   "cell_type": "code",
   "source": "df.info()",
   "id": "bc9c0e22f6fa7c0b",
   "execution_count": 10,
   "outputs": []
  },
  {
   "metadata": {
    "ExecuteTime": {
     "end_time": "2024-09-11T18:47:20.161445Z",
     "start_time": "2024-09-11T18:47:20.141495Z"
    }
   },
   "cell_type": "code",
   "source": [
    "df.describe()\n",
    "# выбросы? "
   ],
   "id": "82d6b96e21b6576a",
   "execution_count": 11,
   "outputs": []
  },
  {
   "metadata": {
    "ExecuteTime": {
     "end_time": "2024-09-11T18:47:20.273164Z",
     "start_time": "2024-09-11T18:47:20.162187Z"
    }
   },
   "cell_type": "code",
   "source": [
    "from sklearn.model_selection import train_test_split\n",
    "from sklearn.tree import DecisionTreeClassifier\n",
    "from sklearn.metrics import accuracy_score"
   ],
   "id": "ca8d247c1cd39046",
   "execution_count": 12,
   "outputs": []
  },
  {
   "metadata": {
    "ExecuteTime": {
     "end_time": "2024-09-11T18:47:20.477380Z",
     "start_time": "2024-09-11T18:47:20.475162Z"
    }
   },
   "cell_type": "code",
   "source": [
    "def pretty_print_best_params(best_params: dict, best_score: float) -> None:\n",
    "    print(f\"Best Score: {best_score:.4f}\")\n",
    "    print(\"Best Parameters:\")\n",
    "    for key, value in best_params.items():\n",
    "        print(f\"  {key}: {value}\")\n",
    "\n",
    "\n",
    "def print_accuracy(y_pred, y_test) -> None:\n",
    "    test_accuracy = accuracy_score(y_test, y_pred)\n",
    "    print(f\"Test Accuracy: {test_accuracy}\")"
   ],
   "id": "8f34cb51b23904ad",
   "execution_count": 13,
   "outputs": []
  },
  {
   "metadata": {
    "ExecuteTime": {
     "end_time": "2024-09-11T18:47:20.542988Z",
     "start_time": "2024-09-11T18:47:20.533809Z"
    }
   },
   "cell_type": "code",
   "source": [
    "X = data.data\n",
    "y = data.target\n",
    "X_train, X_test, y_train, y_test = train_test_split(X, y, test_size=0.2, random_state=42)\n",
    "\n",
    "clf = DecisionTreeClassifier()\n",
    "clf.fit(X_train, y_train)\n",
    "\n",
    "y_pred = clf.predict(X_test)\n",
    "print_accuracy(y_pred, y_test)"
   ],
   "id": "1c5db33adcc16b27",
   "execution_count": 14,
   "outputs": []
  },
  {
   "metadata": {
    "ExecuteTime": {
     "end_time": "2024-09-11T18:47:20.878103Z",
     "start_time": "2024-09-11T18:47:20.640521Z"
    }
   },
   "cell_type": "code",
   "source": "import matplotlib.pyplot as plt",
   "id": "4743cc5a278ade3d",
   "execution_count": 15,
   "outputs": []
  },
  {
   "metadata": {
    "ExecuteTime": {
     "end_time": "2024-09-11T18:47:20.882707Z",
     "start_time": "2024-09-11T18:47:20.879150Z"
    }
   },
   "cell_type": "code",
   "source": [
    "def plot_tree_depth_by_params(\n",
    "        min_samples_split_lst,\n",
    "        min_samples_leaf_lst,\n",
    "        X_train,\n",
    "        y_train\n",
    "):\n",
    "    depth_lst = []\n",
    "    labels = []\n",
    "\n",
    "    for min_samples_split in min_samples_split_lst:\n",
    "        for min_samples_leaf in min_samples_leaf_lst:\n",
    "            dt = DecisionTreeClassifier(min_samples_split=min_samples_split, min_samples_leaf=min_samples_leaf)\n",
    "            dt.fit(X_train, y_train)\n",
    "\n",
    "            max_depth = dt.tree_.max_depth\n",
    "            depth_lst.append(max_depth)\n",
    "            labels.append(\n",
    "                f\"split:{min_samples_split};leaf:{min_samples_leaf}\"\n",
    "            )\n",
    "    plt.figure(figsize=(10, 6))\n",
    "    plt.plot(depth_lst)\n",
    "    plt.xticks(range(len(depth_lst)), labels, rotation=45, ha='right')\n",
    "    plt.xlabel(\"Hyperparameters\")\n",
    "    plt.ylabel(\"Tree depth\")\n",
    "    plt.title(\"Tree depth by hyperparameters\")\n",
    "    plt.show()"
   ],
   "id": "bafc7d16fadb4f93",
   "execution_count": 16,
   "outputs": []
  },
  {
   "metadata": {
    "ExecuteTime": {
     "end_time": "2024-09-11T18:47:21.176295Z",
     "start_time": "2024-09-11T18:47:20.883329Z"
    }
   },
   "cell_type": "code",
   "source": [
    "# min_samples_split_lst = [i for i in range(2, 31)]\n",
    "min_samples_split_lst = [2, 3, 5, 10, 15, 25]\n",
    "# min_samples_leaf_lst = [i for i in range(1, 31)]\n",
    "min_samples_leaf_lst = [2, 3, 5, 10, 15, 25]\n",
    "plot_tree_depth_by_params(\n",
    "    min_samples_split_lst=min_samples_split_lst,\n",
    "    min_samples_leaf_lst=min_samples_leaf_lst,\n",
    "    X_train=X_train,\n",
    "    y_train=y_train\n",
    ")\n"
   ],
   "id": "74029b581430b236",
   "execution_count": 17,
   "outputs": []
  },
  {
   "metadata": {
    "ExecuteTime": {
     "end_time": "2024-09-11T18:47:21.254901Z",
     "start_time": "2024-09-11T18:47:21.177594Z"
    }
   },
   "cell_type": "code",
   "source": [
    "import optuna\n",
    "import numpy as np"
   ],
   "id": "e01c925435fc81b",
   "execution_count": 18,
   "outputs": []
  },
  {
   "metadata": {
    "ExecuteTime": {
     "end_time": "2024-09-11T18:47:21.258013Z",
     "start_time": "2024-09-11T18:47:21.255686Z"
    }
   },
   "cell_type": "code",
   "source": [
    "def func(trial, X_train: np.ndarray, X_val: np.ndarray, y_train: np.ndarray, y_val: np.ndarray) -> float:\n",
    "    max_depth = trial.suggest_int('max_depth', 2, 30)\n",
    "    min_samples_split = trial.suggest_int('min_samples_split', 2, 30)\n",
    "    min_samples_leaf = trial.suggest_int('min_samples_leaf', 1, 30)\n",
    "    dt = DecisionTreeClassifier(\n",
    "        max_depth=max_depth,\n",
    "        min_samples_split=min_samples_split,\n",
    "        min_samples_leaf=min_samples_leaf,\n",
    "        random_state=42\n",
    "    )\n",
    "    dt.fit(X_train, y_train)\n",
    "    y_pred = dt.predict(X_val)\n",
    "    accuracy = accuracy_score(y_val, y_pred)\n",
    "    return accuracy"
   ],
   "id": "b989bd7119687be9",
   "execution_count": 19,
   "outputs": []
  },
  {
   "metadata": {
    "ExecuteTime": {
     "end_time": "2024-09-11T18:47:22.243950Z",
     "start_time": "2024-09-11T18:47:22.240438Z"
    }
   },
   "cell_type": "code",
   "source": [
    "def get_best_hyperparameters(\n",
    "        X_train: np.ndarray, X_val: np.ndarray, y_train: np.ndarray, y_val: np.ndarray\n",
    ") -> tuple[dict, float]:\n",
    "    study = optuna.create_study(direction='maximize')\n",
    "    study.optimize(\n",
    "        func=lambda trial: func(trial, X_train, X_val, y_train, y_val),\n",
    "        n_trials=100,\n",
    "        show_progress_bar=True\n",
    "    )\n",
    "    best_params = study.best_params\n",
    "    best_value = study.best_value\n",
    "    return best_params, best_value\n"
   ],
   "id": "3be8a2da2ba5afba",
   "execution_count": 20,
   "outputs": []
  },
  {
   "metadata": {
    "ExecuteTime": {
     "end_time": "2024-09-11T18:47:22.834323Z",
     "start_time": "2024-09-11T18:47:22.831832Z"
    }
   },
   "cell_type": "code",
   "source": [
    "def get_split_data():\n",
    "    data = load_breast_cancer()\n",
    "    X, y = data.data, data.target\n",
    "    X_train, X_test, y_train, y_test = train_test_split(X, y, test_size=0.2, random_state=42)\n",
    "    X_train, X_val, y_train, y_val = train_test_split(X_train, y_train, test_size=0.2, random_state=42)\n",
    "    return X_test, X_train, X_val, y_test, y_train, y_val"
   ],
   "id": "1958452206407e4e",
   "execution_count": 21,
   "outputs": []
  },
  {
   "metadata": {
    "ExecuteTime": {
     "end_time": "2024-09-11T18:47:24.218353Z",
     "start_time": "2024-09-11T18:47:23.172881Z"
    }
   },
   "cell_type": "code",
   "source": [
    "X_test, X_train, X_val, y_test, y_train, y_val = get_split_data()\n",
    "best_params, best_score = get_best_hyperparameters(X_train, X_val, y_train, y_val)\n",
    "print(\"~\" * 40)\n",
    "pretty_print_best_params(best_params, best_score)"
   ],
   "id": "fc5883a8664f5ea0",
   "execution_count": 22,
   "outputs": []
  },
  {
   "metadata": {
    "ExecuteTime": {
     "end_time": "2024-09-11T18:47:24.915297Z",
     "start_time": "2024-09-11T18:47:24.910955Z"
    }
   },
   "cell_type": "code",
   "source": [
    "def plot_accuracy_vs_depth(X_test, X_train, y_test, y_train,\n",
    "                           min_samples_split, min_samples_leaf, depth_lst):\n",
    "    train_accuracies = []\n",
    "    test_accuracies = []\n",
    "\n",
    "    for depth in depth_lst:\n",
    "        dt = DecisionTreeClassifier(\n",
    "            min_samples_split=min_samples_split,\n",
    "            min_samples_leaf=min_samples_leaf,\n",
    "            max_depth=depth, random_state=42,\n",
    "        )\n",
    "        dt.fit(X_train, y_train)\n",
    "\n",
    "        y_train_pred = dt.predict(X_train)\n",
    "        train_accuracies.append(accuracy_score(y_train, y_train_pred))\n",
    "\n",
    "        y_test_pred = dt.predict(X_test)\n",
    "        test_accuracies.append(accuracy_score(y_test, y_test_pred))\n",
    "\n",
    "    plt.plot(depth_lst, train_accuracies, label='Train Accuracy')\n",
    "    plt.plot(depth_lst, test_accuracies, label='Test Accuracy')\n",
    "    plt.xlabel('Depth')\n",
    "    plt.ylabel('Accuracy')\n",
    "    plt.title('Accuracy vs Depth')\n",
    "    plt.legend()\n",
    "    plt.show()"
   ],
   "id": "12c66d36ee0aa7e9",
   "execution_count": 23,
   "outputs": []
  },
  {
   "metadata": {
    "ExecuteTime": {
     "end_time": "2024-09-11T18:48:49.236120Z",
     "start_time": "2024-09-11T18:48:49.141748Z"
    }
   },
   "cell_type": "code",
   "source": [
    "# min_samples_split_lst = [1, 2, 3, 4, 5, 6, 7, 8, 9, 10, 15, 25]\n",
    "min_samples_split_lst = list(range(1, 12, 1))\n",
    "plot_accuracy_vs_depth(\n",
    "    depth_lst=min_samples_split_lst,\n",
    "    X_test=X_test,\n",
    "    X_train=X_train,\n",
    "    y_test=y_test,\n",
    "    y_train=y_train,\n",
    "    min_samples_split=best_params['min_samples_split'],\n",
    "    min_samples_leaf=best_params['min_samples_leaf']\n",
    ")"
   ],
   "id": "b7eb065acd4cdb55",
   "execution_count": 29,
   "outputs": []
  },
  {
   "metadata": {},
   "cell_type": "code",
   "execution_count": null,
   "source": "",
   "id": "9c8a52bb56c405c3",
   "outputs": []
  },
  {
   "metadata": {},
   "cell_type": "code",
   "execution_count": null,
   "source": "",
   "id": "1031d14de27557ef",
   "outputs": []
  }
 ],
 "metadata": {
  "kernelspec": {
   "display_name": "Python 3",
   "language": "python",
   "name": "python3"
  },
  "language_info": {
   "codemirror_mode": {
    "name": "ipython",
    "version": 2
   },
   "file_extension": ".py",
   "mimetype": "text/x-python",
   "name": "python",
   "nbconvert_exporter": "python",
   "pygments_lexer": "ipython2",
   "version": "2.7.6"
  }
 },
 "nbformat": 4,
 "nbformat_minor": 5
}
