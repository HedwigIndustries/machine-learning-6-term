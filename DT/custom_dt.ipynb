{
 "cells": [
  {
   "metadata": {
    "ExecuteTime": {
     "end_time": "2024-09-13T07:41:47.089951Z",
     "start_time": "2024-09-13T07:41:47.087916Z"
    }
   },
   "cell_type": "code",
   "source": [
    "import typing as tp\n",
    "\n",
    "import numpy as np"
   ],
   "id": "f5cb336604305148",
   "execution_count": 23,
   "outputs": []
  },
  {
   "metadata": {
    "ExecuteTime": {
     "end_time": "2024-09-13T07:45:09.126687Z",
     "start_time": "2024-09-13T07:45:09.115620Z"
    }
   },
   "cell_type": "code",
   "source": [
    "class Node:\n",
    "    def __init__(self, feature=None, threshold=None, left=None, right=None, value=None) -> None:\n",
    "        self.feature: tp.Optional[int] = feature\n",
    "        self.threshold: tp.Optional[float] = threshold\n",
    "        self.left: tp.Optional[Node] = left\n",
    "        self.right: tp.Optional[Node] = right\n",
    "        self.value: tp.Optional[np.signedinteger] = value\n",
    "\n",
    "    def is_leaf(self) -> bool:\n",
    "        return self.value is not None\n",
    "\n",
    "\n",
    "class CustomDecisionTree:\n",
    "    def __init__(self, max_depth: tp.Optional[int] = None, min_samples_split: int = 2,\n",
    "                 min_samples_leaf: int = 1) -> None:\n",
    "        self.max_depth: tp.Optional[int] = max_depth\n",
    "        self.min_samples_to_split: int = min_samples_split\n",
    "        self.min_samples_leaf: int = min_samples_leaf\n",
    "        self.tree: tp.Optional[Node] = None\n",
    "        self.cur_depth: tp.Optional[int] = 0\n",
    "\n",
    "    def fit(self, X: np.ndarray, y: np.ndarray) -> None:\n",
    "        self.tree = self._build_tree(X, y)\n",
    "\n",
    "    def _build_tree(self, X: np.ndarray, y: np.ndarray, depth: int = 0) -> Node:\n",
    "        n_samples, n_features = X.shape\n",
    "        self.n_classes = len(np.unique(y))\n",
    "        if self.max_depth and depth >= self.max_depth \\\n",
    "                or self.n_classes == 1 \\\n",
    "                or n_samples < self.min_samples_to_split:\n",
    "            leaf_value: np.signedinteger = self._most_common_label(y)\n",
    "            return Node(value=leaf_value)\n",
    "\n",
    "        rand_features = np.random.choice(n_features, n_features, replace=False)\n",
    "        best_feature, best_threshold = self._best_criteria(X, y, rand_features)\n",
    "        left_idxs, right_idxs = self._split(X[:, best_feature], best_threshold)\n",
    "\n",
    "        if len(left_idxs) < self.min_samples_leaf or len(right_idxs) < self.min_samples_leaf:\n",
    "            leaf_value: np.signedinteger = self._most_common_label(y)\n",
    "            return Node(value=leaf_value)\n",
    "        self.cur_depth += 1\n",
    "        left = self._build_tree(X[left_idxs, :], y[left_idxs], depth + 1)\n",
    "        right = self._build_tree(X[right_idxs, :], y[right_idxs], depth + 1)\n",
    "        return Node(feature=best_feature, threshold=best_threshold, left=left, right=right)\n",
    "\n",
    "    def _best_criteria(self, X: np.ndarray, y: np.ndarray, features: np.ndarray) -> tuple[int, float]:\n",
    "        best_gain = -1\n",
    "        best_feature, best_threshold = None, None\n",
    "        for feature in features:\n",
    "            X_column_by_feature = X[:, feature]\n",
    "            thresholds = np.unique(X_column_by_feature)\n",
    "            for threshold in thresholds:\n",
    "                gain = self._information_gain(y, X_column_by_feature=X_column_by_feature, split_thresh=threshold)\n",
    "                if gain > best_gain:\n",
    "                    best_gain = gain\n",
    "                    best_feature = feature\n",
    "                    best_threshold = threshold\n",
    "        return best_feature, best_threshold\n",
    "\n",
    "    def _information_gain(self, y, X_column_by_feature: np.ndarray, split_thresh: float) -> float:\n",
    "        parent_entropy = self._calc_entropy(y)\n",
    "        left_idxs, right_idxs = self._split(X_column_by_feature, split_thresh)\n",
    "        if len(left_idxs) == 0 or len(right_idxs) == 0:\n",
    "            return 0\n",
    "        n_total, n_left, n_right = len(y), len(left_idxs), len(right_idxs)\n",
    "        entropy_left, entropy_right = self._calc_entropy(y[left_idxs]), self._calc_entropy(y[right_idxs])\n",
    "        k_left, k_right = n_left / n_total, n_right / n_total\n",
    "        child_entropy = k_left * entropy_left + k_right * entropy_right\n",
    "        ig = parent_entropy - child_entropy\n",
    "        return ig\n",
    "\n",
    "    @staticmethod\n",
    "    def _split(X_column_by_feature: np.ndarray, split_thresh: float) -> tuple[np.ndarray, np.ndarray]:\n",
    "        left_idxs = np.argwhere(X_column_by_feature <= split_thresh).flatten()\n",
    "        right_idxs = np.argwhere(X_column_by_feature > split_thresh).flatten()\n",
    "        return left_idxs, right_idxs\n",
    "\n",
    "    @staticmethod\n",
    "    def _calc_entropy(y: np.ndarray) -> float:\n",
    "        p_lst = np.bincount(y) / len(y)\n",
    "        return -np.sum([p * np.log2(p) for p in p_lst if p > 0])\n",
    "\n",
    "    @staticmethod\n",
    "    def _most_common_label(y: np.ndarray) -> np.signedinteger:\n",
    "        return np.bincount(y).argmax()\n",
    "\n",
    "    def predict(self, X: np.ndarray) -> np.ndarray:\n",
    "        return np.array([self._traverse_tree(x, self.tree) for x in X])\n",
    "\n",
    "    def _traverse_tree(self, x, node) -> np.signedinteger:\n",
    "        if node.is_leaf():\n",
    "            return node.value\n",
    "        if x[node.feature] <= node.threshold:\n",
    "            return self._traverse_tree(x, node.left)\n",
    "        return self._traverse_tree(x, node.right)\n"
   ],
   "id": "ac85c56ba3f09974",
   "execution_count": 35,
   "outputs": []
  },
  {
   "metadata": {
    "ExecuteTime": {
     "end_time": "2024-09-13T07:45:10.172386Z",
     "start_time": "2024-09-13T07:45:10.170461Z"
    }
   },
   "cell_type": "code",
   "source": [
    "from sklearn.metrics import accuracy_score\n",
    "from sklearn.model_selection import train_test_split\n",
    "from sklearn.datasets import load_breast_cancer\n"
   ],
   "id": "269571c9e322027",
   "execution_count": 36,
   "outputs": []
  },
  {
   "metadata": {
    "ExecuteTime": {
     "end_time": "2024-09-13T07:45:10.608308Z",
     "start_time": "2024-09-13T07:45:10.606173Z"
    }
   },
   "cell_type": "code",
   "source": [
    "def _get_split_data() -> tp.Any:\n",
    "    data = load_breast_cancer()\n",
    "    X, y = data.data, data.target\n",
    "    X_train, X_test, y_train, y_test = train_test_split(X, y, test_size=0.2, random_state=42)\n",
    "    return X_test, X_train, y_test, y_train"
   ],
   "id": "5c38c2e5c75f0ab1",
   "execution_count": 37,
   "outputs": []
  },
  {
   "metadata": {
    "ExecuteTime": {
     "end_time": "2024-09-13T07:45:11.414742Z",
     "start_time": "2024-09-13T07:45:11.410780Z"
    }
   },
   "cell_type": "code",
   "source": [
    "def pretty_print_best_params(best_params: dict, best_score: float) -> None:\n",
    "    print(f\"Best Score: {best_score:.4f}\")\n",
    "    print(\"Best Parameters:\")\n",
    "    for key, value in best_params.items():\n",
    "        print(f\"  {key}: {value}\")\n",
    "\n",
    "\n",
    "def print_accuracy(y_pred, y_test) -> None:\n",
    "    test_accuracy = accuracy_score(y_test, y_pred)\n",
    "    print(f\"Test Accuracy: {test_accuracy}\")"
   ],
   "id": "52335f29d75598fa",
   "execution_count": 38,
   "outputs": []
  },
  {
   "metadata": {
    "ExecuteTime": {
     "end_time": "2024-09-13T07:45:12.028980Z",
     "start_time": "2024-09-13T07:45:12.026871Z"
    }
   },
   "cell_type": "code",
   "source": [
    "def test_decision_tree() -> None:\n",
    "    X_test, X_train, y_test, y_train = _get_split_data()\n",
    "    dt = CustomDecisionTree()\n",
    "    dt.fit(X_train, y_train)\n",
    "    y_pred = dt.predict(X_test)\n",
    "    print_accuracy(y_pred, y_test)"
   ],
   "id": "bb81e82ab27a76a4",
   "execution_count": 39,
   "outputs": []
  },
  {
   "metadata": {
    "ExecuteTime": {
     "end_time": "2024-09-13T07:45:13.378722Z",
     "start_time": "2024-09-13T07:45:12.432738Z"
    }
   },
   "cell_type": "code",
   "source": "test_decision_tree()",
   "id": "e4b9957f83b1a27d",
   "execution_count": 40,
   "outputs": []
  },
  {
   "cell_type": "code",
   "id": "initial_id",
   "metadata": {
    "collapsed": true,
    "ExecuteTime": {
     "end_time": "2024-09-13T07:45:13.381100Z",
     "start_time": "2024-09-13T07:45:13.379593Z"
    }
   },
   "source": "import pandas as pd",
   "execution_count": 41,
   "outputs": []
  },
  {
   "metadata": {
    "ExecuteTime": {
     "end_time": "2024-09-13T07:45:13.394015Z",
     "start_time": "2024-09-13T07:45:13.381842Z"
    }
   },
   "cell_type": "code",
   "source": [
    "data = load_breast_cancer()\n",
    "df = pd.DataFrame(data.data, columns=data.feature_names)\n",
    "df['target'] = data.target\n",
    "df"
   ],
   "id": "f4df0c1bbdec922b",
   "execution_count": 42,
   "outputs": []
  },
  {
   "metadata": {
    "ExecuteTime": {
     "end_time": "2024-09-13T07:45:14.676385Z",
     "start_time": "2024-09-13T07:45:14.675017Z"
    }
   },
   "cell_type": "code",
   "source": "",
   "id": "9caefb48379b2d3",
   "execution_count": 42,
   "outputs": []
  },
  {
   "metadata": {
    "ExecuteTime": {
     "end_time": "2024-09-13T07:45:15.111623Z",
     "start_time": "2024-09-13T07:45:15.109489Z"
    }
   },
   "cell_type": "code",
   "source": "",
   "id": "7e68b0e621baab49",
   "execution_count": 42,
   "outputs": []
  },
  {
   "metadata": {
    "ExecuteTime": {
     "end_time": "2024-09-13T07:45:15.467237Z",
     "start_time": "2024-09-13T07:45:15.462149Z"
    }
   },
   "cell_type": "code",
   "source": [
    "data = load_breast_cancer()\n",
    "X = data.data\n",
    "y = data.target\n",
    "X_train, X_test, y_train, y_test = train_test_split(X, y, test_size=0.2, random_state=42)"
   ],
   "id": "e0e22afdf0d1aeb",
   "execution_count": 43,
   "outputs": []
  },
  {
   "metadata": {
    "ExecuteTime": {
     "end_time": "2024-09-13T07:45:43.025054Z",
     "start_time": "2024-09-13T07:45:42.648529Z"
    }
   },
   "cell_type": "code",
   "source": "import matplotlib.pyplot as plt",
   "id": "85c96353edd5a73c",
   "execution_count": 47,
   "outputs": []
  },
  {
   "metadata": {
    "ExecuteTime": {
     "end_time": "2024-09-13T07:45:46.363202Z",
     "start_time": "2024-09-13T07:45:46.358393Z"
    }
   },
   "cell_type": "code",
   "source": [
    "def plot_tree_depth_by_params(\n",
    "        min_samples_split_lst,\n",
    "        min_samples_leaf_lst,\n",
    "        X_train,\n",
    "        y_train\n",
    "):\n",
    "    depth_lst = []\n",
    "    labels = []\n",
    "\n",
    "    for min_samples_split in min_samples_split_lst:\n",
    "        for min_samples_leaf in min_samples_leaf_lst:\n",
    "            dt = CustomDecisionTree(min_samples_split=min_samples_split, min_samples_leaf=min_samples_leaf)\n",
    "            dt.fit(X_train, y_train)\n",
    "            max_depth = dt.cur_depth\n",
    "            depth_lst.append(max_depth)\n",
    "            labels.append(\n",
    "                f\"split:{min_samples_split};leaf:{min_samples_leaf}\"\n",
    "            )\n",
    "    plt.figure(figsize=(10, 6))\n",
    "    plt.plot(depth_lst)\n",
    "    plt.xticks(range(len(depth_lst)), labels, rotation=45, ha='right')\n",
    "    plt.xlabel(\"Hyperparameters\")\n",
    "    plt.ylabel(\"Tree depth\")\n",
    "    plt.title(\"Tree depth by hyperparameters\")\n",
    "    plt.show()"
   ],
   "id": "aee17780bf799546",
   "execution_count": 49,
   "outputs": []
  },
  {
   "metadata": {
    "ExecuteTime": {
     "end_time": "2024-09-13T07:48:41.026947Z",
     "start_time": "2024-09-13T07:48:13.922015Z"
    }
   },
   "cell_type": "code",
   "source": [
    "# min_samples_split_lst = [i for i in range(2, 31)]\n",
    "min_samples_split_lst = [2, 3, 5, 10, 15, 25]\n",
    "# min_samples_leaf_lst = [i for i in range(1, 31)]\n",
    "min_samples_leaf_lst = [2, 3, 5, 10, 15, 25]\n",
    "\n",
    "plot_tree_depth_by_params(\n",
    "    min_samples_split_lst=min_samples_split_lst,\n",
    "    min_samples_leaf_lst=min_samples_leaf_lst,\n",
    "    X_train=X_train,\n",
    "    y_train=y_train\n",
    ")\n"
   ],
   "id": "795fdf030d629fe0",
   "execution_count": 51,
   "outputs": []
  },
  {
   "metadata": {},
   "cell_type": "code",
   "source": [
    "import optuna\n",
    "import numpy as np\n"
   ],
   "id": "c2dbaf74fd464c21",
   "execution_count": null,
   "outputs": []
  },
  {
   "metadata": {
    "ExecuteTime": {
     "end_time": "2024-09-11T13:21:31.155675Z",
     "start_time": "2024-09-11T13:21:31.153046Z"
    }
   },
   "cell_type": "code",
   "source": [
    "def func(trial, X_train: np.ndarray, X_val: np.ndarray, y_train: np.ndarray, y_val: np.ndarray) -> float:\n",
    "    max_depth = trial.suggest_int('max_depth', 2, 30)\n",
    "    min_samples_split = trial.suggest_int('min_samples_split', 2, 30)\n",
    "    min_samples_leaf = trial.suggest_int('min_samples_leaf', 1, 30)\n",
    "    dt = CustomDecisionTree(\n",
    "        max_depth=max_depth,\n",
    "        min_samples_split=min_samples_split,\n",
    "        min_samples_leaf=min_samples_leaf,\n",
    "    )\n",
    "    dt.fit(X_train, y_train)\n",
    "    y_pred = dt.predict(X_val)\n",
    "    accuracy = accuracy_score(y_val, y_pred)\n",
    "    return accuracy"
   ],
   "id": "386773ac57ccd980",
   "execution_count": 32,
   "outputs": []
  },
  {
   "metadata": {
    "ExecuteTime": {
     "end_time": "2024-09-11T13:21:31.719530Z",
     "start_time": "2024-09-11T13:21:31.716576Z"
    }
   },
   "cell_type": "code",
   "source": [
    "def get_best_hyperparameters(\n",
    "        X_train: np.ndarray, X_val: np.ndarray, y_train: np.ndarray, y_val: np.ndarray\n",
    ") -> tuple[dict, float]:\n",
    "    study = optuna.create_study(direction='maximize')\n",
    "    study.optimize(\n",
    "        func=lambda trial: func(trial, X_train, X_val, y_train, y_val),\n",
    "        n_trials=100,\n",
    "        show_progress_bar=True\n",
    "    )\n",
    "    best_params = study.best_params\n",
    "    best_value = study.best_value\n",
    "    return best_params, best_value\n"
   ],
   "id": "e8c7a2849a6bfb78",
   "execution_count": 33,
   "outputs": []
  },
  {
   "metadata": {
    "ExecuteTime": {
     "end_time": "2024-09-11T13:21:32.059816Z",
     "start_time": "2024-09-11T13:21:32.056765Z"
    }
   },
   "cell_type": "code",
   "source": [
    "def get_split_data():\n",
    "    data = load_breast_cancer()\n",
    "    X, y = data.data, data.target\n",
    "    X_train, X_test, y_train, y_test = train_test_split(X, y, test_size=0.2, random_state=42)\n",
    "    X_train, X_val, y_train, y_val = train_test_split(X_train, y_train, test_size=0.2, random_state=42)\n",
    "    return X_test, X_train, X_val, y_test, y_train, y_val"
   ],
   "id": "481cfd52064bb5b4",
   "execution_count": 34,
   "outputs": []
  },
  {
   "metadata": {
    "ExecuteTime": {
     "end_time": "2024-09-11T13:22:34.264327Z",
     "start_time": "2024-09-11T13:21:32.413322Z"
    }
   },
   "cell_type": "code",
   "source": [
    "X_test, X_train, X_val, y_test, y_train, y_val = get_split_data()\n",
    "best_params, best_score = get_best_hyperparameters(X_train, X_val, y_train, y_val)\n",
    "print(\"~\" * 40)\n",
    "pretty_print_best_params(best_params, best_score)"
   ],
   "id": "e0538ccb2e6fe057",
   "execution_count": 35,
   "outputs": []
  },
  {
   "metadata": {
    "ExecuteTime": {
     "end_time": "2024-09-11T13:22:34.268106Z",
     "start_time": "2024-09-11T13:22:34.266027Z"
    }
   },
   "cell_type": "code",
   "source": "import matplotlib.pyplot as plt",
   "id": "7bd639b6aabbca75",
   "execution_count": 36,
   "outputs": []
  },
  {
   "metadata": {
    "ExecuteTime": {
     "end_time": "2024-09-11T13:22:34.272251Z",
     "start_time": "2024-09-11T13:22:34.268847Z"
    }
   },
   "cell_type": "code",
   "source": [
    "def plot_accuracy_vs_depth(X_test, X_train, y_test, y_train,\n",
    "                           min_samples_split, min_samples_leaf, depth_lst):\n",
    "    train_accuracies = []\n",
    "    test_accuracies = []\n",
    "\n",
    "    for depth in depth_lst:\n",
    "        dt = CustomDecisionTree(\n",
    "            min_samples_split=min_samples_split,\n",
    "            min_samples_leaf=min_samples_leaf,\n",
    "            max_depth=depth,\n",
    "        )\n",
    "        dt.fit(X_train, y_train)\n",
    "\n",
    "        y_train_pred = dt.predict(X_train)\n",
    "        train_accuracies.append(accuracy_score(y_train, y_train_pred))\n",
    "\n",
    "        y_test_pred = dt.predict(X_test)\n",
    "        test_accuracies.append(accuracy_score(y_test, y_test_pred))\n",
    "\n",
    "    plt.plot(depth_lst, train_accuracies, label='Train Accuracy')\n",
    "    plt.plot(depth_lst, test_accuracies, label='Test Accuracy')\n",
    "    plt.xlabel('Depth')\n",
    "    plt.ylabel('Accuracy')\n",
    "    plt.title('Accuracy vs Depth')\n",
    "    plt.legend()\n",
    "    plt.show()"
   ],
   "id": "a91ce15349836be7",
   "execution_count": 37,
   "outputs": []
  },
  {
   "metadata": {
    "ExecuteTime": {
     "end_time": "2024-09-11T13:22:41.461216Z",
     "start_time": "2024-09-11T13:22:34.273570Z"
    }
   },
   "cell_type": "code",
   "source": [
    "depth_lst = [1, 2, 3, 4, 5, 6, 7, 8, 9, 10, 15, 25]\n",
    "plot_accuracy_vs_depth(\n",
    "    depth_lst=depth_lst,\n",
    "    X_test=X_test,\n",
    "    X_train=X_train,\n",
    "    y_test=y_test,\n",
    "    y_train=y_train,\n",
    "    min_samples_split=best_params['min_samples_split'],\n",
    "    min_samples_leaf=best_params['min_samples_leaf']\n",
    ")"
   ],
   "id": "6231384c6717e87c",
   "execution_count": 38,
   "outputs": []
  },
  {
   "metadata": {
    "ExecuteTime": {
     "end_time": "2024-09-11T13:15:28.492520Z",
     "start_time": "2024-09-11T13:15:28.491102Z"
    }
   },
   "cell_type": "code",
   "source": "",
   "id": "81ba420862fe9a11",
   "execution_count": 18,
   "outputs": []
  },
  {
   "metadata": {},
   "cell_type": "code",
   "execution_count": null,
   "source": "",
   "id": "9f387090221868c6",
   "outputs": []
  }
 ],
 "metadata": {
  "kernelspec": {
   "display_name": "Python 3",
   "language": "python",
   "name": "python3"
  },
  "language_info": {
   "codemirror_mode": {
    "name": "ipython",
    "version": 2
   },
   "file_extension": ".py",
   "mimetype": "text/x-python",
   "name": "python",
   "nbconvert_exporter": "python",
   "pygments_lexer": "ipython2",
   "version": "2.7.6"
  }
 },
 "nbformat": 4,
 "nbformat_minor": 5
}
